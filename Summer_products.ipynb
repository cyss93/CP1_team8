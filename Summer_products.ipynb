{
  "nbformat": 4,
  "nbformat_minor": 0,
  "metadata": {
    "colab": {
      "name": "Summer_products.ipynb",
      "provenance": [],
      "authorship_tag": "ABX9TyPGd1JBtR9f5QD/Om+YmjHC",
      "include_colab_link": true
    },
    "kernelspec": {
      "name": "python3",
      "display_name": "Python 3"
    },
    "language_info": {
      "name": "python"
    }
  },
  "cells": [
    {
      "cell_type": "markdown",
      "metadata": {
        "id": "view-in-github",
        "colab_type": "text"
      },
      "source": [
        "<a href=\"https://colab.research.google.com/github/cyss93/CP1_team8/blob/%EC%98%A4%EC%B0%BD%EC%98%81/Summer_products.ipynb\" target=\"_parent\"><img src=\"https://colab.research.google.com/assets/colab-badge.svg\" alt=\"Open In Colab\"/></a>"
      ]
    },
    {
      "cell_type": "code",
      "execution_count": 19,
      "metadata": {
        "id": "JvBNLGyNSqoQ"
      },
      "outputs": [],
      "source": [
        "import pandas as pd\n",
        "import numpy as np\n",
        "from sklearn.metrics import mean_absolute_error\n",
        "from matplotlib import style\n",
        "import matplotlib.pyplot as plt\n",
        "\n",
        "import statsmodels.formula.api as sm\n",
        "from sklearn.linear_model import LinearRegression"
      ]
    },
    {
      "cell_type": "code",
      "source": [
        "df = pd.read_csv('summer-products-with-rating-and-performance_2020-08.csv')"
      ],
      "metadata": {
        "id": "HS2ew79STQLI"
      },
      "execution_count": 3,
      "outputs": []
    },
    {
      "cell_type": "code",
      "source": [
        "df.info()"
      ],
      "metadata": {
        "colab": {
          "base_uri": "https://localhost:8080/"
        },
        "id": "ZbsgC65bTbX-",
        "outputId": "b5ab80ae-45a7-4265-91d4-a21d8735d959"
      },
      "execution_count": 5,
      "outputs": [
        {
          "output_type": "stream",
          "name": "stdout",
          "text": [
            "<class 'pandas.core.frame.DataFrame'>\n",
            "RangeIndex: 1573 entries, 0 to 1572\n",
            "Data columns (total 43 columns):\n",
            " #   Column                        Non-Null Count  Dtype  \n",
            "---  ------                        --------------  -----  \n",
            " 0   title                         1573 non-null   object \n",
            " 1   title_orig                    1573 non-null   object \n",
            " 2   price                         1573 non-null   float64\n",
            " 3   retail_price                  1573 non-null   int64  \n",
            " 4   currency_buyer                1573 non-null   object \n",
            " 5   units_sold                    1573 non-null   int64  \n",
            " 6   uses_ad_boosts                1573 non-null   int64  \n",
            " 7   rating                        1573 non-null   float64\n",
            " 8   rating_count                  1573 non-null   int64  \n",
            " 9   rating_five_count             1528 non-null   float64\n",
            " 10  rating_four_count             1528 non-null   float64\n",
            " 11  rating_three_count            1528 non-null   float64\n",
            " 12  rating_two_count              1528 non-null   float64\n",
            " 13  rating_one_count              1528 non-null   float64\n",
            " 14  badges_count                  1573 non-null   int64  \n",
            " 15  badge_local_product           1573 non-null   int64  \n",
            " 16  badge_product_quality         1573 non-null   int64  \n",
            " 17  badge_fast_shipping           1573 non-null   int64  \n",
            " 18  tags                          1573 non-null   object \n",
            " 19  product_color                 1532 non-null   object \n",
            " 20  product_variation_size_id     1559 non-null   object \n",
            " 21  product_variation_inventory   1573 non-null   int64  \n",
            " 22  shipping_option_name          1573 non-null   object \n",
            " 23  shipping_option_price         1573 non-null   int64  \n",
            " 24  shipping_is_express           1573 non-null   int64  \n",
            " 25  countries_shipped_to          1573 non-null   int64  \n",
            " 26  inventory_total               1573 non-null   int64  \n",
            " 27  has_urgency_banner            473 non-null    float64\n",
            " 28  urgency_text                  473 non-null    object \n",
            " 29  origin_country                1556 non-null   object \n",
            " 30  merchant_title                1573 non-null   object \n",
            " 31  merchant_name                 1569 non-null   object \n",
            " 32  merchant_info_subtitle        1572 non-null   object \n",
            " 33  merchant_rating_count         1573 non-null   int64  \n",
            " 34  merchant_rating               1573 non-null   float64\n",
            " 35  merchant_id                   1573 non-null   object \n",
            " 36  merchant_has_profile_picture  1573 non-null   int64  \n",
            " 37  merchant_profile_picture      226 non-null    object \n",
            " 38  product_url                   1573 non-null   object \n",
            " 39  product_picture               1573 non-null   object \n",
            " 40  product_id                    1573 non-null   object \n",
            " 41  theme                         1573 non-null   object \n",
            " 42  crawl_month                   1573 non-null   object \n",
            "dtypes: float64(9), int64(15), object(19)\n",
            "memory usage: 528.6+ KB\n"
          ]
        }
      ]
    },
    {
      "cell_type": "markdown",
      "source": [
        "- 변수 정리\n",
        " 'title' = \n",
        " 'title_orig',\n",
        " 'price',\n",
        " 'retail_price',\n",
        " 'currency_buyer',\n",
        " 'units_sold',\n",
        " 'uses_ad_boosts',\n",
        " 'rating',\n",
        " 'rating_count',\n",
        " 'rating_five_count',\n",
        " 'rating_four_count',\n",
        " 'rating_three_count',\n",
        " 'rating_two_count',\n",
        " 'rating_one_count',\n",
        " 'badges_count',\n",
        " 'badge_local_product',\n",
        " 'badge_product_quality',\n",
        " 'badge_fast_shipping',\n",
        " 'tags',\n",
        " 'product_color',\n",
        " 'product_variation_size_id',\n",
        " 'product_variation_inventory',\n",
        " 'shipping_option_name',\n",
        " 'shipping_option_price',\n",
        " 'shipping_is_express',\n",
        " 'countries_shipped_to',\n",
        " 'inventory_total',\n",
        " 'has_urgency_banner',\n",
        " 'urgency_text',\n",
        " 'origin_country',\n",
        " 'merchant_title',\n",
        " 'merchant_name',\n",
        " 'merchant_info_subtitle',\n",
        " 'merchant_rating_count',\n",
        " 'merchant_rating',\n",
        " 'merchant_id',\n",
        " 'merchant_has_profile_picture',\n",
        " 'merchant_profile_picture',\n",
        " 'product_url',\n",
        " 'product_picture',\n",
        " 'product_id',\n",
        " 'theme',\n",
        " 'crawl_month'"
      ],
      "metadata": {
        "id": "JdNcrJWoD3ut"
      }
    },
    {
      "cell_type": "code",
      "source": [
        "list(df.columns)"
      ],
      "metadata": {
        "id": "hgs8OqepThsH"
      },
      "execution_count": null,
      "outputs": []
    },
    {
      "cell_type": "code",
      "source": [
        "df.title_orig"
      ],
      "metadata": {
        "id": "2DDEe_ZsB_jX",
        "outputId": "f4bb45a0-2737-4594-f120-7cd931eb086a",
        "colab": {
          "base_uri": "https://localhost:8080/"
        }
      },
      "execution_count": 24,
      "outputs": [
        {
          "output_type": "execute_result",
          "data": {
            "text/plain": [
              "0       2020 Summer Vintage Flamingo Print  Pajamas Se...\n",
              "1        Women's Casual Summer Sleeveless Sexy Mini Dress\n",
              "2       2020 New Arrival Women Spring and Summer Beach...\n",
              "3       Hot Summer Cool T Shirt for Women Fashion Tops...\n",
              "4       Women Summer Shorts Lace Up Elastic Waistband ...\n",
              "                              ...                        \n",
              "1568    New Fashion Women Bohemia Dandelion Print Tee ...\n",
              "1569    10 Color Women Summer Shorts Lace Up Elastic W...\n",
              "1570    New Men Siwmwear Beach-Shorts Men Summer Quick...\n",
              "1571    Fashion Women Summer Sleeveless Dresses V Neck...\n",
              "1572    Fashion Women Yoga Pants Slim Fit Fitness Runn...\n",
              "Name: title_orig, Length: 1573, dtype: object"
            ]
          },
          "metadata": {},
          "execution_count": 24
        }
      ]
    },
    {
      "cell_type": "code",
      "source": [
        "## train/test 데이터 분할\n",
        "train = df.sample(frac=0.75,random_state=1)\n",
        "test = df.drop(train.index)"
      ],
      "metadata": {
        "id": "ApGchiqJ3ap6"
      },
      "execution_count": 7,
      "outputs": []
    },
    {
      "cell_type": "code",
      "source": [
        "len(train), len(test)"
      ],
      "metadata": {
        "id": "HwPCIdre34rE",
        "outputId": "20332d93-0aa1-42dd-e957-55b0009af8f6",
        "colab": {
          "base_uri": "https://localhost:8080/"
        }
      },
      "execution_count": 12,
      "outputs": [
        {
          "output_type": "execute_result",
          "data": {
            "text/plain": [
              "(1180, 393)"
            ]
          },
          "metadata": {},
          "execution_count": 12
        }
      ]
    },
    {
      "cell_type": "code",
      "source": [
        "# target 설정\n",
        "target = 'units_sold'\n",
        "y_train = train[target]\n",
        "y_test = test[target]\n",
        "\n",
        "# baseline\n",
        "# target인 units_sold의 평균으로 일단 선정\n",
        "predict = y_train.mean()\n",
        "print(predict)"
      ],
      "metadata": {
        "id": "z7LcduDn4Qt7",
        "outputId": "1fea8660-62e9-42c4-ef3a-6d21bce3d7fa",
        "colab": {
          "base_uri": "https://localhost:8080/"
        }
      },
      "execution_count": 56,
      "outputs": [
        {
          "output_type": "stream",
          "name": "stdout",
          "text": [
            "4514.936440677966\n"
          ]
        }
      ]
    },
    {
      "cell_type": "code",
      "source": [
        "result1 = sm.ols(formula = 'units_sold ~ + price + retail_price + uses_ad_boosts + rating + rating_count + rating_five_count + badges_count + product_variation_inventory + merchant_rating_count + merchant_rating',\n",
        "                data = df).fit()"
      ],
      "metadata": {
        "id": "34KNB6QVIcIK"
      },
      "execution_count": 52,
      "outputs": []
    },
    {
      "cell_type": "code",
      "source": [
        "result1.summary()"
      ],
      "metadata": {
        "id": "6-hq8yOxIfWT",
        "outputId": "bda12b1b-312b-4cbf-a0c4-661c4f6446fa",
        "colab": {
          "base_uri": "https://localhost:8080/",
          "height": 679
        }
      },
      "execution_count": 53,
      "outputs": [
        {
          "output_type": "execute_result",
          "data": {
            "text/plain": [
              "<class 'statsmodels.iolib.summary.Summary'>\n",
              "\"\"\"\n",
              "                            OLS Regression Results                            \n",
              "==============================================================================\n",
              "Dep. Variable:             units_sold   R-squared:                       0.814\n",
              "Model:                            OLS   Adj. R-squared:                  0.813\n",
              "Method:                 Least Squares   F-statistic:                     664.4\n",
              "Date:                Wed, 29 Jun 2022   Prob (F-statistic):               0.00\n",
              "Time:                        06:25:44   Log-Likelihood:                -14871.\n",
              "No. Observations:                1528   AIC:                         2.976e+04\n",
              "Df Residuals:                    1517   BIC:                         2.982e+04\n",
              "Df Model:                          10                                         \n",
              "Covariance Type:            nonrobust                                         \n",
              "===============================================================================================\n",
              "                                  coef    std err          t      P>|t|      [0.025      0.975]\n",
              "-----------------------------------------------------------------------------------------------\n",
              "Intercept                     363.1688   2277.872      0.159      0.873   -4104.943    4831.280\n",
              "price                         -37.0828     29.120     -1.273      0.203     -94.202      20.036\n",
              "retail_price                  -10.4970      3.618     -2.901      0.004     -17.594      -3.400\n",
              "uses_ad_boosts                466.5435    214.562      2.174      0.030      45.675     887.412\n",
              "rating                        212.8874    236.897      0.899      0.369    -251.793     677.568\n",
              "rating_count                    5.1483      0.304     16.957      0.000       4.553       5.744\n",
              "rating_five_count              -1.9929      0.624     -3.193      0.001      -3.217      -0.769\n",
              "badges_count                 -530.4935    324.469     -1.635      0.102   -1166.949     105.962\n",
              "product_variation_inventory     9.9770      5.280      1.890      0.059      -0.380      20.334\n",
              "merchant_rating_count           0.0050      0.001      3.596      0.000       0.002       0.008\n",
              "merchant_rating              -146.9003    572.463     -0.257      0.798   -1269.804     976.003\n",
              "==============================================================================\n",
              "Omnibus:                     1127.094   Durbin-Watson:                   1.930\n",
              "Prob(Omnibus):                  0.000   Jarque-Bera (JB):           120447.290\n",
              "Skew:                           2.648   Prob(JB):                         0.00\n",
              "Kurtosis:                      46.172   Cond. No.                     1.86e+06\n",
              "==============================================================================\n",
              "\n",
              "Warnings:\n",
              "[1] Standard Errors assume that the covariance matrix of the errors is correctly specified.\n",
              "[2] The condition number is large, 1.86e+06. This might indicate that there are\n",
              "strong multicollinearity or other numerical problems.\n",
              "\"\"\""
            ],
            "text/html": [
              "<table class=\"simpletable\">\n",
              "<caption>OLS Regression Results</caption>\n",
              "<tr>\n",
              "  <th>Dep. Variable:</th>       <td>units_sold</td>    <th>  R-squared:         </th> <td>   0.814</td> \n",
              "</tr>\n",
              "<tr>\n",
              "  <th>Model:</th>                   <td>OLS</td>       <th>  Adj. R-squared:    </th> <td>   0.813</td> \n",
              "</tr>\n",
              "<tr>\n",
              "  <th>Method:</th>             <td>Least Squares</td>  <th>  F-statistic:       </th> <td>   664.4</td> \n",
              "</tr>\n",
              "<tr>\n",
              "  <th>Date:</th>             <td>Wed, 29 Jun 2022</td> <th>  Prob (F-statistic):</th>  <td>  0.00</td>  \n",
              "</tr>\n",
              "<tr>\n",
              "  <th>Time:</th>                 <td>06:25:44</td>     <th>  Log-Likelihood:    </th> <td> -14871.</td> \n",
              "</tr>\n",
              "<tr>\n",
              "  <th>No. Observations:</th>      <td>  1528</td>      <th>  AIC:               </th> <td>2.976e+04</td>\n",
              "</tr>\n",
              "<tr>\n",
              "  <th>Df Residuals:</th>          <td>  1517</td>      <th>  BIC:               </th> <td>2.982e+04</td>\n",
              "</tr>\n",
              "<tr>\n",
              "  <th>Df Model:</th>              <td>    10</td>      <th>                     </th>     <td> </td>    \n",
              "</tr>\n",
              "<tr>\n",
              "  <th>Covariance Type:</th>      <td>nonrobust</td>    <th>                     </th>     <td> </td>    \n",
              "</tr>\n",
              "</table>\n",
              "<table class=\"simpletable\">\n",
              "<tr>\n",
              "               <td></td>                  <th>coef</th>     <th>std err</th>      <th>t</th>      <th>P>|t|</th>  <th>[0.025</th>    <th>0.975]</th>  \n",
              "</tr>\n",
              "<tr>\n",
              "  <th>Intercept</th>                   <td>  363.1688</td> <td> 2277.872</td> <td>    0.159</td> <td> 0.873</td> <td>-4104.943</td> <td> 4831.280</td>\n",
              "</tr>\n",
              "<tr>\n",
              "  <th>price</th>                       <td>  -37.0828</td> <td>   29.120</td> <td>   -1.273</td> <td> 0.203</td> <td>  -94.202</td> <td>   20.036</td>\n",
              "</tr>\n",
              "<tr>\n",
              "  <th>retail_price</th>                <td>  -10.4970</td> <td>    3.618</td> <td>   -2.901</td> <td> 0.004</td> <td>  -17.594</td> <td>   -3.400</td>\n",
              "</tr>\n",
              "<tr>\n",
              "  <th>uses_ad_boosts</th>              <td>  466.5435</td> <td>  214.562</td> <td>    2.174</td> <td> 0.030</td> <td>   45.675</td> <td>  887.412</td>\n",
              "</tr>\n",
              "<tr>\n",
              "  <th>rating</th>                      <td>  212.8874</td> <td>  236.897</td> <td>    0.899</td> <td> 0.369</td> <td> -251.793</td> <td>  677.568</td>\n",
              "</tr>\n",
              "<tr>\n",
              "  <th>rating_count</th>                <td>    5.1483</td> <td>    0.304</td> <td>   16.957</td> <td> 0.000</td> <td>    4.553</td> <td>    5.744</td>\n",
              "</tr>\n",
              "<tr>\n",
              "  <th>rating_five_count</th>           <td>   -1.9929</td> <td>    0.624</td> <td>   -3.193</td> <td> 0.001</td> <td>   -3.217</td> <td>   -0.769</td>\n",
              "</tr>\n",
              "<tr>\n",
              "  <th>badges_count</th>                <td> -530.4935</td> <td>  324.469</td> <td>   -1.635</td> <td> 0.102</td> <td>-1166.949</td> <td>  105.962</td>\n",
              "</tr>\n",
              "<tr>\n",
              "  <th>product_variation_inventory</th> <td>    9.9770</td> <td>    5.280</td> <td>    1.890</td> <td> 0.059</td> <td>   -0.380</td> <td>   20.334</td>\n",
              "</tr>\n",
              "<tr>\n",
              "  <th>merchant_rating_count</th>       <td>    0.0050</td> <td>    0.001</td> <td>    3.596</td> <td> 0.000</td> <td>    0.002</td> <td>    0.008</td>\n",
              "</tr>\n",
              "<tr>\n",
              "  <th>merchant_rating</th>             <td> -146.9003</td> <td>  572.463</td> <td>   -0.257</td> <td> 0.798</td> <td>-1269.804</td> <td>  976.003</td>\n",
              "</tr>\n",
              "</table>\n",
              "<table class=\"simpletable\">\n",
              "<tr>\n",
              "  <th>Omnibus:</th>       <td>1127.094</td> <th>  Durbin-Watson:     </th>  <td>   1.930</td> \n",
              "</tr>\n",
              "<tr>\n",
              "  <th>Prob(Omnibus):</th>  <td> 0.000</td>  <th>  Jarque-Bera (JB):  </th> <td>120447.290</td>\n",
              "</tr>\n",
              "<tr>\n",
              "  <th>Skew:</th>           <td> 2.648</td>  <th>  Prob(JB):          </th>  <td>    0.00</td> \n",
              "</tr>\n",
              "<tr>\n",
              "  <th>Kurtosis:</th>       <td>46.172</td>  <th>  Cond. No.          </th>  <td>1.86e+06</td> \n",
              "</tr>\n",
              "</table><br/><br/>Warnings:<br/>[1] Standard Errors assume that the covariance matrix of the errors is correctly specified.<br/>[2] The condition number is large, 1.86e+06. This might indicate that there are<br/>strong multicollinearity or other numerical problems."
            ]
          },
          "metadata": {},
          "execution_count": 53
        }
      ]
    },
    {
      "cell_type": "code",
      "source": [
        "# title + title_orig + price + retail_price + currency_buyer + uses_ad_boosts + rating + rating_count + rating_five_count + rating_four_count + rating_three_count + rating_two_count + rating_one_count + badges_count + badge_local_product + badge_product_quality + badge_fast_shipping + tags + product_color + product_variation_size_id + product_variation_inventory + shipping_option_name + shipping_option_price + shipping_is_express + countries_shipped_to + inventory_total + has_urgency_banner + urgency_text + origin_country + merchant_title + merchant_name + merchant_info_subtitle + merchant_rating_count + merchant_rating + merchant_id + merchant_has_profile_picture + merchant_profile_picture + product_url + product_picture + product_id + theme + crawl_month'\n",
        "# 첫번째 제외 변수: title, title_orig, currency_buyer, tags, product_color, product_variation_size_id, \n",
        "# 제외 변수중 고려해볼 만 한 변수\n",
        "## tags(인코딩 활용), product_variation_size_id\n",
        "## shipping_option_name: 프랑스어와 아랍어? 등 뒤죽박죽\n",
        "## urgency_text: 품절임박! 같은 건데, 프랑스어로 되어있다. 일단은 빼고 이후에 원핫인코딩해서 넣어보자 (missing 값이 1100개이다. 유의할 것)\n",
        "## origin_country: 이것도 원핫인코딩해서 적용 가능\n",
        "## merchant_title: 판매자 이름 우선 제외\n",
        "## merchant_name, merchant_id: 위와 동일\n",
        "## merchant_info_subtitle: 판매자 정보 글. 일단 제외. 배지 여부와 다른 변수로도 판단 가능?\n",
        "## merchant_profile_picture: 판매자 사진 링크\n",
        "## product_url, product_picture: 링크 데이터\n",
        "## product_id: 제품 키\n",
        "## theme: 해당 제품들을 찾기위해 검색한 검색어. summer로 모두 동일해서 제외\n",
        "## crawl_month: 크롤링 날짜라서 제외\n",
        "## has_urgency_banner: 결측값이 많아서 일단 제외 (결측값이 아마 없다는 뜻?) (812개 결측값)\n",
        "## rating_five_count + rating_four_count + rating_three_count + rating_two_count + rating_one_count : 결측값이 많음 (36개)"
      ],
      "metadata": {
        "id": "KxdbINVJCM_d"
      },
      "execution_count": 25,
      "outputs": []
    },
    {
      "cell_type": "code",
      "source": [
        "result2 = sm.ols(formula = 'units_sold ~ + price + retail_price + uses_ad_boosts + rating + rating_count + badges_count + badge_local_product + badge_product_quality + badge_fast_shipping + product_variation_inventory + shipping_option_price + shipping_is_express + countries_shipped_to + inventory_total + has_urgency_banner + merchant_rating_count + merchant_rating + merchant_has_profile_picture',\n",
        "                data = df).fit()"
      ],
      "metadata": {
        "id": "0Cxv_uGI4gBi"
      },
      "execution_count": 49,
      "outputs": []
    },
    {
      "cell_type": "code",
      "source": [
        "result2.summary()"
      ],
      "metadata": {
        "id": "EhW00GNe57Di",
        "outputId": "2b96ffb6-31f0-4cd3-d239-98dc57d84959",
        "colab": {
          "base_uri": "https://localhost:8080/",
          "height": 956
        }
      },
      "execution_count": 51,
      "outputs": [
        {
          "output_type": "execute_result",
          "data": {
            "text/plain": [
              "<class 'statsmodels.iolib.summary.Summary'>\n",
              "\"\"\"\n",
              "                            OLS Regression Results                            \n",
              "==============================================================================\n",
              "Dep. Variable:             units_sold   R-squared:                       0.892\n",
              "Model:                            OLS   Adj. R-squared:                  0.887\n",
              "Method:                 Least Squares   F-statistic:                     181.6\n",
              "Date:                Wed, 29 Jun 2022   Prob (F-statistic):          7.42e-198\n",
              "Time:                        06:22:43   Log-Likelihood:                -4332.5\n",
              "No. Observations:                 460   AIC:                             8707.\n",
              "Df Residuals:                     439   BIC:                             8794.\n",
              "Df Model:                          20                                         \n",
              "Covariance Type:            nonrobust                                         \n",
              "================================================================================================\n",
              "                                   coef    std err          t      P>|t|      [0.025      0.975]\n",
              "------------------------------------------------------------------------------------------------\n",
              "Intercept                    -2021.0027   6847.505     -0.295      0.768   -1.55e+04    1.14e+04\n",
              "price                           60.6605     82.839      0.732      0.464    -102.150     223.471\n",
              "retail_price                    -3.0182      4.954     -0.609      0.543     -12.755       6.718\n",
              "uses_ad_boosts                 186.9707    293.586      0.637      0.525    -390.038     763.979\n",
              "rating                        -150.5557    320.956     -0.469      0.639    -781.358     480.247\n",
              "rating_count                     2.1257      0.936      2.270      0.024       0.286       3.966\n",
              "rating_five_count               10.6762      1.800      5.930      0.000       7.138      14.215\n",
              "rating_four_count              -46.1573      4.887     -9.445      0.000     -55.762     -36.553\n",
              "rating_three_count              46.6108      8.416      5.538      0.000      30.069      63.152\n",
              "rating_two_count                11.3607     13.489      0.842      0.400     -15.151      37.872\n",
              "rating_one_count               -20.3648      5.189     -3.925      0.000     -30.563     -10.167\n",
              "badges_count                 -1765.2102    500.628     -3.526      0.000   -2749.135    -781.285\n",
              "badge_local_product           1487.3873   1359.645      1.094      0.275   -1184.835    4159.610\n",
              "badge_product_quality         1826.1035    684.949      2.666      0.008     479.917    3172.290\n",
              "badge_fast_shipping          -5078.7010   1296.083     -3.918      0.000   -7626.000   -2531.402\n",
              "product_variation_inventory     10.8077      7.585      1.425      0.155      -4.100      25.715\n",
              "shipping_option_price         -235.8015    325.521     -0.724      0.469    -875.574     403.971\n",
              "shipping_is_express           1172.0476   4092.660      0.286      0.775   -6871.594    9215.690\n",
              "countries_shipped_to           -11.2023      7.519     -1.490      0.137     -25.980       3.576\n",
              "inventory_total                 57.2333    260.072      0.220      0.826    -453.907     568.374\n",
              "has_urgency_banner           -2021.0027   6847.505     -0.295      0.768   -1.55e+04    1.14e+04\n",
              "merchant_rating_count           -0.0059      0.003     -2.238      0.026      -0.011      -0.001\n",
              "merchant_rating                707.6774    877.530      0.806      0.420   -1017.005    2432.360\n",
              "merchant_has_profile_picture   105.7368    423.508      0.250      0.803    -726.618     938.091\n",
              "==============================================================================\n",
              "Omnibus:                      153.911   Durbin-Watson:                   2.159\n",
              "Prob(Omnibus):                  0.000   Jarque-Bera (JB):             1496.521\n",
              "Skew:                           1.147   Prob(JB):                         0.00\n",
              "Kurtosis:                      11.533   Cond. No.                     1.98e+21\n",
              "==============================================================================\n",
              "\n",
              "Warnings:\n",
              "[1] Standard Errors assume that the covariance matrix of the errors is correctly specified.\n",
              "[2] The smallest eigenvalue is 4.97e-31. This might indicate that there are\n",
              "strong multicollinearity problems or that the design matrix is singular.\n",
              "\"\"\""
            ],
            "text/html": [
              "<table class=\"simpletable\">\n",
              "<caption>OLS Regression Results</caption>\n",
              "<tr>\n",
              "  <th>Dep. Variable:</th>       <td>units_sold</td>    <th>  R-squared:         </th> <td>   0.892</td> \n",
              "</tr>\n",
              "<tr>\n",
              "  <th>Model:</th>                   <td>OLS</td>       <th>  Adj. R-squared:    </th> <td>   0.887</td> \n",
              "</tr>\n",
              "<tr>\n",
              "  <th>Method:</th>             <td>Least Squares</td>  <th>  F-statistic:       </th> <td>   181.6</td> \n",
              "</tr>\n",
              "<tr>\n",
              "  <th>Date:</th>             <td>Wed, 29 Jun 2022</td> <th>  Prob (F-statistic):</th> <td>7.42e-198</td>\n",
              "</tr>\n",
              "<tr>\n",
              "  <th>Time:</th>                 <td>06:22:43</td>     <th>  Log-Likelihood:    </th> <td> -4332.5</td> \n",
              "</tr>\n",
              "<tr>\n",
              "  <th>No. Observations:</th>      <td>   460</td>      <th>  AIC:               </th> <td>   8707.</td> \n",
              "</tr>\n",
              "<tr>\n",
              "  <th>Df Residuals:</th>          <td>   439</td>      <th>  BIC:               </th> <td>   8794.</td> \n",
              "</tr>\n",
              "<tr>\n",
              "  <th>Df Model:</th>              <td>    20</td>      <th>                     </th>     <td> </td>    \n",
              "</tr>\n",
              "<tr>\n",
              "  <th>Covariance Type:</th>      <td>nonrobust</td>    <th>                     </th>     <td> </td>    \n",
              "</tr>\n",
              "</table>\n",
              "<table class=\"simpletable\">\n",
              "<tr>\n",
              "                <td></td>                  <th>coef</th>     <th>std err</th>      <th>t</th>      <th>P>|t|</th>  <th>[0.025</th>    <th>0.975]</th>  \n",
              "</tr>\n",
              "<tr>\n",
              "  <th>Intercept</th>                    <td>-2021.0027</td> <td> 6847.505</td> <td>   -0.295</td> <td> 0.768</td> <td>-1.55e+04</td> <td> 1.14e+04</td>\n",
              "</tr>\n",
              "<tr>\n",
              "  <th>price</th>                        <td>   60.6605</td> <td>   82.839</td> <td>    0.732</td> <td> 0.464</td> <td> -102.150</td> <td>  223.471</td>\n",
              "</tr>\n",
              "<tr>\n",
              "  <th>retail_price</th>                 <td>   -3.0182</td> <td>    4.954</td> <td>   -0.609</td> <td> 0.543</td> <td>  -12.755</td> <td>    6.718</td>\n",
              "</tr>\n",
              "<tr>\n",
              "  <th>uses_ad_boosts</th>               <td>  186.9707</td> <td>  293.586</td> <td>    0.637</td> <td> 0.525</td> <td> -390.038</td> <td>  763.979</td>\n",
              "</tr>\n",
              "<tr>\n",
              "  <th>rating</th>                       <td> -150.5557</td> <td>  320.956</td> <td>   -0.469</td> <td> 0.639</td> <td> -781.358</td> <td>  480.247</td>\n",
              "</tr>\n",
              "<tr>\n",
              "  <th>rating_count</th>                 <td>    2.1257</td> <td>    0.936</td> <td>    2.270</td> <td> 0.024</td> <td>    0.286</td> <td>    3.966</td>\n",
              "</tr>\n",
              "<tr>\n",
              "  <th>rating_five_count</th>            <td>   10.6762</td> <td>    1.800</td> <td>    5.930</td> <td> 0.000</td> <td>    7.138</td> <td>   14.215</td>\n",
              "</tr>\n",
              "<tr>\n",
              "  <th>rating_four_count</th>            <td>  -46.1573</td> <td>    4.887</td> <td>   -9.445</td> <td> 0.000</td> <td>  -55.762</td> <td>  -36.553</td>\n",
              "</tr>\n",
              "<tr>\n",
              "  <th>rating_three_count</th>           <td>   46.6108</td> <td>    8.416</td> <td>    5.538</td> <td> 0.000</td> <td>   30.069</td> <td>   63.152</td>\n",
              "</tr>\n",
              "<tr>\n",
              "  <th>rating_two_count</th>             <td>   11.3607</td> <td>   13.489</td> <td>    0.842</td> <td> 0.400</td> <td>  -15.151</td> <td>   37.872</td>\n",
              "</tr>\n",
              "<tr>\n",
              "  <th>rating_one_count</th>             <td>  -20.3648</td> <td>    5.189</td> <td>   -3.925</td> <td> 0.000</td> <td>  -30.563</td> <td>  -10.167</td>\n",
              "</tr>\n",
              "<tr>\n",
              "  <th>badges_count</th>                 <td>-1765.2102</td> <td>  500.628</td> <td>   -3.526</td> <td> 0.000</td> <td>-2749.135</td> <td> -781.285</td>\n",
              "</tr>\n",
              "<tr>\n",
              "  <th>badge_local_product</th>          <td> 1487.3873</td> <td> 1359.645</td> <td>    1.094</td> <td> 0.275</td> <td>-1184.835</td> <td> 4159.610</td>\n",
              "</tr>\n",
              "<tr>\n",
              "  <th>badge_product_quality</th>        <td> 1826.1035</td> <td>  684.949</td> <td>    2.666</td> <td> 0.008</td> <td>  479.917</td> <td> 3172.290</td>\n",
              "</tr>\n",
              "<tr>\n",
              "  <th>badge_fast_shipping</th>          <td>-5078.7010</td> <td> 1296.083</td> <td>   -3.918</td> <td> 0.000</td> <td>-7626.000</td> <td>-2531.402</td>\n",
              "</tr>\n",
              "<tr>\n",
              "  <th>product_variation_inventory</th>  <td>   10.8077</td> <td>    7.585</td> <td>    1.425</td> <td> 0.155</td> <td>   -4.100</td> <td>   25.715</td>\n",
              "</tr>\n",
              "<tr>\n",
              "  <th>shipping_option_price</th>        <td> -235.8015</td> <td>  325.521</td> <td>   -0.724</td> <td> 0.469</td> <td> -875.574</td> <td>  403.971</td>\n",
              "</tr>\n",
              "<tr>\n",
              "  <th>shipping_is_express</th>          <td> 1172.0476</td> <td> 4092.660</td> <td>    0.286</td> <td> 0.775</td> <td>-6871.594</td> <td> 9215.690</td>\n",
              "</tr>\n",
              "<tr>\n",
              "  <th>countries_shipped_to</th>         <td>  -11.2023</td> <td>    7.519</td> <td>   -1.490</td> <td> 0.137</td> <td>  -25.980</td> <td>    3.576</td>\n",
              "</tr>\n",
              "<tr>\n",
              "  <th>inventory_total</th>              <td>   57.2333</td> <td>  260.072</td> <td>    0.220</td> <td> 0.826</td> <td> -453.907</td> <td>  568.374</td>\n",
              "</tr>\n",
              "<tr>\n",
              "  <th>has_urgency_banner</th>           <td>-2021.0027</td> <td> 6847.505</td> <td>   -0.295</td> <td> 0.768</td> <td>-1.55e+04</td> <td> 1.14e+04</td>\n",
              "</tr>\n",
              "<tr>\n",
              "  <th>merchant_rating_count</th>        <td>   -0.0059</td> <td>    0.003</td> <td>   -2.238</td> <td> 0.026</td> <td>   -0.011</td> <td>   -0.001</td>\n",
              "</tr>\n",
              "<tr>\n",
              "  <th>merchant_rating</th>              <td>  707.6774</td> <td>  877.530</td> <td>    0.806</td> <td> 0.420</td> <td>-1017.005</td> <td> 2432.360</td>\n",
              "</tr>\n",
              "<tr>\n",
              "  <th>merchant_has_profile_picture</th> <td>  105.7368</td> <td>  423.508</td> <td>    0.250</td> <td> 0.803</td> <td> -726.618</td> <td>  938.091</td>\n",
              "</tr>\n",
              "</table>\n",
              "<table class=\"simpletable\">\n",
              "<tr>\n",
              "  <th>Omnibus:</th>       <td>153.911</td> <th>  Durbin-Watson:     </th> <td>   2.159</td>\n",
              "</tr>\n",
              "<tr>\n",
              "  <th>Prob(Omnibus):</th> <td> 0.000</td>  <th>  Jarque-Bera (JB):  </th> <td>1496.521</td>\n",
              "</tr>\n",
              "<tr>\n",
              "  <th>Skew:</th>          <td> 1.147</td>  <th>  Prob(JB):          </th> <td>    0.00</td>\n",
              "</tr>\n",
              "<tr>\n",
              "  <th>Kurtosis:</th>      <td>11.533</td>  <th>  Cond. No.          </th> <td>1.98e+21</td>\n",
              "</tr>\n",
              "</table><br/><br/>Warnings:<br/>[1] Standard Errors assume that the covariance matrix of the errors is correctly specified.<br/>[2] The smallest eigenvalue is 4.97e-31. This might indicate that there are<br/>strong multicollinearity problems or that the design matrix is singular."
            ]
          },
          "metadata": {},
          "execution_count": 51
        }
      ]
    },
    {
      "cell_type": "markdown",
      "source": [
        "- R^2값은 설명력, 즉 모델을 현재 모형이 얼마나 잘 설명하는지. 보통 0.7 이상이면 높다고 판단하는데, 여기선 0.8이상\n",
        "- "
      ],
      "metadata": {
        "id": "jDtmueb76LUp"
      }
    },
    {
      "cell_type": "markdown",
      "source": [
        "- 다중회귀분석 모델 피팅"
      ],
      "metadata": {
        "id": "ylIp-OpfMkF3"
      }
    },
    {
      "cell_type": "code",
      "source": [
        "from sklearn.linear_model import LinearRegression\n",
        "\n",
        "model = LinearRegression()\n",
        "\n",
        "# 다중모델 학습을 위한 특성\n",
        "features = ['price',\n",
        "            'retail_price',\n",
        "            'uses_ad_boosts',\n",
        "            'rating',\n",
        "            'rating_count',\n",
        "            'badges_count',\n",
        "            'badge_local_product',\n",
        "            'badge_product_quality',\n",
        "            'badge_fast_shipping',\n",
        "            'product_variation_inventory',\n",
        "            'shipping_option_price',\n",
        "            'shipping_is_express',\n",
        "            'countries_shipped_to',\n",
        "            'inventory_total',\n",
        "            'merchant_rating_count',\n",
        "            'merchant_rating',\n",
        "            'merchant_has_profile_picture' ]\n",
        "X_train = train[features]\n",
        "X_test = test[features]"
      ],
      "metadata": {
        "id": "5LdY_vfnMjfj"
      },
      "execution_count": 61,
      "outputs": []
    },
    {
      "cell_type": "code",
      "source": [
        "X_train.isna().sum()"
      ],
      "metadata": {
        "id": "dHGxO9pIOH7G",
        "outputId": "7e181e5a-7446-40f5-a52a-bcea5d1c3e25",
        "colab": {
          "base_uri": "https://localhost:8080/"
        }
      },
      "execution_count": 62,
      "outputs": [
        {
          "output_type": "execute_result",
          "data": {
            "text/plain": [
              "price                           0\n",
              "retail_price                    0\n",
              "uses_ad_boosts                  0\n",
              "rating                          0\n",
              "rating_count                    0\n",
              "badges_count                    0\n",
              "badge_local_product             0\n",
              "badge_product_quality           0\n",
              "badge_fast_shipping             0\n",
              "product_variation_inventory     0\n",
              "shipping_option_price           0\n",
              "shipping_is_express             0\n",
              "countries_shipped_to            0\n",
              "inventory_total                 0\n",
              "merchant_rating_count           0\n",
              "merchant_rating                 0\n",
              "merchant_has_profile_picture    0\n",
              "dtype: int64"
            ]
          },
          "metadata": {},
          "execution_count": 62
        }
      ]
    },
    {
      "cell_type": "code",
      "source": [
        "# 모델 fit\n",
        "model.fit(X_train, y_train)\n",
        "y_pred = model.predict(X_train)\n",
        "mae = mean_absolute_error(y_train, y_pred)\n",
        "print(f'훈련 에러: {mae:.2f}')"
      ],
      "metadata": {
        "id": "CrSWCrFOFZiW",
        "outputId": "a32367e7-795c-4288-887c-1c058ad43ce7",
        "colab": {
          "base_uri": "https://localhost:8080/"
        }
      },
      "execution_count": 63,
      "outputs": [
        {
          "output_type": "stream",
          "name": "stdout",
          "text": [
            "훈련 에러: 1956.04\n"
          ]
        }
      ]
    },
    {
      "cell_type": "code",
      "source": [
        "# 테스트 에러(MAE)\n",
        "y_pred = [predict] * len(y_test)\n",
        "mae = mean_absolute_error(y_test, y_pred)\n",
        "print(f'테스트 에러: {mae:.2f}')"
      ],
      "metadata": {
        "id": "iDA7QtWqNjZF",
        "outputId": "f219027a-d283-40f5-bbfe-fd11aefe8204",
        "colab": {
          "base_uri": "https://localhost:8080/"
        }
      },
      "execution_count": 64,
      "outputs": [
        {
          "output_type": "stream",
          "name": "stdout",
          "text": [
            "테스트 에러: 4760.60\n"
          ]
        }
      ]
    },
    {
      "cell_type": "code",
      "source": [
        "## 절편(intercept)과 계수들(coefficients)\n",
        "model.intercept_, model.coef_"
      ],
      "metadata": {
        "id": "irFlZBbrO1JO",
        "outputId": "75b00a6b-5c1c-4502-c3ee-27eb1db96e18",
        "colab": {
          "base_uri": "https://localhost:8080/"
        }
      },
      "execution_count": 65,
      "outputs": [
        {
          "output_type": "execute_result",
          "data": {
            "text/plain": [
              "(5457.900393409761,\n",
              " array([-2.41554177e+01, -8.99408493e+00,  4.51582820e+02, -4.59956522e+01,\n",
              "         4.18139859e+00, -1.02849939e+03,  2.79429519e+03,  3.94736645e+02,\n",
              "        -4.21753123e+03,  1.09159337e+01, -1.88769025e+02,  3.20000052e+03,\n",
              "        -8.99954070e+00, -5.94494675e+01,  1.09931227e-02, -2.81113137e+02,\n",
              "        -7.69591564e+01]))"
            ]
          },
          "metadata": {},
          "execution_count": 65
        }
      ]
    },
    {
      "cell_type": "code",
      "source": [
        "## 회귀식 만들기\n",
        "b0 = model.intercept_\n",
        "b1, b2, b3, b4, b5, b6, b7, b8, b9, b10, b11, b12, b13, b14, b15, b16, b17 = model.coef_\n",
        "\n",
        "print(f'y = {b0:.0f} + {b1:.0f}x\\u2081 + {b2:.0f}x\\u2082 + {b3:.0f}x\\u2082 + {b4:.0f}x\\u2082 + {b5:.0f}x\\u2082 + {b6:.0f}x\\u2082 + {b7:.0f}x\\u2082 + {b8:.0f}x\\u2082 + {b9:.0f}x\\u2082 + {b10:.0f}x\\u2082 + {b11:.0f}x\\u2082 + {b12:.0f}x\\u2082 + {b13:.0f}x\\u2082 + {b14:.0f}x\\u2082 + {b15:.0f}x\\u2082 + {b16:.0f}x\\u2082 + {b17:.0f}x\\u2082')"
      ],
      "metadata": {
        "id": "wx3HX87UO6d2",
        "outputId": "8cbb4693-1ff0-4c37-b825-37f958be6d15",
        "colab": {
          "base_uri": "https://localhost:8080/"
        }
      },
      "execution_count": 66,
      "outputs": [
        {
          "output_type": "stream",
          "name": "stdout",
          "text": [
            "y = 5458 + -24x₁ + -9x₂ + 452x₂ + -46x₂ + 4x₂ + -1028x₂ + 2794x₂ + 395x₂ + -4218x₂ + 11x₂ + -189x₂ + 3200x₂ + -9x₂ + -59x₂ + 0x₂ + -281x₂ + -77x₂\n"
          ]
        }
      ]
    },
    {
      "cell_type": "code",
      "source": [
        ""
      ],
      "metadata": {
        "id": "g_hS2HP4Ph6H"
      },
      "execution_count": null,
      "outputs": []
    }
  ]
}