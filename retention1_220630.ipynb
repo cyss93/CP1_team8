{
  "nbformat": 4,
  "nbformat_minor": 0,
  "metadata": {
    "colab": {
      "name": "retention1_220630.ipynb",
      "provenance": [],
      "collapsed_sections": [],
      "authorship_tag": "ABX9TyM+0V0h9Nx4nErf0CBZo9p8",
      "include_colab_link": true
    },
    "kernelspec": {
      "name": "python3",
      "display_name": "Python 3"
    },
    "language_info": {
      "name": "python"
    }
  },
  "cells": [
    {
      "cell_type": "markdown",
      "metadata": {
        "id": "view-in-github",
        "colab_type": "text"
      },
      "source": [
        "<a href=\"https://colab.research.google.com/github/cyss93/CP1_team8/blob/%EB%B0%95%EC%A3%BC%EC%98%81/retention1_220630.ipynb\" target=\"_parent\"><img src=\"https://colab.research.google.com/assets/colab-badge.svg\" alt=\"Open In Colab\"/></a>"
      ]
    },
    {
      "cell_type": "code",
      "source": [
        "from google.colab import drive\n",
        "drive.mount('/content/drive')"
      ],
      "metadata": {
        "colab": {
          "base_uri": "https://localhost:8080/"
        },
        "id": "nyoFmKonC1ub",
        "outputId": "bfef3967-8d7a-4f33-a694-1f8cebb5cafc"
      },
      "execution_count": 1,
      "outputs": [
        {
          "output_type": "stream",
          "name": "stdout",
          "text": [
            "Mounted at /content/drive\n"
          ]
        }
      ]
    },
    {
      "cell_type": "code",
      "source": [
        "import pandas as pd\n",
        "import numpy as np\n",
        "from datetime import datetime\n",
        "import time\n",
        "import matplotlib.pyplot as plt"
      ],
      "metadata": {
        "id": "AZB-mSrgDHLu"
      },
      "execution_count": 2,
      "outputs": []
    },
    {
      "cell_type": "code",
      "source": [
        "seller_data = pd.read_csv('/content/drive/MyDrive/olist/EDA_seller_data2.csv')\n",
        "older_data = pd.read_csv('/content/drive/MyDrive/olist/EDA_order_data.csv')"
      ],
      "metadata": {
        "id": "40wt2Yp5DIWY"
      },
      "execution_count": 3,
      "outputs": []
    },
    {
      "cell_type": "code",
      "source": [
        "older_data['order_approved_at'] = pd.to_datetime(older_data['order_approved_at'])"
      ],
      "metadata": {
        "id": "5zxePw_fHYk1"
      },
      "execution_count": 4,
      "outputs": []
    },
    {
      "cell_type": "code",
      "source": [
        "Today = older_data['order_approved_at'].max()"
      ],
      "metadata": {
        "id": "Popa0_k4DQ3d"
      },
      "execution_count": 5,
      "outputs": []
    },
    {
      "cell_type": "code",
      "source": [
        "seller_data['first_contact_date'] = pd.to_datetime(seller_data['first_contact_date'])\n",
        "seller_data['won_date'] = pd.to_datetime(seller_data['won_date'])"
      ],
      "metadata": {
        "id": "A8R9pPzSDj0n"
      },
      "execution_count": 6,
      "outputs": []
    },
    {
      "cell_type": "code",
      "source": [
        "seller_data['registration_days']= (Today - seller_data['won_date']).dt.days"
      ],
      "metadata": {
        "id": "DQHnz_f4IGXQ"
      },
      "execution_count": 7,
      "outputs": []
    },
    {
      "cell_type": "code",
      "source": [
        "seller_data"
      ],
      "metadata": {
        "colab": {
          "base_uri": "https://localhost:8080/",
          "height": 835
        },
        "id": "gdWkxdvHbtNg",
        "outputId": "53945c2a-c181-4bf4-d9ab-cf6bb899141a"
      },
      "execution_count": 8,
      "outputs": [
        {
          "output_type": "execute_result",
          "data": {
            "text/plain": [
              "                            seller_id          origin  \\\n",
              "0    2c43fb513632d29b3b58df74816f1b06  organic_search   \n",
              "1    7d13fca15225358621be4086e1eb0964         unknown   \n",
              "2    8a432f4e5b471f8da497d7dc517666e2  organic_search   \n",
              "3    4c1c7281388a33dd06daac44f9fadbd1          social   \n",
              "4    1d953075c2f0dd990bacf27b83b330f1  organic_search   \n",
              "..                                ...             ...   \n",
              "374  88cd3681e0a2ba85e190f7d817629c4c     paid_search   \n",
              "375  e116c7455dd26a4d8c3e92532583905f         unknown   \n",
              "376  8fb67a334bacec338885b4e9e1708073     paid_search   \n",
              "377  0cab2da43793a6f3c5ed8514c5f54627             NaN   \n",
              "378  05a48cc8859962767935ab9087417fbb         unknown   \n",
              "\n",
              "                      landing_page_id first_contact_date            won_date  \\\n",
              "0    b48ec5f3b04e9068441002a19df93c6c         2018-02-21 2018-02-26 19:58:54   \n",
              "1    b76ef37428e6799c421989521c0e5077         2018-01-22 2018-02-08 17:20:14   \n",
              "2    ce1a65abd0973638f1c887a6efcfa82d         2018-02-27 2018-03-12 17:30:06   \n",
              "3    88740e65d5d6b056e0cda098e1ea6313         2018-03-05 2018-03-08 18:57:56   \n",
              "4    a7982125ff7aa3b2054c6e44f9d28522         2018-05-31 2018-06-20 12:24:10   \n",
              "..                                ...                ...                 ...   \n",
              "374  b48ec5f3b04e9068441002a19df93c6c         2017-11-14 2018-07-09 18:00:57   \n",
              "375  b76ef37428e6799c421989521c0e5077         2018-01-12 2018-01-22 02:00:00   \n",
              "376  40dec9f3d5259a3d2dbcdab2114fae47         2018-04-24 2018-04-27 12:18:34   \n",
              "377  6b6c0934205e87702519d1cce24055f9         2018-03-12 2018-04-05 16:29:23   \n",
              "378  8ff57dffc365fcb5233232fff6e6bfd0         2018-05-21 2018-05-30 03:00:00   \n",
              "\n",
              "     date_for_registration business_type        lead_type  \\\n",
              "0                        5      reseller    online_medium   \n",
              "1                       17      reseller       online_big   \n",
              "2                       13      reseller       online_big   \n",
              "3                        3      reseller    online_medium   \n",
              "4                       20      reseller    online_medium   \n",
              "..                     ...           ...              ...   \n",
              "374                    237      reseller       online_big   \n",
              "375                     10      reseller       online_big   \n",
              "376                      3  manufacturer    online_medium   \n",
              "377                     24      reseller          offline   \n",
              "378                      9      reseller  online_beginner   \n",
              "\n",
              "        business_segment seller_state  mean_distance  sale_days  total_profit  \\\n",
              "0                    pet           MG     388.692364        147        785.83   \n",
              "1                watches           SP     621.754948        197     104805.89   \n",
              "2         bed_bath_table           SP     666.394410        168       5589.89   \n",
              "3             stationery           SP     491.260670        104        106.73   \n",
              "4              computers           MG    1334.585471         53         39.68   \n",
              "..                   ...          ...            ...        ...           ...   \n",
              "374      car_accessories           SC     570.534070         37        160.64   \n",
              "375        health_beauty           SP       6.359304         73         21.98   \n",
              "376           home_decor           PR     730.266597         79         21.38   \n",
              "377       bags_backpacks           PR     540.532197        113        252.50   \n",
              "378  fashion_accessories           SP     387.947464         64         26.41   \n",
              "\n",
              "            LTV seller_status  registration_days  \n",
              "0      5.345782      maintain                183  \n",
              "1    532.009594      maintain                201  \n",
              "2     33.273155      maintain                169  \n",
              "3      1.026250         leave                173  \n",
              "4      0.748679      maintain                 70  \n",
              "..          ...           ...                ...  \n",
              "374    4.341622      maintain                 50  \n",
              "375    0.301096         leave                219  \n",
              "376    0.270633      maintain                124  \n",
              "377    2.234513      maintain                145  \n",
              "378    0.412656      maintain                 91  \n",
              "\n",
              "[379 rows x 16 columns]"
            ],
            "text/html": [
              "\n",
              "  <div id=\"df-7c6d917e-48a1-483d-ae99-2ff677fb3b4d\">\n",
              "    <div class=\"colab-df-container\">\n",
              "      <div>\n",
              "<style scoped>\n",
              "    .dataframe tbody tr th:only-of-type {\n",
              "        vertical-align: middle;\n",
              "    }\n",
              "\n",
              "    .dataframe tbody tr th {\n",
              "        vertical-align: top;\n",
              "    }\n",
              "\n",
              "    .dataframe thead th {\n",
              "        text-align: right;\n",
              "    }\n",
              "</style>\n",
              "<table border=\"1\" class=\"dataframe\">\n",
              "  <thead>\n",
              "    <tr style=\"text-align: right;\">\n",
              "      <th></th>\n",
              "      <th>seller_id</th>\n",
              "      <th>origin</th>\n",
              "      <th>landing_page_id</th>\n",
              "      <th>first_contact_date</th>\n",
              "      <th>won_date</th>\n",
              "      <th>date_for_registration</th>\n",
              "      <th>business_type</th>\n",
              "      <th>lead_type</th>\n",
              "      <th>business_segment</th>\n",
              "      <th>seller_state</th>\n",
              "      <th>mean_distance</th>\n",
              "      <th>sale_days</th>\n",
              "      <th>total_profit</th>\n",
              "      <th>LTV</th>\n",
              "      <th>seller_status</th>\n",
              "      <th>registration_days</th>\n",
              "    </tr>\n",
              "  </thead>\n",
              "  <tbody>\n",
              "    <tr>\n",
              "      <th>0</th>\n",
              "      <td>2c43fb513632d29b3b58df74816f1b06</td>\n",
              "      <td>organic_search</td>\n",
              "      <td>b48ec5f3b04e9068441002a19df93c6c</td>\n",
              "      <td>2018-02-21</td>\n",
              "      <td>2018-02-26 19:58:54</td>\n",
              "      <td>5</td>\n",
              "      <td>reseller</td>\n",
              "      <td>online_medium</td>\n",
              "      <td>pet</td>\n",
              "      <td>MG</td>\n",
              "      <td>388.692364</td>\n",
              "      <td>147</td>\n",
              "      <td>785.83</td>\n",
              "      <td>5.345782</td>\n",
              "      <td>maintain</td>\n",
              "      <td>183</td>\n",
              "    </tr>\n",
              "    <tr>\n",
              "      <th>1</th>\n",
              "      <td>7d13fca15225358621be4086e1eb0964</td>\n",
              "      <td>unknown</td>\n",
              "      <td>b76ef37428e6799c421989521c0e5077</td>\n",
              "      <td>2018-01-22</td>\n",
              "      <td>2018-02-08 17:20:14</td>\n",
              "      <td>17</td>\n",
              "      <td>reseller</td>\n",
              "      <td>online_big</td>\n",
              "      <td>watches</td>\n",
              "      <td>SP</td>\n",
              "      <td>621.754948</td>\n",
              "      <td>197</td>\n",
              "      <td>104805.89</td>\n",
              "      <td>532.009594</td>\n",
              "      <td>maintain</td>\n",
              "      <td>201</td>\n",
              "    </tr>\n",
              "    <tr>\n",
              "      <th>2</th>\n",
              "      <td>8a432f4e5b471f8da497d7dc517666e2</td>\n",
              "      <td>organic_search</td>\n",
              "      <td>ce1a65abd0973638f1c887a6efcfa82d</td>\n",
              "      <td>2018-02-27</td>\n",
              "      <td>2018-03-12 17:30:06</td>\n",
              "      <td>13</td>\n",
              "      <td>reseller</td>\n",
              "      <td>online_big</td>\n",
              "      <td>bed_bath_table</td>\n",
              "      <td>SP</td>\n",
              "      <td>666.394410</td>\n",
              "      <td>168</td>\n",
              "      <td>5589.89</td>\n",
              "      <td>33.273155</td>\n",
              "      <td>maintain</td>\n",
              "      <td>169</td>\n",
              "    </tr>\n",
              "    <tr>\n",
              "      <th>3</th>\n",
              "      <td>4c1c7281388a33dd06daac44f9fadbd1</td>\n",
              "      <td>social</td>\n",
              "      <td>88740e65d5d6b056e0cda098e1ea6313</td>\n",
              "      <td>2018-03-05</td>\n",
              "      <td>2018-03-08 18:57:56</td>\n",
              "      <td>3</td>\n",
              "      <td>reseller</td>\n",
              "      <td>online_medium</td>\n",
              "      <td>stationery</td>\n",
              "      <td>SP</td>\n",
              "      <td>491.260670</td>\n",
              "      <td>104</td>\n",
              "      <td>106.73</td>\n",
              "      <td>1.026250</td>\n",
              "      <td>leave</td>\n",
              "      <td>173</td>\n",
              "    </tr>\n",
              "    <tr>\n",
              "      <th>4</th>\n",
              "      <td>1d953075c2f0dd990bacf27b83b330f1</td>\n",
              "      <td>organic_search</td>\n",
              "      <td>a7982125ff7aa3b2054c6e44f9d28522</td>\n",
              "      <td>2018-05-31</td>\n",
              "      <td>2018-06-20 12:24:10</td>\n",
              "      <td>20</td>\n",
              "      <td>reseller</td>\n",
              "      <td>online_medium</td>\n",
              "      <td>computers</td>\n",
              "      <td>MG</td>\n",
              "      <td>1334.585471</td>\n",
              "      <td>53</td>\n",
              "      <td>39.68</td>\n",
              "      <td>0.748679</td>\n",
              "      <td>maintain</td>\n",
              "      <td>70</td>\n",
              "    </tr>\n",
              "    <tr>\n",
              "      <th>...</th>\n",
              "      <td>...</td>\n",
              "      <td>...</td>\n",
              "      <td>...</td>\n",
              "      <td>...</td>\n",
              "      <td>...</td>\n",
              "      <td>...</td>\n",
              "      <td>...</td>\n",
              "      <td>...</td>\n",
              "      <td>...</td>\n",
              "      <td>...</td>\n",
              "      <td>...</td>\n",
              "      <td>...</td>\n",
              "      <td>...</td>\n",
              "      <td>...</td>\n",
              "      <td>...</td>\n",
              "      <td>...</td>\n",
              "    </tr>\n",
              "    <tr>\n",
              "      <th>374</th>\n",
              "      <td>88cd3681e0a2ba85e190f7d817629c4c</td>\n",
              "      <td>paid_search</td>\n",
              "      <td>b48ec5f3b04e9068441002a19df93c6c</td>\n",
              "      <td>2017-11-14</td>\n",
              "      <td>2018-07-09 18:00:57</td>\n",
              "      <td>237</td>\n",
              "      <td>reseller</td>\n",
              "      <td>online_big</td>\n",
              "      <td>car_accessories</td>\n",
              "      <td>SC</td>\n",
              "      <td>570.534070</td>\n",
              "      <td>37</td>\n",
              "      <td>160.64</td>\n",
              "      <td>4.341622</td>\n",
              "      <td>maintain</td>\n",
              "      <td>50</td>\n",
              "    </tr>\n",
              "    <tr>\n",
              "      <th>375</th>\n",
              "      <td>e116c7455dd26a4d8c3e92532583905f</td>\n",
              "      <td>unknown</td>\n",
              "      <td>b76ef37428e6799c421989521c0e5077</td>\n",
              "      <td>2018-01-12</td>\n",
              "      <td>2018-01-22 02:00:00</td>\n",
              "      <td>10</td>\n",
              "      <td>reseller</td>\n",
              "      <td>online_big</td>\n",
              "      <td>health_beauty</td>\n",
              "      <td>SP</td>\n",
              "      <td>6.359304</td>\n",
              "      <td>73</td>\n",
              "      <td>21.98</td>\n",
              "      <td>0.301096</td>\n",
              "      <td>leave</td>\n",
              "      <td>219</td>\n",
              "    </tr>\n",
              "    <tr>\n",
              "      <th>376</th>\n",
              "      <td>8fb67a334bacec338885b4e9e1708073</td>\n",
              "      <td>paid_search</td>\n",
              "      <td>40dec9f3d5259a3d2dbcdab2114fae47</td>\n",
              "      <td>2018-04-24</td>\n",
              "      <td>2018-04-27 12:18:34</td>\n",
              "      <td>3</td>\n",
              "      <td>manufacturer</td>\n",
              "      <td>online_medium</td>\n",
              "      <td>home_decor</td>\n",
              "      <td>PR</td>\n",
              "      <td>730.266597</td>\n",
              "      <td>79</td>\n",
              "      <td>21.38</td>\n",
              "      <td>0.270633</td>\n",
              "      <td>maintain</td>\n",
              "      <td>124</td>\n",
              "    </tr>\n",
              "    <tr>\n",
              "      <th>377</th>\n",
              "      <td>0cab2da43793a6f3c5ed8514c5f54627</td>\n",
              "      <td>NaN</td>\n",
              "      <td>6b6c0934205e87702519d1cce24055f9</td>\n",
              "      <td>2018-03-12</td>\n",
              "      <td>2018-04-05 16:29:23</td>\n",
              "      <td>24</td>\n",
              "      <td>reseller</td>\n",
              "      <td>offline</td>\n",
              "      <td>bags_backpacks</td>\n",
              "      <td>PR</td>\n",
              "      <td>540.532197</td>\n",
              "      <td>113</td>\n",
              "      <td>252.50</td>\n",
              "      <td>2.234513</td>\n",
              "      <td>maintain</td>\n",
              "      <td>145</td>\n",
              "    </tr>\n",
              "    <tr>\n",
              "      <th>378</th>\n",
              "      <td>05a48cc8859962767935ab9087417fbb</td>\n",
              "      <td>unknown</td>\n",
              "      <td>8ff57dffc365fcb5233232fff6e6bfd0</td>\n",
              "      <td>2018-05-21</td>\n",
              "      <td>2018-05-30 03:00:00</td>\n",
              "      <td>9</td>\n",
              "      <td>reseller</td>\n",
              "      <td>online_beginner</td>\n",
              "      <td>fashion_accessories</td>\n",
              "      <td>SP</td>\n",
              "      <td>387.947464</td>\n",
              "      <td>64</td>\n",
              "      <td>26.41</td>\n",
              "      <td>0.412656</td>\n",
              "      <td>maintain</td>\n",
              "      <td>91</td>\n",
              "    </tr>\n",
              "  </tbody>\n",
              "</table>\n",
              "<p>379 rows × 16 columns</p>\n",
              "</div>\n",
              "      <button class=\"colab-df-convert\" onclick=\"convertToInteractive('df-7c6d917e-48a1-483d-ae99-2ff677fb3b4d')\"\n",
              "              title=\"Convert this dataframe to an interactive table.\"\n",
              "              style=\"display:none;\">\n",
              "        \n",
              "  <svg xmlns=\"http://www.w3.org/2000/svg\" height=\"24px\"viewBox=\"0 0 24 24\"\n",
              "       width=\"24px\">\n",
              "    <path d=\"M0 0h24v24H0V0z\" fill=\"none\"/>\n",
              "    <path d=\"M18.56 5.44l.94 2.06.94-2.06 2.06-.94-2.06-.94-.94-2.06-.94 2.06-2.06.94zm-11 1L8.5 8.5l.94-2.06 2.06-.94-2.06-.94L8.5 2.5l-.94 2.06-2.06.94zm10 10l.94 2.06.94-2.06 2.06-.94-2.06-.94-.94-2.06-.94 2.06-2.06.94z\"/><path d=\"M17.41 7.96l-1.37-1.37c-.4-.4-.92-.59-1.43-.59-.52 0-1.04.2-1.43.59L10.3 9.45l-7.72 7.72c-.78.78-.78 2.05 0 2.83L4 21.41c.39.39.9.59 1.41.59.51 0 1.02-.2 1.41-.59l7.78-7.78 2.81-2.81c.8-.78.8-2.07 0-2.86zM5.41 20L4 18.59l7.72-7.72 1.47 1.35L5.41 20z\"/>\n",
              "  </svg>\n",
              "      </button>\n",
              "      \n",
              "  <style>\n",
              "    .colab-df-container {\n",
              "      display:flex;\n",
              "      flex-wrap:wrap;\n",
              "      gap: 12px;\n",
              "    }\n",
              "\n",
              "    .colab-df-convert {\n",
              "      background-color: #E8F0FE;\n",
              "      border: none;\n",
              "      border-radius: 50%;\n",
              "      cursor: pointer;\n",
              "      display: none;\n",
              "      fill: #1967D2;\n",
              "      height: 32px;\n",
              "      padding: 0 0 0 0;\n",
              "      width: 32px;\n",
              "    }\n",
              "\n",
              "    .colab-df-convert:hover {\n",
              "      background-color: #E2EBFA;\n",
              "      box-shadow: 0px 1px 2px rgba(60, 64, 67, 0.3), 0px 1px 3px 1px rgba(60, 64, 67, 0.15);\n",
              "      fill: #174EA6;\n",
              "    }\n",
              "\n",
              "    [theme=dark] .colab-df-convert {\n",
              "      background-color: #3B4455;\n",
              "      fill: #D2E3FC;\n",
              "    }\n",
              "\n",
              "    [theme=dark] .colab-df-convert:hover {\n",
              "      background-color: #434B5C;\n",
              "      box-shadow: 0px 1px 3px 1px rgba(0, 0, 0, 0.15);\n",
              "      filter: drop-shadow(0px 1px 2px rgba(0, 0, 0, 0.3));\n",
              "      fill: #FFFFFF;\n",
              "    }\n",
              "  </style>\n",
              "\n",
              "      <script>\n",
              "        const buttonEl =\n",
              "          document.querySelector('#df-7c6d917e-48a1-483d-ae99-2ff677fb3b4d button.colab-df-convert');\n",
              "        buttonEl.style.display =\n",
              "          google.colab.kernel.accessAllowed ? 'block' : 'none';\n",
              "\n",
              "        async function convertToInteractive(key) {\n",
              "          const element = document.querySelector('#df-7c6d917e-48a1-483d-ae99-2ff677fb3b4d');\n",
              "          const dataTable =\n",
              "            await google.colab.kernel.invokeFunction('convertToInteractive',\n",
              "                                                     [key], {});\n",
              "          if (!dataTable) return;\n",
              "\n",
              "          const docLinkHtml = 'Like what you see? Visit the ' +\n",
              "            '<a target=\"_blank\" href=https://colab.research.google.com/notebooks/data_table.ipynb>data table notebook</a>'\n",
              "            + ' to learn more about interactive tables.';\n",
              "          element.innerHTML = '';\n",
              "          dataTable['output_type'] = 'display_data';\n",
              "          await google.colab.output.renderOutput(dataTable, element);\n",
              "          const docLink = document.createElement('div');\n",
              "          docLink.innerHTML = docLinkHtml;\n",
              "          element.appendChild(docLink);\n",
              "        }\n",
              "      </script>\n",
              "    </div>\n",
              "  </div>\n",
              "  "
            ]
          },
          "metadata": {},
          "execution_count": 8
        }
      ]
    },
    {
      "cell_type": "code",
      "source": [
        "seller_data['registration_days'].max()"
      ],
      "metadata": {
        "colab": {
          "base_uri": "https://localhost:8080/"
        },
        "id": "9MIf4y3rb6Ms",
        "outputId": "a090ca29-5683-408c-e679-954f8135a7c9"
      },
      "execution_count": 9,
      "outputs": [
        {
          "output_type": "execute_result",
          "data": {
            "text/plain": [
              "260"
            ]
          },
          "metadata": {},
          "execution_count": 9
        }
      ]
    },
    {
      "cell_type": "code",
      "source": [
        "def retention(df,days,interval):\n",
        "  date = list(range(interval,days+1,interval))\n",
        "  df_X = df[df['registration_days']>=days]\n",
        "  ret = [ len(df_X[df_X['sale_days']>=x-interval])/len(df_X) if ((len(df_X[df_X['sale_days']>=x])>0) and len(df_X)>0) else None for x in date ]\n",
        "  return date, ret"
      ],
      "metadata": {
        "id": "TvZKkPbGosR3"
      },
      "execution_count": 40,
      "outputs": []
    },
    {
      "cell_type": "code",
      "source": [
        "seller_data['origin'].value_counts()"
      ],
      "metadata": {
        "colab": {
          "base_uri": "https://localhost:8080/"
        },
        "id": "XPgfOzG9AfEv",
        "outputId": "f48f1faa-b891-4409-e15b-7b35354a2521"
      },
      "execution_count": 11,
      "outputs": [
        {
          "output_type": "execute_result",
          "data": {
            "text/plain": [
              "organic_search    113\n",
              "paid_search       101\n",
              "unknown            81\n",
              "direct_traffic     31\n",
              "social             30\n",
              "referral            9\n",
              "email               6\n",
              "other               2\n",
              "display             2\n",
              "Name: origin, dtype: int64"
            ]
          },
          "metadata": {},
          "execution_count": 11
        }
      ]
    },
    {
      "cell_type": "code",
      "source": [
        "# 유입 경로에 따른 retention\n",
        "\n",
        "df_organic_search = seller_data[seller_data['origin']=='organic_search']\n",
        "df_paid_search = seller_data[seller_data['origin']=='paid_search']\n",
        "df_unknown = seller_data[seller_data['origin']=='unknown']\n",
        "\n",
        "days = 150\n",
        "interval = 30\n",
        "\n",
        "plt.plot(retention(seller_data,days,interval)[0],retention(seller_data,days,interval)[1])\n",
        "plt.plot(retention(df_organic_search,days,interval)[0],retention(df_organic_search,days,interval)[1])\n",
        "plt.plot(retention(df_paid_search,days,interval)[0],retention(df_paid_search,days,interval)[1])\n",
        "plt.plot(retention(df_unknown,days,interval)[0],retention(df_unknown,days,interval)[1])\n",
        "\n",
        "plt.legend(['total', 'organic_search', 'paid_search', 'unknown'])\n",
        "plt.grid(True)\n",
        "ax = plt.subplot()\n",
        "ax.set_xticks(retention(seller_data,days,interval)[0])"
      ],
      "metadata": {
        "colab": {
          "base_uri": "https://localhost:8080/",
          "height": 395
        },
        "id": "G-h8NaG33rr3",
        "outputId": "5c31939b-9460-4f41-d607-ef7e26b49dbe"
      },
      "execution_count": 54,
      "outputs": [
        {
          "output_type": "stream",
          "name": "stderr",
          "text": [
            "/usr/local/lib/python3.7/dist-packages/ipykernel_launcher.py:17: MatplotlibDeprecationWarning: Adding an axes using the same arguments as a previous axes currently reuses the earlier instance.  In a future version, a new instance will always be created and returned.  Meanwhile, this warning can be suppressed, and the future behavior ensured, by passing a unique label to each axes instance.\n"
          ]
        },
        {
          "output_type": "execute_result",
          "data": {
            "text/plain": [
              "[<matplotlib.axis.XTick at 0x7f151ee90dd0>,\n",
              " <matplotlib.axis.XTick at 0x7f151ee900d0>,\n",
              " <matplotlib.axis.XTick at 0x7f151ee90bd0>,\n",
              " <matplotlib.axis.XTick at 0x7f151eb9d350>,\n",
              " <matplotlib.axis.XTick at 0x7f151eba9810>]"
            ]
          },
          "metadata": {},
          "execution_count": 54
        },
        {
          "output_type": "display_data",
          "data": {
            "text/plain": [
              "<Figure size 432x288 with 1 Axes>"
            ],
            "image/png": "[encoded data removed]"
          },
          "metadata": {
            "needs_background": "light"
          }
        }
      ]
    },
    {
      "cell_type": "code",
      "source": [
        "seller_data['business_type'].value_counts()"
      ],
      "metadata": {
        "colab": {
          "base_uri": "https://localhost:8080/"
        },
        "id": "sgKSTbuq56Ph",
        "outputId": "44881d9b-6d51-46aa-8103-f11f27860630"
      },
      "execution_count": 13,
      "outputs": [
        {
          "output_type": "execute_result",
          "data": {
            "text/plain": [
              "reseller        287\n",
              "manufacturer     89\n",
              "Name: business_type, dtype: int64"
            ]
          },
          "metadata": {},
          "execution_count": 13
        }
      ]
    },
    {
      "cell_type": "code",
      "source": [
        "df_reseller = seller_data[seller_data['business_type']=='reseller']\n",
        "df_manufacturer = seller_data[seller_data['business_type']=='manufacturer']\n",
        "\n",
        "days = 150\n",
        "interval = 30\n",
        "\n",
        "plt.plot(retention(seller_data,days,interval)[0],retention(seller_data,days,interval)[1])\n",
        "plt.plot(retention(df_reseller,days,interval)[0],retention(df_reseller,days,interval)[1])\n",
        "plt.plot(retention(df_manufacturer,days,interval)[0],retention(df_manufacturer,days,interval)[1])\n",
        "\n",
        "plt.legend(['total', 'reseller', 'manufacturer',])\n",
        "plt.grid(True)\n",
        "ax = plt.subplot()\n",
        "ax.set_xticks(retention(seller_data,days,interval)[0])"
      ],
      "metadata": {
        "colab": {
          "base_uri": "https://localhost:8080/",
          "height": 414
        },
        "id": "lLuZtv4aAZa9",
        "outputId": "21bfdb42-eb05-4be8-9e20-a55eacd6f1f7"
      },
      "execution_count": 56,
      "outputs": [
        {
          "output_type": "stream",
          "name": "stderr",
          "text": [
            "/usr/local/lib/python3.7/dist-packages/ipykernel_launcher.py:13: MatplotlibDeprecationWarning: Adding an axes using the same arguments as a previous axes currently reuses the earlier instance.  In a future version, a new instance will always be created and returned.  Meanwhile, this warning can be suppressed, and the future behavior ensured, by passing a unique label to each axes instance.\n",
            "  del sys.path[0]\n"
          ]
        },
        {
          "output_type": "execute_result",
          "data": {
            "text/plain": [
              "[<matplotlib.axis.XTick at 0x7f151ebb8e90>,\n",
              " <matplotlib.axis.XTick at 0x7f151ebb8310>,\n",
              " <matplotlib.axis.XTick at 0x7f151eb62550>,\n",
              " <matplotlib.axis.XTick at 0x7f151eaab950>,\n",
              " <matplotlib.axis.XTick at 0x7f151eaab890>]"
            ]
          },
          "metadata": {},
          "execution_count": 56
        },
        {
          "output_type": "display_data",
          "data": {
            "text/plain": [
              "<Figure size 432x288 with 1 Axes>"
            ],
            "image/png": "[encoded data removed]"
          },
          "metadata": {
            "needs_background": "light"
          }
        }
      ]
    }
  ]
}