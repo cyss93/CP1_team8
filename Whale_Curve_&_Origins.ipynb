{
  "nbformat": 4,
  "nbformat_minor": 0,
  "metadata": {
    "colab": {
      "name": "Whale_Curve_&_Origins.ipynb",
      "provenance": [],
      "authorship_tag": "ABX9TyPtlD3ZbNKItKe70Z4V/F0x",
      "include_colab_link": true
    },
    "kernelspec": {
      "name": "python3",
      "display_name": "Python 3"
    },
    "language_info": {
      "name": "python"
    }
  },
  "cells": [
    {
      "cell_type": "markdown",
      "metadata": {
        "id": "view-in-github",
        "colab_type": "text"
      },
      "source": [
        "<a href=\"https://colab.research.google.com/github/cyss93/CP1_team8/blob/%EC%98%A4%EC%B0%BD%EC%98%81/Whale_Curve_%26_Origins.ipynb\" target=\"_parent\"><img src=\"https://colab.research.google.com/assets/colab-badge.svg\" alt=\"Open In Colab\"/></a>"
      ]
    },
    {
      "cell_type": "code",
      "execution_count": 30,
      "metadata": {
        "id": "ZlVEQIm9FDJz"
      },
      "outputs": [],
      "source": [
        "import pandas as pd\n",
        "import numpy as np\n",
        "import matplotlib.pyplot as plt\n",
        "from datetime import datetime\n",
        "import scipy.stats as stats"
      ]
    },
    {
      "cell_type": "code",
      "source": [
        "df_seller =  pd.read_csv('seller_379.csv')\n",
        "df_order =  pd.read_csv('EDA_order_data.csv')"
      ],
      "metadata": {
        "id": "fBq_8laQHkq1"
      },
      "execution_count": 31,
      "outputs": []
    },
    {
      "cell_type": "markdown",
      "source": [
        "### seller_data 데이터 설명\n",
        "- seller_id\t: 판매자 번호 (아이디)\n",
        "- origin : Olist 유입 경로\n",
        "- landing_page_id : Olist 유입시 랜딩된 페이지\n",
        "- date_for_registration : 판매자 신청부터 등록까지 소요된 시간\n",
        "- business_type : 영업 방식 (중간 유통, 제작자 등)\n",
        "- lead_type : 영업 형태\n",
        "- business_segment : 취급 물품\n",
        "- seller_state : 판매 위치 (주)\n",
        "- mean_distance : 평균 판매 거리\n",
        "- sale_days : 등록 이후 영업 날짜\n",
        "- total_profit : 총 수익\n",
        "- LTV : 하루 평균 매출 기대값\n",
        "- seller_status : 판매자 이탈 여부 (최근 60 일간 판매가 없을 시 이탈로 간주)"
      ],
      "metadata": {
        "id": "wYXLfI5EH1V_"
      }
    },
    {
      "cell_type": "markdown",
      "source": [
        "### order_data 데이터 설명\n",
        "- order_id : 주문 번호 (아이디)\n",
        "- product_id : 제품 번호 (아이디)\n",
        "- order_item_id\t: 제품 구분 번호 (동일 제품 다수 구매시 중복 데이터로 처리 되는것을 방지)\n",
        "- price : 가격\n",
        "- freight_value : 운송료\n",
        "- seller_profit\t: 판매자의 수익 = 가격 - 운송료\n",
        "- distance : 주문 배달 거리\n",
        "- order_approved_at : 결제 승인 시각\n",
        "- seller_id : 판매자 번호 (아이디)"
      ],
      "metadata": {
        "id": "vggc6LLeIFAY"
      }
    },
    {
      "cell_type": "markdown",
      "source": [
        "# 적용 개념들\n",
        "- Whale curves\n",
        "  - 상위 20%가 매출의 80%를 차지하는것이 아닌, 상위 1%가 매출의 80%를 차지한다면, 기형적인 구조이기 때문에 다양한 문제가 발생할 수 있다. 그렇기때문에 이 구조를 보고 진단할 필요가 있음\n",
        "- 산업/지역/제품의 집중도\n",
        "  - 산업과 지역, 제품 등의 규모가 한 쪽으로 치우쳐 있다면, 비즈니스의 확장이나, 안정성 면에서 떨어지게 된다.\n",
        "- Fragmentation(분산화 정도)\n",
        "  - (판매자-구매자)의 비중이 (다수-소수), (다수-다수), (소수-다수) 등이 있는데, 마켓플레이스 입장에서 (소수-소수)인 경우에 미들맨의 역할이 중요하지 않기 때문에 위험한 상황이다. 가장 이상적인 모양은 (다수-다수)이다. 그렇기 때문에 Fragmentation을 확인해보고 서비스 상태를 확인할 필요가 있다.\n",
        "- 참고링크: https://brunch.co.kr/@taewookim/17"
      ],
      "metadata": {
        "id": "3AisQdvhHRjr"
      }
    },
    {
      "cell_type": "markdown",
      "source": [
        "### Whale curves\n",
        "- '판매자의 수익성'을 Whale curve로 살펴보자\n",
        "- 수익성의 계산 기준을 정하는게 우선\n",
        "- 그냥 합계로 계산하기. 평균으로 계산하면 의미가 없어지니 주의할 것.\n",
        "- 판매자들의 수익성 구간은 각 상위에서부터 10%씩 끊어서 정하고, 판매자의 수를 세보자\n",
        "- 참고링크: https://m.blog.naver.com/bs2k/221595234106"
      ],
      "metadata": {
        "id": "a55Iq53UHVVl"
      }
    },
    {
      "cell_type": "code",
      "source": [
        "df_seller"
      ],
      "metadata": {
        "id": "BnrzD0wJqzyp",
        "outputId": "976bc1f5-d890-4961-c497-2d02dba9e681",
        "colab": {
          "base_uri": "https://localhost:8080/",
          "height": 678
        }
      },
      "execution_count": 32,
      "outputs": [
        {
          "output_type": "execute_result",
          "data": {
            "text/plain": [
              "     Unnamed: 0                         seller_id seller_state first_order  \\\n",
              "0             0  2c43fb513632d29b3b58df74816f1b06           MG  2018-06-20   \n",
              "1             1  7d13fca15225358621be4086e1eb0964           SP  2018-02-14   \n",
              "2             2  8a432f4e5b471f8da497d7dc517666e2           SP  2018-04-05   \n",
              "3             3  4c1c7281388a33dd06daac44f9fadbd1           SP  2018-04-04   \n",
              "4             4  1d953075c2f0dd990bacf27b83b330f1           MG  2018-08-13   \n",
              "..          ...                               ...          ...         ...   \n",
              "374         374  88cd3681e0a2ba85e190f7d817629c4c           SC  2018-08-15   \n",
              "375         375  e116c7455dd26a4d8c3e92532583905f           SP  2018-04-05   \n",
              "376         376  8fb67a334bacec338885b4e9e1708073           PR  2018-07-15   \n",
              "377         377  0cab2da43793a6f3c5ed8514c5f54627           PR  2018-05-11   \n",
              "378         378  05a48cc8859962767935ab9087417fbb           SP  2018-08-02   \n",
              "\n",
              "     last_order  sale_days  total_profit  mean_profit  mean_distance  \\\n",
              "0    2018-07-24         34        785.83    23.112647     388.692364   \n",
              "1    2018-08-25        192     104805.89   545.864010     621.754948   \n",
              "2    2018-08-28        146       5589.89    38.286918     666.394410   \n",
              "3    2018-06-20         78        106.73     1.368333     491.260670   \n",
              "4    2018-08-13          1         39.68    39.680000    1334.585471   \n",
              "..          ...        ...           ...          ...            ...   \n",
              "374  2018-08-15          1        160.64   160.640000     570.534070   \n",
              "375  2018-04-05          1         21.98    21.980000       6.359304   \n",
              "376  2018-07-15          1         21.38    21.380000     730.266597   \n",
              "377  2018-07-28         78        252.50     3.237179     540.532197   \n",
              "378  2018-08-02          1         26.41    26.410000     387.947464   \n",
              "\n",
              "     registration_days  ...          origin                   landing_page_id  \\\n",
              "0                   69  ...  organic_search  b48ec5f3b04e9068441002a19df93c6c   \n",
              "1                  195  ...         unknown  b76ef37428e6799c421989521c0e5077   \n",
              "2                  146  ...  organic_search  ce1a65abd0973638f1c887a6efcfa82d   \n",
              "3                  147  ...          social  88740e65d5d6b056e0cda098e1ea6313   \n",
              "4                   16  ...  organic_search  a7982125ff7aa3b2054c6e44f9d28522   \n",
              "..                 ...  ...             ...                               ...   \n",
              "374                 13  ...     paid_search  b48ec5f3b04e9068441002a19df93c6c   \n",
              "375                146  ...         unknown  b76ef37428e6799c421989521c0e5077   \n",
              "376                 45  ...     paid_search  40dec9f3d5259a3d2dbcdab2114fae47   \n",
              "377                110  ...             NaN  6b6c0934205e87702519d1cce24055f9   \n",
              "378                 27  ...         unknown  8ff57dffc365fcb5233232fff6e6bfd0   \n",
              "\n",
              "    first_contact_date    won_date date_for_registration  business_type  \\\n",
              "0           2018-02-21  2018-02-26                     5       reseller   \n",
              "1           2018-01-22  2018-02-08                    17       reseller   \n",
              "2           2018-02-27  2018-03-12                    13       reseller   \n",
              "3           2018-03-05  2018-03-08                     3       reseller   \n",
              "4           2018-05-31  2018-06-20                    20       reseller   \n",
              "..                 ...         ...                   ...            ...   \n",
              "374         2017-11-14  2018-07-09                   237       reseller   \n",
              "375         2018-01-12  2018-01-22                    10       reseller   \n",
              "376         2018-04-24  2018-04-27                     3   manufacturer   \n",
              "377         2018-03-12  2018-04-05                    24       reseller   \n",
              "378         2018-05-21  2018-05-30                     9       reseller   \n",
              "\n",
              "           lead_type     business_segment                            sdr_id  \\\n",
              "0      online_medium                  pet  a8387c01a09e99ce014107505b92388c   \n",
              "1         online_big              watches  56bf83c4bb35763a51c2baab501b4c67   \n",
              "2         online_big       bed_bath_table  9e4d1098a3b0f5da39b0bc48f9876645   \n",
              "3      online_medium           stationery  9e4d1098a3b0f5da39b0bc48f9876645   \n",
              "4      online_medium            computers  4b339f9567d060bcea4f5136b9f5949e   \n",
              "..               ...                  ...                               ...   \n",
              "374       online_big      car_accessories  b90f87164b5f8c2cfa5c8572834dbe3f   \n",
              "375       online_big        health_beauty  4b339f9567d060bcea4f5136b9f5949e   \n",
              "376    online_medium           home_decor  9d12ef1a7eca3ec58c545c678af7869c   \n",
              "377          offline       bags_backpacks  4b339f9567d060bcea4f5136b9f5949e   \n",
              "378  online_beginner  fashion_accessories  f42a2bd194f7802ab052a815c8de65b7   \n",
              "\n",
              "                                sr_id  \n",
              "0    4ef15afb4b2723d8f3d81e51ec7afefe  \n",
              "1    9ae085775a198122c5586fa830ff7f2b  \n",
              "2    c638112b43f1d1b86dcabb0da720c901  \n",
              "3    4ef15afb4b2723d8f3d81e51ec7afefe  \n",
              "4    4ef15afb4b2723d8f3d81e51ec7afefe  \n",
              "..                                ...  \n",
              "374  2695de1affa7750089c0455f8ce27021  \n",
              "375  9ae085775a198122c5586fa830ff7f2b  \n",
              "376  fbf4aef3f6915dc0c3c97d6812522f6a  \n",
              "377  56bf83c4bb35763a51c2baab501b4c67  \n",
              "378  56bf83c4bb35763a51c2baab501b4c67  \n",
              "\n",
              "[379 rows x 21 columns]"
            ],
            "text/html": [
              "\n",
              "  <div id=\"df-2ebb0f86-0a47-485b-87db-b960d1903a48\">\n",
              "    <div class=\"colab-df-container\">\n",
              "      <div>\n",
              "<style scoped>\n",
              "    .dataframe tbody tr th:only-of-type {\n",
              "        vertical-align: middle;\n",
              "    }\n",
              "\n",
              "    .dataframe tbody tr th {\n",
              "        vertical-align: top;\n",
              "    }\n",
              "\n",
              "    .dataframe thead th {\n",
              "        text-align: right;\n",
              "    }\n",
              "</style>\n",
              "<table border=\"1\" class=\"dataframe\">\n",
              "  <thead>\n",
              "    <tr style=\"text-align: right;\">\n",
              "      <th></th>\n",
              "      <th>Unnamed: 0</th>\n",
              "      <th>seller_id</th>\n",
              "      <th>seller_state</th>\n",
              "      <th>first_order</th>\n",
              "      <th>last_order</th>\n",
              "      <th>sale_days</th>\n",
              "      <th>total_profit</th>\n",
              "      <th>mean_profit</th>\n",
              "      <th>mean_distance</th>\n",
              "      <th>registration_days</th>\n",
              "      <th>...</th>\n",
              "      <th>origin</th>\n",
              "      <th>landing_page_id</th>\n",
              "      <th>first_contact_date</th>\n",
              "      <th>won_date</th>\n",
              "      <th>date_for_registration</th>\n",
              "      <th>business_type</th>\n",
              "      <th>lead_type</th>\n",
              "      <th>business_segment</th>\n",
              "      <th>sdr_id</th>\n",
              "      <th>sr_id</th>\n",
              "    </tr>\n",
              "  </thead>\n",
              "  <tbody>\n",
              "    <tr>\n",
              "      <th>0</th>\n",
              "      <td>0</td>\n",
              "      <td>2c43fb513632d29b3b58df74816f1b06</td>\n",
              "      <td>MG</td>\n",
              "      <td>2018-06-20</td>\n",
              "      <td>2018-07-24</td>\n",
              "      <td>34</td>\n",
              "      <td>785.83</td>\n",
              "      <td>23.112647</td>\n",
              "      <td>388.692364</td>\n",
              "      <td>69</td>\n",
              "      <td>...</td>\n",
              "      <td>organic_search</td>\n",
              "      <td>b48ec5f3b04e9068441002a19df93c6c</td>\n",
              "      <td>2018-02-21</td>\n",
              "      <td>2018-02-26</td>\n",
              "      <td>5</td>\n",
              "      <td>reseller</td>\n",
              "      <td>online_medium</td>\n",
              "      <td>pet</td>\n",
              "      <td>a8387c01a09e99ce014107505b92388c</td>\n",
              "      <td>4ef15afb4b2723d8f3d81e51ec7afefe</td>\n",
              "    </tr>\n",
              "    <tr>\n",
              "      <th>1</th>\n",
              "      <td>1</td>\n",
              "      <td>7d13fca15225358621be4086e1eb0964</td>\n",
              "      <td>SP</td>\n",
              "      <td>2018-02-14</td>\n",
              "      <td>2018-08-25</td>\n",
              "      <td>192</td>\n",
              "      <td>104805.89</td>\n",
              "      <td>545.864010</td>\n",
              "      <td>621.754948</td>\n",
              "      <td>195</td>\n",
              "      <td>...</td>\n",
              "      <td>unknown</td>\n",
              "      <td>b76ef37428e6799c421989521c0e5077</td>\n",
              "      <td>2018-01-22</td>\n",
              "      <td>2018-02-08</td>\n",
              "      <td>17</td>\n",
              "      <td>reseller</td>\n",
              "      <td>online_big</td>\n",
              "      <td>watches</td>\n",
              "      <td>56bf83c4bb35763a51c2baab501b4c67</td>\n",
              "      <td>9ae085775a198122c5586fa830ff7f2b</td>\n",
              "    </tr>\n",
              "    <tr>\n",
              "      <th>2</th>\n",
              "      <td>2</td>\n",
              "      <td>8a432f4e5b471f8da497d7dc517666e2</td>\n",
              "      <td>SP</td>\n",
              "      <td>2018-04-05</td>\n",
              "      <td>2018-08-28</td>\n",
              "      <td>146</td>\n",
              "      <td>5589.89</td>\n",
              "      <td>38.286918</td>\n",
              "      <td>666.394410</td>\n",
              "      <td>146</td>\n",
              "      <td>...</td>\n",
              "      <td>organic_search</td>\n",
              "      <td>ce1a65abd0973638f1c887a6efcfa82d</td>\n",
              "      <td>2018-02-27</td>\n",
              "      <td>2018-03-12</td>\n",
              "      <td>13</td>\n",
              "      <td>reseller</td>\n",
              "      <td>online_big</td>\n",
              "      <td>bed_bath_table</td>\n",
              "      <td>9e4d1098a3b0f5da39b0bc48f9876645</td>\n",
              "      <td>c638112b43f1d1b86dcabb0da720c901</td>\n",
              "    </tr>\n",
              "    <tr>\n",
              "      <th>3</th>\n",
              "      <td>3</td>\n",
              "      <td>4c1c7281388a33dd06daac44f9fadbd1</td>\n",
              "      <td>SP</td>\n",
              "      <td>2018-04-04</td>\n",
              "      <td>2018-06-20</td>\n",
              "      <td>78</td>\n",
              "      <td>106.73</td>\n",
              "      <td>1.368333</td>\n",
              "      <td>491.260670</td>\n",
              "      <td>147</td>\n",
              "      <td>...</td>\n",
              "      <td>social</td>\n",
              "      <td>88740e65d5d6b056e0cda098e1ea6313</td>\n",
              "      <td>2018-03-05</td>\n",
              "      <td>2018-03-08</td>\n",
              "      <td>3</td>\n",
              "      <td>reseller</td>\n",
              "      <td>online_medium</td>\n",
              "      <td>stationery</td>\n",
              "      <td>9e4d1098a3b0f5da39b0bc48f9876645</td>\n",
              "      <td>4ef15afb4b2723d8f3d81e51ec7afefe</td>\n",
              "    </tr>\n",
              "    <tr>\n",
              "      <th>4</th>\n",
              "      <td>4</td>\n",
              "      <td>1d953075c2f0dd990bacf27b83b330f1</td>\n",
              "      <td>MG</td>\n",
              "      <td>2018-08-13</td>\n",
              "      <td>2018-08-13</td>\n",
              "      <td>1</td>\n",
              "      <td>39.68</td>\n",
              "      <td>39.680000</td>\n",
              "      <td>1334.585471</td>\n",
              "      <td>16</td>\n",
              "      <td>...</td>\n",
              "      <td>organic_search</td>\n",
              "      <td>a7982125ff7aa3b2054c6e44f9d28522</td>\n",
              "      <td>2018-05-31</td>\n",
              "      <td>2018-06-20</td>\n",
              "      <td>20</td>\n",
              "      <td>reseller</td>\n",
              "      <td>online_medium</td>\n",
              "      <td>computers</td>\n",
              "      <td>4b339f9567d060bcea4f5136b9f5949e</td>\n",
              "      <td>4ef15afb4b2723d8f3d81e51ec7afefe</td>\n",
              "    </tr>\n",
              "    <tr>\n",
              "      <th>...</th>\n",
              "      <td>...</td>\n",
              "      <td>...</td>\n",
              "      <td>...</td>\n",
              "      <td>...</td>\n",
              "      <td>...</td>\n",
              "      <td>...</td>\n",
              "      <td>...</td>\n",
              "      <td>...</td>\n",
              "      <td>...</td>\n",
              "      <td>...</td>\n",
              "      <td>...</td>\n",
              "      <td>...</td>\n",
              "      <td>...</td>\n",
              "      <td>...</td>\n",
              "      <td>...</td>\n",
              "      <td>...</td>\n",
              "      <td>...</td>\n",
              "      <td>...</td>\n",
              "      <td>...</td>\n",
              "      <td>...</td>\n",
              "      <td>...</td>\n",
              "    </tr>\n",
              "    <tr>\n",
              "      <th>374</th>\n",
              "      <td>374</td>\n",
              "      <td>88cd3681e0a2ba85e190f7d817629c4c</td>\n",
              "      <td>SC</td>\n",
              "      <td>2018-08-15</td>\n",
              "      <td>2018-08-15</td>\n",
              "      <td>1</td>\n",
              "      <td>160.64</td>\n",
              "      <td>160.640000</td>\n",
              "      <td>570.534070</td>\n",
              "      <td>13</td>\n",
              "      <td>...</td>\n",
              "      <td>paid_search</td>\n",
              "      <td>b48ec5f3b04e9068441002a19df93c6c</td>\n",
              "      <td>2017-11-14</td>\n",
              "      <td>2018-07-09</td>\n",
              "      <td>237</td>\n",
              "      <td>reseller</td>\n",
              "      <td>online_big</td>\n",
              "      <td>car_accessories</td>\n",
              "      <td>b90f87164b5f8c2cfa5c8572834dbe3f</td>\n",
              "      <td>2695de1affa7750089c0455f8ce27021</td>\n",
              "    </tr>\n",
              "    <tr>\n",
              "      <th>375</th>\n",
              "      <td>375</td>\n",
              "      <td>e116c7455dd26a4d8c3e92532583905f</td>\n",
              "      <td>SP</td>\n",
              "      <td>2018-04-05</td>\n",
              "      <td>2018-04-05</td>\n",
              "      <td>1</td>\n",
              "      <td>21.98</td>\n",
              "      <td>21.980000</td>\n",
              "      <td>6.359304</td>\n",
              "      <td>146</td>\n",
              "      <td>...</td>\n",
              "      <td>unknown</td>\n",
              "      <td>b76ef37428e6799c421989521c0e5077</td>\n",
              "      <td>2018-01-12</td>\n",
              "      <td>2018-01-22</td>\n",
              "      <td>10</td>\n",
              "      <td>reseller</td>\n",
              "      <td>online_big</td>\n",
              "      <td>health_beauty</td>\n",
              "      <td>4b339f9567d060bcea4f5136b9f5949e</td>\n",
              "      <td>9ae085775a198122c5586fa830ff7f2b</td>\n",
              "    </tr>\n",
              "    <tr>\n",
              "      <th>376</th>\n",
              "      <td>376</td>\n",
              "      <td>8fb67a334bacec338885b4e9e1708073</td>\n",
              "      <td>PR</td>\n",
              "      <td>2018-07-15</td>\n",
              "      <td>2018-07-15</td>\n",
              "      <td>1</td>\n",
              "      <td>21.38</td>\n",
              "      <td>21.380000</td>\n",
              "      <td>730.266597</td>\n",
              "      <td>45</td>\n",
              "      <td>...</td>\n",
              "      <td>paid_search</td>\n",
              "      <td>40dec9f3d5259a3d2dbcdab2114fae47</td>\n",
              "      <td>2018-04-24</td>\n",
              "      <td>2018-04-27</td>\n",
              "      <td>3</td>\n",
              "      <td>manufacturer</td>\n",
              "      <td>online_medium</td>\n",
              "      <td>home_decor</td>\n",
              "      <td>9d12ef1a7eca3ec58c545c678af7869c</td>\n",
              "      <td>fbf4aef3f6915dc0c3c97d6812522f6a</td>\n",
              "    </tr>\n",
              "    <tr>\n",
              "      <th>377</th>\n",
              "      <td>377</td>\n",
              "      <td>0cab2da43793a6f3c5ed8514c5f54627</td>\n",
              "      <td>PR</td>\n",
              "      <td>2018-05-11</td>\n",
              "      <td>2018-07-28</td>\n",
              "      <td>78</td>\n",
              "      <td>252.50</td>\n",
              "      <td>3.237179</td>\n",
              "      <td>540.532197</td>\n",
              "      <td>110</td>\n",
              "      <td>...</td>\n",
              "      <td>NaN</td>\n",
              "      <td>6b6c0934205e87702519d1cce24055f9</td>\n",
              "      <td>2018-03-12</td>\n",
              "      <td>2018-04-05</td>\n",
              "      <td>24</td>\n",
              "      <td>reseller</td>\n",
              "      <td>offline</td>\n",
              "      <td>bags_backpacks</td>\n",
              "      <td>4b339f9567d060bcea4f5136b9f5949e</td>\n",
              "      <td>56bf83c4bb35763a51c2baab501b4c67</td>\n",
              "    </tr>\n",
              "    <tr>\n",
              "      <th>378</th>\n",
              "      <td>378</td>\n",
              "      <td>05a48cc8859962767935ab9087417fbb</td>\n",
              "      <td>SP</td>\n",
              "      <td>2018-08-02</td>\n",
              "      <td>2018-08-02</td>\n",
              "      <td>1</td>\n",
              "      <td>26.41</td>\n",
              "      <td>26.410000</td>\n",
              "      <td>387.947464</td>\n",
              "      <td>27</td>\n",
              "      <td>...</td>\n",
              "      <td>unknown</td>\n",
              "      <td>8ff57dffc365fcb5233232fff6e6bfd0</td>\n",
              "      <td>2018-05-21</td>\n",
              "      <td>2018-05-30</td>\n",
              "      <td>9</td>\n",
              "      <td>reseller</td>\n",
              "      <td>online_beginner</td>\n",
              "      <td>fashion_accessories</td>\n",
              "      <td>f42a2bd194f7802ab052a815c8de65b7</td>\n",
              "      <td>56bf83c4bb35763a51c2baab501b4c67</td>\n",
              "    </tr>\n",
              "  </tbody>\n",
              "</table>\n",
              "<p>379 rows × 21 columns</p>\n",
              "</div>\n",
              "      <button class=\"colab-df-convert\" onclick=\"convertToInteractive('df-2ebb0f86-0a47-485b-87db-b960d1903a48')\"\n",
              "              title=\"Convert this dataframe to an interactive table.\"\n",
              "              style=\"display:none;\">\n",
              "        \n",
              "  <svg xmlns=\"http://www.w3.org/2000/svg\" height=\"24px\"viewBox=\"0 0 24 24\"\n",
              "       width=\"24px\">\n",
              "    <path d=\"M0 0h24v24H0V0z\" fill=\"none\"/>\n",
              "    <path d=\"M18.56 5.44l.94 2.06.94-2.06 2.06-.94-2.06-.94-.94-2.06-.94 2.06-2.06.94zm-11 1L8.5 8.5l.94-2.06 2.06-.94-2.06-.94L8.5 2.5l-.94 2.06-2.06.94zm10 10l.94 2.06.94-2.06 2.06-.94-2.06-.94-.94-2.06-.94 2.06-2.06.94z\"/><path d=\"M17.41 7.96l-1.37-1.37c-.4-.4-.92-.59-1.43-.59-.52 0-1.04.2-1.43.59L10.3 9.45l-7.72 7.72c-.78.78-.78 2.05 0 2.83L4 21.41c.39.39.9.59 1.41.59.51 0 1.02-.2 1.41-.59l7.78-7.78 2.81-2.81c.8-.78.8-2.07 0-2.86zM5.41 20L4 18.59l7.72-7.72 1.47 1.35L5.41 20z\"/>\n",
              "  </svg>\n",
              "      </button>\n",
              "      \n",
              "  <style>\n",
              "    .colab-df-container {\n",
              "      display:flex;\n",
              "      flex-wrap:wrap;\n",
              "      gap: 12px;\n",
              "    }\n",
              "\n",
              "    .colab-df-convert {\n",
              "      background-color: #E8F0FE;\n",
              "      border: none;\n",
              "      border-radius: 50%;\n",
              "      cursor: pointer;\n",
              "      display: none;\n",
              "      fill: #1967D2;\n",
              "      height: 32px;\n",
              "      padding: 0 0 0 0;\n",
              "      width: 32px;\n",
              "    }\n",
              "\n",
              "    .colab-df-convert:hover {\n",
              "      background-color: #E2EBFA;\n",
              "      box-shadow: 0px 1px 2px rgba(60, 64, 67, 0.3), 0px 1px 3px 1px rgba(60, 64, 67, 0.15);\n",
              "      fill: #174EA6;\n",
              "    }\n",
              "\n",
              "    [theme=dark] .colab-df-convert {\n",
              "      background-color: #3B4455;\n",
              "      fill: #D2E3FC;\n",
              "    }\n",
              "\n",
              "    [theme=dark] .colab-df-convert:hover {\n",
              "      background-color: #434B5C;\n",
              "      box-shadow: 0px 1px 3px 1px rgba(0, 0, 0, 0.15);\n",
              "      filter: drop-shadow(0px 1px 2px rgba(0, 0, 0, 0.3));\n",
              "      fill: #FFFFFF;\n",
              "    }\n",
              "  </style>\n",
              "\n",
              "      <script>\n",
              "        const buttonEl =\n",
              "          document.querySelector('#df-2ebb0f86-0a47-485b-87db-b960d1903a48 button.colab-df-convert');\n",
              "        buttonEl.style.display =\n",
              "          google.colab.kernel.accessAllowed ? 'block' : 'none';\n",
              "\n",
              "        async function convertToInteractive(key) {\n",
              "          const element = document.querySelector('#df-2ebb0f86-0a47-485b-87db-b960d1903a48');\n",
              "          const dataTable =\n",
              "            await google.colab.kernel.invokeFunction('convertToInteractive',\n",
              "                                                     [key], {});\n",
              "          if (!dataTable) return;\n",
              "\n",
              "          const docLinkHtml = 'Like what you see? Visit the ' +\n",
              "            '<a target=\"_blank\" href=https://colab.research.google.com/notebooks/data_table.ipynb>data table notebook</a>'\n",
              "            + ' to learn more about interactive tables.';\n",
              "          element.innerHTML = '';\n",
              "          dataTable['output_type'] = 'display_data';\n",
              "          await google.colab.output.renderOutput(dataTable, element);\n",
              "          const docLink = document.createElement('div');\n",
              "          docLink.innerHTML = docLinkHtml;\n",
              "          element.appendChild(docLink);\n",
              "        }\n",
              "      </script>\n",
              "    </div>\n",
              "  </div>\n",
              "  "
            ]
          },
          "metadata": {},
          "execution_count": 32
        }
      ]
    },
    {
      "cell_type": "code",
      "source": [
        "df_seller.rename(columns = {'mean_profit':'mean_revenue'}, inplace = True)"
      ],
      "metadata": {
        "id": "DQlUUd9OKFWJ"
      },
      "execution_count": 33,
      "outputs": []
    },
    {
      "cell_type": "code",
      "source": [
        "# 셀러 아이디와 수익성만 추출\n",
        "df_for_whale = df_seller[['seller_id', 'mean_revenue']]"
      ],
      "metadata": {
        "id": "9mjxMN2FpEcL"
      },
      "execution_count": 34,
      "outputs": []
    },
    {
      "cell_type": "code",
      "source": [
        "# 수익성 순으로 정렬\n",
        "df_for_whale = df_for_whale.sort_values('mean_revenue')"
      ],
      "metadata": {
        "id": "yoz32_vGpNqQ"
      },
      "execution_count": 35,
      "outputs": []
    },
    {
      "cell_type": "code",
      "source": [
        "df_for_whale.head(10)"
      ],
      "metadata": {
        "id": "uvN65ZvppoV9",
        "outputId": "c1fe4c59-3702-4a54-d5f1-6bf100f886f3",
        "colab": {
          "base_uri": "https://localhost:8080/",
          "height": 363
        }
      },
      "execution_count": 36,
      "outputs": [
        {
          "output_type": "execute_result",
          "data": {
            "text/plain": [
              "                            seller_id  mean_revenue\n",
              "272  56e361f411e38dcef17cdc2a3d99628b    -10.975686\n",
              "192  9d213f303afae4983637247556438ede     -2.117500\n",
              "336  bb7ad8a45c027be8ab075b8e465f8ca0     -2.110000\n",
              "351  455befea1bb853c75ccbca94cff26e5c     -2.070000\n",
              "308  5a4236931428800e9d9cc04af0987118     -0.720000\n",
              "314  9b1f656ca3060f8af17a50d8a024b533     -0.222667\n",
              "234  33d677f27a69b84051204ee4ae76eaca     -0.069024\n",
              "284  539ed9e19811677513447759be5eccfc      0.024507\n",
              "172  d8d9567d0bfb0bc7eb845a205ba42657      0.101293\n",
              "309  2fa13c8bd5705d279f7ed5cc9ec61c68      0.318293"
            ],
            "text/html": [
              "\n",
              "  <div id=\"df-42333378-88ec-4137-a931-dc4156b82786\">\n",
              "    <div class=\"colab-df-container\">\n",
              "      <div>\n",
              "<style scoped>\n",
              "    .dataframe tbody tr th:only-of-type {\n",
              "        vertical-align: middle;\n",
              "    }\n",
              "\n",
              "    .dataframe tbody tr th {\n",
              "        vertical-align: top;\n",
              "    }\n",
              "\n",
              "    .dataframe thead th {\n",
              "        text-align: right;\n",
              "    }\n",
              "</style>\n",
              "<table border=\"1\" class=\"dataframe\">\n",
              "  <thead>\n",
              "    <tr style=\"text-align: right;\">\n",
              "      <th></th>\n",
              "      <th>seller_id</th>\n",
              "      <th>mean_revenue</th>\n",
              "    </tr>\n",
              "  </thead>\n",
              "  <tbody>\n",
              "    <tr>\n",
              "      <th>272</th>\n",
              "      <td>56e361f411e38dcef17cdc2a3d99628b</td>\n",
              "      <td>-10.975686</td>\n",
              "    </tr>\n",
              "    <tr>\n",
              "      <th>192</th>\n",
              "      <td>9d213f303afae4983637247556438ede</td>\n",
              "      <td>-2.117500</td>\n",
              "    </tr>\n",
              "    <tr>\n",
              "      <th>336</th>\n",
              "      <td>bb7ad8a45c027be8ab075b8e465f8ca0</td>\n",
              "      <td>-2.110000</td>\n",
              "    </tr>\n",
              "    <tr>\n",
              "      <th>351</th>\n",
              "      <td>455befea1bb853c75ccbca94cff26e5c</td>\n",
              "      <td>-2.070000</td>\n",
              "    </tr>\n",
              "    <tr>\n",
              "      <th>308</th>\n",
              "      <td>5a4236931428800e9d9cc04af0987118</td>\n",
              "      <td>-0.720000</td>\n",
              "    </tr>\n",
              "    <tr>\n",
              "      <th>314</th>\n",
              "      <td>9b1f656ca3060f8af17a50d8a024b533</td>\n",
              "      <td>-0.222667</td>\n",
              "    </tr>\n",
              "    <tr>\n",
              "      <th>234</th>\n",
              "      <td>33d677f27a69b84051204ee4ae76eaca</td>\n",
              "      <td>-0.069024</td>\n",
              "    </tr>\n",
              "    <tr>\n",
              "      <th>284</th>\n",
              "      <td>539ed9e19811677513447759be5eccfc</td>\n",
              "      <td>0.024507</td>\n",
              "    </tr>\n",
              "    <tr>\n",
              "      <th>172</th>\n",
              "      <td>d8d9567d0bfb0bc7eb845a205ba42657</td>\n",
              "      <td>0.101293</td>\n",
              "    </tr>\n",
              "    <tr>\n",
              "      <th>309</th>\n",
              "      <td>2fa13c8bd5705d279f7ed5cc9ec61c68</td>\n",
              "      <td>0.318293</td>\n",
              "    </tr>\n",
              "  </tbody>\n",
              "</table>\n",
              "</div>\n",
              "      <button class=\"colab-df-convert\" onclick=\"convertToInteractive('df-42333378-88ec-4137-a931-dc4156b82786')\"\n",
              "              title=\"Convert this dataframe to an interactive table.\"\n",
              "              style=\"display:none;\">\n",
              "        \n",
              "  <svg xmlns=\"http://www.w3.org/2000/svg\" height=\"24px\"viewBox=\"0 0 24 24\"\n",
              "       width=\"24px\">\n",
              "    <path d=\"M0 0h24v24H0V0z\" fill=\"none\"/>\n",
              "    <path d=\"M18.56 5.44l.94 2.06.94-2.06 2.06-.94-2.06-.94-.94-2.06-.94 2.06-2.06.94zm-11 1L8.5 8.5l.94-2.06 2.06-.94-2.06-.94L8.5 2.5l-.94 2.06-2.06.94zm10 10l.94 2.06.94-2.06 2.06-.94-2.06-.94-.94-2.06-.94 2.06-2.06.94z\"/><path d=\"M17.41 7.96l-1.37-1.37c-.4-.4-.92-.59-1.43-.59-.52 0-1.04.2-1.43.59L10.3 9.45l-7.72 7.72c-.78.78-.78 2.05 0 2.83L4 21.41c.39.39.9.59 1.41.59.51 0 1.02-.2 1.41-.59l7.78-7.78 2.81-2.81c.8-.78.8-2.07 0-2.86zM5.41 20L4 18.59l7.72-7.72 1.47 1.35L5.41 20z\"/>\n",
              "  </svg>\n",
              "      </button>\n",
              "      \n",
              "  <style>\n",
              "    .colab-df-container {\n",
              "      display:flex;\n",
              "      flex-wrap:wrap;\n",
              "      gap: 12px;\n",
              "    }\n",
              "\n",
              "    .colab-df-convert {\n",
              "      background-color: #E8F0FE;\n",
              "      border: none;\n",
              "      border-radius: 50%;\n",
              "      cursor: pointer;\n",
              "      display: none;\n",
              "      fill: #1967D2;\n",
              "      height: 32px;\n",
              "      padding: 0 0 0 0;\n",
              "      width: 32px;\n",
              "    }\n",
              "\n",
              "    .colab-df-convert:hover {\n",
              "      background-color: #E2EBFA;\n",
              "      box-shadow: 0px 1px 2px rgba(60, 64, 67, 0.3), 0px 1px 3px 1px rgba(60, 64, 67, 0.15);\n",
              "      fill: #174EA6;\n",
              "    }\n",
              "\n",
              "    [theme=dark] .colab-df-convert {\n",
              "      background-color: #3B4455;\n",
              "      fill: #D2E3FC;\n",
              "    }\n",
              "\n",
              "    [theme=dark] .colab-df-convert:hover {\n",
              "      background-color: #434B5C;\n",
              "      box-shadow: 0px 1px 3px 1px rgba(0, 0, 0, 0.15);\n",
              "      filter: drop-shadow(0px 1px 2px rgba(0, 0, 0, 0.3));\n",
              "      fill: #FFFFFF;\n",
              "    }\n",
              "  </style>\n",
              "\n",
              "      <script>\n",
              "        const buttonEl =\n",
              "          document.querySelector('#df-42333378-88ec-4137-a931-dc4156b82786 button.colab-df-convert');\n",
              "        buttonEl.style.display =\n",
              "          google.colab.kernel.accessAllowed ? 'block' : 'none';\n",
              "\n",
              "        async function convertToInteractive(key) {\n",
              "          const element = document.querySelector('#df-42333378-88ec-4137-a931-dc4156b82786');\n",
              "          const dataTable =\n",
              "            await google.colab.kernel.invokeFunction('convertToInteractive',\n",
              "                                                     [key], {});\n",
              "          if (!dataTable) return;\n",
              "\n",
              "          const docLinkHtml = 'Like what you see? Visit the ' +\n",
              "            '<a target=\"_blank\" href=https://colab.research.google.com/notebooks/data_table.ipynb>data table notebook</a>'\n",
              "            + ' to learn more about interactive tables.';\n",
              "          element.innerHTML = '';\n",
              "          dataTable['output_type'] = 'display_data';\n",
              "          await google.colab.output.renderOutput(dataTable, element);\n",
              "          const docLink = document.createElement('div');\n",
              "          docLink.innerHTML = docLinkHtml;\n",
              "          element.appendChild(docLink);\n",
              "        }\n",
              "      </script>\n",
              "    </div>\n",
              "  </div>\n",
              "  "
            ]
          },
          "metadata": {},
          "execution_count": 36
        }
      ]
    },
    {
      "cell_type": "markdown",
      "source": [
        "- 마이너스 수익을 가져온 셀러들은 어떻게 처리할까?\n",
        "- 진입한지 얼마 안 된 판매자일 수 있다. 혹은 다른 요인들로 인해 적자를 보면서 판매를 진행하는 중일 수 있으니, 의미있는 데이터이기 때문에 가져가도록 하였다."
      ],
      "metadata": {
        "id": "tYGOHolTpxYP"
      }
    },
    {
      "cell_type": "code",
      "source": [
        "# # 한글 깨짐 방지\n",
        "# # 아래 코드 실행 후 런타임 재시작 및 코드 실행 해주어야함\n",
        "# !sudo apt-get install -y fonts-nanum\n",
        "# !sudo fc-cache -fv\n",
        "# !rm ~/.cache/matplotlib -rf"
      ],
      "metadata": {
        "id": "ESoAepYxsIdA"
      },
      "execution_count": 37,
      "outputs": []
    },
    {
      "cell_type": "code",
      "source": [
        "import matplotlib.pyplot as plt\n",
        "\n",
        "plt.rc('font', family='NanumBarunGothic')"
      ],
      "metadata": {
        "id": "Wva1a0jMsuni"
      },
      "execution_count": 38,
      "outputs": []
    },
    {
      "cell_type": "code",
      "source": [
        "x_label = list(df_for_whale['seller_id'])\n",
        "y_label = list(df_for_whale['mean_revenue'])\n",
        "\n",
        "plt.plot(x_label, y_label,\n",
        "         color='skyblue')\n",
        "\n",
        "plt.title('수익성에 따른 고객들 분포')\n",
        "plt.ylabel('Revenue')\n",
        "plt.show()\n",
        "plt.close()"
      ],
      "metadata": {
        "id": "jla6JFnPoWCY",
        "outputId": "e1ad73c1-9687-4508-bf7d-b5706003e3ea",
        "colab": {
          "base_uri": "https://localhost:8080/",
          "height": 280
        }
      },
      "execution_count": 39,
      "outputs": [
        {
          "output_type": "display_data",
          "data": {
            "text/plain": [
              "<Figure size 432x288 with 1 Axes>"
            ],
            "image/png": "[encoded data removed]"
          },
          "metadata": {
            "needs_background": "light"
          }
        }
      ]
    },
    {
      "cell_type": "markdown",
      "source": [
        "- 판매자 별 수익성에 따라서 그래프를 그려보았다. 한 쪽으로 많이 치우쳐있는걸 볼 수 있으며, 먼저 고객들의 분포를 Boxplot으로 나타내보았다."
      ],
      "metadata": {
        "id": "yiRIEY_Gs1dw"
      }
    },
    {
      "cell_type": "code",
      "source": [
        "# 수익성(sum_revenue)으로 10% 구간 구하기\n",
        "# pd.cut()은 동일한 길이로 나누는 것이고, pd.qcut()은 동일한 갯수로 나누는 것.\n",
        "\n",
        "# 최소 수익성 판매자\n",
        "min_revenue = df_for_whale['mean_revenue'].min()\n",
        "max_revenue = df_for_whale['mean_revenue'].max()"
      ],
      "metadata": {
        "id": "fTl6z1ihqmeQ"
      },
      "execution_count": 40,
      "outputs": []
    },
    {
      "cell_type": "code",
      "source": [
        "min_revenue"
      ],
      "metadata": {
        "id": "BN3YMmvXu2-B",
        "outputId": "e6271e35-89da-45e7-a76f-c767c9ed9767",
        "colab": {
          "base_uri": "https://localhost:8080/"
        }
      },
      "execution_count": 41,
      "outputs": [
        {
          "output_type": "execute_result",
          "data": {
            "text/plain": [
              "-10.975686274509808"
            ]
          },
          "metadata": {},
          "execution_count": 41
        }
      ]
    },
    {
      "cell_type": "code",
      "source": [
        "max_revenue"
      ],
      "metadata": {
        "id": "pmNrjDj1u5Ah",
        "outputId": "368b5ba4-a175-453c-9360-17e21e3d497a",
        "colab": {
          "base_uri": "https://localhost:8080/"
        }
      },
      "execution_count": 42,
      "outputs": [
        {
          "output_type": "execute_result",
          "data": {
            "text/plain": [
              "2679.26"
            ]
          },
          "metadata": {},
          "execution_count": 42
        }
      ]
    },
    {
      "cell_type": "code",
      "source": [
        "# 10개 구간으로 나누고, 라벨을 붙여주기. 구간나누는 건 pandas cut 활용\n",
        "# 예) 하위 10%까지는 라벨이 '0', 상위 10%는 라벨이 '9'\n",
        "df_for_whale['ratio_revenue'] = pd.cut(df_for_whale['mean_revenue'], 10, \n",
        "                                       labels=['0', '1', '2', '3', '4', '5', '6', '7', '8', '9'])"
      ],
      "metadata": {
        "id": "jl8VQeH7u6C5"
      },
      "execution_count": 43,
      "outputs": []
    },
    {
      "cell_type": "code",
      "source": [
        "df_for_whale.groupby('ratio_revenue')['ratio_revenue'].count()"
      ],
      "metadata": {
        "id": "I90VKwy-wvje",
        "outputId": "95c08d1d-c19f-440b-ee57-dc64452d598b",
        "colab": {
          "base_uri": "https://localhost:8080/"
        }
      },
      "execution_count": 44,
      "outputs": [
        {
          "output_type": "execute_result",
          "data": {
            "text/plain": [
              "ratio_revenue\n",
              "0    356\n",
              "1     12\n",
              "2      4\n",
              "3      2\n",
              "4      2\n",
              "5      1\n",
              "6      0\n",
              "7      1\n",
              "8      0\n",
              "9      1\n",
              "Name: ratio_revenue, dtype: int64"
            ]
          },
          "metadata": {},
          "execution_count": 44
        }
      ]
    },
    {
      "cell_type": "markdown",
      "source": [
        "- 구간을 총 10개로 나누고 각 구간별 판매자 수의 분포를 살펴보았다. 분포는 skew 되어있는 것을 볼 수 있었기에 Box plot그려보고 이상값을 확인해보았다."
      ],
      "metadata": {
        "id": "JRvxrHK3yCLk"
      }
    },
    {
      "cell_type": "code",
      "source": [
        "# box plot\n",
        "plt.boxplot(df_for_whale['mean_revenue'])\n",
        "plt.show()"
      ],
      "metadata": {
        "id": "yZj_LhRPwwln",
        "outputId": "cfafc649-fd69-482b-aac0-c1bf40283865",
        "colab": {
          "base_uri": "https://localhost:8080/",
          "height": 265
        }
      },
      "execution_count": 45,
      "outputs": [
        {
          "output_type": "display_data",
          "data": {
            "text/plain": [
              "<Figure size 432x288 with 1 Axes>"
            ],
            "image/png": "[encoded data removed]"
          },
          "metadata": {
            "needs_background": "light"
          }
        }
      ]
    },
    {
      "cell_type": "markdown",
      "source": [
        "- 박스가 제대로 그려지지도 않으며, 큰 이상값들이 존재하였다. 가장 큰 이상값 하나만 지우고 나서 분포를 다시 살펴보았다."
      ],
      "metadata": {
        "id": "8kuZegAeO39d"
      }
    },
    {
      "cell_type": "code",
      "source": [
        "# 가장 큰 이상값 제거 하고 다시 그려보자\n",
        "######## 여기서는 이상값이지만, 실제 큰 판매수익을 거둔 판매자이기에, 고래곡선 이외에서는 함부로 제외하면 안될 것 ########\n",
        "df_for_whale_renew = df_for_whale[df_for_whale.mean_revenue != max_revenue]"
      ],
      "metadata": {
        "id": "SV7WLNbPykno"
      },
      "execution_count": 47,
      "outputs": []
    },
    {
      "cell_type": "code",
      "source": [
        "plt.boxplot(df_for_whale_renew['mean_revenue'])\n",
        "plt.show()"
      ],
      "metadata": {
        "id": "AVV2ToagzE1n",
        "outputId": "a18131ad-1c00-44ca-cdca-1e7f43c8bafd",
        "colab": {
          "base_uri": "https://localhost:8080/",
          "height": 265
        }
      },
      "execution_count": 49,
      "outputs": [
        {
          "output_type": "display_data",
          "data": {
            "text/plain": [
              "<Figure size 432x288 with 1 Axes>"
            ],
            "image/png": "[encoded data removed]"
          },
          "metadata": {
            "needs_background": "light"
          }
        }
      ]
    },
    {
      "cell_type": "markdown",
      "source": [
        "- 아직 큰 이상값이 있다고 판단되지만, 일단 구간을 나눠보자"
      ],
      "metadata": {
        "id": "RqV8tnFYzL52"
      }
    },
    {
      "cell_type": "code",
      "source": [
        "# 10개 구간으로 나누고, 라벨을 붙여주기\n",
        "# 예) 하위 10%까지는 라벨이 '0', 상위 10%는 라벨이 '9'\n",
        "df_for_whale_renew['ratio_revenue'] = pd.cut(df_for_whale_renew['mean_revenue'], 10, \n",
        "                                       labels=['0', '1', '2', '3', '4', '5', '6', '7', '8', '9'])\n",
        "\n",
        "# 분포 수\n",
        "df_for_whale_renew.groupby('ratio_revenue')['ratio_revenue'].count()"
      ],
      "metadata": {
        "id": "egByO7i_zG7_",
        "outputId": "37d028e5-efe1-4d45-a086-0a941fc3122f",
        "colab": {
          "base_uri": "https://localhost:8080/"
        }
      },
      "execution_count": 50,
      "outputs": [
        {
          "output_type": "stream",
          "name": "stderr",
          "text": [
            "/usr/local/lib/python3.7/dist-packages/ipykernel_launcher.py:4: SettingWithCopyWarning: \n",
            "A value is trying to be set on a copy of a slice from a DataFrame.\n",
            "Try using .loc[row_indexer,col_indexer] = value instead\n",
            "\n",
            "See the caveats in the documentation: https://pandas.pydata.org/pandas-docs/stable/user_guide/indexing.html#returning-a-view-versus-a-copy\n",
            "  after removing the cwd from sys.path.\n"
          ]
        },
        {
          "output_type": "execute_result",
          "data": {
            "text/plain": [
              "ratio_revenue\n",
              "0    350\n",
              "1     14\n",
              "2      5\n",
              "3      3\n",
              "4      2\n",
              "5      1\n",
              "6      2\n",
              "7      0\n",
              "8      0\n",
              "9      1\n",
              "Name: ratio_revenue, dtype: int64"
            ]
          },
          "metadata": {},
          "execution_count": 50
        }
      ]
    },
    {
      "cell_type": "markdown",
      "source": [
        "- 제일 큰 이상값 하나만 제거했지만, 아직 많은 이상값들이 들어있는 것을 볼 수 있다.\n",
        "- 이상치 제거하는 방식 중 IQR 활용해서 진행한 뒤 확인해보자\n",
        "- IQR 참고 링크\n",
        " - https://fhaktj8-18.tistory.com/entry/%ED%8C%90%EB%8B%A4%EC%8A%A4-pandas-IQR-%ED%99%9C%EC%9A%A9%ED%95%B4%EC%84%9C-%EC%9D%B4%EC%83%81%EC%A0%90outlier-%EC%B0%BE%EA%B3%A0-%EC%82%AD%EC%A0%9C%ED%95%98%EA%B8%B0\n",
        " - https://jimmy-ai.tistory.com/260"
      ],
      "metadata": {
        "id": "L1mNEEnpz6Bk"
      }
    },
    {
      "cell_type": "code",
      "source": [
        "# 먼저 사분위수 구하기위해서 describe()로 확인\n",
        "df_for_whale_renew['mean_revenue'].describe()"
      ],
      "metadata": {
        "id": "WUGz-wvrzaAY",
        "outputId": "a114abad-bc5e-4271-8562-15ce95c2bae3",
        "colab": {
          "base_uri": "https://localhost:8080/"
        }
      },
      "execution_count": 51,
      "outputs": [
        {
          "output_type": "execute_result",
          "data": {
            "text/plain": [
              "count     378.000000\n",
              "mean       66.241099\n",
              "std       188.739257\n",
              "min       -10.975686\n",
              "25%         4.509699\n",
              "50%        11.688574\n",
              "75%        41.372504\n",
              "max      2024.650000\n",
              "Name: mean_revenue, dtype: float64"
            ]
          },
          "metadata": {},
          "execution_count": 51
        }
      ]
    },
    {
      "cell_type": "code",
      "source": [
        "# Q1 - 1.5*IQR = 최소값\n",
        "# Q3 + 1.5*IQR = 최대값\n",
        "\n",
        "# 위 공식을 바탕으로 IQR 구하기(이상점)\n",
        "## IQR은 InterQuartile Range의 줄임말. Q1과 Q3 사이 값. 박스 플롯 기본 수치\n",
        "Q1 = df_for_whale_renew['mean_revenue'].quantile(0.25)\n",
        "Q2 = df_for_whale_renew['mean_revenue'].quantile(0.5)\n",
        "Q3 = df_for_whale_renew['mean_revenue'].quantile(0.75)\n",
        "IQR = Q3 - Q1\n",
        "print(IQR)"
      ],
      "metadata": {
        "id": "B9wF8dV2zg_Y",
        "outputId": "c4497259-233a-4d22-ccfb-558ce5962b0e",
        "colab": {
          "base_uri": "https://localhost:8080/"
        }
      },
      "execution_count": 52,
      "outputs": [
        {
          "output_type": "stream",
          "name": "stdout",
          "text": [
            "36.862804794926504\n"
          ]
        }
      ]
    },
    {
      "cell_type": "code",
      "source": [
        "# 필터 설정\n",
        "## IQR 기준으로 공식값에 대입해서 이상값 제거\n",
        "condition = df_for_whale_renew['mean_revenue'] < (Q3 + 1.5*IQR)\n",
        "df_for_whale_renew = df_for_whale_renew[condition]"
      ],
      "metadata": {
        "id": "-AAOX6Sl10P4"
      },
      "execution_count": 53,
      "outputs": []
    },
    {
      "cell_type": "code",
      "source": [
        "# 이제 다시 Box plot\n",
        "plt.boxplot(df_for_whale_renew['mean_revenue'])\n",
        "plt.show()"
      ],
      "metadata": {
        "id": "cblEV5St2NaI",
        "outputId": "146688ef-3fe7-430e-b11e-a7b12631eca5",
        "colab": {
          "base_uri": "https://localhost:8080/",
          "height": 267
        }
      },
      "execution_count": 54,
      "outputs": [
        {
          "output_type": "display_data",
          "data": {
            "text/plain": [
              "<Figure size 432x288 with 1 Axes>"
            ],
            "image/png": "[encoded data removed]"
          },
          "metadata": {
            "needs_background": "light"
          }
        }
      ]
    },
    {
      "cell_type": "markdown",
      "source": [
        "- 먼저 Box plot의 형태가 그려지는 것을 볼 수 있다. 하지만 분포가 한쪽으로 많이 skew 되어있기 때문에 고래곡선을 통해서 판매자 분포를 확인해 볼 필요가 있어보인다."
      ],
      "metadata": {
        "id": "jYxytGPf3A2X"
      }
    },
    {
      "cell_type": "code",
      "source": [
        "# 다시 구간 확인\n",
        "# 10개 구간으로 나누고, 라벨을 붙여주기\n",
        "# 예) 하위 10%까지는 라벨이 '0', 상위 10%는 라벨이 '9'\n",
        "df_for_whale_renew['ratio_revenue'] = pd.cut(df_for_whale_renew['mean_revenue'], 10, \n",
        "                                       labels=['0', '1', '2', '3', '4', '5', '6', '7', '8', '9'])\n",
        "\n",
        "# 분포 수\n",
        "df_for_whale_renew.groupby('ratio_revenue')['ratio_revenue'].count()"
      ],
      "metadata": {
        "id": "Lb9qjeFP2WnQ",
        "outputId": "18ec3c8a-1257-41a4-deaa-4f63287d2eae",
        "colab": {
          "base_uri": "https://localhost:8080/"
        }
      },
      "execution_count": 55,
      "outputs": [
        {
          "output_type": "stream",
          "name": "stderr",
          "text": [
            "/usr/local/lib/python3.7/dist-packages/ipykernel_launcher.py:5: SettingWithCopyWarning: \n",
            "A value is trying to be set on a copy of a slice from a DataFrame.\n",
            "Try using .loc[row_indexer,col_indexer] = value instead\n",
            "\n",
            "See the caveats in the documentation: https://pandas.pydata.org/pandas-docs/stable/user_guide/indexing.html#returning-a-view-versus-a-copy\n",
            "  \"\"\"\n"
          ]
        },
        {
          "output_type": "execute_result",
          "data": {
            "text/plain": [
              "ratio_revenue\n",
              "0      5\n",
              "1    171\n",
              "2     55\n",
              "3     36\n",
              "4     21\n",
              "5     14\n",
              "6      9\n",
              "7      5\n",
              "8      7\n",
              "9      4\n",
              "Name: ratio_revenue, dtype: int64"
            ]
          },
          "metadata": {},
          "execution_count": 55
        }
      ]
    },
    {
      "cell_type": "markdown",
      "source": [
        "- 해당 분포를 이용해서 고래곡선을 그려보자"
      ],
      "metadata": {
        "id": "1zFLWI8n3Ive"
      }
    },
    {
      "cell_type": "code",
      "source": [
        "# 각 '구간'별 판매자들의 인원 수를 count\n",
        "df_finally_whale = pd.DataFrame(df_for_whale_renew.groupby('ratio_revenue')['ratio_revenue'].count())"
      ],
      "metadata": {
        "id": "kaifFsTd2daf"
      },
      "execution_count": 56,
      "outputs": []
    },
    {
      "cell_type": "code",
      "source": [
        "# 컬럼 이름 바꿔주기.\n",
        "df_finally_whale.rename(columns = {'ratio_revenue':'num_of_ratio'}, inplace = True)\n",
        "# 인덱싱 새로해주기\n",
        "df_finally_whale.reset_index(drop = False, inplace = True)"
      ],
      "metadata": {
        "id": "cRFQ3LqS4G9v"
      },
      "execution_count": 57,
      "outputs": []
    },
    {
      "cell_type": "code",
      "source": [
        "x_label = list(df_finally_whale['ratio_revenue'])\n",
        "y_label = list(df_finally_whale['num_of_ratio'])\n",
        "\n",
        "plt.plot(x_label, y_label,\n",
        "         color='skyblue')\n",
        "\n",
        "plt.title('Whale Curve')\n",
        "plt.xlabel('판매수익 별 구간')\n",
        "plt.ylabel('판매자 수')\n",
        "plt.show()\n",
        "plt.close()"
      ],
      "metadata": {
        "id": "0eg4SC18550n",
        "outputId": "39e5f9b4-c533-4fb6-b9ca-fa5690268af9",
        "colab": {
          "base_uri": "https://localhost:8080/",
          "height": 294
        }
      },
      "execution_count": 58,
      "outputs": [
        {
          "output_type": "display_data",
          "data": {
            "text/plain": [
              "<Figure size 432x288 with 1 Axes>"
            ],
            "image/png": "[encoded data removed]"
          },
          "metadata": {
            "needs_background": "light"
          }
        }
      ]
    },
    {
      "cell_type": "markdown",
      "source": [
        "- 전혀 고래 모양이 아니다. 해당 현상을 보고 서비스의 수익구조, 판매자 유형 분포 구조가 이상적인 구조가 아니라고 판단할 수 있다. 이에 판매자들의 유형이 Whale Curve를 그릴 수 있는 개선방안이 필요할 것으로 예상된다."
      ],
      "metadata": {
        "id": "U1VKJ1Ph6QVl"
      }
    },
    {
      "cell_type": "code",
      "source": [
        ""
      ],
      "metadata": {
        "id": "P060sFuhHUBd"
      },
      "execution_count": 58,
      "outputs": []
    },
    {
      "cell_type": "code",
      "source": [
        ""
      ],
      "metadata": {
        "id": "bH4qAO_cPtGT"
      },
      "execution_count": 58,
      "outputs": []
    }
  ]
}