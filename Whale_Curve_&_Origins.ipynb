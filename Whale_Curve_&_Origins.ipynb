{
  "nbformat": 4,
  "nbformat_minor": 0,
  "metadata": {
    "colab": {
      "name": "Whale_Curve_&_Origins.ipynb",
      "provenance": [],
      "authorship_tag": "ABX9TyMjWiNjWhr/fXNRGetjltlF",
      "include_colab_link": true
    },
    "kernelspec": {
      "name": "python3",
      "display_name": "Python 3"
    },
    "language_info": {
      "name": "python"
    }
  },
  "cells": [
    {
      "cell_type": "markdown",
      "metadata": {
        "id": "view-in-github",
        "colab_type": "text"
      },
      "source": [
        "<a href=\"https://colab.research.google.com/github/cyss93/CP1_team8/blob/%EC%98%A4%EC%B0%BD%EC%98%81/Whale_Curve_%26_Origins.ipynb\" target=\"_parent\"><img src=\"https://colab.research.google.com/assets/colab-badge.svg\" alt=\"Open In Colab\"/></a>"
      ]
    },
    {
      "cell_type": "code",
      "execution_count": 29,
      "metadata": {
        "id": "ZlVEQIm9FDJz"
      },
      "outputs": [],
      "source": [
        "import pandas as pd\n",
        "import numpy as np\n",
        "import matplotlib.pyplot as plt\n",
        "from datetime import datetime\n",
        "import scipy.stats as stats"
      ]
    },
    {
      "cell_type": "code",
      "source": [
        "df_seller =  pd.read_csv('EDA_seller_data.csv')\n",
        "df_order =  pd.read_csv('EDA_order_data.csv')"
      ],
      "metadata": {
        "id": "fBq_8laQHkq1"
      },
      "execution_count": 30,
      "outputs": []
    },
    {
      "cell_type": "markdown",
      "source": [
        "### seller_data 데이터 설명\n",
        "- seller_id\t: 판매자 번호 (아이디)\n",
        "- origin : Olist 유입 경로\n",
        "- landing_page_id : Olist 유입시 랜딩된 페이지\n",
        "- date_for_registration : 판매자 신청부터 등록까지 소요된 시간\n",
        "- business_type : 영업 방식 (중간 유통, 제작자 등)\n",
        "- lead_type : 영업 형태\n",
        "- business_segment : 취급 물품\n",
        "- seller_state : 판매 위치 (주)\n",
        "- mean_distance : 평균 판매 거리\n",
        "- sale_days : 등록 이후 영업 날짜\n",
        "- total_profit : 총 수익\n",
        "- LTV : 하루 평균 매출 기대값\n",
        "- seller_status : 판매자 이탈 여부 (최근 60 일간 판매가 없을 시 이탈로 간주)"
      ],
      "metadata": {
        "id": "wYXLfI5EH1V_"
      }
    },
    {
      "cell_type": "markdown",
      "source": [
        "### order_data 데이터 설명\n",
        "- order_id : 주문 번호 (아이디)\n",
        "- product_id : 제품 번호 (아이디)\n",
        "- order_item_id\t: 제품 구분 번호 (동일 제품 다수 구매시 중복 데이터로 처리 되는것을 방지)\n",
        "- price : 가격\n",
        "- freight_value : 운송료\n",
        "- seller_profit\t: 판매자의 수익 = 가격 - 운송료\n",
        "- distance : 주문 배달 거리\n",
        "- order_approved_at : 결제 승인 시각\n",
        "- seller_id : 판매자 번호 (아이디)"
      ],
      "metadata": {
        "id": "vggc6LLeIFAY"
      }
    },
    {
      "cell_type": "markdown",
      "source": [
        "# 적용 개념들\n",
        "- Whale curves\n",
        "  - 상위 20%가 매출의 80%를 차지하는것이 아닌, 상위 1%가 매출의 80%를 차지한다면, 기형적인 구조이기 때문에 다양한 문제가 발생할 수 있다. 그렇기때문에 이 구조를 보고 진단할 필요가 있음\n",
        "- 산업/지역/제품의 집중도\n",
        "  - 산업과 지역, 제품 등의 규모가 한 쪽으로 치우쳐 있다면, 비즈니스의 확장이나, 안정성 면에서 떨어지게 된다.\n",
        "- Fragmentation(분산화 정도)\n",
        "  - (판매자-구매자)의 비중이 (다수-소수), (다수-다수), (소수-다수) 등이 있는데, 마켓플레이스 입장에서 (소수-소수)인 경우에 미들맨의 역할이 중요하지 않기 때문에 위험한 상황이다. 가장 이상적인 모양은 (다수-다수)이다. 그렇기 때문에 Fragmentation을 확인해보고 서비스 상태를 확인할 필요가 있다.\n",
        "- 참고링크: https://brunch.co.kr/@taewookim/17"
      ],
      "metadata": {
        "id": "3AisQdvhHRjr"
      }
    },
    {
      "cell_type": "markdown",
      "source": [
        "### Whale curves\n",
        "- '판매자의 수익성'을 Whale curve로 살펴보자\n",
        "- 수익성의 계산 기준을 정하는게 우선\n",
        "- 그냥 합계로 계산하기. 평균으로 계산하면 의미가 없어지니 주의할 것.\n",
        "- 판매자들의 수익성 구간은 각 상위에서부터 10%씩 끊어서 정하고, 판매자의 수를 세보자\n",
        "- 참고링크: https://m.blog.naver.com/bs2k/221595234106"
      ],
      "metadata": {
        "id": "a55Iq53UHVVl"
      }
    },
    {
      "cell_type": "code",
      "source": [
        "df_seller.rename(columns = {'total_profit':'sum_revenue'}, inplace = True)"
      ],
      "metadata": {
        "id": "DQlUUd9OKFWJ"
      },
      "execution_count": 31,
      "outputs": []
    },
    {
      "cell_type": "code",
      "source": [
        "# 셀러 아이디와 수익성만 추출\n",
        "df_for_whale = df_seller[['seller_id', 'sum_revenue']]"
      ],
      "metadata": {
        "id": "9mjxMN2FpEcL"
      },
      "execution_count": 32,
      "outputs": []
    },
    {
      "cell_type": "code",
      "source": [
        "# 수익성 순으로 정렬\n",
        "df_for_whale = df_for_whale.sort_values('sum_revenue')"
      ],
      "metadata": {
        "id": "yoz32_vGpNqQ"
      },
      "execution_count": 33,
      "outputs": []
    },
    {
      "cell_type": "code",
      "source": [
        "df_for_whale.head(10)"
      ],
      "metadata": {
        "id": "uvN65ZvppoV9",
        "outputId": "c576fd6c-441e-433d-eea0-ca6a6233119f",
        "colab": {
          "base_uri": "https://localhost:8080/",
          "height": 363
        }
      },
      "execution_count": 34,
      "outputs": [
        {
          "output_type": "execute_result",
          "data": {
            "text/plain": [
              "                            seller_id  sum_revenue\n",
              "272  56e361f411e38dcef17cdc2a3d99628b      -559.76\n",
              "192  9d213f303afae4983637247556438ede       -25.41\n",
              "336  bb7ad8a45c027be8ab075b8e465f8ca0       -12.66\n",
              "234  33d677f27a69b84051204ee4ae76eaca        -8.49\n",
              "314  9b1f656ca3060f8af17a50d8a024b533        -6.68\n",
              "351  455befea1bb853c75ccbca94cff26e5c        -2.07\n",
              "308  5a4236931428800e9d9cc04af0987118        -0.72\n",
              "189  8b181ee5518df84f18f4e1a43fe07923         0.82\n",
              "284  539ed9e19811677513447759be5eccfc         1.74\n",
              "291  2cb98e27ce1c18abdb42209b34c382a7         5.28"
            ],
            "text/html": [
              "\n",
              "  <div id=\"df-e47885d5-e4d2-461c-b8c3-6d4adbd84b73\">\n",
              "    <div class=\"colab-df-container\">\n",
              "      <div>\n",
              "<style scoped>\n",
              "    .dataframe tbody tr th:only-of-type {\n",
              "        vertical-align: middle;\n",
              "    }\n",
              "\n",
              "    .dataframe tbody tr th {\n",
              "        vertical-align: top;\n",
              "    }\n",
              "\n",
              "    .dataframe thead th {\n",
              "        text-align: right;\n",
              "    }\n",
              "</style>\n",
              "<table border=\"1\" class=\"dataframe\">\n",
              "  <thead>\n",
              "    <tr style=\"text-align: right;\">\n",
              "      <th></th>\n",
              "      <th>seller_id</th>\n",
              "      <th>sum_revenue</th>\n",
              "    </tr>\n",
              "  </thead>\n",
              "  <tbody>\n",
              "    <tr>\n",
              "      <th>272</th>\n",
              "      <td>56e361f411e38dcef17cdc2a3d99628b</td>\n",
              "      <td>-559.76</td>\n",
              "    </tr>\n",
              "    <tr>\n",
              "      <th>192</th>\n",
              "      <td>9d213f303afae4983637247556438ede</td>\n",
              "      <td>-25.41</td>\n",
              "    </tr>\n",
              "    <tr>\n",
              "      <th>336</th>\n",
              "      <td>bb7ad8a45c027be8ab075b8e465f8ca0</td>\n",
              "      <td>-12.66</td>\n",
              "    </tr>\n",
              "    <tr>\n",
              "      <th>234</th>\n",
              "      <td>33d677f27a69b84051204ee4ae76eaca</td>\n",
              "      <td>-8.49</td>\n",
              "    </tr>\n",
              "    <tr>\n",
              "      <th>314</th>\n",
              "      <td>9b1f656ca3060f8af17a50d8a024b533</td>\n",
              "      <td>-6.68</td>\n",
              "    </tr>\n",
              "    <tr>\n",
              "      <th>351</th>\n",
              "      <td>455befea1bb853c75ccbca94cff26e5c</td>\n",
              "      <td>-2.07</td>\n",
              "    </tr>\n",
              "    <tr>\n",
              "      <th>308</th>\n",
              "      <td>5a4236931428800e9d9cc04af0987118</td>\n",
              "      <td>-0.72</td>\n",
              "    </tr>\n",
              "    <tr>\n",
              "      <th>189</th>\n",
              "      <td>8b181ee5518df84f18f4e1a43fe07923</td>\n",
              "      <td>0.82</td>\n",
              "    </tr>\n",
              "    <tr>\n",
              "      <th>284</th>\n",
              "      <td>539ed9e19811677513447759be5eccfc</td>\n",
              "      <td>1.74</td>\n",
              "    </tr>\n",
              "    <tr>\n",
              "      <th>291</th>\n",
              "      <td>2cb98e27ce1c18abdb42209b34c382a7</td>\n",
              "      <td>5.28</td>\n",
              "    </tr>\n",
              "  </tbody>\n",
              "</table>\n",
              "</div>\n",
              "      <button class=\"colab-df-convert\" onclick=\"convertToInteractive('df-e47885d5-e4d2-461c-b8c3-6d4adbd84b73')\"\n",
              "              title=\"Convert this dataframe to an interactive table.\"\n",
              "              style=\"display:none;\">\n",
              "        \n",
              "  <svg xmlns=\"http://www.w3.org/2000/svg\" height=\"24px\"viewBox=\"0 0 24 24\"\n",
              "       width=\"24px\">\n",
              "    <path d=\"M0 0h24v24H0V0z\" fill=\"none\"/>\n",
              "    <path d=\"M18.56 5.44l.94 2.06.94-2.06 2.06-.94-2.06-.94-.94-2.06-.94 2.06-2.06.94zm-11 1L8.5 8.5l.94-2.06 2.06-.94-2.06-.94L8.5 2.5l-.94 2.06-2.06.94zm10 10l.94 2.06.94-2.06 2.06-.94-2.06-.94-.94-2.06-.94 2.06-2.06.94z\"/><path d=\"M17.41 7.96l-1.37-1.37c-.4-.4-.92-.59-1.43-.59-.52 0-1.04.2-1.43.59L10.3 9.45l-7.72 7.72c-.78.78-.78 2.05 0 2.83L4 21.41c.39.39.9.59 1.41.59.51 0 1.02-.2 1.41-.59l7.78-7.78 2.81-2.81c.8-.78.8-2.07 0-2.86zM5.41 20L4 18.59l7.72-7.72 1.47 1.35L5.41 20z\"/>\n",
              "  </svg>\n",
              "      </button>\n",
              "      \n",
              "  <style>\n",
              "    .colab-df-container {\n",
              "      display:flex;\n",
              "      flex-wrap:wrap;\n",
              "      gap: 12px;\n",
              "    }\n",
              "\n",
              "    .colab-df-convert {\n",
              "      background-color: #E8F0FE;\n",
              "      border: none;\n",
              "      border-radius: 50%;\n",
              "      cursor: pointer;\n",
              "      display: none;\n",
              "      fill: #1967D2;\n",
              "      height: 32px;\n",
              "      padding: 0 0 0 0;\n",
              "      width: 32px;\n",
              "    }\n",
              "\n",
              "    .colab-df-convert:hover {\n",
              "      background-color: #E2EBFA;\n",
              "      box-shadow: 0px 1px 2px rgba(60, 64, 67, 0.3), 0px 1px 3px 1px rgba(60, 64, 67, 0.15);\n",
              "      fill: #174EA6;\n",
              "    }\n",
              "\n",
              "    [theme=dark] .colab-df-convert {\n",
              "      background-color: #3B4455;\n",
              "      fill: #D2E3FC;\n",
              "    }\n",
              "\n",
              "    [theme=dark] .colab-df-convert:hover {\n",
              "      background-color: #434B5C;\n",
              "      box-shadow: 0px 1px 3px 1px rgba(0, 0, 0, 0.15);\n",
              "      filter: drop-shadow(0px 1px 2px rgba(0, 0, 0, 0.3));\n",
              "      fill: #FFFFFF;\n",
              "    }\n",
              "  </style>\n",
              "\n",
              "      <script>\n",
              "        const buttonEl =\n",
              "          document.querySelector('#df-e47885d5-e4d2-461c-b8c3-6d4adbd84b73 button.colab-df-convert');\n",
              "        buttonEl.style.display =\n",
              "          google.colab.kernel.accessAllowed ? 'block' : 'none';\n",
              "\n",
              "        async function convertToInteractive(key) {\n",
              "          const element = document.querySelector('#df-e47885d5-e4d2-461c-b8c3-6d4adbd84b73');\n",
              "          const dataTable =\n",
              "            await google.colab.kernel.invokeFunction('convertToInteractive',\n",
              "                                                     [key], {});\n",
              "          if (!dataTable) return;\n",
              "\n",
              "          const docLinkHtml = 'Like what you see? Visit the ' +\n",
              "            '<a target=\"_blank\" href=https://colab.research.google.com/notebooks/data_table.ipynb>data table notebook</a>'\n",
              "            + ' to learn more about interactive tables.';\n",
              "          element.innerHTML = '';\n",
              "          dataTable['output_type'] = 'display_data';\n",
              "          await google.colab.output.renderOutput(dataTable, element);\n",
              "          const docLink = document.createElement('div');\n",
              "          docLink.innerHTML = docLinkHtml;\n",
              "          element.appendChild(docLink);\n",
              "        }\n",
              "      </script>\n",
              "    </div>\n",
              "  </div>\n",
              "  "
            ]
          },
          "metadata": {},
          "execution_count": 34
        }
      ]
    },
    {
      "cell_type": "markdown",
      "source": [
        "- 마이너스 수익을 가져온 셀러들은 어떻게 처리할까?\n",
        "- 진입한지 얼마 안 된 판매자일 수 있다. 혹은 다른 요인들로 인해 적자를 보면서 판매를 진행하는 중일 수 있으니, 의미있는 데이터이기 때문에 가져가도록 하였다."
      ],
      "metadata": {
        "id": "tYGOHolTpxYP"
      }
    },
    {
      "cell_type": "code",
      "source": [
        "# # 한글 깨짐 방지\n",
        "# # 아래 코드 실행 후 런타임 재시작 및 코드 실행 해주어야함\n",
        "# !sudo apt-get install -y fonts-nanum\n",
        "# !sudo fc-cache -fv\n",
        "# !rm ~/.cache/matplotlib -rf"
      ],
      "metadata": {
        "id": "ESoAepYxsIdA"
      },
      "execution_count": 35,
      "outputs": []
    },
    {
      "cell_type": "code",
      "source": [
        "import matplotlib.pyplot as plt\n",
        "\n",
        "plt.rc('font', family='NanumBarunGothic')"
      ],
      "metadata": {
        "id": "Wva1a0jMsuni"
      },
      "execution_count": 36,
      "outputs": []
    },
    {
      "cell_type": "code",
      "source": [
        "x_label = list(df_for_whale['seller_id'])\n",
        "y_label = list(df_for_whale['sum_revenue'])\n",
        "\n",
        "plt.plot(x_label, y_label,\n",
        "         color='skyblue')\n",
        "\n",
        "plt.title('수익성에 따른 고객들 분포')\n",
        "plt.ylabel('Revenue')\n",
        "plt.show()\n",
        "plt.close()"
      ],
      "metadata": {
        "id": "jla6JFnPoWCY",
        "outputId": "332b7f94-6bf5-438a-f580-c0e8ab603496",
        "colab": {
          "base_uri": "https://localhost:8080/",
          "height": 280
        }
      },
      "execution_count": 37,
      "outputs": [
        {
          "output_type": "display_data",
          "data": {
            "text/plain": [
              "<Figure size 432x288 with 1 Axes>"
            ],
            "image/png": "[encoded data removed]"
          },
          "metadata": {
            "needs_background": "light"
          }
        }
      ]
    },
    {
      "cell_type": "markdown",
      "source": [
        "- 판매자 별 수익성에 따라서 그래프를 그려보았다. 한 쪽으로 많이 치우쳐있는걸 볼 수 있으며, 먼저 고객들의 분포를 Boxplot으로 나타내보았다."
      ],
      "metadata": {
        "id": "yiRIEY_Gs1dw"
      }
    },
    {
      "cell_type": "code",
      "source": [
        "# 수익성(sum_revenue)으로 10% 구간 구하기\n",
        "# pd.cut()은 동일한 길이로 나누는 것이고, pd.qcut()은 동일한 갯수로 나누는 것.\n",
        "\n",
        "# 최소 수익성 판매자\n",
        "min_revenue = df_for_whale['sum_revenue'].min()\n",
        "max_revenue = df_for_whale['sum_revenue'].max()"
      ],
      "metadata": {
        "id": "fTl6z1ihqmeQ"
      },
      "execution_count": 38,
      "outputs": []
    },
    {
      "cell_type": "code",
      "source": [
        "min_revenue"
      ],
      "metadata": {
        "id": "BN3YMmvXu2-B",
        "outputId": "f6e782de-858d-440f-c214-e6bacb53f13f",
        "colab": {
          "base_uri": "https://localhost:8080/"
        }
      },
      "execution_count": 39,
      "outputs": [
        {
          "output_type": "execute_result",
          "data": {
            "text/plain": [
              "-559.7600000000002"
            ]
          },
          "metadata": {},
          "execution_count": 39
        }
      ]
    },
    {
      "cell_type": "code",
      "source": [
        "max_revenue"
      ],
      "metadata": {
        "id": "pmNrjDj1u5Ah",
        "outputId": "864ff2c6-b50d-4000-92da-b1b3a3d7d17e",
        "colab": {
          "base_uri": "https://localhost:8080/"
        }
      },
      "execution_count": 40,
      "outputs": [
        {
          "output_type": "execute_result",
          "data": {
            "text/plain": [
              "104805.89"
            ]
          },
          "metadata": {},
          "execution_count": 40
        }
      ]
    },
    {
      "cell_type": "code",
      "source": [
        "# 10개 구간으로 나누고, 라벨을 붙여주기\n",
        "# 예) 하위 10%까지는 라벨이 '0', 상위 10%는 라벨이 '9'\n",
        "df_for_whale['ratio_revenue'] = pd.cut(df_for_whale['sum_revenue'], 10, \n",
        "                                       labels=['0', '1', '2', '3', '4', '5', '6', '7', '8', '9'])"
      ],
      "metadata": {
        "id": "jl8VQeH7u6C5"
      },
      "execution_count": 41,
      "outputs": []
    },
    {
      "cell_type": "code",
      "source": [
        "df_for_whale.groupby('ratio_revenue')['ratio_revenue'].count()"
      ],
      "metadata": {
        "id": "I90VKwy-wvje",
        "outputId": "9d2370ad-636b-4523-9dcf-7f3d41ac50ca",
        "colab": {
          "base_uri": "https://localhost:8080/"
        }
      },
      "execution_count": 42,
      "outputs": [
        {
          "output_type": "execute_result",
          "data": {
            "text/plain": [
              "ratio_revenue\n",
              "0    372\n",
              "1      3\n",
              "2      1\n",
              "3      1\n",
              "4      1\n",
              "5      0\n",
              "6      0\n",
              "7      0\n",
              "8      0\n",
              "9      1\n",
              "Name: ratio_revenue, dtype: int64"
            ]
          },
          "metadata": {},
          "execution_count": 42
        }
      ]
    },
    {
      "cell_type": "markdown",
      "source": [
        "- 구간을 총 10개로 나누고 각 구간별 판매자 수의 분포를 살펴보았다. 분포는 skew 되어있는 것을 볼 수 있었기에 Box plot그려보고 이상값을 확인해보았다."
      ],
      "metadata": {
        "id": "JRvxrHK3yCLk"
      }
    },
    {
      "cell_type": "code",
      "source": [
        "# box plot\n",
        "plt.boxplot(df_for_whale['sum_revenue'])\n",
        "plt.show()"
      ],
      "metadata": {
        "id": "yZj_LhRPwwln",
        "outputId": "5de2ae11-6549-42e5-8313-b659a1a02a55",
        "colab": {
          "base_uri": "https://localhost:8080/",
          "height": 265
        }
      },
      "execution_count": 43,
      "outputs": [
        {
          "output_type": "display_data",
          "data": {
            "text/plain": [
              "<Figure size 432x288 with 1 Axes>"
            ],
            "image/png": "[encoded data removed]"
          },
          "metadata": {
            "needs_background": "light"
          }
        }
      ]
    },
    {
      "cell_type": "markdown",
      "source": [
        "- 박스가 제대로 그려지지도 않으며, 큰 이상값들이 존재하였다. 가장 큰 이상값 하나만 지우고 나서 분포를 다시 살펴보았다."
      ],
      "metadata": {
        "id": "8kuZegAeO39d"
      }
    },
    {
      "cell_type": "code",
      "source": [
        "# 가장 큰 이상값 제거 하고 다시 그려보자\n",
        "######## 여기서는 이상값이지만, 실제 큰 판매수익을 거둔 판매자이기에, 고래곡선 이외에서는 함부로 제외하면 안될 것 ########\n",
        "df_for_whale_renew = df_for_whale[df_for_whale.sum_revenue != max_revenue]"
      ],
      "metadata": {
        "id": "SV7WLNbPykno"
      },
      "execution_count": 44,
      "outputs": []
    },
    {
      "cell_type": "code",
      "source": [
        "plt.boxplot(df_for_whale_renew['sum_revenue'])\n",
        "plt.show()"
      ],
      "metadata": {
        "id": "AVV2ToagzE1n",
        "outputId": "fd8f0442-5b36-4d94-c24a-ca3306e8c9f3",
        "colab": {
          "base_uri": "https://localhost:8080/",
          "height": 265
        }
      },
      "execution_count": 45,
      "outputs": [
        {
          "output_type": "display_data",
          "data": {
            "text/plain": [
              "<Figure size 432x288 with 1 Axes>"
            ],
            "image/png": "[encoded data removed]"
          },
          "metadata": {
            "needs_background": "light"
          }
        }
      ]
    },
    {
      "cell_type": "markdown",
      "source": [
        "- 아직 큰 이상값이 있다고 판단되지만, 일단 구간을 나눠보자"
      ],
      "metadata": {
        "id": "RqV8tnFYzL52"
      }
    },
    {
      "cell_type": "code",
      "source": [
        "# 10개 구간으로 나누고, 라벨을 붙여주기\n",
        "# 예) 하위 10%까지는 라벨이 '0', 상위 10%는 라벨이 '9'\n",
        "df_for_whale_renew['ratio_revenue'] = pd.cut(df_for_whale_renew['sum_revenue'], 10, \n",
        "                                       labels=['0', '1', '2', '3', '4', '5', '6', '7', '8', '9'])\n",
        "\n",
        "# 분포 수\n",
        "df_for_whale_renew.groupby('ratio_revenue')['ratio_revenue'].count()"
      ],
      "metadata": {
        "id": "egByO7i_zG7_",
        "outputId": "feb3eece-bb38-482c-90ed-8f472820992e",
        "colab": {
          "base_uri": "https://localhost:8080/"
        }
      },
      "execution_count": 46,
      "outputs": [
        {
          "output_type": "stream",
          "name": "stderr",
          "text": [
            "/usr/local/lib/python3.7/dist-packages/ipykernel_launcher.py:4: SettingWithCopyWarning: \n",
            "A value is trying to be set on a copy of a slice from a DataFrame.\n",
            "Try using .loc[row_indexer,col_indexer] = value instead\n",
            "\n",
            "See the caveats in the documentation: https://pandas.pydata.org/pandas-docs/stable/user_guide/indexing.html#returning-a-view-versus-a-copy\n",
            "  after removing the cwd from sys.path.\n"
          ]
        },
        {
          "output_type": "execute_result",
          "data": {
            "text/plain": [
              "ratio_revenue\n",
              "0    349\n",
              "1     23\n",
              "2      2\n",
              "3      1\n",
              "4      1\n",
              "5      0\n",
              "6      0\n",
              "7      1\n",
              "8      0\n",
              "9      1\n",
              "Name: ratio_revenue, dtype: int64"
            ]
          },
          "metadata": {},
          "execution_count": 46
        }
      ]
    },
    {
      "cell_type": "markdown",
      "source": [
        "- 제일 큰 이상값 하나만 제거했지만, 아직 많은 이상값들이 들어있는 것을 볼 수 있다.\n",
        "- 이상치 제거하는 방식 중 IQR 활용해서 진행한 뒤 확인해보자\n",
        "- IQR 참고 링크\n",
        " - https://fhaktj8-18.tistory.com/entry/%ED%8C%90%EB%8B%A4%EC%8A%A4-pandas-IQR-%ED%99%9C%EC%9A%A9%ED%95%B4%EC%84%9C-%EC%9D%B4%EC%83%81%EC%A0%90outlier-%EC%B0%BE%EA%B3%A0-%EC%82%AD%EC%A0%9C%ED%95%98%EA%B8%B0\n",
        " - https://jimmy-ai.tistory.com/260"
      ],
      "metadata": {
        "id": "L1mNEEnpz6Bk"
      }
    },
    {
      "cell_type": "code",
      "source": [
        "# 먼저 사분위수 구하기위해서 describe()로 확인\n",
        "df_for_whale_renew['sum_revenue'].describe()"
      ],
      "metadata": {
        "id": "WUGz-wvrzaAY",
        "outputId": "7af1e04b-dda7-49cf-e562-8f9cdcf24e1c",
        "colab": {
          "base_uri": "https://localhost:8080/"
        }
      },
      "execution_count": 47,
      "outputs": [
        {
          "output_type": "execute_result",
          "data": {
            "text/plain": [
              "count      378.000000\n",
              "mean      1248.387593\n",
              "std       3356.308471\n",
              "min       -559.760000\n",
              "25%        121.425000\n",
              "50%        411.425000\n",
              "75%        986.060000\n",
              "max      42901.500000\n",
              "Name: sum_revenue, dtype: float64"
            ]
          },
          "metadata": {},
          "execution_count": 47
        }
      ]
    },
    {
      "cell_type": "code",
      "source": [
        "# Q1 - 1.5*IQR = 최소값\n",
        "# Q3 + 1.5*IQR = 최대값\n",
        "\n",
        "# 위 공식을 바탕으로 IQR 구하기(이상점)\n",
        "## IQR은 InterQuartile Range의 줄임말. Q1과 Q3 사이 값. 박스 플롯 기본 수치\n",
        "Q1 = df_for_whale_renew['sum_revenue'].quantile(0.25)\n",
        "Q2 = df_for_whale_renew['sum_revenue'].quantile(0.5)\n",
        "Q3 = df_for_whale_renew['sum_revenue'].quantile(0.75)\n",
        "IQR = Q3 - Q1\n",
        "print(IQR)"
      ],
      "metadata": {
        "id": "B9wF8dV2zg_Y",
        "outputId": "09c6e7bb-f173-40c9-f424-5f391bb0550e",
        "colab": {
          "base_uri": "https://localhost:8080/"
        }
      },
      "execution_count": 48,
      "outputs": [
        {
          "output_type": "stream",
          "name": "stdout",
          "text": [
            "864.635\n"
          ]
        }
      ]
    },
    {
      "cell_type": "code",
      "source": [
        "# 필터 설정\n",
        "## IQR 기준으로 공식값에 대입해서 이상값 제거\n",
        "condition = df_for_whale_renew['sum_revenue'] < (Q3 + 1.5*IQR)\n",
        "df_for_whale_renew = df_for_whale_renew[condition]"
      ],
      "metadata": {
        "id": "-AAOX6Sl10P4"
      },
      "execution_count": 49,
      "outputs": []
    },
    {
      "cell_type": "code",
      "source": [
        "# 이제 다시 Box plot\n",
        "plt.boxplot(df_for_whale_renew['sum_revenue'])\n",
        "plt.show()"
      ],
      "metadata": {
        "id": "cblEV5St2NaI",
        "outputId": "aa217d8f-e92c-4055-d418-0ffc57dc0643",
        "colab": {
          "base_uri": "https://localhost:8080/",
          "height": 359
        }
      },
      "execution_count": 50,
      "outputs": [
        {
          "output_type": "stream",
          "name": "stderr",
          "text": [
            "/usr/local/lib/python3.7/dist-packages/matplotlib/backends/backend_agg.py:214: RuntimeWarning: Glyph 8722 missing from current font.\n",
            "  font.set_text(s, 0.0, flags=flags)\n",
            "/usr/local/lib/python3.7/dist-packages/matplotlib/backends/backend_agg.py:183: RuntimeWarning: Glyph 8722 missing from current font.\n",
            "  font.set_text(s, 0, flags=flags)\n"
          ]
        },
        {
          "output_type": "display_data",
          "data": {
            "text/plain": [
              "<Figure size 432x288 with 1 Axes>"
            ],
            "image/png": "[encoded data removed]"
          },
          "metadata": {
            "needs_background": "light"
          }
        }
      ]
    },
    {
      "cell_type": "markdown",
      "source": [
        "- 먼저 Box plot의 형태가 그려지는 것을 볼 수 있다. 하지만 분포가 한쪽으로 많이 skew 되어있기 때문에 고래곡선을 통해서 판매자 분포를 확인해 볼 필요가 있어보인다."
      ],
      "metadata": {
        "id": "jYxytGPf3A2X"
      }
    },
    {
      "cell_type": "code",
      "source": [
        "# 다시 구간 확인\n",
        "# 10개 구간으로 나누고, 라벨을 붙여주기\n",
        "# 예) 하위 10%까지는 라벨이 '0', 상위 10%는 라벨이 '9'\n",
        "df_for_whale_renew['ratio_revenue'] = pd.cut(df_for_whale_renew['sum_revenue'], 10, \n",
        "                                       labels=['0', '1', '2', '3', '4', '5', '6', '7', '8', '9'])\n",
        "\n",
        "# 분포 수\n",
        "df_for_whale_renew.groupby('ratio_revenue')['ratio_revenue'].count()"
      ],
      "metadata": {
        "id": "Lb9qjeFP2WnQ",
        "outputId": "feb845d7-3218-4691-ee9d-7322c2d2d454",
        "colab": {
          "base_uri": "https://localhost:8080/"
        }
      },
      "execution_count": 51,
      "outputs": [
        {
          "output_type": "stream",
          "name": "stderr",
          "text": [
            "/usr/local/lib/python3.7/dist-packages/ipykernel_launcher.py:5: SettingWithCopyWarning: \n",
            "A value is trying to be set on a copy of a slice from a DataFrame.\n",
            "Try using .loc[row_indexer,col_indexer] = value instead\n",
            "\n",
            "See the caveats in the documentation: https://pandas.pydata.org/pandas-docs/stable/user_guide/indexing.html#returning-a-view-versus-a-copy\n",
            "  \"\"\"\n"
          ]
        },
        {
          "output_type": "execute_result",
          "data": {
            "text/plain": [
              "ratio_revenue\n",
              "0      1\n",
              "1      4\n",
              "2    153\n",
              "3     71\n",
              "4     34\n",
              "5     28\n",
              "6     17\n",
              "7      7\n",
              "8      8\n",
              "9      9\n",
              "Name: ratio_revenue, dtype: int64"
            ]
          },
          "metadata": {},
          "execution_count": 51
        }
      ]
    },
    {
      "cell_type": "markdown",
      "source": [
        "- 해당 분포를 이용해서 고래곡선을 그려보자"
      ],
      "metadata": {
        "id": "1zFLWI8n3Ive"
      }
    },
    {
      "cell_type": "code",
      "source": [
        "# 각 '구간'별 판매자들의 인원 수를 count\n",
        "df_finally_whale = pd.DataFrame(df_for_whale_renew.groupby('ratio_revenue')['ratio_revenue'].count())"
      ],
      "metadata": {
        "id": "kaifFsTd2daf"
      },
      "execution_count": 52,
      "outputs": []
    },
    {
      "cell_type": "code",
      "source": [
        "# 컬럼 이름 바꿔주기.\n",
        "df_finally_whale.rename(columns = {'ratio_revenue':'num_of_ratio'}, inplace = True)\n",
        "# 인덱싱 새로해주기\n",
        "df_finally_whale.reset_index(drop = False, inplace = True)"
      ],
      "metadata": {
        "id": "cRFQ3LqS4G9v"
      },
      "execution_count": 53,
      "outputs": []
    },
    {
      "cell_type": "code",
      "source": [
        "x_label = list(df_finally_whale['ratio_revenue'])\n",
        "y_label = list(df_finally_whale['num_of_ratio'])\n",
        "\n",
        "plt.plot(x_label, y_label,\n",
        "         color='skyblue')\n",
        "\n",
        "plt.title('Whale Curve')\n",
        "plt.xlabel('판매수익 별 구간')\n",
        "plt.ylabel('판매자 수')\n",
        "plt.show()\n",
        "plt.close()"
      ],
      "metadata": {
        "id": "0eg4SC18550n",
        "outputId": "39453e65-279a-42dd-ac05-7ab6d7140c6a",
        "colab": {
          "base_uri": "https://localhost:8080/",
          "height": 294
        }
      },
      "execution_count": 54,
      "outputs": [
        {
          "output_type": "display_data",
          "data": {
            "text/plain": [
              "<Figure size 432x288 with 1 Axes>"
            ],
            "image/png": "[encoded data removed]"
          },
          "metadata": {
            "needs_background": "light"
          }
        }
      ]
    },
    {
      "cell_type": "markdown",
      "source": [
        "- 전혀 고래 모양이 아니다. 해당 현상을 보고 서비스의 수익구조, 판매자 유형 분포 구조가 이상적인 구조가 아니라고 판단할 수 있다. 이에 판매자들의 유형이 Whale Curve를 그릴 수 있는 개선방안이 필요할 것으로 예상된다."
      ],
      "metadata": {
        "id": "U1VKJ1Ph6QVl"
      }
    },
    {
      "cell_type": "code",
      "source": [
        ""
      ],
      "metadata": {
        "id": "P060sFuhHUBd"
      },
      "execution_count": 54,
      "outputs": []
    },
    {
      "cell_type": "code",
      "source": [
        ""
      ],
      "metadata": {
        "id": "bH4qAO_cPtGT"
      },
      "execution_count": 54,
      "outputs": []
    }
  ]
}