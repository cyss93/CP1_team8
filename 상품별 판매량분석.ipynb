{
  "nbformat": 4,
  "nbformat_minor": 0,
  "metadata": {
    "colab": {
      "name": "위도,경도.ipynb",
      "private_outputs": true,
      "provenance": [],
      "include_colab_link": true
    },
    "kernelspec": {
      "name": "python3",
      "display_name": "Python 3"
    },
    "language_info": {
      "name": "python"
    }
  },
  "cells": [
    {
      "cell_type": "markdown",
      "metadata": {
        "id": "view-in-github",
        "colab_type": "text"
      },
      "source": [
        "<a href=\"https://colab.research.google.com/github/cyss93/CP1_team8/blob/%EC%A0%95%EA%B8%B0%ED%9B%88/%EC%83%81%ED%92%88%EB%B3%84%20%ED%8C%90%EB%A7%A4%EB%9F%89%EB%B6%84%EC%84%9D.ipynb\" target=\"_parent\"><img src=\"https://colab.research.google.com/assets/colab-badge.svg\" alt=\"Open In Colab\"/></a>"
      ]
    },
    {
      "cell_type": "code",
      "execution_count": null,
      "metadata": {
        "id": "kEifUmHxw_6O"
      },
      "outputs": [],
      "source": [
        "# Data\n",
        "import numpy as np\n",
        "import pandas as pd\n",
        "\n",
        "# Visualization\n",
        "import matplotlib.pyplot as plt\n",
        "import seaborn as sns\n",
        "import plotly.express as px\n",
        "import plotly.graph_objects as go\n",
        "\n",
        "#warning\n",
        "import warnings\n",
        "warnings.filterwarnings('ignore')"
      ]
    },
    {
      "cell_type": "code",
      "source": [
        "df_g = pd.read_csv('/content/olist_geolocation_dataset.csv')\n",
        "df_o = pd.read_csv('/content/olist_order_items_dataset.csv')\n",
        "df_s = pd.read_csv('/content/olist_sellers_dataset.csv')\n",
        "df_p = pd.read_csv('/content/olist_products_dataset.csv')"
      ],
      "metadata": {
        "id": "jzFBDVQnxH0y"
      },
      "execution_count": null,
      "outputs": []
    },
    {
      "cell_type": "code",
      "source": [
        "new_df = pd.merge(df_p,df_o,how='inner',on='product_id')"
      ],
      "metadata": {
        "id": "kNDPspsm1SbR"
      },
      "execution_count": null,
      "outputs": []
    },
    {
      "cell_type": "code",
      "source": [
        "new_df = pd.merge(new_df,df_s,how='inner',on='seller_id')"
      ],
      "metadata": {
        "id": "lbX2vQXH2OUy"
      },
      "execution_count": null,
      "outputs": []
    },
    {
      "cell_type": "code",
      "source": [
        "df_g.rename(columns={'geolocation_zip_code_prefix':'seller_zip_code_prefix'},inplace=True)"
      ],
      "metadata": {
        "id": "kw6rp9LR3IVu"
      },
      "execution_count": null,
      "outputs": []
    },
    {
      "cell_type": "code",
      "source": [
        "df_g"
      ],
      "metadata": {
        "id": "6p2gq9Ua3bor"
      },
      "execution_count": null,
      "outputs": []
    },
    {
      "cell_type": "code",
      "source": [
        "new_df = pd.merge(new_df,df_g,how='inner',on='seller_zip_code_prefix')"
      ],
      "metadata": {
        "id": "2MQ-oO0b2uEh"
      },
      "execution_count": null,
      "outputs": []
    },
    {
      "cell_type": "code",
      "source": [
        "df_pr = pd.read_csv('/content/product_category_name_translation.csv')"
      ],
      "metadata": {
        "id": "QNE9H01m33tj"
      },
      "execution_count": null,
      "outputs": []
    },
    {
      "cell_type": "code",
      "source": [
        "df_pr['product_category_name']"
      ],
      "metadata": {
        "id": "-nVXArmB37tT"
      },
      "execution_count": null,
      "outputs": []
    },
    {
      "cell_type": "code",
      "source": [
        "new_df = pd.merge(new_df,df_pr,how='inner',on='product_category_name')"
      ],
      "metadata": {
        "id": "iQhIq07b29kD"
      },
      "execution_count": null,
      "outputs": []
    },
    {
      "cell_type": "code",
      "source": [
        "new_df['product_category_name_english'].value_counts()"
      ],
      "metadata": {
        "id": "9DacdcZS4Ue0"
      },
      "execution_count": null,
      "outputs": []
    },
    {
      "cell_type": "code",
      "source": [
        "new_df.head()"
      ],
      "metadata": {
        "id": "Su_EOwYueKqh"
      },
      "execution_count": null,
      "outputs": []
    },
    {
      "cell_type": "code",
      "source": [
        "new_df = new_df.drop_duplicates(['product_id'],keep='first')"
      ],
      "metadata": {
        "id": "gb3W-a7GyfVu"
      },
      "execution_count": null,
      "outputs": []
    },
    {
      "cell_type": "code",
      "source": [
        "new_df = new_df.reset_index(drop=True)"
      ],
      "metadata": {
        "id": "YVewVbnpeazj"
      },
      "execution_count": null,
      "outputs": []
    },
    {
      "cell_type": "code",
      "source": [
        "new_df"
      ],
      "metadata": {
        "id": "FgP-UqwEgAB8"
      },
      "execution_count": null,
      "outputs": []
    },
    {
      "cell_type": "code",
      "source": [
        "product = new_df[['product_category_name_english','product_description_lenght','product_photos_qty','price','freight_value']]"
      ],
      "metadata": {
        "id": "diGx5gTrgbwA"
      },
      "execution_count": null,
      "outputs": []
    },
    {
      "cell_type": "code",
      "source": [
        "new_df.groupby('product_category_name_english').mean()"
      ],
      "metadata": {
        "id": "1ndLY52ndkL5"
      },
      "execution_count": null,
      "outputs": []
    },
    {
      "cell_type": "code",
      "source": [
        "product['product_category_name_english'].value_counts()"
      ],
      "metadata": {
        "id": "0tOENxfKeeFL"
      },
      "execution_count": null,
      "outputs": []
    },
    {
      "cell_type": "code",
      "source": [
        "product['sum_price'] = product['price'] + product['freight_value']"
      ],
      "metadata": {
        "id": "Jr_9sPOCgrA5"
      },
      "execution_count": null,
      "outputs": []
    },
    {
      "cell_type": "code",
      "source": [
        "product['count'] = 1"
      ],
      "metadata": {
        "id": "sZiOxNhog-Gz"
      },
      "execution_count": null,
      "outputs": []
    },
    {
      "cell_type": "code",
      "source": [
        "new_product=product.groupby('product_category_name_english').sum()"
      ],
      "metadata": {
        "id": "jVNLyveNiqaN"
      },
      "execution_count": null,
      "outputs": []
    },
    {
      "cell_type": "code",
      "source": [
        "new_product = new_product.sort_values(by=['count'],axis=0,ascending=False)"
      ],
      "metadata": {
        "id": "5zTFm6HFjQdv"
      },
      "execution_count": null,
      "outputs": []
    },
    {
      "cell_type": "code",
      "source": [
        "new_product['mean_product_description_lenght'] = new_product['product_description_lenght'] / new_product['count']\n",
        "new_product['mean_product_photos_qty'] = new_product['product_photos_qty'] / new_product['count']\n",
        "new_product['mean_sum_price'] = new_product['sum_price'] / new_product['count']\n",
        "new_product = new_product[['count','mean_product_description_lenght','mean_product_photos_qty','mean_sum_price',]]"
      ],
      "metadata": {
        "id": "zdiolLfBjfN1"
      },
      "execution_count": null,
      "outputs": []
    },
    {
      "cell_type": "code",
      "source": [
        "top_product =new_product.head(10)"
      ],
      "metadata": {
        "id": "ESBinv1Fj3TA"
      },
      "execution_count": null,
      "outputs": []
    },
    {
      "cell_type": "code",
      "source": [
        "top_product = top_product.reset_index()"
      ],
      "metadata": {
        "id": "9ROrEBlCkHBl"
      },
      "execution_count": null,
      "outputs": []
    },
    {
      "cell_type": "code",
      "source": [
        "top_product"
      ],
      "metadata": {
        "id": "t_gDDe3rrOSe"
      },
      "execution_count": null,
      "outputs": []
    },
    {
      "cell_type": "markdown",
      "source": [
        "판매량을 기준으로 시각화하였습니다."
      ],
      "metadata": {
        "id": "7uf5GmaLrimM"
      }
    },
    {
      "cell_type": "code",
      "source": [
        "x = top_product['product_category_name_english']\n",
        "y = top_product['count']\n",
        "plt.figure(figsize=(20, 5))\n",
        "plt.bar(x,y)"
      ],
      "metadata": {
        "id": "uTW5hsA4k8jk"
      },
      "execution_count": null,
      "outputs": []
    },
    {
      "cell_type": "markdown",
      "source": [
        "판매량을 기준으로 설명길이를 시각화하였습니다."
      ],
      "metadata": {
        "id": "aHlGoR0ermpL"
      }
    },
    {
      "cell_type": "code",
      "source": [
        "x = top_product['product_category_name_english']\n",
        "y = top_product['mean_product_description_lenght']\n",
        "plt.figure(figsize=(20, 5))\n",
        "plt.bar(x,y)"
      ],
      "metadata": {
        "id": "I5bWITWfp2iq"
      },
      "execution_count": null,
      "outputs": []
    },
    {
      "cell_type": "markdown",
      "source": [
        "판매량을 기준으로 사진 길이를 시각화하였습니다."
      ],
      "metadata": {
        "id": "ztAtBa7vogL1"
      }
    },
    {
      "cell_type": "code",
      "source": [
        "x = top_product['product_category_name_english']\n",
        "y = top_product['mean_product_photos_qty']\n",
        "plt.figure(figsize=(20, 5))\n",
        "plt.bar(x,y)"
      ],
      "metadata": {
        "id": "NajY_464r7rQ"
      },
      "execution_count": null,
      "outputs": []
    },
    {
      "cell_type": "markdown",
      "source": [
        "판매량을 기준으로 팔린상품의 평균가격을 시각화 하였습니다.\n",
        "개당 가격은 watches_gifts가 가장높은것을 알수있습니다."
      ],
      "metadata": {
        "id": "83QGfVEursG8"
      }
    },
    {
      "cell_type": "code",
      "source": [
        "x = top_product['product_category_name_english']\n",
        "y = top_product['mean_sum_price']\n",
        "plt.figure(figsize=(20, 5))\n",
        "plt.bar(x,y)"
      ],
      "metadata": {
        "id": "szaU8wiFr4YP"
      },
      "execution_count": null,
      "outputs": []
    },
    {
      "cell_type": "code",
      "source": [
        "corr_df = top_product.corr()\n",
        "corr_df = corr_df.apply(lambda x: round(x ,2))\n",
        "corr_df"
      ],
      "metadata": {
        "id": "tslWux_nn9T-"
      },
      "execution_count": null,
      "outputs": []
    },
    {
      "cell_type": "code",
      "source": [
        "s = corr_df.unstack()\n",
        "s"
      ],
      "metadata": {
        "id": "I9HSWNnCo2Sn"
      },
      "execution_count": null,
      "outputs": []
    },
    {
      "cell_type": "markdown",
      "source": [
        "상관관계를 시각화해보았습니다\n",
        "미미한 수치이지만 판매량과 상품을 설명하는 글의 길이수와 사진등은 양의 상관계를 보였으며 판매량에 상품에대한 좀 더 세밀한 설명등이 판매량에 좋은 영향을 준다는결과를 얻을수있었습니다."
      ],
      "metadata": {
        "id": "eMiTIyh-o-qS"
      }
    },
    {
      "cell_type": "code",
      "source": [
        "# Series이므로 DataFrame으로 변경한다. \n",
        "df = pd.DataFrame(s[s < 1].sort_values(ascending=False), columns=['corr'])\n",
        "df.style.background_gradient(cmap='viridis')"
      ],
      "metadata": {
        "id": "O-G61V8Uo76J"
      },
      "execution_count": null,
      "outputs": []
    },
    {
      "cell_type": "code",
      "source": [
        "ax = sns.heatmap(corr_df, annot=True, annot_kws=dict(color='g'), cmap='Greys')\n",
        "plt.show()"
      ],
      "metadata": {
        "id": "MvN9qnuFpdbl"
      },
      "execution_count": null,
      "outputs": []
    },
    {
      "cell_type": "code",
      "source": [
        "top_product"
      ],
      "metadata": {
        "id": "WGY-66pApndv"
      },
      "execution_count": null,
      "outputs": []
    },
    {
      "cell_type": "code",
      "source": [
        ""
      ],
      "metadata": {
        "id": "PWMSWHXbpofi"
      },
      "execution_count": null,
      "outputs": []
    }
  ]
}