{
  "nbformat": 4,
  "nbformat_minor": 0,
  "metadata": {
    "colab": {
      "name": "Summer_products.ipynb",
      "provenance": [],
      "authorship_tag": "ABX9TyM9yFXVeHwRVh7p6+8qEiuE",
      "include_colab_link": true
    },
    "kernelspec": {
      "name": "python3",
      "display_name": "Python 3"
    },
    "language_info": {
      "name": "python"
    }
  },
  "cells": [
    {
      "cell_type": "markdown",
      "metadata": {
        "id": "view-in-github",
        "colab_type": "text"
      },
      "source": [
        "<a href=\"https://colab.research.google.com/github/cyss93/CP1_team8/blob/%EC%98%A4%EC%B0%BD%EC%98%81/Brandi_Regression.ipynb\" target=\"_parent\"><img src=\"https://colab.research.google.com/assets/colab-badge.svg\" alt=\"Open In Colab\"/></a>"
      ]
    },
    {
      "cell_type": "code",
      "execution_count": 40,
      "metadata": {
        "id": "JvBNLGyNSqoQ"
      },
      "outputs": [],
      "source": [
        "import pandas as pd\n",
        "import numpy as np\n",
        "from sklearn.metrics import  mean_squared_error, mean_absolute_error, r2_score\n",
        "from IPython.display import display\n",
        "from sklearn.model_selection import train_test_split\n",
        "\n",
        "from matplotlib import style\n",
        "import matplotlib.pyplot as plt\n",
        "\n",
        "import statsmodels.api as sm\n",
        "from sklearn.linear_model import LinearRegression\n",
        "from statsmodels.stats.outliers_influence import variance_inflation_factor\n",
        "\n",
        "from sklearn.linear_model import Ridge\n",
        "\n",
        "\n",
        "import time\n",
        "import itertools"
      ]
    },
    {
      "cell_type": "code",
      "source": [
        "df_1 = pd.read_csv('바지.csv')\n",
        "df_2 = pd.read_csv('상의.csv')\n",
        "df_3 = pd.read_csv('스커트.csv')\n",
        "df_4 = pd.read_csv('원피스.csv')"
      ],
      "metadata": {
        "id": "nbZgVZ6lCeY3"
      },
      "execution_count": 3,
      "outputs": []
    },
    {
      "cell_type": "code",
      "source": [
        "df = pd.concat([df_1, df_2, df_3, df_4])"
      ],
      "metadata": {
        "id": "HS2ew79STQLI"
      },
      "execution_count": 32,
      "outputs": []
    },
    {
      "cell_type": "code",
      "source": [
        "# '원' 제거\n",
        "df['할인전 가격'] = df['할인전 가격'].str[:-1]\n",
        "df['할인후 가격'] = df['할인후 가격'].str[:-1]\n",
        "df['구매개수'] = df['구매개수'].str[:-5]\n",
        "\n",
        "# ',' 제거\n",
        "df['할인전 가격'] = df['할인전 가격'].str.replace(',', '').astype('int64')\n",
        "df['할인후 가격'] = df['할인후 가격'].str.replace(',', '').astype('int64')\n",
        "df['구매개수'] = df['구매개수'].str.replace(',', '').astype('int64')\n",
        "\n",
        "# 숫자형으로 변환\n",
        "df['할인전 가격'] = pd.to_numeric(df['할인전 가격'])\n",
        "df['할인후 가격'] = pd.to_numeric(df['할인후 가격'])\n",
        "df['구매개수'] = pd.to_numeric(df['구매개수'])"
      ],
      "metadata": {
        "id": "1ptA5EzQFCKb"
      },
      "execution_count": 34,
      "outputs": []
    },
    {
      "cell_type": "code",
      "source": [
        "# '%' 제거\n",
        "df['할인율'] = df['할인율'].str[:-1]\n",
        "# 숫자형으로 변환\n",
        "df['할인율'] = pd.to_numeric(df['할인율'])"
      ],
      "metadata": {
        "id": "Tg7n8Yw0ERiV"
      },
      "execution_count": 35,
      "outputs": []
    },
    {
      "cell_type": "code",
      "source": [
        "# 원핫인코딩(카테고리)\n",
        "df = pd.get_dummies(data = df, columns = ['카테고리'], prefix = '카테고리')"
      ],
      "metadata": {
        "id": "AySyptE4HFAS"
      },
      "execution_count": 46,
      "outputs": []
    },
    {
      "cell_type": "code",
      "source": [
        "df.info()"
      ],
      "metadata": {
        "id": "GrUm9xKkmWP7",
        "outputId": "a8bbb59c-2898-4ed5-b398-cddfbea20095",
        "colab": {
          "base_uri": "https://localhost:8080/"
        }
      },
      "execution_count": 47,
      "outputs": [
        {
          "output_type": "stream",
          "name": "stdout",
          "text": [
            "<class 'pandas.core.frame.DataFrame'>\n",
            "Int64Index: 6387 entries, 0 to 909\n",
            "Data columns (total 12 columns):\n",
            " #   Column    Non-Null Count  Dtype \n",
            "---  ------    --------------  ----- \n",
            " 0   이미지링크     6387 non-null   object\n",
            " 1   배송명       6387 non-null   object\n",
            " 2   브랜드       6387 non-null   object\n",
            " 3   상품명       6387 non-null   object\n",
            " 4   할인율       6387 non-null   int64 \n",
            " 5   할인전 가격    6387 non-null   int64 \n",
            " 6   할인후 가격    6387 non-null   int64 \n",
            " 7   구매개수      6387 non-null   int64 \n",
            " 8   카테고리_바지   6387 non-null   uint8 \n",
            " 9   카테고리_상의   6387 non-null   uint8 \n",
            " 10  카테고리_스커트  6387 non-null   uint8 \n",
            " 11  카테고리_원피스  6387 non-null   uint8 \n",
            "dtypes: int64(4), object(4), uint8(4)\n",
            "memory usage: 474.0+ KB\n"
          ]
        }
      ]
    },
    {
      "cell_type": "code",
      "source": [
        "# 상수항 추가. 실행이 될 때마다 추가되기 때문에 독립된 셀에서 위로 빼두었습니다.\n",
        "df = sm.add_constant(df,has_constant=\"add\")"
      ],
      "metadata": {
        "id": "k-hXXvmhyuB6",
        "colab": {
          "base_uri": "https://localhost:8080/"
        },
        "outputId": "f000188c-0411-4145-969a-de4968b1e772"
      },
      "execution_count": null,
      "outputs": [
        {
          "output_type": "stream",
          "name": "stderr",
          "text": [
            "/usr/local/lib/python3.7/dist-packages/statsmodels/tsa/tsatools.py:117: FutureWarning: In a future version of pandas all arguments of concat except for the argument 'objs' will be keyword-only\n",
            "  x = pd.concat(x[::order], 1)\n"
          ]
        }
      ]
    },
    {
      "cell_type": "code",
      "source": [
        "# 특성 설정\n",
        "features_after_vif = ['할인율',\n",
        "                      '할인후 가격',\n",
        "                      '카테고리_바지',\n",
        "                      '카테고리_상의',\n",
        "                      '카테고리_스커트',\n",
        "                      '카테고리_원피스']\n",
        "\n",
        "\n",
        "target = '구매개수'\n",
        "x = df[features_after_vif]\n",
        "y = df[target]\n",
        "\n",
        "# 분할\n",
        "X_train ,X_test , y_train , y_test = train_test_split(x,y,train_size=0.7,test_size=0.3)\n",
        "print(X_train.shape, X_test.shape, y_train.shape, y_test.shape)\n",
        "\n",
        "#Train the MLR / 회귀모델적합\n",
        "Model = sm.OLS(y_train, X_train)\n",
        "FittedModel = Model.fit()\n",
        "\n",
        "print(FittedModel.summary())\n",
        "\n",
        "# 에러\n",
        "y_pred = FittedModel.predict(X_test)\n",
        "\n",
        "# 평가지표 계산\n",
        "print('평가지표')\n",
        "mse = mean_squared_error(y_test, y_pred)\n",
        "mae = mean_absolute_error(y_test, y_pred)\n",
        "rmse = mse ** 0.5\n",
        "r2 = r2_score(y_test, y_pred)\n",
        "display(pd.DataFrame([['MSE', mse],['MAE', mae],['RMSE', rmse],['R2', r2]], columns=['Metric', 'Score']))\n",
        "\n",
        "\n",
        "# VIF 계산\n",
        "vif = pd.DataFrame()\n",
        "vif[\"VIF Factor\"] = [variance_inflation_factor(X_train.values,i) for i in range(X_train.shape[1])]\n",
        "vif[\"features\"] = X_train.columns\n",
        "print(vif)"
      ],
      "metadata": {
        "colab": {
          "base_uri": "https://localhost:8080/",
          "height": 913
        },
        "id": "9tJAh45e84so",
        "outputId": "cf6bdaf2-2b39-4985-f892-68451e00faa7"
      },
      "execution_count": 50,
      "outputs": [
        {
          "output_type": "stream",
          "name": "stdout",
          "text": [
            "(4470, 6) (1917, 6) (4470,) (1917,)\n",
            "                            OLS Regression Results                            \n",
            "==============================================================================\n",
            "Dep. Variable:                   구매개수   R-squared:                       0.006\n",
            "Model:                            OLS   Adj. R-squared:                  0.005\n",
            "Method:                 Least Squares   F-statistic:                     5.507\n",
            "Date:                Tue, 05 Jul 2022   Prob (F-statistic):           4.64e-05\n",
            "Time:                        06:50:36   Log-Likelihood:                -40988.\n",
            "No. Observations:                4470   AIC:                         8.199e+04\n",
            "Df Residuals:                    4464   BIC:                         8.203e+04\n",
            "Df Model:                           5                                         \n",
            "Covariance Type:            nonrobust                                         \n",
            "==============================================================================\n",
            "                 coef    std err          t      P>|t|      [0.025      0.975]\n",
            "------------------------------------------------------------------------------\n",
            "할인율          -23.9640     12.517     -1.914      0.056     -48.504       0.576\n",
            "할인후 가격        -0.0153      0.004     -3.605      0.000      -0.024      -0.007\n",
            "카테고리_바지     1287.3730    184.211      6.989      0.000     926.228    1648.518\n",
            "카테고리_상의     1122.3814    159.010      7.059      0.000     810.644    1434.119\n",
            "카테고리_스커트    1045.2493    206.060      5.073      0.000     641.269    1449.230\n",
            "카테고리_원피스    1065.3735    211.480      5.038      0.000     650.767    1479.980\n",
            "==============================================================================\n",
            "Omnibus:                     8194.529   Durbin-Watson:                   2.017\n",
            "Prob(Omnibus):                  0.000   Jarque-Bera (JB):         12226204.725\n",
            "Skew:                          13.491   Prob(JB):                         0.00\n",
            "Kurtosis:                     257.786   Cond. No.                     3.09e+05\n",
            "==============================================================================\n",
            "\n",
            "Warnings:\n",
            "[1] Standard Errors assume that the covariance matrix of the errors is correctly specified.\n",
            "[2] The condition number is large, 3.09e+05. This might indicate that there are\n",
            "strong multicollinearity or other numerical problems.\n",
            "평가지표\n"
          ]
        },
        {
          "output_type": "display_data",
          "data": {
            "text/plain": [
              "  Metric         Score\n",
              "0    MSE  3.730746e+06\n",
              "1    MAE  7.335985e+02\n",
              "2   RMSE  1.931514e+03\n",
              "3     R2  1.257566e-02"
            ],
            "text/html": [
              "\n",
              "  <div id=\"df-11dee1e2-cd90-4a72-a832-a65b8aa93153\">\n",
              "    <div class=\"colab-df-container\">\n",
              "      <div>\n",
              "<style scoped>\n",
              "    .dataframe tbody tr th:only-of-type {\n",
              "        vertical-align: middle;\n",
              "    }\n",
              "\n",
              "    .dataframe tbody tr th {\n",
              "        vertical-align: top;\n",
              "    }\n",
              "\n",
              "    .dataframe thead th {\n",
              "        text-align: right;\n",
              "    }\n",
              "</style>\n",
              "<table border=\"1\" class=\"dataframe\">\n",
              "  <thead>\n",
              "    <tr style=\"text-align: right;\">\n",
              "      <th></th>\n",
              "      <th>Metric</th>\n",
              "      <th>Score</th>\n",
              "    </tr>\n",
              "  </thead>\n",
              "  <tbody>\n",
              "    <tr>\n",
              "      <th>0</th>\n",
              "      <td>MSE</td>\n",
              "      <td>3.730746e+06</td>\n",
              "    </tr>\n",
              "    <tr>\n",
              "      <th>1</th>\n",
              "      <td>MAE</td>\n",
              "      <td>7.335985e+02</td>\n",
              "    </tr>\n",
              "    <tr>\n",
              "      <th>2</th>\n",
              "      <td>RMSE</td>\n",
              "      <td>1.931514e+03</td>\n",
              "    </tr>\n",
              "    <tr>\n",
              "      <th>3</th>\n",
              "      <td>R2</td>\n",
              "      <td>1.257566e-02</td>\n",
              "    </tr>\n",
              "  </tbody>\n",
              "</table>\n",
              "</div>\n",
              "      <button class=\"colab-df-convert\" onclick=\"convertToInteractive('df-11dee1e2-cd90-4a72-a832-a65b8aa93153')\"\n",
              "              title=\"Convert this dataframe to an interactive table.\"\n",
              "              style=\"display:none;\">\n",
              "        \n",
              "  <svg xmlns=\"http://www.w3.org/2000/svg\" height=\"24px\"viewBox=\"0 0 24 24\"\n",
              "       width=\"24px\">\n",
              "    <path d=\"M0 0h24v24H0V0z\" fill=\"none\"/>\n",
              "    <path d=\"M18.56 5.44l.94 2.06.94-2.06 2.06-.94-2.06-.94-.94-2.06-.94 2.06-2.06.94zm-11 1L8.5 8.5l.94-2.06 2.06-.94-2.06-.94L8.5 2.5l-.94 2.06-2.06.94zm10 10l.94 2.06.94-2.06 2.06-.94-2.06-.94-.94-2.06-.94 2.06-2.06.94z\"/><path d=\"M17.41 7.96l-1.37-1.37c-.4-.4-.92-.59-1.43-.59-.52 0-1.04.2-1.43.59L10.3 9.45l-7.72 7.72c-.78.78-.78 2.05 0 2.83L4 21.41c.39.39.9.59 1.41.59.51 0 1.02-.2 1.41-.59l7.78-7.78 2.81-2.81c.8-.78.8-2.07 0-2.86zM5.41 20L4 18.59l7.72-7.72 1.47 1.35L5.41 20z\"/>\n",
              "  </svg>\n",
              "      </button>\n",
              "      \n",
              "  <style>\n",
              "    .colab-df-container {\n",
              "      display:flex;\n",
              "      flex-wrap:wrap;\n",
              "      gap: 12px;\n",
              "    }\n",
              "\n",
              "    .colab-df-convert {\n",
              "      background-color: #E8F0FE;\n",
              "      border: none;\n",
              "      border-radius: 50%;\n",
              "      cursor: pointer;\n",
              "      display: none;\n",
              "      fill: #1967D2;\n",
              "      height: 32px;\n",
              "      padding: 0 0 0 0;\n",
              "      width: 32px;\n",
              "    }\n",
              "\n",
              "    .colab-df-convert:hover {\n",
              "      background-color: #E2EBFA;\n",
              "      box-shadow: 0px 1px 2px rgba(60, 64, 67, 0.3), 0px 1px 3px 1px rgba(60, 64, 67, 0.15);\n",
              "      fill: #174EA6;\n",
              "    }\n",
              "\n",
              "    [theme=dark] .colab-df-convert {\n",
              "      background-color: #3B4455;\n",
              "      fill: #D2E3FC;\n",
              "    }\n",
              "\n",
              "    [theme=dark] .colab-df-convert:hover {\n",
              "      background-color: #434B5C;\n",
              "      box-shadow: 0px 1px 3px 1px rgba(0, 0, 0, 0.15);\n",
              "      filter: drop-shadow(0px 1px 2px rgba(0, 0, 0, 0.3));\n",
              "      fill: #FFFFFF;\n",
              "    }\n",
              "  </style>\n",
              "\n",
              "      <script>\n",
              "        const buttonEl =\n",
              "          document.querySelector('#df-11dee1e2-cd90-4a72-a832-a65b8aa93153 button.colab-df-convert');\n",
              "        buttonEl.style.display =\n",
              "          google.colab.kernel.accessAllowed ? 'block' : 'none';\n",
              "\n",
              "        async function convertToInteractive(key) {\n",
              "          const element = document.querySelector('#df-11dee1e2-cd90-4a72-a832-a65b8aa93153');\n",
              "          const dataTable =\n",
              "            await google.colab.kernel.invokeFunction('convertToInteractive',\n",
              "                                                     [key], {});\n",
              "          if (!dataTable) return;\n",
              "\n",
              "          const docLinkHtml = 'Like what you see? Visit the ' +\n",
              "            '<a target=\"_blank\" href=https://colab.research.google.com/notebooks/data_table.ipynb>data table notebook</a>'\n",
              "            + ' to learn more about interactive tables.';\n",
              "          element.innerHTML = '';\n",
              "          dataTable['output_type'] = 'display_data';\n",
              "          await google.colab.output.renderOutput(dataTable, element);\n",
              "          const docLink = document.createElement('div');\n",
              "          docLink.innerHTML = docLinkHtml;\n",
              "          element.appendChild(docLink);\n",
              "        }\n",
              "      </script>\n",
              "    </div>\n",
              "  </div>\n",
              "  "
            ]
          },
          "metadata": {}
        },
        {
          "output_type": "stream",
          "name": "stdout",
          "text": [
            "   VIF Factor  features\n",
            "0    1.007346       할인율\n",
            "1    1.390448    할인후 가격\n",
            "2    9.613424   카테고리_바지\n",
            "3    8.936141   카테고리_상의\n",
            "4    3.158534  카테고리_스커트\n",
            "5    5.188930  카테고리_원피스\n"
          ]
        }
      ]
    },
    {
      "cell_type": "markdown",
      "source": [
        "- 할인전 가격이 너무 높게 나와서 제외\n",
        "- 모델 설명력이 너무 부족하게 나옴. 피처수가 많이 부족해서 이런 현상이 발생하는 것 같아 보임."
      ],
      "metadata": {
        "id": "thvMjZKqCwVU"
      }
    },
    {
      "cell_type": "code",
      "source": [
        ""
      ],
      "metadata": {
        "id": "Sd1d_K0fHgE2"
      },
      "execution_count": null,
      "outputs": []
    }
  ]
}