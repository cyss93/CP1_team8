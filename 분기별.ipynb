{
  "nbformat": 4,
  "nbformat_minor": 0,
  "metadata": {
    "colab": {
      "name": "Untitled62.ipynb",
      "private_outputs": true,
      "provenance": [],
      "collapsed_sections": []
    },
    "kernelspec": {
      "name": "python3",
      "display_name": "Python 3"
    },
    "language_info": {
      "name": "python"
    }
  },
  "cells": [
    {
      "cell_type": "code",
      "execution_count": null,
      "metadata": {
        "id": "WG5rkj6BKqma"
      },
      "outputs": [],
      "source": [
        "import pandas as pd\n",
        "import numpy as np\n",
        "import matplotlib_inline\n",
        "import matplotlib.pyplot as plt"
      ]
    },
    {
      "cell_type": "code",
      "source": [
        "df = pd.read_csv('/content/olist_customers_dataset.csv')"
      ],
      "metadata": {
        "id": "mnV_KDPvLHh1"
      },
      "execution_count": null,
      "outputs": []
    },
    {
      "cell_type": "code",
      "source": [
        "df_1 = pd.read_csv('/content/olist_sellers_dataset.csv')"
      ],
      "metadata": {
        "id": "wRfuZ-uAM1V7"
      },
      "execution_count": null,
      "outputs": []
    },
    {
      "cell_type": "code",
      "source": [
        "df_2 = pd.read_csv('/content/olist_products_dataset.csv')\n",
        "df_3 = pd.read_csv('/content/olist_sellers_dataset.csv')\n",
        "df_4 = pd.read_csv('/content/olist_customers_dataset.csv')"
      ],
      "metadata": {
        "id": "PyjgvMWQM1kM"
      },
      "execution_count": null,
      "outputs": []
    },
    {
      "cell_type": "code",
      "source": [
        "df_5 = pd.read_csv('/content/olist_orders_dataset.csv')\n",
        "#df_5\n",
        "print(df_5['order_purchase_timestamp'].min())\n",
        "print(df_5['order_purchase_timestamp'].max())"
      ],
      "metadata": {
        "id": "hGnFtkacM8kJ"
      },
      "execution_count": null,
      "outputs": []
    },
    {
      "cell_type": "code",
      "source": [
        "df_a = pd.read_csv('/content/olist_products_dataset.csv')\n",
        "df_a['product_category_name'].value_counts()"
      ],
      "metadata": {
        "id": "x3gHVpP9b509"
      },
      "execution_count": null,
      "outputs": []
    },
    {
      "cell_type": "code",
      "source": [
        "df_6 = pd.read_csv('/content/olist_order_items_dataset.csv')\n",
        "df_6['sum_price'] = df_6['price'] + df_6['freight_value']\n",
        "df_6['avg_freight_value'] = df_6['sum_price'] / df_6['freight_value']"
      ],
      "metadata": {
        "id": "-xqbRDifNOWF"
      },
      "execution_count": null,
      "outputs": []
    },
    {
      "cell_type": "code",
      "source": [
        "df_left = pd.merge(df_6,df_5,left_on='order_id',right_on='order_id',how='left')"
      ],
      "metadata": {
        "id": "7DVgphZzNfdj"
      },
      "execution_count": null,
      "outputs": []
    },
    {
      "cell_type": "code",
      "source": [
        "gmv = df_left"
      ],
      "metadata": {
        "id": "nR9e_OHGge7y"
      },
      "execution_count": null,
      "outputs": []
    },
    {
      "cell_type": "code",
      "source": [
        "gmv"
      ],
      "metadata": {
        "id": "RI74OhpMm4Cy"
      },
      "execution_count": null,
      "outputs": []
    },
    {
      "cell_type": "code",
      "source": [
        "gmv.drop(['order_item_id','product_id','seller_id','customer_id','order_status'],axis=1,inplace=True)"
      ],
      "metadata": {
        "id": "oDPiRQSCmYuc"
      },
      "execution_count": null,
      "outputs": []
    },
    {
      "cell_type": "code",
      "source": [
        "gmv"
      ],
      "metadata": {
        "id": "lkHktPoMJWGv"
      },
      "execution_count": null,
      "outputs": []
    },
    {
      "cell_type": "code",
      "source": [
        "n_gmv =gmv[['price','freight_value','sum_price','avg_freight_value','order_approved_at']]"
      ],
      "metadata": {
        "id": "QtuzWrzamhB_"
      },
      "execution_count": null,
      "outputs": []
    },
    {
      "cell_type": "code",
      "source": [
        "n_gmv['order_approved_at'] = pd.to_datetime(n_gmv['order_approved_at'])"
      ],
      "metadata": {
        "id": "hsDPdarDDexS"
      },
      "execution_count": null,
      "outputs": []
    },
    {
      "cell_type": "code",
      "source": [
        "n_gmv.info()"
      ],
      "metadata": {
        "id": "X5y-R0oeD2xj"
      },
      "execution_count": null,
      "outputs": []
    },
    {
      "cell_type": "code",
      "source": [
        "print(n_gmv['order_approved_at'].min())\n",
        "print(n_gmv['order_approved_at'].max())"
      ],
      "metadata": {
        "id": "6x0irPpbqwDu"
      },
      "execution_count": null,
      "outputs": []
    },
    {
      "cell_type": "code",
      "source": [
        "n_gmv.dropna(axis=0,inplace=True)"
      ],
      "metadata": {
        "id": "SLQqyseCEpol"
      },
      "execution_count": null,
      "outputs": []
    },
    {
      "cell_type": "code",
      "source": [
        "mask_16_4 = (n_gmv['order_approved_at'] >= '2016-10-01') & (n_gmv['order_approved_at'] <= '2016-12-31')\n",
        "mask_17_1 = (n_gmv['order_approved_at'] >= '2017-01-01') & (n_gmv['order_approved_at'] <= '2017-03-31')\n",
        "mask_17_2 = (n_gmv['order_approved_at'] >= '2017-04-01') & (n_gmv['order_approved_at'] <= '2017-06-30')\n",
        "mask_17_3 = (n_gmv['order_approved_at'] >= '2017-07-01') & (n_gmv['order_approved_at'] <= '2017-09-30')\n",
        "mask_17_4 = (n_gmv['order_approved_at'] >= '2017-10-01') & (n_gmv['order_approved_at'] <= '2017-12-31')\n",
        "mask_18_1 = (n_gmv['order_approved_at'] >= '2018-01-01') & (n_gmv['order_approved_at'] <= '2018-03-31')\n",
        "mask_18_2 = (n_gmv['order_approved_at'] >= '2018-04-01') & (n_gmv['order_approved_at'] <= '2018-06-30')\n",
        "mask_18_3 = (n_gmv['order_approved_at'] >= '2018-06-01') & (n_gmv['order_approved_at'] <= '2018-09-30')\n",
        "\n"
      ],
      "metadata": {
        "id": "M4HBGntKm8r7"
      },
      "execution_count": null,
      "outputs": []
    },
    {
      "cell_type": "code",
      "source": [
        "df_16_4 =n_gmv.loc[mask_16_4]\n",
        "df_17_1 =n_gmv.loc[mask_17_1]\n",
        "df_17_2 =n_gmv.loc[mask_17_2]\n",
        "df_17_3 =n_gmv.loc[mask_17_3]\n",
        "df_17_4 =n_gmv.loc[mask_17_4]\n",
        "df_18_1 =n_gmv.loc[mask_18_1]\n",
        "df_18_2 =n_gmv.loc[mask_18_2]\n",
        "df_18_3 =n_gmv.loc[mask_18_3]"
      ],
      "metadata": {
        "id": "SJFZwGKVns7F"
      },
      "execution_count": null,
      "outputs": []
    },
    {
      "cell_type": "markdown",
      "source": [
        "쿠팡의 수수료방식을 바탕으로 olist의 매출분석\n"
      ],
      "metadata": {
        "id": "hvhd0pB6PtIP"
      }
    },
    {
      "cell_type": "markdown",
      "source": [
        "판매수수료 : 10%\n",
        "배송수수료 : 3.3%\n",
        "서버이용료 : 55,000원 (월100만원이상 판매한사람한테만 해당)"
      ],
      "metadata": {
        "id": "oFtB-djFPyaB"
      }
    },
    {
      "cell_type": "code",
      "source": [
        "df_16_4"
      ],
      "metadata": {
        "id": "L41M08CaQ25B"
      },
      "execution_count": null,
      "outputs": []
    },
    {
      "cell_type": "code",
      "source": [
        "print(367/(df_16_4['price'].sum() - (df_16_4['price'].sum()*0.9)) + (df_16_4['freight_value'].sum() - (df_16_4['freight_value'].sum()*0.964)))\n",
        "GMV_a['16years_4quarter']=(df_16_4['price'].sum() + (df_16_4['freight_value'].sum()))\n",
        "GMV_a['17years_1quarter']=(df_17_1['price'].sum() + (df_17_1['freight_value'].sum()))\n",
        "GMV_a['17years_2quarter']=(df_17_2['price'].sum() + (df_17_2['freight_value'].sum()))\n",
        "GMV_a['17years_3quarter']=(df_17_3['price'].sum() + (df_17_3['freight_value'].sum()))\n",
        "GMV_a['17years_4quarter']=(df_17_4['price'].sum() + (df_17_4['freight_value'].sum()))\n",
        "GMV_a['18years_1quarter']=(df_18_1['price'].sum() + (df_18_1['freight_value'].sum()))\n",
        "GMV_a['18years_2quarter']=(df_18_2['price'].sum() + (df_18_2['freight_value'].sum()))\n",
        "GMV_a['18years_3quarter']=(df_18_3['price'].sum() + (df_18_3['freight_value'].sum()))\n",
        "\n",
        "# 총매출액"
      ],
      "metadata": {
        "id": "hPnErO7JsSka"
      },
      "execution_count": null,
      "outputs": []
    },
    {
      "cell_type": "markdown",
      "source": [
        "만약에 16년도 4분기에 가구가 TOP5\n",
        "17년도 1분기에 가구가없지만 17년도 2분기에는 가장많이팔렸다."
      ],
      "metadata": {
        "id": "LHIWVLR4dAl0"
      }
    },
    {
      "cell_type": "code",
      "source": [
        "GMV_a.T[0]"
      ],
      "metadata": {
        "id": "fTEy7S-HUwaX"
      },
      "execution_count": null,
      "outputs": []
    },
    {
      "cell_type": "code",
      "source": [
        "GMV_a['16years_4quarter']"
      ],
      "metadata": {
        "id": "WHgM6yUEy3Dw"
      },
      "execution_count": null,
      "outputs": []
    },
    {
      "cell_type": "code",
      "source": [
        "import matplotlib.font_manager as fm\n",
        "\n",
        "# 설치된 폰트 출력\n",
        "font_list = [font.name for font in fm.fontManager.ttflist]\n",
        "font_list"
      ],
      "metadata": {
        "id": "g1vnaOvt2q2p"
      },
      "execution_count": null,
      "outputs": []
    },
    {
      "cell_type": "code",
      "source": [
        "new_GMV=GMV_a.T"
      ],
      "metadata": {
        "id": "ZEVetiKO9HNT"
      },
      "execution_count": null,
      "outputs": []
    },
    {
      "cell_type": "code",
      "source": [
        "new_GMV = new_GMV.reset_index()"
      ],
      "metadata": {
        "id": "_boNrcd893WG"
      },
      "execution_count": null,
      "outputs": []
    },
    {
      "cell_type": "code",
      "source": [
        "new_GMV.columns = ['quarter','sales amount']"
      ],
      "metadata": {
        "id": "iq8HUzfi-HVS"
      },
      "execution_count": null,
      "outputs": []
    },
    {
      "cell_type": "code",
      "source": [
        "new_GMV"
      ],
      "metadata": {
        "id": "5AVXmMot-c68"
      },
      "execution_count": null,
      "outputs": []
    },
    {
      "cell_type": "code",
      "source": [
        "import matplotlib.pyplot as plt\n",
        "import numpy as np\n",
        " \n",
        "mean_sales = int(np.mean(new_GMV['sales amount']))\n",
        " \n",
        "fig = plt.figure(figsize=(10,10)) ## 캔버스 생성\n",
        "fig.set_facecolor('white') ## 캔버스 색상 설정\n",
        "ax = fig.add_subplot() ## 그림 뼈대(프레임) 생성\n",
        " \n",
        "ax.spines['right'].set_visible(False) ## 오른쪽 축 숨김\n",
        "ax.spines['top'].set_visible(False) ## 위쪽 축 숨김\n",
        " \n",
        "args_plot = [new_GMV['quarter'], new_GMV['sales amount']] ## 데이터 인자\n",
        "config_plot = dict( ## 키워드 인자\n",
        "    color='#c02ad1', # 선 색깔\n",
        "    linestyle='solid', # 선 스타일\n",
        "    linewidth=2, # 선 두께 \n",
        "    marker='o', # 마커 모양\n",
        "    markersize=10, # 마커 사이즈\n",
        "    markeredgecolor='white', # 마커 테두리 색깔\n",
        "    markeredgewidth=3, # 마커 테두리 두께\n",
        ")\n",
        " \n",
        "line_plot = ax.plot(label='Sales', *args_plot,**config_plot) ## 선그래프 생성 - 범례라벨 추가\n",
        "line_plot = line_plot[0] ## 선 그래프 요소\n",
        " \n",
        "ax.axhline(mean_sales,label='Mean') ## 평균값을 y좌표로 하는 수평선 생성\n",
        "ax.text(0,mean_sales+10,f'Mean of Sales : {mean_sales}',fontsize=13) ## 평균 매출 텍스트 출력\n",
        " \n",
        "bbox = dict( ## 텍스트 박스 스타일 지정\n",
        "    boxstyle='square', # 박스 모양\n",
        "    facecolor='white', # 박스 배경색\n",
        ")\n",
        " \n",
        "for coord in list(line_plot.get_xydata()):\n",
        "    ax.text(coord[0],coord[1]+10,f'{int(coord[1])}',fontsize=12, ha='center', bbox=bbox) ## 선 그래프 텍스트\n",
        " \n",
        "ylim = ax.get_ylim() ## 기존의 y축 범위를 저장\n",
        " \n",
        "yticks = list(ax.get_yticks()) ## y축 눈금을 가져온다.\n",
        " \n",
        "for y in yticks:\n",
        "    ax.axhline(y,linestyle=(0,(5,2)),color='grey',alpha=0.5) ## 눈금선 생성\n",
        " \n",
        "## 평균값을 y 눈금에 추가한다.\n",
        "yticks.append(mean_sales)\n",
        "yticks = sorted(yticks)\n",
        " \n",
        "ax.set_yticks(yticks) ## 평균이 포함된 y눈금으로 새롭게 세팅한다.\n",
        "ax.set_ylim(ylim) ## 기존의 y축 범위를 유지\n",
        "ax.legend(loc='upper left', fontsize=15) ## 범례 생성\n",
        " \n",
        "plt.xticks(rotation=45) ## x축 눈금 라벨 설정 - 40도 회전 \n",
        "plt.title('Sales for Quarter',fontsize=20) ## 타이틀 설정\n",
        "plt.show()"
      ],
      "metadata": {
        "id": "l-17S6X_9mqN"
      },
      "execution_count": null,
      "outputs": []
    },
    {
      "cell_type": "code",
      "source": [
        "n_gmv"
      ],
      "metadata": {
        "id": "NV9RkLtyCRjP"
      },
      "execution_count": null,
      "outputs": []
    },
    {
      "cell_type": "code",
      "source": [
        ""
      ],
      "metadata": {
        "id": "0RqxyFYcHqMs"
      },
      "execution_count": null,
      "outputs": []
    }
  ]
}