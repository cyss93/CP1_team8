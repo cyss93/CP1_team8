{
  "nbformat": 4,
  "nbformat_minor": 0,
  "metadata": {
    "colab": {
      "name": "Untitled62.ipynb",
      "private_outputs": true,
      "provenance": []
    },
    "kernelspec": {
      "name": "python3",
      "display_name": "Python 3"
    },
    "language_info": {
      "name": "python"
    }
  },
  "cells": [
    {
      "cell_type": "code",
      "execution_count": null,
      "metadata": {
        "id": "WG5rkj6BKqma"
      },
      "outputs": [],
      "source": [
        "import pandas as pd\n",
        "import numpy as np\n",
        "import matplotlib_inline\n",
        "import matplotlib.pyplot as plt"
      ]
    },
    {
      "cell_type": "code",
      "source": [
        "df = pd.read_csv('/content/olist_customers_dataset.csv')"
      ],
      "metadata": {
        "id": "mnV_KDPvLHh1"
      },
      "execution_count": null,
      "outputs": []
    },
    {
      "cell_type": "code",
      "source": [
        "df_1 = pd.read_csv('/content/olist_sellers_dataset.csv')"
      ],
      "metadata": {
        "id": "wRfuZ-uAM1V7"
      },
      "execution_count": null,
      "outputs": []
    },
    {
      "cell_type": "code",
      "source": [
        "df_2 = pd.read_csv('/content/olist_products_dataset.csv')\n",
        "df_3 = pd.read_csv('/content/olist_sellers_dataset.csv')\n",
        "df_4 = pd.read_csv('/content/olist_customers_dataset.csv')"
      ],
      "metadata": {
        "id": "PyjgvMWQM1kM"
      },
      "execution_count": null,
      "outputs": []
    },
    {
      "cell_type": "code",
      "source": [
        "df_5 = pd.read_csv('/content/olist_orders_dataset.csv')\n",
        "#df_5\n",
        "print(df_5['order_purchase_timestamp'].min())\n",
        "print(df_5['order_purchase_timestamp'].max())"
      ],
      "metadata": {
        "id": "hGnFtkacM8kJ"
      },
      "execution_count": null,
      "outputs": []
    },
    {
      "cell_type": "code",
      "source": [
        "df_a = pd.read_csv('/content/olist_products_dataset.csv')\n",
        "df_a['product_category_name'].value_counts()"
      ],
      "metadata": {
        "id": "x3gHVpP9b509"
      },
      "execution_count": null,
      "outputs": []
    },
    {
      "cell_type": "code",
      "source": [
        "df_6 = pd.read_csv('/content/olist_order_items_dataset.csv')\n",
        "df_6['sum_price'] = df_6['price'] + df_6['freight_value']\n",
        "df_6['avg_freight_value'] = df_6['sum_price'] / df_6['freight_value']"
      ],
      "metadata": {
        "id": "-xqbRDifNOWF"
      },
      "execution_count": null,
      "outputs": []
    },
    {
      "cell_type": "code",
      "source": [
        "df_left = pd.merge(df_6,df_5,left_on='order_id',right_on='order_id',how='left')"
      ],
      "metadata": {
        "id": "7DVgphZzNfdj"
      },
      "execution_count": null,
      "outputs": []
    },
    {
      "cell_type": "code",
      "source": [
        "gmv = df_left"
      ],
      "metadata": {
        "id": "nR9e_OHGge7y"
      },
      "execution_count": null,
      "outputs": []
    },
    {
      "cell_type": "code",
      "source": [
        "gmv"
      ],
      "metadata": {
        "id": "RI74OhpMm4Cy"
      },
      "execution_count": null,
      "outputs": []
    },
    {
      "cell_type": "code",
      "source": [
        "gmv.drop(['order_item_id','product_id','seller_id','customer_id','order_status'],axis=1,inplace=True)"
      ],
      "metadata": {
        "id": "oDPiRQSCmYuc"
      },
      "execution_count": null,
      "outputs": []
    },
    {
      "cell_type": "code",
      "source": [
        "n_gmv =gmv[['price','freight_value','sum_price','avg_freight_value','order_estimated_delivery_date']]"
      ],
      "metadata": {
        "id": "QtuzWrzamhB_"
      },
      "execution_count": null,
      "outputs": []
    },
    {
      "cell_type": "code",
      "source": [
        "print(n_gmv['order_estimated_delivery_date'].min())\n",
        "print(n_gmv['order_estimated_delivery_date'].max())"
      ],
      "metadata": {
        "id": "6x0irPpbqwDu"
      },
      "execution_count": null,
      "outputs": []
    },
    {
      "cell_type": "code",
      "source": [
        "mask_16_4 = (n_gmv['order_estimated_delivery_date'] > '2016-10-01') & (n_gmv['order_estimated_delivery_date'] <= '2016-12-31')\n",
        "mask_17_1 = (n_gmv['order_estimated_delivery_date'] > '2017-01-01') & (n_gmv['order_estimated_delivery_date'] <= '2017-03-31')\n",
        "mask_17_2 = (n_gmv['order_estimated_delivery_date'] > '2017-04-01') & (n_gmv['order_estimated_delivery_date'] <= '2017-06-31')\n",
        "mask_17_3 = (n_gmv['order_estimated_delivery_date'] > '2017-07-01') & (n_gmv['order_estimated_delivery_date'] <= '2017-09-31')\n",
        "mask_17_4 = (n_gmv['order_estimated_delivery_date'] > '2017-10-01') & (n_gmv['order_estimated_delivery_date'] <= '2017-12-31')\n",
        "mask_18_1 = (n_gmv['order_estimated_delivery_date'] > '2018-01-01') & (n_gmv['order_estimated_delivery_date'] <= '2018-03-31')\n",
        "mask_18_2 = (n_gmv['order_estimated_delivery_date'] > '2018-04-01') & (n_gmv['order_estimated_delivery_date'] <= '2018-06-31')\n",
        "mask_18_3 = (n_gmv['order_estimated_delivery_date'] > '2018-06-01') & (n_gmv['order_estimated_delivery_date'] <= '2018-09-31')\n",
        "\n"
      ],
      "metadata": {
        "id": "M4HBGntKm8r7"
      },
      "execution_count": null,
      "outputs": []
    },
    {
      "cell_type": "code",
      "source": [
        "df_16_4 =n_gmv.loc[mask_16_4]\n",
        "df_17_1 =n_gmv.loc[mask_17_1]\n",
        "df_17_2 =n_gmv.loc[mask_17_2]\n",
        "df_17_3 =n_gmv.loc[mask_17_3]\n",
        "df_17_4 =n_gmv.loc[mask_17_4]\n",
        "df_18_1 =n_gmv.loc[mask_18_1]\n",
        "df_18_2 =n_gmv.loc[mask_18_2]\n",
        "df_18_3 =n_gmv.loc[mask_18_3]"
      ],
      "metadata": {
        "id": "SJFZwGKVns7F"
      },
      "execution_count": null,
      "outputs": []
    },
    {
      "cell_type": "code",
      "source": [
        ""
      ],
      "metadata": {
        "id": "pwvV0U00QBvp"
      },
      "execution_count": null,
      "outputs": []
    },
    {
      "cell_type": "markdown",
      "source": [
        "쿠팡의 수수료방식을 바탕으로 olist의 매출분석\n"
      ],
      "metadata": {
        "id": "hvhd0pB6PtIP"
      }
    },
    {
      "cell_type": "markdown",
      "source": [
        "판매수수료 : 10%\n",
        "배송수수료 : 3.3%\n",
        "서버이용료 : 55,000원 (월100만원이상 판매한사람한테만 해당)"
      ],
      "metadata": {
        "id": "oFtB-djFPyaB"
      }
    },
    {
      "cell_type": "code",
      "source": [
        "df_16_4"
      ],
      "metadata": {
        "id": "L41M08CaQ25B"
      },
      "execution_count": null,
      "outputs": []
    },
    {
      "cell_type": "code",
      "source": [
        "GMV_a = pd.DataFrame({'16년도_4분기':[0]})"
      ],
      "metadata": {
        "id": "HQ29p7qDTBeS"
      },
      "execution_count": null,
      "outputs": []
    },
    {
      "cell_type": "code",
      "source": [
        "print(367/(df_16_4['price'].sum() - (df_16_4['price'].sum()*0.9)) + (df_16_4['freight_value'].sum() - (df_16_4['freight_value'].sum()*0.964)))\n",
        "GMV_a['16년도_4분기']=(df_16_4['price'].sum() + (df_16_4['freight_value'].sum()))\n",
        "GMV_a['17년도_1분기']=(df_17_1['price'].sum() + (df_17_1['freight_value'].sum()))\n",
        "GMV_a['17년도_2분기']=(df_17_2['price'].sum() + (df_17_2['freight_value'].sum()))\n",
        "GMV_a['17년도_3분기']=(df_17_3['price'].sum() + (df_17_3['freight_value'].sum()))\n",
        "GMV_a['17년도_4분기']=(df_17_4['price'].sum() + (df_17_4['freight_value'].sum()))\n",
        "GMV_a['18년도_1분기']=(df_18_1['price'].sum() + (df_18_1['freight_value'].sum()))\n",
        "GMV_a['18년도_2분기']=(df_18_2['price'].sum() + (df_18_2['freight_value'].sum()))\n",
        "GMV_a['18년도_3분기']=(df_18_3['price'].sum() + (df_18_3['freight_value'].sum()))\n",
        "\n",
        "# 총매출액"
      ],
      "metadata": {
        "id": "hPnErO7JsSka"
      },
      "execution_count": null,
      "outputs": []
    },
    {
      "cell_type": "markdown",
      "source": [
        "만약에 16년도 4분기에 가구가 TOP5\n",
        "17년도 1분기에 가구가없지만 17년도 2분기에는 가장많이팔렸다."
      ],
      "metadata": {
        "id": "LHIWVLR4dAl0"
      }
    },
    {
      "cell_type": "code",
      "source": [
        "GMV_a"
      ],
      "metadata": {
        "id": "fTEy7S-HUwaX"
      },
      "execution_count": null,
      "outputs": []
    },
    {
      "cell_type": "code",
      "source": [
        "x = ['16년도_4분기','17년도_1분기','17년도_2분기','17년도_3분기','17년도_4분기','18년도_1분기','18년도_2분기','18년도_3분기']\n",
        "y = [GMV_a['16년도_4분기'],GMV_a['17년도_1분기'],GMV_a['17년도_2분기'],GMV_a['17년도_3분기'],GMV_a['17년도_4분기'],GMV_a['18년도_1분기'],GMV_a['18년도_2분기'],GMV_a['18년도_3분기']]\n",
        "plt.figure(figsize=(16,16))\n",
        "plt.plot(x,y)\n",
        "plt.show"
      ],
      "metadata": {
        "id": "1R0Q-2_bsanA"
      },
      "execution_count": null,
      "outputs": []
    },
    {
      "cell_type": "code",
      "source": [
        ""
      ],
      "metadata": {
        "id": "2OWUrsqpS7Kq"
      },
      "execution_count": null,
      "outputs": []
    }
  ]
}