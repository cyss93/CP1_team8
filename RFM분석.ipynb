{
  "nbformat": 4,
  "nbformat_minor": 0,
  "metadata": {
    "colab": {
      "name": "위도,경도.ipynb",
      "private_outputs": true,
      "provenance": [],
      "include_colab_link": true
    },
    "kernelspec": {
      "name": "python3",
      "display_name": "Python 3"
    },
    "language_info": {
      "name": "python"
    }
  },
  "cells": [
    {
      "cell_type": "markdown",
      "metadata": {
        "id": "view-in-github",
        "colab_type": "text"
      },
      "source": [
        "<a href=\"https://colab.research.google.com/github/cyss93/CP1_team8/blob/main/RFM%EB%B6%84%EC%84%9D.ipynb\" target=\"_parent\"><img src=\"https://colab.research.google.com/assets/colab-badge.svg\" alt=\"Open In Colab\"/></a>"
      ]
    },
    {
      "cell_type": "code",
      "source": [
        "import pandas as pd\n",
        "import matplotlib.pyplot as plt"
      ],
      "metadata": {
        "id": "9vEv4zcEs9IE"
      },
      "execution_count": null,
      "outputs": []
    },
    {
      "cell_type": "code",
      "source": [
        "df_customer = pd.read_csv('olist_customers_dataset.csv')\n",
        "df_sellers = pd.read_csv('olist_sellers_dataset.csv')\n",
        "df_products = pd.read_csv('olist_products_dataset.csv')\n",
        "df_orders = pd.read_csv('olist_orders_dataset.csv')\n",
        "df_order_items = pd.read_csv('olist_order_items_dataset.csv')"
      ],
      "metadata": {
        "id": "n_HouKKSil8-"
      },
      "execution_count": null,
      "outputs": []
    },
    {
      "cell_type": "code",
      "source": [
        "df_for_cate_temp = pd.merge(df_orders, df_order_items, how = 'inner', on = 'order_id') # 양쪽에 모두 존재하는 값들만 가져오기위해 inner 사용\n",
        "df_for_cate = pd.merge(df_for_cate_temp, df_products, how = 'inner', on = 'product_id') # 여기도 역시 양쪽에 모두 존재하는 값들만 가져오기"
      ],
      "metadata": {
        "id": "Wc4o-HC-ivF3"
      },
      "execution_count": null,
      "outputs": []
    },
    {
      "cell_type": "code",
      "source": [
        "df_trans = pd.read_csv('product_category_name_translation.csv')"
      ],
      "metadata": {
        "id": "eDrdFwYeixzH"
      },
      "execution_count": null,
      "outputs": []
    },
    {
      "cell_type": "code",
      "source": [
        "df_for_cate['big_product_category_name'] = 'No Category'"
      ],
      "metadata": {
        "id": "ZlRcJGQEi8ng"
      },
      "execution_count": null,
      "outputs": []
    },
    {
      "cell_type": "code",
      "source": [
        "df_for_cate"
      ],
      "metadata": {
        "id": "Ah19QNtqwvhd"
      },
      "execution_count": null,
      "outputs": []
    },
    {
      "cell_type": "code",
      "source": [
        "appliances = df_for_cate.loc[df_for_cate['big_product_category_name']=='appliances']"
      ],
      "metadata": {
        "id": "fVcS79CbjCdA"
      },
      "execution_count": null,
      "outputs": []
    },
    {
      "cell_type": "code",
      "source": [
        "df_for_cate.columns"
      ],
      "metadata": {
        "id": "TWpi_IFQqzuw"
      },
      "execution_count": null,
      "outputs": []
    },
    {
      "cell_type": "code",
      "source": [
        "appliances['count'] = 1\n",
        "a = appliances.groupby('seller_id').sum().sort_values(by=['count'],axis=0,ascending=False)"
      ],
      "metadata": {
        "id": "U5bGLW0Mq2gF"
      },
      "execution_count": null,
      "outputs": []
    },
    {
      "cell_type": "code",
      "source": [
        "a.sort_values(by=['price'],axis=0,ascending=False)"
      ],
      "metadata": {
        "id": "tEK9EgeZrRaS"
      },
      "execution_count": null,
      "outputs": []
    },
    {
      "cell_type": "code",
      "source": [
        "import pandas as pd"
      ],
      "metadata": {
        "id": "qC_lRr-RzoUf"
      },
      "execution_count": null,
      "outputs": []
    },
    {
      "cell_type": "code",
      "source": [
        "df_for_cate['count'] = 1"
      ],
      "metadata": {
        "id": "oDBO2_ex06OX"
      },
      "execution_count": null,
      "outputs": []
    },
    {
      "cell_type": "code",
      "source": [
        "df_for_cate"
      ],
      "metadata": {
        "id": "AFHw3Lfx2Y1c"
      },
      "execution_count": null,
      "outputs": []
    },
    {
      "cell_type": "code",
      "source": [
        "df_for_cate['sum_price'] = df_for_cate['price'] + df_for_cate['freight_value']\n",
        "new_df = df_for_cate[['seller_id','sum_price','count','order_approved_at']]"
      ],
      "metadata": {
        "id": "HBBZ_JvmzHQN"
      },
      "execution_count": null,
      "outputs": []
    },
    {
      "cell_type": "code",
      "source": [
        "date=new_df.sort_values(by='order_approved_at',ascending=False)\n",
        "date = date[['seller_id','order_approved_at']]\n",
        "date.dropna(axis=0,inplace=True)"
      ],
      "metadata": {
        "id": "spEOUTZx1djm"
      },
      "execution_count": null,
      "outputs": []
    },
    {
      "cell_type": "code",
      "source": [
        "date.drop_duplicates(['seller_id'],keep='first',inplace=True)"
      ],
      "metadata": {
        "id": "zaDoJrMb2_WD"
      },
      "execution_count": null,
      "outputs": []
    },
    {
      "cell_type": "code",
      "source": [
        "date"
      ],
      "metadata": {
        "id": "yXUgr5_i3aa3"
      },
      "execution_count": null,
      "outputs": []
    },
    {
      "cell_type": "code",
      "source": [
        "new_df"
      ],
      "metadata": {
        "id": "XhjRvGTh2St1"
      },
      "execution_count": null,
      "outputs": []
    },
    {
      "cell_type": "code",
      "source": [
        "new_df = new_df.groupby('seller_id').sum()"
      ],
      "metadata": {
        "id": "-FiEzrh51CPB"
      },
      "execution_count": null,
      "outputs": []
    },
    {
      "cell_type": "code",
      "source": [
        "new_df = pd.merge(new_df,date,how='inner',on = 'seller_id')"
      ],
      "metadata": {
        "id": "bkNjLGzA3hn7"
      },
      "execution_count": null,
      "outputs": []
    },
    {
      "cell_type": "code",
      "source": [
        "new_df"
      ],
      "metadata": {
        "id": "34uyRglMzx1K"
      },
      "execution_count": null,
      "outputs": []
    },
    {
      "cell_type": "code",
      "source": [
        "new_df['order_approved_at'] = pd.to_datetime(new_df['order_approved_at'])"
      ],
      "metadata": {
        "id": "8dUxS520ASPp"
      },
      "execution_count": null,
      "outputs": []
    },
    {
      "cell_type": "code",
      "source": [
        "print(new_df['order_approved_at'].min())\n",
        "print(new_df['order_approved_at'].max())"
      ],
      "metadata": {
        "id": "4jQt8D3z3xdp"
      },
      "execution_count": null,
      "outputs": []
    },
    {
      "cell_type": "code",
      "source": [
        "new_df['Recency'] = (new_df['order_approved_at'].max() - new_df['order_approved_at']).dt.days"
      ],
      "metadata": {
        "id": "721bTLl-AG8w"
      },
      "execution_count": null,
      "outputs": []
    },
    {
      "cell_type": "code",
      "source": [
        "from sklearn.cluster import KMeans\n",
        "\n",
        "sse={} # error\n",
        "recency = new_df[['Recency']]\n",
        "for k in range(1, 10):\n",
        "    kmeans = KMeans(n_clusters=k, max_iter=1000).fit(recency)\n",
        "    recency[\"clusters\"] = kmeans.labels_\n",
        "    sse[k] = kmeans.inertia_\n",
        "plt.figure()\n",
        "plt.plot(list(sse.keys()), list(sse.values()))\n",
        "plt.xlabel(\"Number of cluster\")\n",
        "plt.show()"
      ],
      "metadata": {
        "id": "5R7-pnC_7qFn"
      },
      "execution_count": null,
      "outputs": []
    },
    {
      "cell_type": "code",
      "source": [
        "print(new_df['Recency'].min(),\n",
        "new_df['Recency'].max())"
      ],
      "metadata": {
        "id": "XLKuQ5UfCmSv"
      },
      "execution_count": null,
      "outputs": []
    },
    {
      "cell_type": "code",
      "source": [
        "new_df.info()"
      ],
      "metadata": {
        "id": "z8RcFk7uGotW"
      },
      "execution_count": null,
      "outputs": []
    },
    {
      "cell_type": "code",
      "source": [
        "new_df"
      ],
      "metadata": {
        "id": "C9OB6IkwHGBk"
      },
      "execution_count": null,
      "outputs": []
    },
    {
      "cell_type": "code",
      "source": [
        "fig, ax = plt.subplots()\n",
        "\n",
        "ax.boxplot([new_df['Recency']])\n",
        "ax.set_xlabel('Data Type')\n",
        "ax.set_ylabel('Value')\n",
        "\n",
        "plt.show()"
      ],
      "metadata": {
        "id": "qBnHUGig3tMt"
      },
      "execution_count": null,
      "outputs": []
    },
    {
      "cell_type": "code",
      "source": [
        "new_df['Recency'].describe()"
      ],
      "metadata": {
        "id": "AM7WqKvIyaNo"
      },
      "execution_count": null,
      "outputs": []
    },
    {
      "cell_type": "code",
      "source": [
        "new_df.loc[new_df['Recency'] <= 50,'Recency_cluster'] = 4\n",
        "new_df.loc[(new_df['Recency'] > 50)&(new_df['Recency'] <= 200),'Recency_cluster'] = 3\n",
        "new_df.loc[(new_df['Recency'] > 200)&(new_df['Recency'] <= 500),'Recency_cluster'] = 2\n",
        "new_df.loc[new_df['Recency'] > 500,'Recency_cluster'] = 1"
      ],
      "metadata": {
        "id": "4t2xi3K7yiqB"
      },
      "execution_count": null,
      "outputs": []
    },
    {
      "cell_type": "code",
      "source": [
        "new_df['Recency_cluster'].value_counts()"
      ],
      "metadata": {
        "id": "QVFJH3QBdOyx"
      },
      "execution_count": null,
      "outputs": []
    },
    {
      "cell_type": "code",
      "source": [
        "fig, ax = plt.subplots()\n",
        "\n",
        "ax.boxplot([new_df['count']])\n",
        "ax.set_xlabel('Data Type')\n",
        "ax.set_ylabel('Value')\n",
        "\n",
        "plt.show()"
      ],
      "metadata": {
        "id": "LBHuLj3vbes7"
      },
      "execution_count": null,
      "outputs": []
    },
    {
      "cell_type": "code",
      "source": [
        "new_df['count'].describe()"
      ],
      "metadata": {
        "id": "CtnWmPKxblmZ"
      },
      "execution_count": null,
      "outputs": []
    },
    {
      "cell_type": "code",
      "source": [
        "new_df.loc[new_df['count'] <= 2,'Frequency_cluster'] = 1\n",
        "new_df.loc[(new_df['count'] > 2)&(new_df['count'] <= 8),'Frequency_cluster'] = 2\n",
        "new_df.loc[(new_df['count'] > 8)&(new_df['count'] <= 24),'Frequency_cluster'] = 3\n",
        "new_df.loc[new_df['count'] > 24,'Frequency_cluster'] = 4"
      ],
      "metadata": {
        "id": "2c1DdxDSbYt4"
      },
      "execution_count": null,
      "outputs": []
    },
    {
      "cell_type": "code",
      "source": [
        "fig, ax = plt.subplots()\n",
        "\n",
        "ax.boxplot([new_df['sum_price']])\n",
        "ax.set_xlabel('Data Type')\n",
        "ax.set_ylabel('Value')\n",
        "\n",
        "plt.show()"
      ],
      "metadata": {
        "id": "p1vAfPaZb4tC"
      },
      "execution_count": null,
      "outputs": []
    },
    {
      "cell_type": "code",
      "source": [
        "new_df['sum_price'].describe()"
      ],
      "metadata": {
        "id": "UKSKTmNfb7wb"
      },
      "execution_count": null,
      "outputs": []
    },
    {
      "cell_type": "code",
      "source": [
        "new_df.loc[new_df['sum_price'] <= 270,'Monetary_cluster'] = 1\n",
        "new_df.loc[(new_df['sum_price'] > 270)&(new_df['sum_price'] <= 997),'Monetary_cluster'] = 2\n",
        "new_df.loc[(new_df['sum_price'] > 997)&(new_df['sum_price'] <= 3967),'Monetary_cluster'] = 3\n",
        "new_df.loc[new_df['sum_price'] > 3967,'Monetary_cluster'] = 4"
      ],
      "metadata": {
        "id": "ffO-Wg1RbZNe"
      },
      "execution_count": null,
      "outputs": []
    },
    {
      "cell_type": "code",
      "source": [
        "new_df"
      ],
      "metadata": {
        "id": "dlRCTIHNcR7m"
      },
      "execution_count": null,
      "outputs": []
    },
    {
      "cell_type": "code",
      "source": [
        "new_df['Recency_cluster'].value_counts()"
      ],
      "metadata": {
        "id": "68cJ5nshJ7OI"
      },
      "execution_count": null,
      "outputs": []
    },
    {
      "cell_type": "code",
      "source": [
        "new_df['Recency_cluster'].value_counts(\n",
        ")"
      ],
      "metadata": {
        "id": "jRPkT4j6A7Lm"
      },
      "execution_count": null,
      "outputs": []
    },
    {
      "cell_type": "code",
      "source": [
        "from sklearn.cluster import KMeans\n",
        "\n",
        "sse={} # error\n",
        "Frequency = new_df[['count']]\n",
        "for k in range(1, 10):\n",
        "    kmeans = KMeans(n_clusters=k, max_iter=1000).fit(Frequency)\n",
        "    Frequency[\"clusters\"] = kmeans.labels_\n",
        "    sse[k] = kmeans.inertia_\n",
        "plt.figure()\n",
        "plt.plot(list(sse.keys()), list(sse.values()))\n",
        "plt.xlabel(\"Number of cluster\")\n",
        "plt.show()"
      ],
      "metadata": {
        "id": "rJvjK_0tH8sT"
      },
      "execution_count": null,
      "outputs": []
    },
    {
      "cell_type": "code",
      "source": [
        "print(new_df['count'].max())\n",
        "print(new_df['count'].min())"
      ],
      "metadata": {
        "id": "3-XNYsZ8It8p"
      },
      "execution_count": null,
      "outputs": []
    },
    {
      "cell_type": "code",
      "source": [
        "new_df['count'].describe()"
      ],
      "metadata": {
        "id": "eaLnx4_819s7"
      },
      "execution_count": null,
      "outputs": []
    },
    {
      "cell_type": "code",
      "source": [
        "new_df.loc[new_df['count'] <= 2,'Frequency_cluster'] = 1\n",
        "new_df.loc[(new_df['count'] > 2)&(new_df['count'] <= 10),'Frequency_cluster'] = 2\n",
        "new_df.loc[(new_df['count'] > 10)&(new_df['count'] <= 100),'Frequency_cluster'] = 3\n",
        "new_df.loc[new_df['count'] > 100,'Frequency_cluster'] = 4"
      ],
      "metadata": {
        "id": "GNDY0M8fIKl7"
      },
      "execution_count": null,
      "outputs": []
    },
    {
      "cell_type": "code",
      "source": [
        "new_df['Frequency_cluster'].value_counts()"
      ],
      "metadata": {
        "id": "voUBFvmTJjRc"
      },
      "execution_count": null,
      "outputs": []
    },
    {
      "cell_type": "code",
      "source": [
        "from sklearn.cluster import KMeans\n",
        "\n",
        "sse={} # error\n",
        "Monetary = new_df[['sum_price']]\n",
        "for k in range(1, 10):\n",
        "    kmeans = KMeans(n_clusters=k, max_iter=1000).fit(Monetary)\n",
        "    Monetary[\"clusters\"] = kmeans.labels_\n",
        "    sse[k] = kmeans.inertia_\n",
        "plt.figure()\n",
        "plt.plot(list(sse.keys()), list(sse.values()))\n",
        "plt.xlabel(\"Number of cluster\")\n",
        "plt.show()"
      ],
      "metadata": {
        "id": "uk-f3Cq_JrZM"
      },
      "execution_count": null,
      "outputs": []
    },
    {
      "cell_type": "code",
      "source": [
        "new_df['sum_price'].max()\n",
        "new_df['sum_price'].min()\n",
        "new_df['sum_price'].value_counts()\n",
        "new_df['sum_price'].describe()"
      ],
      "metadata": {
        "id": "_3NYDqcEK8S7"
      },
      "execution_count": null,
      "outputs": []
    },
    {
      "cell_type": "code",
      "source": [
        "new_df"
      ],
      "metadata": {
        "id": "vl68u_UIMEoZ"
      },
      "execution_count": null,
      "outputs": []
    },
    {
      "cell_type": "code",
      "source": [
        "new_df['sum_price'].describe()"
      ],
      "metadata": {
        "id": "QYJhG5Qt6uX8"
      },
      "execution_count": null,
      "outputs": []
    },
    {
      "cell_type": "code",
      "source": [
        "new_df.loc[new_df['sum_price'] <= 500,'Monetary_cluster'] = 1\n",
        "new_df.loc[(new_df['sum_price'] > 500)&(new_df['sum_price'] <= 2000),'Monetary_cluster'] = 2\n",
        "new_df.loc[(new_df['sum_price'] > 2000)&(new_df['sum_price'] <= 4000),'Monetary_cluster'] = 3\n",
        "new_df.loc[new_df['sum_price'] > 4000,'Monetary_cluster'] = 4"
      ],
      "metadata": {
        "id": "lZYEFKW1LprJ"
      },
      "execution_count": null,
      "outputs": []
    },
    {
      "cell_type": "code",
      "source": [
        "new_df['Monetary_cluster'].value_counts()"
      ],
      "metadata": {
        "id": "r-VlhGeJL4gl"
      },
      "execution_count": null,
      "outputs": []
    },
    {
      "cell_type": "code",
      "source": [
        "new_df.isnull().sum()"
      ],
      "metadata": {
        "id": "Aa9xxltL7XfI"
      },
      "execution_count": null,
      "outputs": []
    },
    {
      "cell_type": "code",
      "source": [
        "new_df['RFM'] = (new_df['Recency_cluster']) + (new_df['Frequency_cluster']) + (new_df['Monetary_cluster'])"
      ],
      "metadata": {
        "id": "NY-VxOF2MTSB"
      },
      "execution_count": null,
      "outputs": []
    },
    {
      "cell_type": "markdown",
      "source": [
        ""
      ],
      "metadata": {
        "id": "qvxqp9ng67HF"
      }
    },
    {
      "cell_type": "code",
      "source": [
        "new_df.to_excel('RFM.xlsx',index=False)"
      ],
      "metadata": {
        "id": "XDupYASoeUo2"
      },
      "execution_count": null,
      "outputs": []
    },
    {
      "cell_type": "code",
      "source": [
        "new_df['real_count'] = 1"
      ],
      "metadata": {
        "id": "Vl87yqyJN8_H"
      },
      "execution_count": null,
      "outputs": []
    },
    {
      "cell_type": "code",
      "source": [
        "new_df.to_excel('RFM.xlsx',index=False)"
      ],
      "metadata": {
        "id": "ir5VNdPBQdoY"
      },
      "execution_count": null,
      "outputs": []
    },
    {
      "cell_type": "code",
      "source": [
        "new_df.isnull().sum()"
      ],
      "metadata": {
        "id": "oGAnXSCKwwQ7"
      },
      "execution_count": null,
      "outputs": []
    },
    {
      "cell_type": "code",
      "source": [
        "Recency = new_df.groupby('Recency_cluster').sum().reset_index()"
      ],
      "metadata": {
        "id": "jM6Yj99ZQtE5"
      },
      "execution_count": null,
      "outputs": []
    },
    {
      "cell_type": "code",
      "source": [
        "Recency"
      ],
      "metadata": {
        "id": "HhLoErMGQ1Oo"
      },
      "execution_count": null,
      "outputs": []
    },
    {
      "cell_type": "code",
      "source": [
        "import matplotlib.pyplot as plt\n",
        " \n",
        "## 데이터\n",
        "\n",
        " \n",
        "## 시각화\n",
        "plt.figure(figsize=(10,10)) ## Figure 생성 사이즈는 10 by 10\n",
        "xtick_label_position = list(range(len(Recency['Recency_cluster']))) ## x축 눈금 라벨이 표시될 x좌표\n",
        "plt.xticks(xtick_label_position, Recency['Recency_cluster']) ## x축 눈금 라벨 출력\n",
        " \n",
        "## 바 차트 출력, 막대기 색깔을 초록색으로 설정\n",
        "plt.bar(xtick_label_position, Recency['real_count'], color='green')\n",
        "plt.title('Recency',fontsize=20) ## 타이틀 출력\n",
        "plt.xlabel('Recency Score') ## x축 라벨 출력\n",
        "#plt.ylabel('빈도') ## y축 라벨 출력\n",
        "plt.show()"
      ],
      "metadata": {
        "id": "aFTi2p49M4TY"
      },
      "execution_count": null,
      "outputs": []
    },
    {
      "cell_type": "code",
      "source": [
        "Frequency = new_df.groupby('Frequency_cluster').sum().reset_index()"
      ],
      "metadata": {
        "id": "qJlSaWUuSuFd"
      },
      "execution_count": null,
      "outputs": []
    },
    {
      "cell_type": "code",
      "source": [
        "import matplotlib.pyplot as plt\n",
        " \n",
        "## 데이터\n",
        "\n",
        " \n",
        "## 시각화\n",
        "plt.figure(figsize=(10,10)) ## Figure 생성 사이즈는 10 by 10\n",
        "xtick_label_position = list(range(len(Frequency['Frequency_cluster']))) ## x축 눈금 라벨이 표시될 x좌표\n",
        "plt.xticks(xtick_label_position, Frequency['Frequency_cluster']) ## x축 눈금 라벨 출력\n",
        " \n",
        "## 바 차트 출력, 막대기 색깔을 초록색으로 설정\n",
        "plt.bar(xtick_label_position, Frequency['real_count'], color='blue')\n",
        "plt.title('Frequency',fontsize=20) ## 타이틀 출력\n",
        "plt.xlabel('Frequency Score') ## x축 라벨 출력\n",
        "#plt.ylabel('빈도') ## y축 라벨 출력\n",
        "plt.show()"
      ],
      "metadata": {
        "id": "IGbC9_F3NMde"
      },
      "execution_count": null,
      "outputs": []
    },
    {
      "cell_type": "code",
      "source": [
        "Monetary = new_df.groupby('Monetary_cluster').sum().reset_index()"
      ],
      "metadata": {
        "id": "naUpalwKS6co"
      },
      "execution_count": null,
      "outputs": []
    },
    {
      "cell_type": "code",
      "source": [
        "import matplotlib.pyplot as plt\n",
        " \n",
        "## 데이터\n",
        "\n",
        " \n",
        "## 시각화\n",
        "plt.figure(figsize=(10,10)) ## Figure 생성 사이즈는 10 by 10\n",
        "xtick_label_position = list(range(len(Monetary['Monetary_cluster']))) ## x축 눈금 라벨이 표시될 x좌표\n",
        "plt.xticks(xtick_label_position, Monetary['Monetary_cluster']) ## x축 눈금 라벨 출력\n",
        " \n",
        "## 바 차트 출력, 막대기 색깔을 초록색으로 설정\n",
        "plt.bar(xtick_label_position, Monetary['real_count'], color='yellow')\n",
        "plt.title('Monetary',fontsize=20) ## 타이틀 출력\n",
        "plt.xlabel('Monetary Score') ## x축 라벨 출력\n",
        "#plt.ylabel('빈도') ## y축 라벨 출력\n",
        "plt.show()"
      ],
      "metadata": {
        "id": "Xa26MCEsTJ7m"
      },
      "execution_count": null,
      "outputs": []
    },
    {
      "cell_type": "code",
      "source": [
        "RFM = new_df.groupby('RFM').sum().reset_index()"
      ],
      "metadata": {
        "id": "1g7LvIE8TV_L"
      },
      "execution_count": null,
      "outputs": []
    },
    {
      "cell_type": "code",
      "source": [
        "fig = plt.figure(figsize=(10,10)) ## 캔버스 생성\n",
        "fig.set_facecolor('white') ## 캔버스 색상 설정\n",
        "ax = fig.add_subplot() ## 그림 뼈대(프레임) 생성\n",
        " \n",
        "ax.plot(RFM['RFM'],RFM['real_count']) ## 선그래프 생성\n",
        " \n",
        "plt.xticks(rotation=45) ## x축 눈금 라벨 설정 - 40도 회전 \n",
        "plt.title('RFM',fontsize=20) ## 타이틀 설정\n",
        "plt.show()"
      ],
      "metadata": {
        "id": "t9zLQarqTWdu"
      },
      "execution_count": null,
      "outputs": []
    },
    {
      "cell_type": "code",
      "source": [
        "import matplotlib.pyplot as plt\n",
        "import numpy as np\n",
        " \n",
        "fig = plt.figure(figsize=(10,10)) ## 캔버스 생성\n",
        "fig.set_facecolor('white') ## 캔버스 색상 설정\n",
        "ax = fig.add_subplot() ## 그림 뼈대(프레임) 생성\n",
        " \n",
        "ax.spines['right'].set_visible(False) ## 오른쪽 축 숨김\n",
        "ax.spines['top'].set_visible(False) ## 위쪽 축 숨김\n",
        " \n",
        "args_plot = [RFM['RFM'],RFM['real_count']] ## 데이터 인자\n",
        "config_plot = dict( ## 키워드 인자\n",
        "    color='#c02ad1', # 선 색깔\n",
        "    linestyle='solid', # 선 스타일\n",
        "    linewidth=2, # 선 두께 \n",
        "    marker='o', # 마커 모양\n",
        "    markersize=10, # 마커 사이즈\n",
        "    markeredgecolor='white', # 마커 테두리 색깔\n",
        "    markeredgewidth=3, # 마커 테두리 두께\n",
        ")\n",
        " \n",
        "line_plot = ax.plot(label='RFM', *args_plot,**config_plot) ## 선그래프 생성 - 범례라벨 추가\n",
        "line_plot = line_plot[0] ## 선 그래프 요소\n",
        "\n",
        "bbox = dict( ## 텍스트 박스 스타일 지정\n",
        "    boxstyle='square', # 박스 모양\n",
        "    facecolor='white', # 박스 배경색\n",
        ")\n",
        " \n",
        "for coord in list(line_plot.get_xydata()):\n",
        "    ax.text(coord[0],coord[1]+10,f'{int(coord[1])}',fontsize=10, ha='center', bbox=bbox) ## 선 그래프 텍스트\n",
        " \n",
        "ylim = ax.get_ylim() ## 기존의 y축 범위를 저장\n",
        " \n",
        "yticks = list(ax.get_yticks()) ## y축 눈금을 가져온다.\n",
        " \n",
        "for y in yticks:\n",
        "    ax.axhline(y,linestyle=(0,(5,2)),color='grey',alpha=0.5) ## 눈금선 생성\n",
        " \n",
        "## 평균값을 y 눈금에 추가한다.\n",
        "yticks = sorted(yticks)\n",
        " \n",
        "ax.set_yticks(yticks) ## 평균이 포함된 y눈금으로 새롭게 세팅한다.\n",
        "ax.set_ylim(ylim) ## 기존의 y축 범위를 유지\n",
        "ax.legend(loc='upper left', fontsize=15) ## 범례 생성\n",
        " \n",
        "plt.xticks(rotation=45) ## x축 눈금 라벨 설정 - 40도 회전 \n",
        "plt.title('RFM',fontsize=20) ## 타이틀 설정\n",
        "plt.show()"
      ],
      "metadata": {
        "id": "OpCoK1ovU9J-"
      },
      "execution_count": null,
      "outputs": []
    },
    {
      "cell_type": "code",
      "source": [
        "RFM"
      ],
      "metadata": {
        "id": "gPqAdrLAVb_g"
      },
      "execution_count": null,
      "outputs": []
    },
    {
      "cell_type": "code",
      "source": [
        ""
      ],
      "metadata": {
        "id": "SBUAFwKRtbHB"
      },
      "execution_count": null,
      "outputs": []
    }
  ]
}