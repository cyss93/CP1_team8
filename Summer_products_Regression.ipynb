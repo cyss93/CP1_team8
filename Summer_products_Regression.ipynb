{
  "nbformat": 4,
  "nbformat_minor": 0,
  "metadata": {
    "colab": {
      "name": "Summer_products.ipynb",
      "provenance": [],
      "authorship_tag": "ABX9TyOLkSVgcWCTedQu+XeepEnh",
      "include_colab_link": true
    },
    "kernelspec": {
      "name": "python3",
      "display_name": "Python 3"
    },
    "language_info": {
      "name": "python"
    }
  },
  "cells": [
    {
      "cell_type": "markdown",
      "metadata": {
        "id": "view-in-github",
        "colab_type": "text"
      },
      "source": [
        "<a href=\"https://colab.research.google.com/github/cyss93/CP1_team8/blob/%EC%98%A4%EC%B0%BD%EC%98%81/Summer_products_Regression.ipynb\" target=\"_parent\"><img src=\"https://colab.research.google.com/assets/colab-badge.svg\" alt=\"Open In Colab\"/></a>"
      ]
    },
    {
      "cell_type": "code",
      "execution_count": 89,
      "metadata": {
        "id": "JvBNLGyNSqoQ"
      },
      "outputs": [],
      "source": [
        "import pandas as pd\n",
        "import numpy as np\n",
        "from sklearn.metrics import  mean_squared_error, mean_absolute_error, r2_score\n",
        "from IPython.display import display\n",
        "from sklearn.model_selection import train_test_split\n",
        "\n",
        "from matplotlib import style\n",
        "import matplotlib.pyplot as plt\n",
        "\n",
        "import statsmodels.api as sm\n",
        "from sklearn.linear_model import LinearRegression\n",
        "\n",
        "from sklearn.linear_model import Ridge\n",
        "\n",
        "\n",
        "import time\n",
        "import itertools"
      ]
    },
    {
      "cell_type": "code",
      "source": [
        "df = pd.read_csv('summer-products-with-rating-and-performance_2020-08.csv')"
      ],
      "metadata": {
        "id": "HS2ew79STQLI"
      },
      "execution_count": 90,
      "outputs": []
    },
    {
      "cell_type": "markdown",
      "source": [
        "- 변수 정리\n",
        " 'title' = \n",
        " 'title_orig',\n",
        " 'price',\n",
        " 'retail_price',\n",
        " 'currency_buyer',\n",
        " 'units_sold',\n",
        " 'uses_ad_boosts',\n",
        " 'rating',\n",
        " 'rating_count',\n",
        " 'rating_five_count',\n",
        " 'rating_four_count',\n",
        " 'rating_three_count',\n",
        " 'rating_two_count',\n",
        " 'rating_one_count',\n",
        " 'badges_count',\n",
        " 'badge_local_product',\n",
        " 'badge_product_quality',\n",
        " 'badge_fast_shipping',\n",
        " 'tags',\n",
        " 'product_color',\n",
        " 'product_variation_size_id',\n",
        " 'product_variation_inventory',\n",
        " 'shipping_option_name',\n",
        " 'shipping_option_price',\n",
        " 'shipping_is_express',\n",
        " 'countries_shipped_to',\n",
        " 'inventory_total',\n",
        " 'has_urgency_banner',\n",
        " 'urgency_text',\n",
        " 'origin_country',\n",
        " 'merchant_title',\n",
        " 'merchant_name',\n",
        " 'merchant_info_subtitle',\n",
        " 'merchant_rating_count',\n",
        " 'merchant_rating',\n",
        " 'merchant_id',\n",
        " 'merchant_has_profile_picture',\n",
        " 'merchant_profile_picture',\n",
        " 'product_url',\n",
        " 'product_picture',\n",
        " 'product_id',\n",
        " 'theme',\n",
        " 'crawl_month'"
      ],
      "metadata": {
        "id": "JdNcrJWoD3ut"
      }
    },
    {
      "cell_type": "code",
      "source": [
        "df.isna().sum()"
      ],
      "metadata": {
        "id": "gOnXtmRF3bnt",
        "outputId": "0b02e701-f4a1-49d0-aaee-0c508b59d4ac",
        "colab": {
          "base_uri": "https://localhost:8080/"
        }
      },
      "execution_count": 91,
      "outputs": [
        {
          "output_type": "execute_result",
          "data": {
            "text/plain": [
              "title                              0\n",
              "title_orig                         0\n",
              "price                              0\n",
              "retail_price                       0\n",
              "currency_buyer                     0\n",
              "units_sold                         0\n",
              "uses_ad_boosts                     0\n",
              "rating                             0\n",
              "rating_count                       0\n",
              "rating_five_count                 45\n",
              "rating_four_count                 45\n",
              "rating_three_count                45\n",
              "rating_two_count                  45\n",
              "rating_one_count                  45\n",
              "badges_count                       0\n",
              "badge_local_product                0\n",
              "badge_product_quality              0\n",
              "badge_fast_shipping                0\n",
              "tags                               0\n",
              "product_color                     41\n",
              "product_variation_size_id         14\n",
              "product_variation_inventory        0\n",
              "shipping_option_name               0\n",
              "shipping_option_price              0\n",
              "shipping_is_express                0\n",
              "countries_shipped_to               0\n",
              "inventory_total                    0\n",
              "has_urgency_banner              1100\n",
              "urgency_text                    1100\n",
              "origin_country                    17\n",
              "merchant_title                     0\n",
              "merchant_name                      4\n",
              "merchant_info_subtitle             1\n",
              "merchant_rating_count              0\n",
              "merchant_rating                    0\n",
              "merchant_id                        0\n",
              "merchant_has_profile_picture       0\n",
              "merchant_profile_picture        1347\n",
              "product_url                        0\n",
              "product_picture                    0\n",
              "product_id                         0\n",
              "theme                              0\n",
              "crawl_month                        0\n",
              "dtype: int64"
            ]
          },
          "metadata": {},
          "execution_count": 91
        }
      ]
    },
    {
      "cell_type": "code",
      "source": [
        "# 결측값 있는 행 제거\n",
        "# has_urgency_banner, urgency_text, merchant_profile_picture 이 세 컬럼은 결측값의 비율이 너무 높기때문에 drop\n",
        "df.drop(columns = ['has_urgency_banner', 'urgency_text', 'merchant_profile_picture'], inplace = True)"
      ],
      "metadata": {
        "id": "OQsdHcsz4BlB"
      },
      "execution_count": 92,
      "outputs": []
    },
    {
      "cell_type": "code",
      "source": [
        "# 결측값 있는 행 제거\n",
        "df.dropna(axis = 0, inplace = True)"
      ],
      "metadata": {
        "id": "EYoKMOzb4inY"
      },
      "execution_count": 93,
      "outputs": []
    },
    {
      "cell_type": "code",
      "source": [
        "df.isna().sum()"
      ],
      "metadata": {
        "id": "69rhbNbD4Tpg",
        "outputId": "30c1dbb7-b312-44d7-d672-867fcf30d305",
        "colab": {
          "base_uri": "https://localhost:8080/"
        }
      },
      "execution_count": 94,
      "outputs": [
        {
          "output_type": "execute_result",
          "data": {
            "text/plain": [
              "title                           0\n",
              "title_orig                      0\n",
              "price                           0\n",
              "retail_price                    0\n",
              "currency_buyer                  0\n",
              "units_sold                      0\n",
              "uses_ad_boosts                  0\n",
              "rating                          0\n",
              "rating_count                    0\n",
              "rating_five_count               0\n",
              "rating_four_count               0\n",
              "rating_three_count              0\n",
              "rating_two_count                0\n",
              "rating_one_count                0\n",
              "badges_count                    0\n",
              "badge_local_product             0\n",
              "badge_product_quality           0\n",
              "badge_fast_shipping             0\n",
              "tags                            0\n",
              "product_color                   0\n",
              "product_variation_size_id       0\n",
              "product_variation_inventory     0\n",
              "shipping_option_name            0\n",
              "shipping_option_price           0\n",
              "shipping_is_express             0\n",
              "countries_shipped_to            0\n",
              "inventory_total                 0\n",
              "origin_country                  0\n",
              "merchant_title                  0\n",
              "merchant_name                   0\n",
              "merchant_info_subtitle          0\n",
              "merchant_rating_count           0\n",
              "merchant_rating                 0\n",
              "merchant_id                     0\n",
              "merchant_has_profile_picture    0\n",
              "product_url                     0\n",
              "product_picture                 0\n",
              "product_id                      0\n",
              "theme                           0\n",
              "crawl_month                     0\n",
              "dtype: int64"
            ]
          },
          "metadata": {},
          "execution_count": 94
        }
      ]
    },
    {
      "cell_type": "code",
      "source": [
        "df.info()"
      ],
      "metadata": {
        "id": "GrUm9xKkmWP7",
        "outputId": "060442a0-727f-4bb7-e22b-a44c2222f197",
        "colab": {
          "base_uri": "https://localhost:8080/"
        }
      },
      "execution_count": 95,
      "outputs": [
        {
          "output_type": "stream",
          "name": "stdout",
          "text": [
            "<class 'pandas.core.frame.DataFrame'>\n",
            "Int64Index: 1457 entries, 0 to 1572\n",
            "Data columns (total 40 columns):\n",
            " #   Column                        Non-Null Count  Dtype  \n",
            "---  ------                        --------------  -----  \n",
            " 0   title                         1457 non-null   object \n",
            " 1   title_orig                    1457 non-null   object \n",
            " 2   price                         1457 non-null   float64\n",
            " 3   retail_price                  1457 non-null   int64  \n",
            " 4   currency_buyer                1457 non-null   object \n",
            " 5   units_sold                    1457 non-null   int64  \n",
            " 6   uses_ad_boosts                1457 non-null   int64  \n",
            " 7   rating                        1457 non-null   float64\n",
            " 8   rating_count                  1457 non-null   int64  \n",
            " 9   rating_five_count             1457 non-null   float64\n",
            " 10  rating_four_count             1457 non-null   float64\n",
            " 11  rating_three_count            1457 non-null   float64\n",
            " 12  rating_two_count              1457 non-null   float64\n",
            " 13  rating_one_count              1457 non-null   float64\n",
            " 14  badges_count                  1457 non-null   int64  \n",
            " 15  badge_local_product           1457 non-null   int64  \n",
            " 16  badge_product_quality         1457 non-null   int64  \n",
            " 17  badge_fast_shipping           1457 non-null   int64  \n",
            " 18  tags                          1457 non-null   object \n",
            " 19  product_color                 1457 non-null   object \n",
            " 20  product_variation_size_id     1457 non-null   object \n",
            " 21  product_variation_inventory   1457 non-null   int64  \n",
            " 22  shipping_option_name          1457 non-null   object \n",
            " 23  shipping_option_price         1457 non-null   int64  \n",
            " 24  shipping_is_express           1457 non-null   int64  \n",
            " 25  countries_shipped_to          1457 non-null   int64  \n",
            " 26  inventory_total               1457 non-null   int64  \n",
            " 27  origin_country                1457 non-null   object \n",
            " 28  merchant_title                1457 non-null   object \n",
            " 29  merchant_name                 1457 non-null   object \n",
            " 30  merchant_info_subtitle        1457 non-null   object \n",
            " 31  merchant_rating_count         1457 non-null   int64  \n",
            " 32  merchant_rating               1457 non-null   float64\n",
            " 33  merchant_id                   1457 non-null   object \n",
            " 34  merchant_has_profile_picture  1457 non-null   int64  \n",
            " 35  product_url                   1457 non-null   object \n",
            " 36  product_picture               1457 non-null   object \n",
            " 37  product_id                    1457 non-null   object \n",
            " 38  theme                         1457 non-null   object \n",
            " 39  crawl_month                   1457 non-null   object \n",
            "dtypes: float64(8), int64(15), object(17)\n",
            "memory usage: 466.7+ KB\n"
          ]
        }
      ]
    },
    {
      "cell_type": "code",
      "source": [
        "# 제외 변수들\n",
        "# 첫번째 제외 변수: title, title_orig, currency_buyer, tags, product_color, product_variation_size_id\n",
        "# 제외 변수중 고려해볼 만 한 변수\n",
        "## tags(인코딩 활용. 인코딩 활용시 컬럼이 과하게 늘어난다. 주의), product_variation_size_id\n",
        "## shipping_option_name: 프랑스어와 아랍어? 등 뒤죽박죽\n",
        "## urgency_text: 품절임박! 같은 건데, 프랑스어로 되어있다. 일단은 빼고 이후에 원핫인코딩해서 넣어보자 (missing 값이 1100개이다. 유의할 것)\n",
        "## origin_country: 이것도 원핫인코딩해서 적용 가능\n",
        "## merchant_title: 판매자 이름 우선 제외\n",
        "## merchant_name, merchant_id: 위와 동일\n",
        "## merchant_info_subtitle: 판매자 정보 글. 일단 제외. 배지 여부와 다른 변수로도 판단 가능?\n",
        "## merchant_profile_picture: 판매자 사진 링크\n",
        "## product_url, product_picture: 링크 데이터\n",
        "## product_id: 제품 키\n",
        "## theme: 해당 제품들을 찾기위해 검색한 검색어. summer로 모두 동일해서 제외\n",
        "## crawl_month: 크롤링 날짜라서 제외\n",
        "## has_urgency_banner: 결측값이 많아서 일단 제외 (결측값이 아마 없다는 뜻?) (1000개 이상의 결측값)\n",
        "## rating_five_count + rating_four_count + rating_three_count + rating_two_count + rating_one_count : 결측값이 많음 (36개)"
      ],
      "metadata": {
        "id": "bQ6OH7sUmx_F"
      },
      "execution_count": 96,
      "outputs": []
    },
    {
      "cell_type": "code",
      "source": [
        "# 상수항 추가. 실행이 될 때마다 추가되기 때문에 독립된 셀로 위에 빼두었습니다.\n",
        "df = sm.add_constant(df,has_constant=\"add\")"
      ],
      "metadata": {
        "id": "k-hXXvmhyuB6"
      },
      "execution_count": 97,
      "outputs": []
    },
    {
      "cell_type": "code",
      "source": [
        "# 다중모델 학습을 위한 특성\n",
        "features = ['price',\n",
        "            'retail_price',\n",
        "            'uses_ad_boosts',\n",
        "            'rating',\n",
        "            'rating_count',\n",
        "            'rating_five_count',\n",
        "            'rating_four_count',\n",
        "            'rating_three_count',\n",
        "            'rating_two_count',\n",
        "            'rating_one_count',\n",
        "            'badges_count',\n",
        "            'badge_local_product',\n",
        "            'badge_product_quality',\n",
        "            'badge_fast_shipping',\n",
        "            'product_variation_inventory',\n",
        "            'shipping_option_price',\n",
        "            'shipping_is_express',\n",
        "            'countries_shipped_to',\n",
        "            'inventory_total',\n",
        "            'merchant_rating_count',\n",
        "            'merchant_rating',\n",
        "            'merchant_has_profile_picture',\n",
        "            'const']"
      ],
      "metadata": {
        "id": "tQdaC-eNjIpK"
      },
      "execution_count": 98,
      "outputs": []
    },
    {
      "cell_type": "code",
      "source": [
        "target = 'units_sold'\n",
        "x = df[features]\n",
        "y = df[target]\n",
        "\n",
        "# 분할\n",
        "X_train ,X_test , y_train , y_test = train_test_split(x,y,train_size=0.7,test_size=0.3)\n",
        "print(X_train.shape, X_test.shape, y_train.shape, y_test.shape)"
      ],
      "metadata": {
        "id": "z7LcduDn4Qt7",
        "outputId": "1d58f3cf-e825-41ac-b33c-a9fd258ebe32",
        "colab": {
          "base_uri": "https://localhost:8080/"
        }
      },
      "execution_count": 99,
      "outputs": [
        {
          "output_type": "stream",
          "name": "stdout",
          "text": [
            "(1019, 23) (438, 23) (1019,) (438,)\n"
          ]
        }
      ]
    },
    {
      "cell_type": "code",
      "source": [
        "#Train the MLR / 회귀모델적합\n",
        "Model = sm.OLS(y_train, X_train)\n",
        "FittedModel = Model.fit()\n",
        "\n",
        "print(FittedModel.summary())"
      ],
      "metadata": {
        "id": "2AT828-VocMW",
        "outputId": "11724429-c875-422a-f8a7-6484da01bf43",
        "colab": {
          "base_uri": "https://localhost:8080/"
        }
      },
      "execution_count": 100,
      "outputs": [
        {
          "output_type": "stream",
          "name": "stdout",
          "text": [
            "                            OLS Regression Results                            \n",
            "==============================================================================\n",
            "Dep. Variable:             units_sold   R-squared:                       0.819\n",
            "Model:                            OLS   Adj. R-squared:                  0.816\n",
            "Method:                 Least Squares   F-statistic:                     238.3\n",
            "Date:                Tue, 05 Jul 2022   Prob (F-statistic):               0.00\n",
            "Time:                        07:24:26   Log-Likelihood:                -9902.4\n",
            "No. Observations:                1019   AIC:                         1.984e+04\n",
            "Df Residuals:                     999   BIC:                         1.994e+04\n",
            "Df Model:                          19                                         \n",
            "Covariance Type:            nonrobust                                         \n",
            "================================================================================================\n",
            "                                   coef    std err          t      P>|t|      [0.025      0.975]\n",
            "------------------------------------------------------------------------------------------------\n",
            "price                           -0.8599     73.684     -0.012      0.991    -145.453     143.733\n",
            "retail_price                    -5.8077      4.396     -1.321      0.187     -14.434       2.818\n",
            "uses_ad_boosts                 336.0137    261.849      1.283      0.200    -177.823     849.850\n",
            "rating                         236.9123    298.283      0.794      0.427    -348.420     822.245\n",
            "rating_count                     1.4373      0.809      1.777      0.076      -0.150       3.025\n",
            "rating_five_count                3.9699      1.196      3.318      0.001       1.622       6.318\n",
            "rating_four_count              -18.9553      3.296     -5.751      0.000     -25.423     -12.488\n",
            "rating_three_count              40.7299      7.115      5.725      0.000      26.768      54.692\n",
            "rating_two_count               -28.4592     10.944     -2.600      0.009     -49.935      -6.984\n",
            "rating_one_count                 4.1520      4.432      0.937      0.349      -4.546      12.850\n",
            "badges_count                  -413.7561    375.870     -1.101      0.271   -1151.341     323.829\n",
            "badge_local_product           1052.2019   1024.484      1.027      0.305    -958.185    3062.589\n",
            "badge_product_quality          517.7629    536.512      0.965      0.335    -535.057    1570.583\n",
            "badge_fast_shipping          -1983.7208   1140.908     -1.739      0.082   -4222.572     255.130\n",
            "product_variation_inventory      6.3295      6.715      0.943      0.346      -6.847      19.506\n",
            "shipping_option_price          -54.9803    277.112     -0.198      0.843    -598.768     488.808\n",
            "shipping_is_express           -5.67e-13   6.55e-13     -0.866      0.387   -1.85e-12    7.18e-13\n",
            "countries_shipped_to           -12.4482      6.643     -1.874      0.061     -25.485       0.589\n",
            "inventory_total                -35.2555     55.211     -0.639      0.523    -143.599      73.088\n",
            "merchant_rating_count            0.0044      0.002      2.579      0.010       0.001       0.008\n",
            "merchant_rating                227.6120    697.888      0.326      0.744   -1141.882    1597.106\n",
            "merchant_has_profile_picture   -22.0585    370.442     -0.060      0.953    -748.993     704.876\n",
            "const                          964.4758   4066.632      0.237      0.813   -7015.644    8944.596\n",
            "==============================================================================\n",
            "Omnibus:                      877.723   Durbin-Watson:                   1.965\n",
            "Prob(Omnibus):                  0.000   Jarque-Bera (JB):            88599.374\n",
            "Skew:                           3.377   Prob(JB):                         0.00\n",
            "Kurtosis:                      48.179   Cond. No.                     3.41e+21\n",
            "==============================================================================\n",
            "\n",
            "Warnings:\n",
            "[1] Standard Errors assume that the covariance matrix of the errors is correctly specified.\n",
            "[2] The smallest eigenvalue is 5.9e-31. This might indicate that there are\n",
            "strong multicollinearity problems or that the design matrix is singular.\n"
          ]
        }
      ]
    },
    {
      "cell_type": "markdown",
      "source": [
        "- 각 변수들의 p-value 값이 0.8, 0.6 이상이 되는 값들이 보이기에 다중공선성이 의심됩니다(통상 0.5이상이라면 다중공선성 확인). 또한 모델 summary 결과에서도 다중공선성(multicollinearity)이 의심된다는 결과가 나왔기에 VIF(분산팽창지수)를 확인해보았습니다. "
      ],
      "metadata": {
        "id": "hQAVLQ1kpNIp"
      }
    },
    {
      "cell_type": "code",
      "source": [
        "from statsmodels.stats.outliers_influence import variance_inflation_factor\n",
        "\n",
        "vif = pd.DataFrame()\n",
        "vif[\"VIF Factor\"] = [variance_inflation_factor(X_train.values,i) for i in range(X_train.shape[1])]\n",
        "vif[\"features\"] = X_train.columns\n",
        "print(vif)"
      ],
      "metadata": {
        "id": "98-FGcerjg9X",
        "outputId": "6bd99e4d-f727-4c6c-f2b7-62b655c9f47b",
        "colab": {
          "base_uri": "https://localhost:8080/"
        }
      },
      "execution_count": 101,
      "outputs": [
        {
          "output_type": "stream",
          "name": "stdout",
          "text": [
            "     VIF Factor                      features\n",
            "0      4.713172                         price\n",
            "1      1.164668                  retail_price\n",
            "2      1.045611                uses_ad_boosts\n",
            "3      1.232496                        rating\n",
            "4           inf                  rating_count\n",
            "5           inf             rating_five_count\n",
            "6           inf             rating_four_count\n",
            "7           inf            rating_three_count\n",
            "8           inf              rating_two_count\n",
            "9           inf              rating_one_count\n",
            "10          inf                  badges_count\n",
            "11          inf           badge_local_product\n",
            "12          inf         badge_product_quality\n",
            "13          inf           badge_fast_shipping\n",
            "14     1.255722   product_variation_inventory\n",
            "15     4.491230         shipping_option_price\n",
            "16          NaN           shipping_is_express\n",
            "17     1.080832          countries_shipped_to\n",
            "18     1.067366               inventory_total\n",
            "19     1.106418         merchant_rating_count\n",
            "20     1.191958               merchant_rating\n",
            "21     1.065361  merchant_has_profile_picture\n",
            "22  1022.733260                         const\n"
          ]
        }
      ]
    },
    {
      "cell_type": "markdown",
      "source": [
        "- vif값이 10이 넘으면 다중공선성을 의심합니다. 여기선 7개만을 제외하고 모두 10이 넘고, inf값까지 나온것을 볼 수 있습니다. 그렇기에 해당 값들을 drop하려 합니다."
      ],
      "metadata": {
        "id": "CXOOad0vrpBT"
      }
    },
    {
      "cell_type": "code",
      "source": [
        "# 다중공선성 제외 1\n",
        "# 다중공선성 제외 특성\n",
        "features_after_vif = ['price',\n",
        "                      'retail_price',\n",
        "                      'uses_ad_boosts',\n",
        "                      'rating_count',\n",
        "                      'badge_product_quality',\n",
        "                      'badge_fast_shipping',\n",
        "                      'product_variation_inventory',\n",
        "                      'countries_shipped_to',\n",
        "                      'merchant_rating_count',\n",
        "                      'merchant_rating',\n",
        "                      'merchant_has_profile_picture',\n",
        "                      'const']\n",
        "\n",
        "\n",
        "target = 'units_sold'\n",
        "x = df[features_after_vif]\n",
        "y = df[target]\n",
        "\n",
        "# 분할\n",
        "X_train ,X_test , y_train , y_test = train_test_split(x,y,train_size=0.7,test_size=0.3)\n",
        "print(X_train.shape, X_test.shape, y_train.shape, y_test.shape)\n",
        "\n",
        "#Train the MLR / 회귀모델적합\n",
        "Model = sm.OLS(y_train, X_train)\n",
        "FittedModel = Model.fit()\n",
        "\n",
        "print(FittedModel.summary())\n",
        "\n",
        "# 에러\n",
        "y_pred = FittedModel.predict(X_test)\n",
        "\n",
        "# 평가지표 계산\n",
        "print('평가지표')\n",
        "mse = mean_squared_error(y_test, y_pred)\n",
        "mae = mean_absolute_error(y_test, y_pred)\n",
        "rmse = mse ** 0.5\n",
        "r2 = r2_score(y_test, y_pred)\n",
        "display(pd.DataFrame([['MSE', mse],['MAE', mae],['RMSE', rmse],['R2', r2]], columns=['Metric', 'Score']))\n",
        "\n",
        "\n",
        "# VIF 계산\n",
        "vif = pd.DataFrame()\n",
        "vif[\"VIF Factor\"] = [variance_inflation_factor(X_train.values,i) for i in range(X_train.shape[1])]\n",
        "vif[\"features\"] = X_train.columns\n",
        "print(vif)"
      ],
      "metadata": {
        "colab": {
          "base_uri": "https://localhost:8080/",
          "height": 1000
        },
        "id": "9tJAh45e84so",
        "outputId": "8bd5a03b-d59e-422c-f918-dad8ee7e6034"
      },
      "execution_count": 111,
      "outputs": [
        {
          "output_type": "stream",
          "name": "stdout",
          "text": [
            "(1019, 12) (438, 12) (1019,) (438,)\n",
            "                            OLS Regression Results                            \n",
            "==============================================================================\n",
            "Dep. Variable:             units_sold   R-squared:                       0.811\n",
            "Model:                            OLS   Adj. R-squared:                  0.808\n",
            "Method:                 Least Squares   F-statistic:                     391.7\n",
            "Date:                Tue, 05 Jul 2022   Prob (F-statistic):               0.00\n",
            "Time:                        07:25:52   Log-Likelihood:                -9900.7\n",
            "No. Observations:                1019   AIC:                         1.983e+04\n",
            "Df Residuals:                    1007   BIC:                         1.988e+04\n",
            "Df Model:                          11                                         \n",
            "Covariance Type:            nonrobust                                         \n",
            "================================================================================================\n",
            "                                   coef    std err          t      P>|t|      [0.025      0.975]\n",
            "------------------------------------------------------------------------------------------------\n",
            "price                          -47.8111     37.457     -1.276      0.202    -121.314      25.691\n",
            "retail_price                    -9.8011      4.421     -2.217      0.027     -18.477      -1.125\n",
            "uses_ad_boosts                 358.5626    259.410      1.382      0.167    -150.484     867.609\n",
            "rating_count                     4.1571      0.067     62.135      0.000       4.026       4.288\n",
            "badge_product_quality         -547.7384    519.609     -1.054      0.292   -1567.378     471.901\n",
            "badge_fast_shipping           -355.3384   1371.440     -0.259      0.796   -3046.545    2335.869\n",
            "product_variation_inventory      8.1166      6.494      1.250      0.212      -4.627      20.860\n",
            "countries_shipped_to            -8.2373      6.502     -1.267      0.205     -20.995       4.521\n",
            "merchant_rating_count            0.0031      0.002      1.851      0.064      -0.000       0.006\n",
            "merchant_rating               -205.4891    680.280     -0.302      0.763   -1540.418    1129.440\n",
            "merchant_has_profile_picture   117.1335    357.141      0.328      0.743    -583.693     817.960\n",
            "const                         1909.1514   2691.052      0.709      0.478   -3371.561    7189.864\n",
            "==============================================================================\n",
            "Omnibus:                      885.280   Durbin-Watson:                   1.956\n",
            "Prob(Omnibus):                  0.000   Jarque-Bera (JB):           106515.572\n",
            "Skew:                           3.364   Prob(JB):                         0.00\n",
            "Kurtosis:                      52.633   Cond. No.                     1.83e+06\n",
            "==============================================================================\n",
            "\n",
            "Warnings:\n",
            "[1] Standard Errors assume that the covariance matrix of the errors is correctly specified.\n",
            "[2] The condition number is large, 1.83e+06. This might indicate that there are\n",
            "strong multicollinearity or other numerical problems.\n",
            "평가지표\n"
          ]
        },
        {
          "output_type": "display_data",
          "data": {
            "text/plain": [
              "  Metric         Score\n",
              "0    MSE  1.170812e+07\n",
              "1    MAE  1.736180e+03\n",
              "2   RMSE  3.421713e+03\n",
              "3     R2  8.407851e-01"
            ],
            "text/html": [
              "\n",
              "  <div id=\"df-b0ce95d7-45ce-4a58-a8f4-0b77ea6ae6fe\">\n",
              "    <div class=\"colab-df-container\">\n",
              "      <div>\n",
              "<style scoped>\n",
              "    .dataframe tbody tr th:only-of-type {\n",
              "        vertical-align: middle;\n",
              "    }\n",
              "\n",
              "    .dataframe tbody tr th {\n",
              "        vertical-align: top;\n",
              "    }\n",
              "\n",
              "    .dataframe thead th {\n",
              "        text-align: right;\n",
              "    }\n",
              "</style>\n",
              "<table border=\"1\" class=\"dataframe\">\n",
              "  <thead>\n",
              "    <tr style=\"text-align: right;\">\n",
              "      <th></th>\n",
              "      <th>Metric</th>\n",
              "      <th>Score</th>\n",
              "    </tr>\n",
              "  </thead>\n",
              "  <tbody>\n",
              "    <tr>\n",
              "      <th>0</th>\n",
              "      <td>MSE</td>\n",
              "      <td>1.170812e+07</td>\n",
              "    </tr>\n",
              "    <tr>\n",
              "      <th>1</th>\n",
              "      <td>MAE</td>\n",
              "      <td>1.736180e+03</td>\n",
              "    </tr>\n",
              "    <tr>\n",
              "      <th>2</th>\n",
              "      <td>RMSE</td>\n",
              "      <td>3.421713e+03</td>\n",
              "    </tr>\n",
              "    <tr>\n",
              "      <th>3</th>\n",
              "      <td>R2</td>\n",
              "      <td>8.407851e-01</td>\n",
              "    </tr>\n",
              "  </tbody>\n",
              "</table>\n",
              "</div>\n",
              "      <button class=\"colab-df-convert\" onclick=\"convertToInteractive('df-b0ce95d7-45ce-4a58-a8f4-0b77ea6ae6fe')\"\n",
              "              title=\"Convert this dataframe to an interactive table.\"\n",
              "              style=\"display:none;\">\n",
              "        \n",
              "  <svg xmlns=\"http://www.w3.org/2000/svg\" height=\"24px\"viewBox=\"0 0 24 24\"\n",
              "       width=\"24px\">\n",
              "    <path d=\"M0 0h24v24H0V0z\" fill=\"none\"/>\n",
              "    <path d=\"M18.56 5.44l.94 2.06.94-2.06 2.06-.94-2.06-.94-.94-2.06-.94 2.06-2.06.94zm-11 1L8.5 8.5l.94-2.06 2.06-.94-2.06-.94L8.5 2.5l-.94 2.06-2.06.94zm10 10l.94 2.06.94-2.06 2.06-.94-2.06-.94-.94-2.06-.94 2.06-2.06.94z\"/><path d=\"M17.41 7.96l-1.37-1.37c-.4-.4-.92-.59-1.43-.59-.52 0-1.04.2-1.43.59L10.3 9.45l-7.72 7.72c-.78.78-.78 2.05 0 2.83L4 21.41c.39.39.9.59 1.41.59.51 0 1.02-.2 1.41-.59l7.78-7.78 2.81-2.81c.8-.78.8-2.07 0-2.86zM5.41 20L4 18.59l7.72-7.72 1.47 1.35L5.41 20z\"/>\n",
              "  </svg>\n",
              "      </button>\n",
              "      \n",
              "  <style>\n",
              "    .colab-df-container {\n",
              "      display:flex;\n",
              "      flex-wrap:wrap;\n",
              "      gap: 12px;\n",
              "    }\n",
              "\n",
              "    .colab-df-convert {\n",
              "      background-color: #E8F0FE;\n",
              "      border: none;\n",
              "      border-radius: 50%;\n",
              "      cursor: pointer;\n",
              "      display: none;\n",
              "      fill: #1967D2;\n",
              "      height: 32px;\n",
              "      padding: 0 0 0 0;\n",
              "      width: 32px;\n",
              "    }\n",
              "\n",
              "    .colab-df-convert:hover {\n",
              "      background-color: #E2EBFA;\n",
              "      box-shadow: 0px 1px 2px rgba(60, 64, 67, 0.3), 0px 1px 3px 1px rgba(60, 64, 67, 0.15);\n",
              "      fill: #174EA6;\n",
              "    }\n",
              "\n",
              "    [theme=dark] .colab-df-convert {\n",
              "      background-color: #3B4455;\n",
              "      fill: #D2E3FC;\n",
              "    }\n",
              "\n",
              "    [theme=dark] .colab-df-convert:hover {\n",
              "      background-color: #434B5C;\n",
              "      box-shadow: 0px 1px 3px 1px rgba(0, 0, 0, 0.15);\n",
              "      filter: drop-shadow(0px 1px 2px rgba(0, 0, 0, 0.3));\n",
              "      fill: #FFFFFF;\n",
              "    }\n",
              "  </style>\n",
              "\n",
              "      <script>\n",
              "        const buttonEl =\n",
              "          document.querySelector('#df-b0ce95d7-45ce-4a58-a8f4-0b77ea6ae6fe button.colab-df-convert');\n",
              "        buttonEl.style.display =\n",
              "          google.colab.kernel.accessAllowed ? 'block' : 'none';\n",
              "\n",
              "        async function convertToInteractive(key) {\n",
              "          const element = document.querySelector('#df-b0ce95d7-45ce-4a58-a8f4-0b77ea6ae6fe');\n",
              "          const dataTable =\n",
              "            await google.colab.kernel.invokeFunction('convertToInteractive',\n",
              "                                                     [key], {});\n",
              "          if (!dataTable) return;\n",
              "\n",
              "          const docLinkHtml = 'Like what you see? Visit the ' +\n",
              "            '<a target=\"_blank\" href=https://colab.research.google.com/notebooks/data_table.ipynb>data table notebook</a>'\n",
              "            + ' to learn more about interactive tables.';\n",
              "          element.innerHTML = '';\n",
              "          dataTable['output_type'] = 'display_data';\n",
              "          await google.colab.output.renderOutput(dataTable, element);\n",
              "          const docLink = document.createElement('div');\n",
              "          docLink.innerHTML = docLinkHtml;\n",
              "          element.appendChild(docLink);\n",
              "        }\n",
              "      </script>\n",
              "    </div>\n",
              "  </div>\n",
              "  "
            ]
          },
          "metadata": {}
        },
        {
          "output_type": "stream",
          "name": "stdout",
          "text": [
            "    VIF Factor                      features\n",
            "0     1.235254                         price\n",
            "1     1.123157                  retail_price\n",
            "2     1.035966                uses_ad_boosts\n",
            "3     1.102551                  rating_count\n",
            "4     1.051779         badge_product_quality\n",
            "5     1.029911           badge_fast_shipping\n",
            "6     1.200674   product_variation_inventory\n",
            "7     1.079614          countries_shipped_to\n",
            "8     1.096220         merchant_rating_count\n",
            "9     1.130225               merchant_rating\n",
            "10    1.045256  merchant_has_profile_picture\n",
            "11  452.975974                         const\n"
          ]
        }
      ]
    },
    {
      "cell_type": "markdown",
      "source": [
        "- vif값을 토대로 변수들을 제거, 추가하며 모델링 작업을 진행하였습니다. 과정에서 평가지표를 전후로 비교하며 최적의 모델 변수들을 찾고자 하였고, 위 모델에서 모델 설명력과 평가지표, vif값들 모두 양호하게 도출되었습니다."
      ],
      "metadata": {
        "id": "thvMjZKqCwVU"
      }
    },
    {
      "cell_type": "markdown",
      "source": [
        "### 변수 선택\n",
        "- 변수선택법으로는 전진선택법을 선택하였습니다.\n",
        "- 선택기준으로, AIC, BIC 등 중에서 실제값의 분포를 보려는 것이 아니라 예측을 하는 것이니 AIC를 선택하였습니다.\n",
        "- 관련 링크 \n",
        "  - https://aliencoder.tistory.com/24\n",
        "  - https://zephyrus1111.tistory.com/65"
      ],
      "metadata": {
        "id": "s0qs5DdTukeP"
      }
    },
    {
      "cell_type": "code",
      "source": [
        "# 변수선택을 위해서 타겟과 features가 함께 있는데이터로 구하자\n",
        "select = features\n",
        "select.append('units_sold')\n",
        "\n",
        "df_for_select = df[select]"
      ],
      "metadata": {
        "id": "VexWXmaTECMi"
      },
      "execution_count": 112,
      "outputs": []
    },
    {
      "cell_type": "code",
      "source": [
        "def forward_feature_selection(X_train, y_train, variables=X_train.columns.tolist() ):\n",
        "    import statsmodels.api as sm\n",
        "    import matplotlib.pyplot as plt\n",
        "    import warnings\n",
        "    warnings.filterwarnings(\"ignore\")\n",
        "    \n",
        "    y = y_train ## 반응 변수\n",
        "\n",
        "    selected_variables = [] ## 선택된 변수들\n",
        "    sl_enter = 0.5\n",
        "    sl_remove = 0.5\n",
        "    \n",
        "    sv_per_step = [] ## 각 스텝별로 선택된 변수들\n",
        "    adjusted_r_squared = [] ## 각 스텝별 수정된 결정계수\n",
        "    steps = [] ## 스텝\n",
        "    step = 0\n",
        "    while len(variables) > 0:\n",
        "        remainder = list(set(variables) - set(selected_variables))\n",
        "        pval = pd.Series(index=remainder) ## 변수의 p-value\n",
        "        ## 기존에 포함된 변수와 새로운 변수 하나씩 돌아가면서 \n",
        "        ## 선형 모형을 적합한다.\n",
        "        for col in remainder: \n",
        "            X = X_train[selected_variables+[col]]\n",
        "            X = sm.add_constant(X)\n",
        "            model = sm.OLS(y,X).fit(disp=0)\n",
        "            pval[col] = model.pvalues[col]\n",
        "    \n",
        "        min_pval = pval.min()\n",
        "        if min_pval < sl_enter: ## 최소 p-value 값이 기준 값보다 작으면 포함\n",
        "            selected_variables.append(pval.idxmin())\n",
        "            ## 선택된 변수들에대해서\n",
        "            ## 어떤 변수를 제거할지 고른다.\n",
        "            while len(selected_variables) > 0:\n",
        "                selected_X = X_train[selected_variables]\n",
        "                selected_X = sm.add_constant(selected_X)\n",
        "                selected_pval = sm.OLS(y,selected_X).fit(disp=0).pvalues[1:] ## 절편항의 p-value는 뺀다\n",
        "                max_pval = selected_pval.max()\n",
        "                if max_pval >= sl_remove: ## 최대 p-value값이 기준값보다 크거나 같으면 제외\n",
        "                    remove_variable = selected_pval.idxmax()\n",
        "                    selected_variables.remove(remove_variable)\n",
        "                else:\n",
        "                    break\n",
        "            \n",
        "            step += 1\n",
        "            steps.append(step)\n",
        "            adj_r_squared = sm.OLS(y,sm.add_constant(X_train[selected_variables])).fit(disp=0).rsquared_adj\n",
        "            adjusted_r_squared.append(adj_r_squared)\n",
        "            sv_per_step.append(selected_variables.copy())\n",
        "        else:\n",
        "            break\n",
        "    return selected_variables"
      ],
      "metadata": {
        "id": "j_Ij0793FxVT"
      },
      "execution_count": 113,
      "outputs": []
    },
    {
      "cell_type": "code",
      "source": [
        "selected_features = forward_feature_selection(x, y)"
      ],
      "metadata": {
        "id": "vPvthdadFxTc"
      },
      "execution_count": 114,
      "outputs": []
    },
    {
      "cell_type": "code",
      "source": [
        "selected_features"
      ],
      "metadata": {
        "id": "5ILJHQAmFxRU",
        "outputId": "725d7523-31cb-407c-f485-f71c86db5eaa",
        "colab": {
          "base_uri": "https://localhost:8080/"
        }
      },
      "execution_count": 115,
      "outputs": [
        {
          "output_type": "execute_result",
          "data": {
            "text/plain": [
              "['rating_count',\n",
              " 'const',\n",
              " 'retail_price',\n",
              " 'merchant_rating_count',\n",
              " 'badge_fast_shipping',\n",
              " 'uses_ad_boosts',\n",
              " 'product_variation_inventory',\n",
              " 'badge_product_quality',\n",
              " 'countries_shipped_to',\n",
              " 'price']"
            ]
          },
          "metadata": {},
          "execution_count": 115
        }
      ]
    },
    {
      "cell_type": "code",
      "source": [
        "# 웹에서의 순서를 고려하여, 순서 임의 변경\n",
        "selected_features = ['rating_count',\n",
        "                      'const',\n",
        "                      'retail_price',\n",
        "                      'merchant_rating_count',\n",
        "                      'badge_fast_shipping',\n",
        "                      'uses_ad_boosts',\n",
        "                      'product_variation_inventory',\n",
        "                      'badge_product_quality',\n",
        "                      'countries_shipped_to',\n",
        "                      'price',\n",
        "                      'merchant_rating']"
      ],
      "metadata": {
        "id": "75x7EpIZSwbw"
      },
      "execution_count": 116,
      "outputs": []
    },
    {
      "cell_type": "code",
      "source": [
        "# 전진선택법으로 선택한 feature들로 모델링\n",
        "model_2 = sm.OLS(y_train, sm.add_constant(pd.DataFrame(X_train[selected_features]))).fit(disp=0)\n",
        "print(model_2.summary())\n",
        "\n",
        "\n",
        "# 에러\n",
        "y_pred = model_2.predict(X_test[selected_features])\n",
        "\n",
        "# 평가지표 계산\n",
        "print('평가지표')\n",
        "mse = mean_squared_error(y_test, y_pred)\n",
        "mae = mean_absolute_error(y_test, y_pred)\n",
        "rmse = mse ** 0.5\n",
        "r2 = r2_score(y_test, y_pred)\n",
        "display(pd.DataFrame([['MSE', mse],['MAE', mae],['RMSE', rmse],['R2', r2]], columns=['Metric', 'Score']))\n",
        "\n",
        "\n",
        "# VIF 계산\n",
        "vif = pd.DataFrame()\n",
        "vif[\"VIF Factor\"] = [variance_inflation_factor(X_train.values,i) for i in range(X_train.shape[1])]\n",
        "vif[\"features\"] = X_train.columns\n",
        "print(vif)"
      ],
      "metadata": {
        "id": "E4A9Q3yIFxPA",
        "outputId": "7487f73c-7f15-462c-8f1e-cb48399edb3a",
        "colab": {
          "base_uri": "https://localhost:8080/",
          "height": 1000
        }
      },
      "execution_count": 117,
      "outputs": [
        {
          "output_type": "stream",
          "name": "stdout",
          "text": [
            "                            OLS Regression Results                            \n",
            "==============================================================================\n",
            "Dep. Variable:             units_sold   R-squared:                       0.811\n",
            "Model:                            OLS   Adj. R-squared:                  0.809\n",
            "Method:                 Least Squares   F-statistic:                     431.2\n",
            "Date:                Tue, 05 Jul 2022   Prob (F-statistic):               0.00\n",
            "Time:                        07:38:56   Log-Likelihood:                -9900.7\n",
            "No. Observations:                1019   AIC:                         1.982e+04\n",
            "Df Residuals:                    1008   BIC:                         1.988e+04\n",
            "Df Model:                          10                                         \n",
            "Covariance Type:            nonrobust                                         \n",
            "===============================================================================================\n",
            "                                  coef    std err          t      P>|t|      [0.025      0.975]\n",
            "-----------------------------------------------------------------------------------------------\n",
            "rating_count                    4.1595      0.066     62.577      0.000       4.029       4.290\n",
            "const                        1837.4819   2680.978      0.685      0.493   -3423.455    7098.419\n",
            "retail_price                   -9.7609      4.418     -2.210      0.027     -18.430      -1.092\n",
            "merchant_rating_count           0.0031      0.002      1.873      0.061      -0.000       0.006\n",
            "badge_fast_shipping          -333.7162   1369.248     -0.244      0.807   -3020.618    2353.186\n",
            "uses_ad_boosts                358.9098    259.293      1.384      0.167    -149.906     867.726\n",
            "product_variation_inventory     8.1312      6.491      1.253      0.211      -4.606      20.869\n",
            "badge_product_quality        -542.0631    519.090     -1.044      0.297   -1560.685     476.559\n",
            "countries_shipped_to           -8.2694      6.498     -1.273      0.203     -21.020       4.482\n",
            "price                         -47.2633     37.403     -1.264      0.207    -120.660      26.133\n",
            "merchant_rating              -185.2808    677.184     -0.274      0.784   -1514.133    1143.571\n",
            "==============================================================================\n",
            "Omnibus:                      885.914   Durbin-Watson:                   1.957\n",
            "Prob(Omnibus):                  0.000   Jarque-Bera (JB):           106750.245\n",
            "Skew:                           3.367   Prob(JB):                         0.00\n",
            "Kurtosis:                      52.688   Cond. No.                     1.82e+06\n",
            "==============================================================================\n",
            "\n",
            "Warnings:\n",
            "[1] Standard Errors assume that the covariance matrix of the errors is correctly specified.\n",
            "[2] The condition number is large, 1.82e+06. This might indicate that there are\n",
            "strong multicollinearity or other numerical problems.\n",
            "평가지표\n"
          ]
        },
        {
          "output_type": "display_data",
          "data": {
            "text/plain": [
              "  Metric         Score\n",
              "0    MSE  1.169465e+07\n",
              "1    MAE  1.735643e+03\n",
              "2   RMSE  3.419744e+03\n",
              "3     R2  8.409684e-01"
            ],
            "text/html": [
              "\n",
              "  <div id=\"df-45812edf-0ce1-405d-bfe5-708a511a4d84\">\n",
              "    <div class=\"colab-df-container\">\n",
              "      <div>\n",
              "<style scoped>\n",
              "    .dataframe tbody tr th:only-of-type {\n",
              "        vertical-align: middle;\n",
              "    }\n",
              "\n",
              "    .dataframe tbody tr th {\n",
              "        vertical-align: top;\n",
              "    }\n",
              "\n",
              "    .dataframe thead th {\n",
              "        text-align: right;\n",
              "    }\n",
              "</style>\n",
              "<table border=\"1\" class=\"dataframe\">\n",
              "  <thead>\n",
              "    <tr style=\"text-align: right;\">\n",
              "      <th></th>\n",
              "      <th>Metric</th>\n",
              "      <th>Score</th>\n",
              "    </tr>\n",
              "  </thead>\n",
              "  <tbody>\n",
              "    <tr>\n",
              "      <th>0</th>\n",
              "      <td>MSE</td>\n",
              "      <td>1.169465e+07</td>\n",
              "    </tr>\n",
              "    <tr>\n",
              "      <th>1</th>\n",
              "      <td>MAE</td>\n",
              "      <td>1.735643e+03</td>\n",
              "    </tr>\n",
              "    <tr>\n",
              "      <th>2</th>\n",
              "      <td>RMSE</td>\n",
              "      <td>3.419744e+03</td>\n",
              "    </tr>\n",
              "    <tr>\n",
              "      <th>3</th>\n",
              "      <td>R2</td>\n",
              "      <td>8.409684e-01</td>\n",
              "    </tr>\n",
              "  </tbody>\n",
              "</table>\n",
              "</div>\n",
              "      <button class=\"colab-df-convert\" onclick=\"convertToInteractive('df-45812edf-0ce1-405d-bfe5-708a511a4d84')\"\n",
              "              title=\"Convert this dataframe to an interactive table.\"\n",
              "              style=\"display:none;\">\n",
              "        \n",
              "  <svg xmlns=\"http://www.w3.org/2000/svg\" height=\"24px\"viewBox=\"0 0 24 24\"\n",
              "       width=\"24px\">\n",
              "    <path d=\"M0 0h24v24H0V0z\" fill=\"none\"/>\n",
              "    <path d=\"M18.56 5.44l.94 2.06.94-2.06 2.06-.94-2.06-.94-.94-2.06-.94 2.06-2.06.94zm-11 1L8.5 8.5l.94-2.06 2.06-.94-2.06-.94L8.5 2.5l-.94 2.06-2.06.94zm10 10l.94 2.06.94-2.06 2.06-.94-2.06-.94-.94-2.06-.94 2.06-2.06.94z\"/><path d=\"M17.41 7.96l-1.37-1.37c-.4-.4-.92-.59-1.43-.59-.52 0-1.04.2-1.43.59L10.3 9.45l-7.72 7.72c-.78.78-.78 2.05 0 2.83L4 21.41c.39.39.9.59 1.41.59.51 0 1.02-.2 1.41-.59l7.78-7.78 2.81-2.81c.8-.78.8-2.07 0-2.86zM5.41 20L4 18.59l7.72-7.72 1.47 1.35L5.41 20z\"/>\n",
              "  </svg>\n",
              "      </button>\n",
              "      \n",
              "  <style>\n",
              "    .colab-df-container {\n",
              "      display:flex;\n",
              "      flex-wrap:wrap;\n",
              "      gap: 12px;\n",
              "    }\n",
              "\n",
              "    .colab-df-convert {\n",
              "      background-color: #E8F0FE;\n",
              "      border: none;\n",
              "      border-radius: 50%;\n",
              "      cursor: pointer;\n",
              "      display: none;\n",
              "      fill: #1967D2;\n",
              "      height: 32px;\n",
              "      padding: 0 0 0 0;\n",
              "      width: 32px;\n",
              "    }\n",
              "\n",
              "    .colab-df-convert:hover {\n",
              "      background-color: #E2EBFA;\n",
              "      box-shadow: 0px 1px 2px rgba(60, 64, 67, 0.3), 0px 1px 3px 1px rgba(60, 64, 67, 0.15);\n",
              "      fill: #174EA6;\n",
              "    }\n",
              "\n",
              "    [theme=dark] .colab-df-convert {\n",
              "      background-color: #3B4455;\n",
              "      fill: #D2E3FC;\n",
              "    }\n",
              "\n",
              "    [theme=dark] .colab-df-convert:hover {\n",
              "      background-color: #434B5C;\n",
              "      box-shadow: 0px 1px 3px 1px rgba(0, 0, 0, 0.15);\n",
              "      filter: drop-shadow(0px 1px 2px rgba(0, 0, 0, 0.3));\n",
              "      fill: #FFFFFF;\n",
              "    }\n",
              "  </style>\n",
              "\n",
              "      <script>\n",
              "        const buttonEl =\n",
              "          document.querySelector('#df-45812edf-0ce1-405d-bfe5-708a511a4d84 button.colab-df-convert');\n",
              "        buttonEl.style.display =\n",
              "          google.colab.kernel.accessAllowed ? 'block' : 'none';\n",
              "\n",
              "        async function convertToInteractive(key) {\n",
              "          const element = document.querySelector('#df-45812edf-0ce1-405d-bfe5-708a511a4d84');\n",
              "          const dataTable =\n",
              "            await google.colab.kernel.invokeFunction('convertToInteractive',\n",
              "                                                     [key], {});\n",
              "          if (!dataTable) return;\n",
              "\n",
              "          const docLinkHtml = 'Like what you see? Visit the ' +\n",
              "            '<a target=\"_blank\" href=https://colab.research.google.com/notebooks/data_table.ipynb>data table notebook</a>'\n",
              "            + ' to learn more about interactive tables.';\n",
              "          element.innerHTML = '';\n",
              "          dataTable['output_type'] = 'display_data';\n",
              "          await google.colab.output.renderOutput(dataTable, element);\n",
              "          const docLink = document.createElement('div');\n",
              "          docLink.innerHTML = docLinkHtml;\n",
              "          element.appendChild(docLink);\n",
              "        }\n",
              "      </script>\n",
              "    </div>\n",
              "  </div>\n",
              "  "
            ]
          },
          "metadata": {}
        },
        {
          "output_type": "stream",
          "name": "stdout",
          "text": [
            "    VIF Factor                      features\n",
            "0     1.235254                         price\n",
            "1     1.123157                  retail_price\n",
            "2     1.035966                uses_ad_boosts\n",
            "3     1.102551                  rating_count\n",
            "4     1.051779         badge_product_quality\n",
            "5     1.029911           badge_fast_shipping\n",
            "6     1.200674   product_variation_inventory\n",
            "7     1.079614          countries_shipped_to\n",
            "8     1.096220         merchant_rating_count\n",
            "9     1.130225               merchant_rating\n",
            "10    1.045256  merchant_has_profile_picture\n",
            "11  452.975974                         const\n"
          ]
        }
      ]
    },
    {
      "cell_type": "markdown",
      "source": [
        "#### 전진선택법을 적용했을 때, 결국 같은 변수들을 선택하는 결과를 보였다. 그렇기에 모델1이 적합한 모델이라고 생각하였다. (전진선택법을 한 model_2가 결국 기존 모델을 만들게 됨)"
      ],
      "metadata": {
        "id": "52zjniDUGg8h"
      }
    },
    {
      "cell_type": "markdown",
      "source": [
        ""
      ],
      "metadata": {
        "id": "s25T-8qSNt7b"
      }
    },
    {
      "cell_type": "markdown",
      "source": [
        "- 선택 변수 설명\n",
        "  - price: 가격\n",
        "  - retail_price: 할인 가격\n",
        "  - uses_ad_boosts: 광고 유무\n",
        "  - rating_count: 받은 별점 수\n",
        "  - badge_product_quality: 품질 보증 배지 유뮤\n",
        "  - badge_fast_shipping: 빠른 배송 배지 유무\n",
        "  - product_variation_inventory: 재고량\n",
        "  - countries_shipped_to: 배송가능 국가 수\n",
        "  - inventory_total: 제품의 모든 재고량(사이즈, 색깔 모두)\n",
        "  - merchant_rating_count: 판매자의 별점 수\n",
        "  - merchant_rating: 판매자 별점\n",
        "  - merchant_has_profile_picture: 판매자 프로필사진 유무"
      ],
      "metadata": {
        "id": "iauxqdGEN5Xy"
      }
    }
  ]
}