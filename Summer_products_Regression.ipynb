{
  "nbformat": 4,
  "nbformat_minor": 0,
  "metadata": {
    "colab": {
      "name": "Summer_products.ipynb",
      "provenance": [],
      "authorship_tag": "ABX9TyNa7q7V0RTyc617U2nzYqU9",
      "include_colab_link": true
    },
    "kernelspec": {
      "name": "python3",
      "display_name": "Python 3"
    },
    "language_info": {
      "name": "python"
    }
  },
  "cells": [
    {
      "cell_type": "markdown",
      "metadata": {
        "id": "view-in-github",
        "colab_type": "text"
      },
      "source": [
        "<a href=\"https://colab.research.google.com/github/cyss93/CP1_team8/blob/main/Summer_products_Regression.ipynb\" target=\"_parent\"><img src=\"https://colab.research.google.com/assets/colab-badge.svg\" alt=\"Open In Colab\"/></a>"
      ]
    },
    {
      "cell_type": "code",
      "execution_count": null,
      "metadata": {
        "id": "JvBNLGyNSqoQ",
        "outputId": "5a335dc5-058d-4f4e-a1f1-2a91a94be1ad",
        "colab": {
          "base_uri": "https://localhost:8080/"
        }
      },
      "outputs": [
        {
          "output_type": "stream",
          "name": "stderr",
          "text": [
            "/usr/local/lib/python3.7/dist-packages/statsmodels/tools/_testing.py:19: FutureWarning: pandas.util.testing is deprecated. Use the functions in the public API at pandas.testing instead.\n",
            "  import pandas.util.testing as tm\n"
          ]
        }
      ],
      "source": [
        "import pandas as pd\n",
        "import numpy as np\n",
        "from sklearn.metrics import  mean_squared_error, mean_absolute_error, r2_score\n",
        "from IPython.display import display\n",
        "from sklearn.model_selection import train_test_split\n",
        "\n",
        "from matplotlib import style\n",
        "import matplotlib.pyplot as plt\n",
        "\n",
        "import statsmodels.api as sm\n",
        "from sklearn.linear_model import LinearRegression\n",
        "\n",
        "from sklearn.linear_model import Ridge\n",
        "\n",
        "\n",
        "import time\n",
        "import itertools"
      ]
    },
    {
      "cell_type": "code",
      "source": [
        "df = pd.read_csv('summer-products-with-rating-and-performance_2020-08.csv')"
      ],
      "metadata": {
        "id": "HS2ew79STQLI"
      },
      "execution_count": null,
      "outputs": []
    },
    {
      "cell_type": "markdown",
      "source": [
        "- 변수 정리\n",
        " 'title' = \n",
        " 'title_orig',\n",
        " 'price',\n",
        " 'retail_price',\n",
        " 'currency_buyer',\n",
        " 'units_sold',\n",
        " 'uses_ad_boosts',\n",
        " 'rating',\n",
        " 'rating_count',\n",
        " 'rating_five_count',\n",
        " 'rating_four_count',\n",
        " 'rating_three_count',\n",
        " 'rating_two_count',\n",
        " 'rating_one_count',\n",
        " 'badges_count',\n",
        " 'badge_local_product',\n",
        " 'badge_product_quality',\n",
        " 'badge_fast_shipping',\n",
        " 'tags',\n",
        " 'product_color',\n",
        " 'product_variation_size_id',\n",
        " 'product_variation_inventory',\n",
        " 'shipping_option_name',\n",
        " 'shipping_option_price',\n",
        " 'shipping_is_express',\n",
        " 'countries_shipped_to',\n",
        " 'inventory_total',\n",
        " 'has_urgency_banner',\n",
        " 'urgency_text',\n",
        " 'origin_country',\n",
        " 'merchant_title',\n",
        " 'merchant_name',\n",
        " 'merchant_info_subtitle',\n",
        " 'merchant_rating_count',\n",
        " 'merchant_rating',\n",
        " 'merchant_id',\n",
        " 'merchant_has_profile_picture',\n",
        " 'merchant_profile_picture',\n",
        " 'product_url',\n",
        " 'product_picture',\n",
        " 'product_id',\n",
        " 'theme',\n",
        " 'crawl_month'"
      ],
      "metadata": {
        "id": "JdNcrJWoD3ut"
      }
    },
    {
      "cell_type": "code",
      "source": [
        "df.isna().sum()"
      ],
      "metadata": {
        "id": "gOnXtmRF3bnt",
        "outputId": "8903d969-1097-4dca-c1f5-a8d1e1339f79",
        "colab": {
          "base_uri": "https://localhost:8080/"
        }
      },
      "execution_count": null,
      "outputs": [
        {
          "output_type": "execute_result",
          "data": {
            "text/plain": [
              "title                              0\n",
              "title_orig                         0\n",
              "price                              0\n",
              "retail_price                       0\n",
              "currency_buyer                     0\n",
              "units_sold                         0\n",
              "uses_ad_boosts                     0\n",
              "rating                             0\n",
              "rating_count                       0\n",
              "rating_five_count                 45\n",
              "rating_four_count                 45\n",
              "rating_three_count                45\n",
              "rating_two_count                  45\n",
              "rating_one_count                  45\n",
              "badges_count                       0\n",
              "badge_local_product                0\n",
              "badge_product_quality              0\n",
              "badge_fast_shipping                0\n",
              "tags                               0\n",
              "product_color                     41\n",
              "product_variation_size_id         14\n",
              "product_variation_inventory        0\n",
              "shipping_option_name               0\n",
              "shipping_option_price              0\n",
              "shipping_is_express                0\n",
              "countries_shipped_to               0\n",
              "inventory_total                    0\n",
              "has_urgency_banner              1100\n",
              "urgency_text                    1100\n",
              "origin_country                    17\n",
              "merchant_title                     0\n",
              "merchant_name                      4\n",
              "merchant_info_subtitle             1\n",
              "merchant_rating_count              0\n",
              "merchant_rating                    0\n",
              "merchant_id                        0\n",
              "merchant_has_profile_picture       0\n",
              "merchant_profile_picture        1347\n",
              "product_url                        0\n",
              "product_picture                    0\n",
              "product_id                         0\n",
              "theme                              0\n",
              "crawl_month                        0\n",
              "dtype: int64"
            ]
          },
          "metadata": {},
          "execution_count": 3
        }
      ]
    },
    {
      "cell_type": "code",
      "source": [
        "# 결측값 있는 행 제거\n",
        "# has_urgency_banner, urgency_text, merchant_profile_picture 이 세 컬럼은 결측값의 비율이 너무 높기때문에 drop\n",
        "df.drop(columns = ['has_urgency_banner', 'urgency_text', 'merchant_profile_picture'], inplace = True)"
      ],
      "metadata": {
        "id": "OQsdHcsz4BlB"
      },
      "execution_count": null,
      "outputs": []
    },
    {
      "cell_type": "code",
      "source": [
        "# 결측값 있는 행 제거\n",
        "df.dropna(axis = 0, inplace = True)"
      ],
      "metadata": {
        "id": "EYoKMOzb4inY"
      },
      "execution_count": null,
      "outputs": []
    },
    {
      "cell_type": "code",
      "source": [
        "df.isna().sum()"
      ],
      "metadata": {
        "id": "69rhbNbD4Tpg",
        "outputId": "6fc174c7-dfbd-4c72-8bb3-c493d24876bb",
        "colab": {
          "base_uri": "https://localhost:8080/"
        }
      },
      "execution_count": null,
      "outputs": [
        {
          "output_type": "execute_result",
          "data": {
            "text/plain": [
              "title                           0\n",
              "title_orig                      0\n",
              "price                           0\n",
              "retail_price                    0\n",
              "currency_buyer                  0\n",
              "units_sold                      0\n",
              "uses_ad_boosts                  0\n",
              "rating                          0\n",
              "rating_count                    0\n",
              "rating_five_count               0\n",
              "rating_four_count               0\n",
              "rating_three_count              0\n",
              "rating_two_count                0\n",
              "rating_one_count                0\n",
              "badges_count                    0\n",
              "badge_local_product             0\n",
              "badge_product_quality           0\n",
              "badge_fast_shipping             0\n",
              "tags                            0\n",
              "product_color                   0\n",
              "product_variation_size_id       0\n",
              "product_variation_inventory     0\n",
              "shipping_option_name            0\n",
              "shipping_option_price           0\n",
              "shipping_is_express             0\n",
              "countries_shipped_to            0\n",
              "inventory_total                 0\n",
              "origin_country                  0\n",
              "merchant_title                  0\n",
              "merchant_name                   0\n",
              "merchant_info_subtitle          0\n",
              "merchant_rating_count           0\n",
              "merchant_rating                 0\n",
              "merchant_id                     0\n",
              "merchant_has_profile_picture    0\n",
              "product_url                     0\n",
              "product_picture                 0\n",
              "product_id                      0\n",
              "theme                           0\n",
              "crawl_month                     0\n",
              "dtype: int64"
            ]
          },
          "metadata": {},
          "execution_count": 6
        }
      ]
    },
    {
      "cell_type": "code",
      "source": [
        "df.info()"
      ],
      "metadata": {
        "id": "GrUm9xKkmWP7",
        "outputId": "0837add4-631e-444c-9548-ebc62627dea4",
        "colab": {
          "base_uri": "https://localhost:8080/"
        }
      },
      "execution_count": null,
      "outputs": [
        {
          "output_type": "stream",
          "name": "stdout",
          "text": [
            "<class 'pandas.core.frame.DataFrame'>\n",
            "Int64Index: 1457 entries, 0 to 1572\n",
            "Data columns (total 40 columns):\n",
            " #   Column                        Non-Null Count  Dtype  \n",
            "---  ------                        --------------  -----  \n",
            " 0   title                         1457 non-null   object \n",
            " 1   title_orig                    1457 non-null   object \n",
            " 2   price                         1457 non-null   float64\n",
            " 3   retail_price                  1457 non-null   int64  \n",
            " 4   currency_buyer                1457 non-null   object \n",
            " 5   units_sold                    1457 non-null   int64  \n",
            " 6   uses_ad_boosts                1457 non-null   int64  \n",
            " 7   rating                        1457 non-null   float64\n",
            " 8   rating_count                  1457 non-null   int64  \n",
            " 9   rating_five_count             1457 non-null   float64\n",
            " 10  rating_four_count             1457 non-null   float64\n",
            " 11  rating_three_count            1457 non-null   float64\n",
            " 12  rating_two_count              1457 non-null   float64\n",
            " 13  rating_one_count              1457 non-null   float64\n",
            " 14  badges_count                  1457 non-null   int64  \n",
            " 15  badge_local_product           1457 non-null   int64  \n",
            " 16  badge_product_quality         1457 non-null   int64  \n",
            " 17  badge_fast_shipping           1457 non-null   int64  \n",
            " 18  tags                          1457 non-null   object \n",
            " 19  product_color                 1457 non-null   object \n",
            " 20  product_variation_size_id     1457 non-null   object \n",
            " 21  product_variation_inventory   1457 non-null   int64  \n",
            " 22  shipping_option_name          1457 non-null   object \n",
            " 23  shipping_option_price         1457 non-null   int64  \n",
            " 24  shipping_is_express           1457 non-null   int64  \n",
            " 25  countries_shipped_to          1457 non-null   int64  \n",
            " 26  inventory_total               1457 non-null   int64  \n",
            " 27  origin_country                1457 non-null   object \n",
            " 28  merchant_title                1457 non-null   object \n",
            " 29  merchant_name                 1457 non-null   object \n",
            " 30  merchant_info_subtitle        1457 non-null   object \n",
            " 31  merchant_rating_count         1457 non-null   int64  \n",
            " 32  merchant_rating               1457 non-null   float64\n",
            " 33  merchant_id                   1457 non-null   object \n",
            " 34  merchant_has_profile_picture  1457 non-null   int64  \n",
            " 35  product_url                   1457 non-null   object \n",
            " 36  product_picture               1457 non-null   object \n",
            " 37  product_id                    1457 non-null   object \n",
            " 38  theme                         1457 non-null   object \n",
            " 39  crawl_month                   1457 non-null   object \n",
            "dtypes: float64(8), int64(15), object(17)\n",
            "memory usage: 466.7+ KB\n"
          ]
        }
      ]
    },
    {
      "cell_type": "code",
      "source": [
        "# 제외 변수들\n",
        "# 첫번째 제외 변수: title, title_orig, currency_buyer, tags, product_color, product_variation_size_id\n",
        "# 제외 변수중 고려해볼 만 한 변수\n",
        "## tags(인코딩 활용. 인코딩 활용시 컬럼이 과하게 늘어난다. 주의), product_variation_size_id\n",
        "## shipping_option_name: 프랑스어와 아랍어? 등 뒤죽박죽\n",
        "## urgency_text: 품절임박! 같은 건데, 프랑스어로 되어있다. 일단은 빼고 이후에 원핫인코딩해서 넣어보자 (missing 값이 1100개이다. 유의할 것)\n",
        "## origin_country: 이것도 원핫인코딩해서 적용 가능\n",
        "## merchant_title: 판매자 이름 우선 제외\n",
        "## merchant_name, merchant_id: 위와 동일\n",
        "## merchant_info_subtitle: 판매자 정보 글. 일단 제외. 배지 여부와 다른 변수로도 판단 가능?\n",
        "## merchant_profile_picture: 판매자 사진 링크\n",
        "## product_url, product_picture: 링크 데이터\n",
        "## product_id: 제품 키\n",
        "## theme: 해당 제품들을 찾기위해 검색한 검색어. summer로 모두 동일해서 제외\n",
        "## crawl_month: 크롤링 날짜라서 제외\n",
        "## has_urgency_banner: 결측값이 많아서 일단 제외 (결측값이 아마 없다는 뜻?) (1000개 이상의 결측값)\n",
        "## rating_five_count + rating_four_count + rating_three_count + rating_two_count + rating_one_count : 결측값이 많음 (36개)"
      ],
      "metadata": {
        "id": "bQ6OH7sUmx_F"
      },
      "execution_count": null,
      "outputs": []
    },
    {
      "cell_type": "code",
      "source": [
        "# 상수항 추가. 실행이 될 때마다 추가되기 때문에 독립된 셀로 위에 빼두었습니다.\n",
        "df = sm.add_constant(df,has_constant=\"add\")"
      ],
      "metadata": {
        "id": "k-hXXvmhyuB6",
        "outputId": "d28f993d-414a-4be9-d43d-bac3538a8b7f",
        "colab": {
          "base_uri": "https://localhost:8080/"
        }
      },
      "execution_count": null,
      "outputs": [
        {
          "output_type": "stream",
          "name": "stderr",
          "text": [
            "/usr/local/lib/python3.7/dist-packages/statsmodels/tsa/tsatools.py:117: FutureWarning: In a future version of pandas all arguments of concat except for the argument 'objs' will be keyword-only\n",
            "  x = pd.concat(x[::order], 1)\n"
          ]
        }
      ]
    },
    {
      "cell_type": "code",
      "source": [
        "# 다중모델 학습을 위한 특성\n",
        "features = ['price',\n",
        "            'retail_price',\n",
        "            'uses_ad_boosts',\n",
        "            'rating',\n",
        "            'rating_count',\n",
        "            'rating_five_count',\n",
        "            'rating_four_count',\n",
        "            'rating_three_count',\n",
        "            'rating_two_count',\n",
        "            'rating_one_count',\n",
        "            'badges_count',\n",
        "            'badge_local_product',\n",
        "            'badge_product_quality',\n",
        "            'badge_fast_shipping',\n",
        "            'product_variation_inventory',\n",
        "            'shipping_option_price',\n",
        "            'shipping_is_express',\n",
        "            'countries_shipped_to',\n",
        "            'inventory_total',\n",
        "            'merchant_rating_count',\n",
        "            'merchant_rating',\n",
        "            'merchant_has_profile_picture',\n",
        "            'const']"
      ],
      "metadata": {
        "id": "tQdaC-eNjIpK"
      },
      "execution_count": null,
      "outputs": []
    },
    {
      "cell_type": "code",
      "source": [
        "target = 'units_sold'\n",
        "x = df[features]\n",
        "y = df[target]\n",
        "\n",
        "# 분할\n",
        "X_train ,X_test , y_train , y_test = train_test_split(x,y,train_size=0.7,test_size=0.3)\n",
        "print(X_train.shape, X_test.shape, y_train.shape, y_test.shape)"
      ],
      "metadata": {
        "id": "z7LcduDn4Qt7",
        "outputId": "177ffa83-d22c-45fb-92db-2c26e3291fec",
        "colab": {
          "base_uri": "https://localhost:8080/"
        }
      },
      "execution_count": null,
      "outputs": [
        {
          "output_type": "stream",
          "name": "stdout",
          "text": [
            "(1019, 23) (438, 23) (1019,) (438,)\n"
          ]
        }
      ]
    },
    {
      "cell_type": "code",
      "source": [
        "#Train the MLR / 회귀모델적합\n",
        "Model = sm.OLS(y_train, X_train)\n",
        "FittedModel = Model.fit()\n",
        "\n",
        "print(FittedModel.summary())"
      ],
      "metadata": {
        "id": "2AT828-VocMW",
        "outputId": "eb141ed6-bf84-489a-9623-f81076ead148",
        "colab": {
          "base_uri": "https://localhost:8080/"
        }
      },
      "execution_count": null,
      "outputs": [
        {
          "output_type": "stream",
          "name": "stdout",
          "text": [
            "                            OLS Regression Results                            \n",
            "==============================================================================\n",
            "Dep. Variable:             units_sold   R-squared:                       0.850\n",
            "Model:                            OLS   Adj. R-squared:                  0.847\n",
            "Method:                 Least Squares   F-statistic:                     282.7\n",
            "Date:                Tue, 05 Jul 2022   Prob (F-statistic):               0.00\n",
            "Time:                        14:14:13   Log-Likelihood:                -9664.0\n",
            "No. Observations:                1019   AIC:                         1.937e+04\n",
            "Df Residuals:                     998   BIC:                         1.947e+04\n",
            "Df Model:                          20                                         \n",
            "Covariance Type:            nonrobust                                         \n",
            "================================================================================================\n",
            "                                   coef    std err          t      P>|t|      [0.025      0.975]\n",
            "------------------------------------------------------------------------------------------------\n",
            "price                          -48.9030     55.180     -0.886      0.376    -157.185      59.379\n",
            "retail_price                    -4.5492      3.352     -1.357      0.175     -11.127       2.029\n",
            "uses_ad_boosts                 312.7166    206.714      1.513      0.131     -92.927     718.360\n",
            "rating                         300.8783    225.238      1.336      0.182    -141.116     742.873\n",
            "rating_count                     3.9213      0.726      5.399      0.000       2.496       5.347\n",
            "rating_five_count                5.0961      0.966      5.273      0.000       3.200       6.993\n",
            "rating_four_count              -27.4370      2.685    -10.217      0.000     -32.707     -22.167\n",
            "rating_three_count              15.3379      6.237      2.459      0.014       3.099      27.577\n",
            "rating_two_count                13.5639      9.854      1.377      0.169      -5.772      32.900\n",
            "rating_one_count                -2.6397      3.641     -0.725      0.469      -9.784       4.504\n",
            "badges_count                  -357.8104    315.111     -1.136      0.256    -976.166     260.545\n",
            "badge_local_product            331.1108    862.381      0.384      0.701   -1361.177    2023.398\n",
            "badge_product_quality         -281.0893    439.953     -0.639      0.523   -1144.428     582.249\n",
            "badge_fast_shipping           -407.8319    931.113     -0.438      0.661   -2234.996    1419.332\n",
            "product_variation_inventory      9.1846      5.207      1.764      0.078      -1.033      19.403\n",
            "shipping_option_price          210.1311    214.955      0.978      0.329    -211.684     631.946\n",
            "shipping_is_express           -758.7673   2760.571     -0.275      0.783   -6175.957    4658.422\n",
            "countries_shipped_to            -8.3201      5.436     -1.531      0.126     -18.986       2.346\n",
            "inventory_total                -13.2980     42.769     -0.311      0.756     -97.226      70.630\n",
            "merchant_rating_count            0.0021      0.001      1.535      0.125      -0.001       0.005\n",
            "merchant_rating                641.3345    564.156      1.137      0.256    -465.734    1748.403\n",
            "merchant_has_profile_picture   193.3075    291.654      0.663      0.508    -379.017     765.632\n",
            "const                        -2337.0930   3218.377     -0.726      0.468   -8652.656    3978.470\n",
            "==============================================================================\n",
            "Omnibus:                      339.947   Durbin-Watson:                   2.031\n",
            "Prob(Omnibus):                  0.000   Jarque-Bera (JB):            10528.370\n",
            "Skew:                           0.883   Prob(JB):                         0.00\n",
            "Kurtosis:                      18.648   Cond. No.                     9.80e+20\n",
            "==============================================================================\n",
            "\n",
            "Warnings:\n",
            "[1] Standard Errors assume that the covariance matrix of the errors is correctly specified.\n",
            "[2] The smallest eigenvalue is 7.31e-30. This might indicate that there are\n",
            "strong multicollinearity problems or that the design matrix is singular.\n"
          ]
        }
      ]
    },
    {
      "cell_type": "markdown",
      "source": [
        "- 각 변수들의 p-value 값이 0.8, 0.6 이상이 되는 값들이 보이기에 다중공선성이 의심됩니다(통상 0.5이상이라면 다중공선성 확인). 또한 모델 summary 결과에서도 다중공선성(multicollinearity)이 의심된다는 결과가 나왔기에 VIF(분산팽창지수)를 확인해보았습니다. "
      ],
      "metadata": {
        "id": "hQAVLQ1kpNIp"
      }
    },
    {
      "cell_type": "code",
      "source": [
        "from statsmodels.stats.outliers_influence import variance_inflation_factor\n",
        "\n",
        "vif = pd.DataFrame()\n",
        "vif[\"VIF Factor\"] = [variance_inflation_factor(X_train.values,i) for i in range(X_train.shape[1])]\n",
        "vif[\"features\"] = X_train.columns\n",
        "print(vif)"
      ],
      "metadata": {
        "id": "98-FGcerjg9X",
        "outputId": "b366f6df-f040-41f4-b673-e546e347b531",
        "colab": {
          "base_uri": "https://localhost:8080/"
        }
      },
      "execution_count": null,
      "outputs": [
        {
          "output_type": "stream",
          "name": "stderr",
          "text": [
            "/usr/local/lib/python3.7/dist-packages/statsmodels/stats/outliers_influence.py:185: RuntimeWarning: divide by zero encountered in double_scalars\n",
            "  vif = 1. / (1. - r_squared_i)\n"
          ]
        },
        {
          "output_type": "stream",
          "name": "stdout",
          "text": [
            "     VIF Factor                      features\n",
            "0      4.600063                         price\n",
            "1      1.104785                  retail_price\n",
            "2      1.040922                uses_ad_boosts\n",
            "3      1.229601                        rating\n",
            "4           inf                  rating_count\n",
            "5           inf             rating_five_count\n",
            "6           inf             rating_four_count\n",
            "7           inf            rating_three_count\n",
            "8           inf              rating_two_count\n",
            "9           inf              rating_one_count\n",
            "10          inf                  badges_count\n",
            "11          inf           badge_local_product\n",
            "12          inf         badge_product_quality\n",
            "13          inf           badge_fast_shipping\n",
            "14     1.223870   product_variation_inventory\n",
            "15     4.626443         shipping_option_price\n",
            "16     1.472695           shipping_is_express\n",
            "17     1.077634          countries_shipped_to\n",
            "18     1.308765               inventory_total\n",
            "19     1.121729         merchant_rating_count\n",
            "20     1.230948               merchant_rating\n",
            "21     1.059243  merchant_has_profile_picture\n",
            "22  1021.847860                         const\n"
          ]
        }
      ]
    },
    {
      "cell_type": "markdown",
      "source": [
        "- vif값이 10이 넘으면 다중공선성을 의심합니다. 여기선 7개만을 제외하고 모두 10이 넘고, inf값까지 나온것을 볼 수 있습니다. 그렇기에 해당 값들을 drop하려 합니다."
      ],
      "metadata": {
        "id": "CXOOad0vrpBT"
      }
    },
    {
      "cell_type": "code",
      "source": [
        "# 다중공선성 제외 1\n",
        "# 다중공선성 제외 특성\n",
        "features_after_vif = ['price',\n",
        "                      'retail_price',\n",
        "                      'uses_ad_boosts',\n",
        "                      'rating_count',\n",
        "                      'badge_product_quality',\n",
        "                      'badge_fast_shipping',\n",
        "                      'product_variation_inventory',\n",
        "                      'countries_shipped_to',\n",
        "                      'merchant_rating_count',\n",
        "                      'merchant_rating',\n",
        "                      'merchant_has_profile_picture',\n",
        "                      'const']\n",
        "\n",
        "\n",
        "target = 'units_sold'\n",
        "x = df[features_after_vif]\n",
        "y = df[target]\n",
        "\n",
        "# 분할\n",
        "X_train ,X_test , y_train , y_test = train_test_split(x,y,train_size=0.7,test_size=0.3)\n",
        "print(X_train.shape, X_test.shape, y_train.shape, y_test.shape)\n",
        "\n",
        "#Train the MLR / 회귀모델적합\n",
        "Model = sm.OLS(y_train, X_train)\n",
        "FittedModel = Model.fit()\n",
        "\n",
        "print(FittedModel.summary())\n",
        "\n",
        "# 에러\n",
        "y_pred = FittedModel.predict(X_test)\n",
        "\n",
        "# 평가지표 계산\n",
        "print('평가지표')\n",
        "mse = mean_squared_error(y_test, y_pred)\n",
        "mae = mean_absolute_error(y_test, y_pred)\n",
        "rmse = mse ** 0.5\n",
        "r2 = r2_score(y_test, y_pred)\n",
        "display(pd.DataFrame([['MSE', mse],['MAE', mae],['RMSE', rmse],['R2', r2]], columns=['Metric', 'Score']))\n",
        "\n",
        "\n",
        "# VIF 계산\n",
        "vif = pd.DataFrame()\n",
        "vif[\"VIF Factor\"] = [variance_inflation_factor(X_train.values,i) for i in range(X_train.shape[1])]\n",
        "vif[\"features\"] = X_train.columns\n",
        "print(vif)"
      ],
      "metadata": {
        "colab": {
          "base_uri": "https://localhost:8080/",
          "height": 1000
        },
        "id": "9tJAh45e84so",
        "outputId": "66e3f47e-5461-4495-cc56-d2713723e654"
      },
      "execution_count": null,
      "outputs": [
        {
          "output_type": "stream",
          "name": "stdout",
          "text": [
            "(1019, 12) (438, 12) (1019,) (438,)\n",
            "                            OLS Regression Results                            \n",
            "==============================================================================\n",
            "Dep. Variable:             units_sold   R-squared:                       0.821\n",
            "Model:                            OLS   Adj. R-squared:                  0.819\n",
            "Method:                 Least Squares   F-statistic:                     421.0\n",
            "Date:                Tue, 05 Jul 2022   Prob (F-statistic):               0.00\n",
            "Time:                        14:14:14   Log-Likelihood:                -9888.1\n",
            "No. Observations:                1019   AIC:                         1.980e+04\n",
            "Df Residuals:                    1007   BIC:                         1.986e+04\n",
            "Df Model:                          11                                         \n",
            "Covariance Type:            nonrobust                                         \n",
            "================================================================================================\n",
            "                                   coef    std err          t      P>|t|      [0.025      0.975]\n",
            "------------------------------------------------------------------------------------------------\n",
            "price                          -20.3619     34.738     -0.586      0.558     -88.528      47.805\n",
            "retail_price                   -11.0130      4.114     -2.677      0.008     -19.086      -2.940\n",
            "uses_ad_boosts                 470.4882    255.539      1.841      0.066     -30.961     971.938\n",
            "rating_count                     4.2380      0.069     61.267      0.000       4.102       4.374\n",
            "badge_product_quality         -469.4028    495.186     -0.948      0.343   -1441.118     502.312\n",
            "badge_fast_shipping          -2343.0488   1293.128     -1.812      0.070   -4880.583     194.485\n",
            "product_variation_inventory      7.5743      6.405      1.183      0.237      -4.994      20.143\n",
            "countries_shipped_to            -5.4137      6.494     -0.834      0.405     -18.157       7.330\n",
            "merchant_rating_count            0.0157      0.003      4.678      0.000       0.009       0.022\n",
            "merchant_rating               -663.1675    659.452     -1.006      0.315   -1957.226     630.891\n",
            "merchant_has_profile_picture  -297.2515    363.847     -0.817      0.414   -1011.236     416.733\n",
            "const                         3211.8735   2632.493      1.220      0.223   -1953.927    8377.674\n",
            "==============================================================================\n",
            "Omnibus:                      693.229   Durbin-Watson:                   2.116\n",
            "Prob(Omnibus):                  0.000   Jarque-Bera (JB):            74424.682\n",
            "Skew:                           2.245   Prob(JB):                         0.00\n",
            "Kurtosis:                      44.626   Cond. No.                     1.02e+06\n",
            "==============================================================================\n",
            "\n",
            "Warnings:\n",
            "[1] Standard Errors assume that the covariance matrix of the errors is correctly specified.\n",
            "[2] The condition number is large, 1.02e+06. This might indicate that there are\n",
            "strong multicollinearity or other numerical problems.\n",
            "평가지표\n"
          ]
        },
        {
          "output_type": "display_data",
          "data": {
            "text/plain": [
              "  Metric         Score\n",
              "0    MSE  1.466182e+07\n",
              "1    MAE  1.737145e+03\n",
              "2   RMSE  3.829075e+03\n",
              "3     R2  7.806918e-01"
            ],
            "text/html": [
              "\n",
              "  <div id=\"df-68b67605-4e02-4ef6-a868-ed2b20ddd34d\">\n",
              "    <div class=\"colab-df-container\">\n",
              "      <div>\n",
              "<style scoped>\n",
              "    .dataframe tbody tr th:only-of-type {\n",
              "        vertical-align: middle;\n",
              "    }\n",
              "\n",
              "    .dataframe tbody tr th {\n",
              "        vertical-align: top;\n",
              "    }\n",
              "\n",
              "    .dataframe thead th {\n",
              "        text-align: right;\n",
              "    }\n",
              "</style>\n",
              "<table border=\"1\" class=\"dataframe\">\n",
              "  <thead>\n",
              "    <tr style=\"text-align: right;\">\n",
              "      <th></th>\n",
              "      <th>Metric</th>\n",
              "      <th>Score</th>\n",
              "    </tr>\n",
              "  </thead>\n",
              "  <tbody>\n",
              "    <tr>\n",
              "      <th>0</th>\n",
              "      <td>MSE</td>\n",
              "      <td>1.466182e+07</td>\n",
              "    </tr>\n",
              "    <tr>\n",
              "      <th>1</th>\n",
              "      <td>MAE</td>\n",
              "      <td>1.737145e+03</td>\n",
              "    </tr>\n",
              "    <tr>\n",
              "      <th>2</th>\n",
              "      <td>RMSE</td>\n",
              "      <td>3.829075e+03</td>\n",
              "    </tr>\n",
              "    <tr>\n",
              "      <th>3</th>\n",
              "      <td>R2</td>\n",
              "      <td>7.806918e-01</td>\n",
              "    </tr>\n",
              "  </tbody>\n",
              "</table>\n",
              "</div>\n",
              "      <button class=\"colab-df-convert\" onclick=\"convertToInteractive('df-68b67605-4e02-4ef6-a868-ed2b20ddd34d')\"\n",
              "              title=\"Convert this dataframe to an interactive table.\"\n",
              "              style=\"display:none;\">\n",
              "        \n",
              "  <svg xmlns=\"http://www.w3.org/2000/svg\" height=\"24px\"viewBox=\"0 0 24 24\"\n",
              "       width=\"24px\">\n",
              "    <path d=\"M0 0h24v24H0V0z\" fill=\"none\"/>\n",
              "    <path d=\"M18.56 5.44l.94 2.06.94-2.06 2.06-.94-2.06-.94-.94-2.06-.94 2.06-2.06.94zm-11 1L8.5 8.5l.94-2.06 2.06-.94-2.06-.94L8.5 2.5l-.94 2.06-2.06.94zm10 10l.94 2.06.94-2.06 2.06-.94-2.06-.94-.94-2.06-.94 2.06-2.06.94z\"/><path d=\"M17.41 7.96l-1.37-1.37c-.4-.4-.92-.59-1.43-.59-.52 0-1.04.2-1.43.59L10.3 9.45l-7.72 7.72c-.78.78-.78 2.05 0 2.83L4 21.41c.39.39.9.59 1.41.59.51 0 1.02-.2 1.41-.59l7.78-7.78 2.81-2.81c.8-.78.8-2.07 0-2.86zM5.41 20L4 18.59l7.72-7.72 1.47 1.35L5.41 20z\"/>\n",
              "  </svg>\n",
              "      </button>\n",
              "      \n",
              "  <style>\n",
              "    .colab-df-container {\n",
              "      display:flex;\n",
              "      flex-wrap:wrap;\n",
              "      gap: 12px;\n",
              "    }\n",
              "\n",
              "    .colab-df-convert {\n",
              "      background-color: #E8F0FE;\n",
              "      border: none;\n",
              "      border-radius: 50%;\n",
              "      cursor: pointer;\n",
              "      display: none;\n",
              "      fill: #1967D2;\n",
              "      height: 32px;\n",
              "      padding: 0 0 0 0;\n",
              "      width: 32px;\n",
              "    }\n",
              "\n",
              "    .colab-df-convert:hover {\n",
              "      background-color: #E2EBFA;\n",
              "      box-shadow: 0px 1px 2px rgba(60, 64, 67, 0.3), 0px 1px 3px 1px rgba(60, 64, 67, 0.15);\n",
              "      fill: #174EA6;\n",
              "    }\n",
              "\n",
              "    [theme=dark] .colab-df-convert {\n",
              "      background-color: #3B4455;\n",
              "      fill: #D2E3FC;\n",
              "    }\n",
              "\n",
              "    [theme=dark] .colab-df-convert:hover {\n",
              "      background-color: #434B5C;\n",
              "      box-shadow: 0px 1px 3px 1px rgba(0, 0, 0, 0.15);\n",
              "      filter: drop-shadow(0px 1px 2px rgba(0, 0, 0, 0.3));\n",
              "      fill: #FFFFFF;\n",
              "    }\n",
              "  </style>\n",
              "\n",
              "      <script>\n",
              "        const buttonEl =\n",
              "          document.querySelector('#df-68b67605-4e02-4ef6-a868-ed2b20ddd34d button.colab-df-convert');\n",
              "        buttonEl.style.display =\n",
              "          google.colab.kernel.accessAllowed ? 'block' : 'none';\n",
              "\n",
              "        async function convertToInteractive(key) {\n",
              "          const element = document.querySelector('#df-68b67605-4e02-4ef6-a868-ed2b20ddd34d');\n",
              "          const dataTable =\n",
              "            await google.colab.kernel.invokeFunction('convertToInteractive',\n",
              "                                                     [key], {});\n",
              "          if (!dataTable) return;\n",
              "\n",
              "          const docLinkHtml = 'Like what you see? Visit the ' +\n",
              "            '<a target=\"_blank\" href=https://colab.research.google.com/notebooks/data_table.ipynb>data table notebook</a>'\n",
              "            + ' to learn more about interactive tables.';\n",
              "          element.innerHTML = '';\n",
              "          dataTable['output_type'] = 'display_data';\n",
              "          await google.colab.output.renderOutput(dataTable, element);\n",
              "          const docLink = document.createElement('div');\n",
              "          docLink.innerHTML = docLinkHtml;\n",
              "          element.appendChild(docLink);\n",
              "        }\n",
              "      </script>\n",
              "    </div>\n",
              "  </div>\n",
              "  "
            ]
          },
          "metadata": {}
        },
        {
          "output_type": "stream",
          "name": "stdout",
          "text": [
            "    VIF Factor                      features\n",
            "0     1.229923                         price\n",
            "1     1.134924                  retail_price\n",
            "2     1.040067                uses_ad_boosts\n",
            "3     1.172031                  rating_count\n",
            "4     1.045593         badge_product_quality\n",
            "5     1.041804           badge_fast_shipping\n",
            "6     1.194715   product_variation_inventory\n",
            "7     1.032632          countries_shipped_to\n",
            "8     1.225136         merchant_rating_count\n",
            "9     1.120314               merchant_rating\n",
            "10    1.071385  merchant_has_profile_picture\n",
            "11  444.318764                         const\n"
          ]
        }
      ]
    },
    {
      "cell_type": "markdown",
      "source": [
        "- vif값을 토대로 변수들을 제거, 추가하며 모델링 작업을 진행하였습니다. 과정에서 평가지표를 전후로 비교하며 최적의 모델 변수들을 찾고자 하였고, 위 모델에서 모델 설명력과 평가지표, vif값들 모두 양호하게 도출되었습니다."
      ],
      "metadata": {
        "id": "thvMjZKqCwVU"
      }
    },
    {
      "cell_type": "markdown",
      "source": [
        "### 변수 선택\n",
        "- 변수선택법으로는 전진선택법을 선택하였습니다.\n",
        "- 선택기준으로, AIC, BIC 등 중에서 실제값의 분포를 보려는 것이 아니라 예측을 하는 것이니 AIC를 선택하였습니다.\n",
        "- 관련 링크 \n",
        "  - https://aliencoder.tistory.com/24\n",
        "  - https://zephyrus1111.tistory.com/65"
      ],
      "metadata": {
        "id": "s0qs5DdTukeP"
      }
    },
    {
      "cell_type": "code",
      "source": [
        "# 변수선택을 위해서 타겟과 features가 함께 있는데이터로 구하자\n",
        "select = features\n",
        "select.append('units_sold')\n",
        "\n",
        "df_for_select = df[select]"
      ],
      "metadata": {
        "id": "VexWXmaTECMi"
      },
      "execution_count": null,
      "outputs": []
    },
    {
      "cell_type": "code",
      "source": [
        "def forward_feature_selection(X_train, y_train, variables=X_train.columns.tolist() ):\n",
        "    import statsmodels.api as sm\n",
        "    import matplotlib.pyplot as plt\n",
        "    import warnings\n",
        "    warnings.filterwarnings(\"ignore\")\n",
        "    \n",
        "    y = y_train ## 반응 변수\n",
        "\n",
        "    selected_variables = [] ## 선택된 변수들\n",
        "    sl_enter = 0.5\n",
        "    sl_remove = 0.5\n",
        "    \n",
        "    sv_per_step = [] ## 각 스텝별로 선택된 변수들\n",
        "    adjusted_r_squared = [] ## 각 스텝별 수정된 결정계수\n",
        "    steps = [] ## 스텝\n",
        "    step = 0\n",
        "    while len(variables) > 0:\n",
        "        remainder = list(set(variables) - set(selected_variables))\n",
        "        pval = pd.Series(index=remainder) ## 변수의 p-value\n",
        "        ## 기존에 포함된 변수와 새로운 변수 하나씩 돌아가면서 \n",
        "        ## 선형 모형을 적합한다.\n",
        "        for col in remainder: \n",
        "            X = X_train[selected_variables+[col]]\n",
        "            X = sm.add_constant(X)\n",
        "            model = sm.OLS(y,X).fit(disp=0)\n",
        "            pval[col] = model.pvalues[col]\n",
        "    \n",
        "        min_pval = pval.min()\n",
        "        if min_pval < sl_enter: ## 최소 p-value 값이 기준 값보다 작으면 포함\n",
        "            selected_variables.append(pval.idxmin())\n",
        "            ## 선택된 변수들에대해서\n",
        "            ## 어떤 변수를 제거할지 고른다.\n",
        "            while len(selected_variables) > 0:\n",
        "                selected_X = X_train[selected_variables]\n",
        "                selected_X = sm.add_constant(selected_X)\n",
        "                selected_pval = sm.OLS(y,selected_X).fit(disp=0).pvalues[1:] ## 절편항의 p-value는 뺀다\n",
        "                max_pval = selected_pval.max()\n",
        "                if max_pval >= sl_remove: ## 최대 p-value값이 기준값보다 크거나 같으면 제외\n",
        "                    remove_variable = selected_pval.idxmax()\n",
        "                    selected_variables.remove(remove_variable)\n",
        "                else:\n",
        "                    break\n",
        "            \n",
        "            step += 1\n",
        "            steps.append(step)\n",
        "            adj_r_squared = sm.OLS(y,sm.add_constant(X_train[selected_variables])).fit(disp=0).rsquared_adj\n",
        "            adjusted_r_squared.append(adj_r_squared)\n",
        "            sv_per_step.append(selected_variables.copy())\n",
        "        else:\n",
        "            break\n",
        "    return selected_variables"
      ],
      "metadata": {
        "id": "j_Ij0793FxVT"
      },
      "execution_count": null,
      "outputs": []
    },
    {
      "cell_type": "code",
      "source": [
        "selected_features = forward_feature_selection(x, y)"
      ],
      "metadata": {
        "id": "vPvthdadFxTc"
      },
      "execution_count": null,
      "outputs": []
    },
    {
      "cell_type": "code",
      "source": [
        "selected_features"
      ],
      "metadata": {
        "id": "5ILJHQAmFxRU",
        "outputId": "cb76d66d-c690-49a5-e2da-65eca4c6d977",
        "colab": {
          "base_uri": "https://localhost:8080/"
        }
      },
      "execution_count": null,
      "outputs": [
        {
          "output_type": "execute_result",
          "data": {
            "text/plain": [
              "['rating_count',\n",
              " 'const',\n",
              " 'retail_price',\n",
              " 'merchant_rating_count',\n",
              " 'badge_fast_shipping',\n",
              " 'uses_ad_boosts',\n",
              " 'product_variation_inventory',\n",
              " 'badge_product_quality',\n",
              " 'countries_shipped_to',\n",
              " 'price']"
            ]
          },
          "metadata": {},
          "execution_count": 18
        }
      ]
    },
    {
      "cell_type": "code",
      "source": [
        "# 웹에서의 순서를 고려하여, 순서 임의 변경\n",
        "selected_features = ['rating_count',\n",
        "                      'const',\n",
        "                      'retail_price',\n",
        "                      'merchant_rating_count',\n",
        "                      'badge_fast_shipping',\n",
        "                      'uses_ad_boosts',\n",
        "                      'product_variation_inventory',\n",
        "                      'badge_product_quality',\n",
        "                      'countries_shipped_to',\n",
        "                      'price',\n",
        "                      'merchant_rating']"
      ],
      "metadata": {
        "id": "75x7EpIZSwbw"
      },
      "execution_count": null,
      "outputs": []
    },
    {
      "cell_type": "code",
      "source": [
        "# 전진선택법으로 선택한 feature들로 모델링\n",
        "model_2 = sm.OLS(y_train, sm.add_constant(pd.DataFrame(X_train[selected_features]))).fit(disp=0)\n",
        "print(model_2.summary())\n",
        "\n",
        "\n",
        "# 에러\n",
        "y_pred = model_2.predict(X_test[selected_features])\n",
        "\n",
        "# 평가지표 계산\n",
        "print('평가지표')\n",
        "mse = mean_squared_error(y_test, y_pred)\n",
        "mae = mean_absolute_error(y_test, y_pred)\n",
        "rmse = mse ** 0.5\n",
        "r2 = r2_score(y_test, y_pred)\n",
        "display(pd.DataFrame([['MSE', mse],['MAE', mae],['RMSE', rmse],['R2', r2]], columns=['Metric', 'Score']))\n",
        "\n",
        "\n",
        "# VIF 계산\n",
        "vif = pd.DataFrame()\n",
        "vif[\"VIF Factor\"] = [variance_inflation_factor(X_train[selected_features].values,i) for i in range(X_train[selected_features].shape[1])]\n",
        "vif[\"features\"] = X_train[selected_features].columns\n",
        "print(vif)"
      ],
      "metadata": {
        "id": "E4A9Q3yIFxPA",
        "outputId": "b1898884-99d4-41e2-f53c-9475a115360c",
        "colab": {
          "base_uri": "https://localhost:8080/",
          "height": 1000
        }
      },
      "execution_count": null,
      "outputs": [
        {
          "output_type": "stream",
          "name": "stdout",
          "text": [
            "                            OLS Regression Results                            \n",
            "==============================================================================\n",
            "Dep. Variable:             units_sold   R-squared:                       0.821\n",
            "Model:                            OLS   Adj. R-squared:                  0.819\n",
            "Method:                 Least Squares   F-statistic:                     463.2\n",
            "Date:                Tue, 05 Jul 2022   Prob (F-statistic):               0.00\n",
            "Time:                        14:14:15   Log-Likelihood:                -9888.4\n",
            "No. Observations:                1019   AIC:                         1.980e+04\n",
            "Df Residuals:                    1008   BIC:                         1.985e+04\n",
            "Df Model:                          10                                         \n",
            "Covariance Type:            nonrobust                                         \n",
            "===============================================================================================\n",
            "                                  coef    std err          t      P>|t|      [0.025      0.975]\n",
            "-----------------------------------------------------------------------------------------------\n",
            "rating_count                    4.2334      0.069     61.413      0.000       4.098       4.369\n",
            "const                        3344.4968   2627.049      1.273      0.203   -1810.615    8499.609\n",
            "retail_price                  -11.0582      4.113     -2.689      0.007     -19.129      -2.987\n",
            "merchant_rating_count           0.0153      0.003      4.608      0.000       0.009       0.022\n",
            "badge_fast_shipping         -2389.4244   1291.668     -1.850      0.065   -4924.091     145.242\n",
            "uses_ad_boosts                463.5898    255.357      1.815      0.070     -37.503     964.682\n",
            "product_variation_inventory     7.5236      6.403      1.175      0.240      -5.042      20.089\n",
            "badge_product_quality        -486.2293    494.676     -0.983      0.326   -1456.942     484.483\n",
            "countries_shipped_to           -5.3688      6.493     -0.827      0.408     -18.109       7.372\n",
            "price                         -21.3393     34.711     -0.615      0.539     -89.454      46.775\n",
            "merchant_rating              -700.0562    657.796     -1.064      0.287   -1990.863     590.750\n",
            "==============================================================================\n",
            "Omnibus:                      692.044   Durbin-Watson:                   2.120\n",
            "Prob(Omnibus):                  0.000   Jarque-Bera (JB):            73999.815\n",
            "Skew:                           2.240   Prob(JB):                         0.00\n",
            "Kurtosis:                      44.507   Cond. No.                     1.02e+06\n",
            "==============================================================================\n",
            "\n",
            "Warnings:\n",
            "[1] Standard Errors assume that the covariance matrix of the errors is correctly specified.\n",
            "[2] The condition number is large, 1.02e+06. This might indicate that there are\n",
            "strong multicollinearity or other numerical problems.\n",
            "평가지표\n"
          ]
        },
        {
          "output_type": "display_data",
          "data": {
            "text/plain": [
              "  Metric         Score\n",
              "0    MSE  1.450146e+07\n",
              "1    MAE  1.736489e+03\n",
              "2   RMSE  3.808078e+03\n",
              "3     R2  7.830903e-01"
            ],
            "text/html": [
              "\n",
              "  <div id=\"df-e6a6ee18-4943-400d-b6da-9a9964afb322\">\n",
              "    <div class=\"colab-df-container\">\n",
              "      <div>\n",
              "<style scoped>\n",
              "    .dataframe tbody tr th:only-of-type {\n",
              "        vertical-align: middle;\n",
              "    }\n",
              "\n",
              "    .dataframe tbody tr th {\n",
              "        vertical-align: top;\n",
              "    }\n",
              "\n",
              "    .dataframe thead th {\n",
              "        text-align: right;\n",
              "    }\n",
              "</style>\n",
              "<table border=\"1\" class=\"dataframe\">\n",
              "  <thead>\n",
              "    <tr style=\"text-align: right;\">\n",
              "      <th></th>\n",
              "      <th>Metric</th>\n",
              "      <th>Score</th>\n",
              "    </tr>\n",
              "  </thead>\n",
              "  <tbody>\n",
              "    <tr>\n",
              "      <th>0</th>\n",
              "      <td>MSE</td>\n",
              "      <td>1.450146e+07</td>\n",
              "    </tr>\n",
              "    <tr>\n",
              "      <th>1</th>\n",
              "      <td>MAE</td>\n",
              "      <td>1.736489e+03</td>\n",
              "    </tr>\n",
              "    <tr>\n",
              "      <th>2</th>\n",
              "      <td>RMSE</td>\n",
              "      <td>3.808078e+03</td>\n",
              "    </tr>\n",
              "    <tr>\n",
              "      <th>3</th>\n",
              "      <td>R2</td>\n",
              "      <td>7.830903e-01</td>\n",
              "    </tr>\n",
              "  </tbody>\n",
              "</table>\n",
              "</div>\n",
              "      <button class=\"colab-df-convert\" onclick=\"convertToInteractive('df-e6a6ee18-4943-400d-b6da-9a9964afb322')\"\n",
              "              title=\"Convert this dataframe to an interactive table.\"\n",
              "              style=\"display:none;\">\n",
              "        \n",
              "  <svg xmlns=\"http://www.w3.org/2000/svg\" height=\"24px\"viewBox=\"0 0 24 24\"\n",
              "       width=\"24px\">\n",
              "    <path d=\"M0 0h24v24H0V0z\" fill=\"none\"/>\n",
              "    <path d=\"M18.56 5.44l.94 2.06.94-2.06 2.06-.94-2.06-.94-.94-2.06-.94 2.06-2.06.94zm-11 1L8.5 8.5l.94-2.06 2.06-.94-2.06-.94L8.5 2.5l-.94 2.06-2.06.94zm10 10l.94 2.06.94-2.06 2.06-.94-2.06-.94-.94-2.06-.94 2.06-2.06.94z\"/><path d=\"M17.41 7.96l-1.37-1.37c-.4-.4-.92-.59-1.43-.59-.52 0-1.04.2-1.43.59L10.3 9.45l-7.72 7.72c-.78.78-.78 2.05 0 2.83L4 21.41c.39.39.9.59 1.41.59.51 0 1.02-.2 1.41-.59l7.78-7.78 2.81-2.81c.8-.78.8-2.07 0-2.86zM5.41 20L4 18.59l7.72-7.72 1.47 1.35L5.41 20z\"/>\n",
              "  </svg>\n",
              "      </button>\n",
              "      \n",
              "  <style>\n",
              "    .colab-df-container {\n",
              "      display:flex;\n",
              "      flex-wrap:wrap;\n",
              "      gap: 12px;\n",
              "    }\n",
              "\n",
              "    .colab-df-convert {\n",
              "      background-color: #E8F0FE;\n",
              "      border: none;\n",
              "      border-radius: 50%;\n",
              "      cursor: pointer;\n",
              "      display: none;\n",
              "      fill: #1967D2;\n",
              "      height: 32px;\n",
              "      padding: 0 0 0 0;\n",
              "      width: 32px;\n",
              "    }\n",
              "\n",
              "    .colab-df-convert:hover {\n",
              "      background-color: #E2EBFA;\n",
              "      box-shadow: 0px 1px 2px rgba(60, 64, 67, 0.3), 0px 1px 3px 1px rgba(60, 64, 67, 0.15);\n",
              "      fill: #174EA6;\n",
              "    }\n",
              "\n",
              "    [theme=dark] .colab-df-convert {\n",
              "      background-color: #3B4455;\n",
              "      fill: #D2E3FC;\n",
              "    }\n",
              "\n",
              "    [theme=dark] .colab-df-convert:hover {\n",
              "      background-color: #434B5C;\n",
              "      box-shadow: 0px 1px 3px 1px rgba(0, 0, 0, 0.15);\n",
              "      filter: drop-shadow(0px 1px 2px rgba(0, 0, 0, 0.3));\n",
              "      fill: #FFFFFF;\n",
              "    }\n",
              "  </style>\n",
              "\n",
              "      <script>\n",
              "        const buttonEl =\n",
              "          document.querySelector('#df-e6a6ee18-4943-400d-b6da-9a9964afb322 button.colab-df-convert');\n",
              "        buttonEl.style.display =\n",
              "          google.colab.kernel.accessAllowed ? 'block' : 'none';\n",
              "\n",
              "        async function convertToInteractive(key) {\n",
              "          const element = document.querySelector('#df-e6a6ee18-4943-400d-b6da-9a9964afb322');\n",
              "          const dataTable =\n",
              "            await google.colab.kernel.invokeFunction('convertToInteractive',\n",
              "                                                     [key], {});\n",
              "          if (!dataTable) return;\n",
              "\n",
              "          const docLinkHtml = 'Like what you see? Visit the ' +\n",
              "            '<a target=\"_blank\" href=https://colab.research.google.com/notebooks/data_table.ipynb>data table notebook</a>'\n",
              "            + ' to learn more about interactive tables.';\n",
              "          element.innerHTML = '';\n",
              "          dataTable['output_type'] = 'display_data';\n",
              "          await google.colab.output.renderOutput(dataTable, element);\n",
              "          const docLink = document.createElement('div');\n",
              "          docLink.innerHTML = docLinkHtml;\n",
              "          element.appendChild(docLink);\n",
              "        }\n",
              "      </script>\n",
              "    </div>\n",
              "  </div>\n",
              "  "
            ]
          },
          "metadata": {}
        },
        {
          "output_type": "stream",
          "name": "stdout",
          "text": [
            "    VIF Factor                     features\n",
            "0     1.164332                 rating_count\n",
            "1   442.629144                        const\n",
            "2     1.134719                 retail_price\n",
            "3     1.194376        merchant_rating_count\n",
            "4     1.039797          badge_fast_shipping\n",
            "5     1.038931               uses_ad_boosts\n",
            "6     1.194603  product_variation_inventory\n",
            "7     1.043785        badge_product_quality\n",
            "8     1.032558         countries_shipped_to\n",
            "9     1.228464                        price\n",
            "10    1.115062              merchant_rating\n"
          ]
        }
      ]
    },
    {
      "cell_type": "markdown",
      "source": [
        "#### 전진선택법을 적용했을 때, 결국 같은 변수들을 선택하는 결과를 보였다. 그렇기에 모델1이 적합한 모델이라고 생각하였다. (전진선택법을 한 model_2가 결국 기존 모델을 만들게 됨)"
      ],
      "metadata": {
        "id": "52zjniDUGg8h"
      }
    },
    {
      "cell_type": "markdown",
      "source": [
        ""
      ],
      "metadata": {
        "id": "s25T-8qSNt7b"
      }
    },
    {
      "cell_type": "code",
      "source": [
        "# 평균값 (기준모델)\n",
        "predict = y_train.mean()\n",
        "\n",
        "# 훈련 데이터\n",
        "y_pred_base = [predict] * len(y_train)\n",
        "mae = mean_absolute_error(y_train, y_pred_base)\n",
        "\n",
        "print(f'훈련 에러: {mae:.2f}')\n",
        "\n",
        "# 테스트 데이터\n",
        "y_pred_base = [predict] * len(y_test)\n",
        "mae = mean_absolute_error(y_test, y_pred_base)\n",
        "print(f'테스트 에러: {mae:.2f}')"
      ],
      "metadata": {
        "id": "XBtwcDxkt6-E",
        "outputId": "00df225e-cdc1-446c-9fae-c544554f3530",
        "colab": {
          "base_uri": "https://localhost:8080/"
        }
      },
      "execution_count": null,
      "outputs": [
        {
          "output_type": "stream",
          "name": "stdout",
          "text": [
            "훈련 에러: 5156.83\n",
            "테스트 에러: 5171.42\n"
          ]
        }
      ]
    },
    {
      "cell_type": "markdown",
      "source": [
        "- 선택 변수 설명\n",
        "  - price: 가격\n",
        "  - retail_price: 할인 가격\n",
        "  - uses_ad_boosts: 광고 유무\n",
        "  - rating_count: 받은 별점 수\n",
        "  - badge_product_quality: 품질 보증 배지 유뮤\n",
        "  - badge_fast_shipping: 빠른 배송 배지 유무\n",
        "  - product_variation_inventory: 재고량\n",
        "  - countries_shipped_to: 배송가능 국가 수\n",
        "  - inventory_total: 제품의 모든 재고량(사이즈, 색깔 모두)\n",
        "  - merchant_rating_count: 판매자의 별점 수\n",
        "  - merchant_rating: 판매자 별점\n",
        "  - merchant_has_profile_picture: 판매자 프로필사진 유무"
      ],
      "metadata": {
        "id": "iauxqdGEN5Xy"
      }
    }
  ]
}