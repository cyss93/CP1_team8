{
  "nbformat": 4,
  "nbformat_minor": 0,
  "metadata": {
    "colab": {
      "name": "Summer_products.ipynb",
      "provenance": [],
      "authorship_tag": "ABX9TyOcRqsppdL63XfBlXw/pf/X",
      "include_colab_link": true
    },
    "kernelspec": {
      "name": "python3",
      "display_name": "Python 3"
    },
    "language_info": {
      "name": "python"
    }
  },
  "cells": [
    {
      "cell_type": "markdown",
      "metadata": {
        "id": "view-in-github",
        "colab_type": "text"
      },
      "source": [
        "<a href=\"https://colab.research.google.com/github/cyss93/CP1_team8/blob/%EC%98%A4%EC%B0%BD%EC%98%81/Summer_products_Regression.ipynb\" target=\"_parent\"><img src=\"https://colab.research.google.com/assets/colab-badge.svg\" alt=\"Open In Colab\"/></a>"
      ]
    },
    {
      "cell_type": "code",
      "execution_count": 34,
      "metadata": {
        "id": "JvBNLGyNSqoQ"
      },
      "outputs": [],
      "source": [
        "import pandas as pd\n",
        "import numpy as np\n",
        "from sklearn.metrics import  mean_squared_error, mean_absolute_error, r2_score\n",
        "from IPython.display import display\n",
        "from sklearn.model_selection import train_test_split\n",
        "\n",
        "from matplotlib import style\n",
        "import matplotlib.pyplot as plt\n",
        "\n",
        "import statsmodels.api as sm\n",
        "from sklearn.linear_model import LinearRegression\n",
        "\n",
        "from sklearn.linear_model import Ridge\n",
        "\n",
        "\n",
        "import time\n",
        "import itertools"
      ]
    },
    {
      "cell_type": "code",
      "source": [
        "df = pd.read_csv('summer-products-with-rating-and-performance_2020-08.csv')"
      ],
      "metadata": {
        "id": "HS2ew79STQLI"
      },
      "execution_count": 2,
      "outputs": []
    },
    {
      "cell_type": "markdown",
      "source": [
        "- 변수 정리\n",
        " 'title' = \n",
        " 'title_orig',\n",
        " 'price',\n",
        " 'retail_price',\n",
        " 'currency_buyer',\n",
        " 'units_sold',\n",
        " 'uses_ad_boosts',\n",
        " 'rating',\n",
        " 'rating_count',\n",
        " 'rating_five_count',\n",
        " 'rating_four_count',\n",
        " 'rating_three_count',\n",
        " 'rating_two_count',\n",
        " 'rating_one_count',\n",
        " 'badges_count',\n",
        " 'badge_local_product',\n",
        " 'badge_product_quality',\n",
        " 'badge_fast_shipping',\n",
        " 'tags',\n",
        " 'product_color',\n",
        " 'product_variation_size_id',\n",
        " 'product_variation_inventory',\n",
        " 'shipping_option_name',\n",
        " 'shipping_option_price',\n",
        " 'shipping_is_express',\n",
        " 'countries_shipped_to',\n",
        " 'inventory_total',\n",
        " 'has_urgency_banner',\n",
        " 'urgency_text',\n",
        " 'origin_country',\n",
        " 'merchant_title',\n",
        " 'merchant_name',\n",
        " 'merchant_info_subtitle',\n",
        " 'merchant_rating_count',\n",
        " 'merchant_rating',\n",
        " 'merchant_id',\n",
        " 'merchant_has_profile_picture',\n",
        " 'merchant_profile_picture',\n",
        " 'product_url',\n",
        " 'product_picture',\n",
        " 'product_id',\n",
        " 'theme',\n",
        " 'crawl_month'"
      ],
      "metadata": {
        "id": "JdNcrJWoD3ut"
      }
    },
    {
      "cell_type": "code",
      "source": [
        "df.isna().sum()"
      ],
      "metadata": {
        "id": "gOnXtmRF3bnt",
        "outputId": "7cfeffc6-fb92-4676-f695-0ba3265482ab",
        "colab": {
          "base_uri": "https://localhost:8080/"
        }
      },
      "execution_count": 4,
      "outputs": [
        {
          "output_type": "execute_result",
          "data": {
            "text/plain": [
              "title                              0\n",
              "title_orig                         0\n",
              "price                              0\n",
              "retail_price                       0\n",
              "currency_buyer                     0\n",
              "units_sold                         0\n",
              "uses_ad_boosts                     0\n",
              "rating                             0\n",
              "rating_count                       0\n",
              "rating_five_count                 45\n",
              "rating_four_count                 45\n",
              "rating_three_count                45\n",
              "rating_two_count                  45\n",
              "rating_one_count                  45\n",
              "badges_count                       0\n",
              "badge_local_product                0\n",
              "badge_product_quality              0\n",
              "badge_fast_shipping                0\n",
              "tags                               0\n",
              "product_color                     41\n",
              "product_variation_size_id         14\n",
              "product_variation_inventory        0\n",
              "shipping_option_name               0\n",
              "shipping_option_price              0\n",
              "shipping_is_express                0\n",
              "countries_shipped_to               0\n",
              "inventory_total                    0\n",
              "has_urgency_banner              1100\n",
              "urgency_text                    1100\n",
              "origin_country                    17\n",
              "merchant_title                     0\n",
              "merchant_name                      4\n",
              "merchant_info_subtitle             1\n",
              "merchant_rating_count              0\n",
              "merchant_rating                    0\n",
              "merchant_id                        0\n",
              "merchant_has_profile_picture       0\n",
              "merchant_profile_picture        1347\n",
              "product_url                        0\n",
              "product_picture                    0\n",
              "product_id                         0\n",
              "theme                              0\n",
              "crawl_month                        0\n",
              "dtype: int64"
            ]
          },
          "metadata": {},
          "execution_count": 4
        }
      ]
    },
    {
      "cell_type": "code",
      "source": [
        "# 결측값 있는 행 제거\n",
        "# has_urgency_banner, urgency_text, merchant_profile_picture 이 세 컬럼은 결측값의 비율이 너무 높기때문에 drop\n",
        "df.drop(columns = ['has_urgency_banner', 'urgency_text', 'merchant_profile_picture'], inplace = True)"
      ],
      "metadata": {
        "id": "OQsdHcsz4BlB"
      },
      "execution_count": 5,
      "outputs": []
    },
    {
      "cell_type": "code",
      "source": [
        "# 결측값 있는 행 제거\n",
        "df.dropna(axis = 0, inplace = True)"
      ],
      "metadata": {
        "id": "EYoKMOzb4inY"
      },
      "execution_count": 6,
      "outputs": []
    },
    {
      "cell_type": "code",
      "source": [
        "df.isna().sum()"
      ],
      "metadata": {
        "id": "69rhbNbD4Tpg",
        "outputId": "2eec858c-8e87-4dcb-c8e0-e98724a0d05a",
        "colab": {
          "base_uri": "https://localhost:8080/"
        }
      },
      "execution_count": 7,
      "outputs": [
        {
          "output_type": "execute_result",
          "data": {
            "text/plain": [
              "title                           0\n",
              "title_orig                      0\n",
              "price                           0\n",
              "retail_price                    0\n",
              "currency_buyer                  0\n",
              "units_sold                      0\n",
              "uses_ad_boosts                  0\n",
              "rating                          0\n",
              "rating_count                    0\n",
              "rating_five_count               0\n",
              "rating_four_count               0\n",
              "rating_three_count              0\n",
              "rating_two_count                0\n",
              "rating_one_count                0\n",
              "badges_count                    0\n",
              "badge_local_product             0\n",
              "badge_product_quality           0\n",
              "badge_fast_shipping             0\n",
              "tags                            0\n",
              "product_color                   0\n",
              "product_variation_size_id       0\n",
              "product_variation_inventory     0\n",
              "shipping_option_name            0\n",
              "shipping_option_price           0\n",
              "shipping_is_express             0\n",
              "countries_shipped_to            0\n",
              "inventory_total                 0\n",
              "origin_country                  0\n",
              "merchant_title                  0\n",
              "merchant_name                   0\n",
              "merchant_info_subtitle          0\n",
              "merchant_rating_count           0\n",
              "merchant_rating                 0\n",
              "merchant_id                     0\n",
              "merchant_has_profile_picture    0\n",
              "product_url                     0\n",
              "product_picture                 0\n",
              "product_id                      0\n",
              "theme                           0\n",
              "crawl_month                     0\n",
              "dtype: int64"
            ]
          },
          "metadata": {},
          "execution_count": 7
        }
      ]
    },
    {
      "cell_type": "code",
      "source": [
        "df.info()"
      ],
      "metadata": {
        "id": "GrUm9xKkmWP7",
        "outputId": "a44f4b34-b0d5-49ab-ba4a-c1ecee27b48c",
        "colab": {
          "base_uri": "https://localhost:8080/"
        }
      },
      "execution_count": 8,
      "outputs": [
        {
          "output_type": "stream",
          "name": "stdout",
          "text": [
            "<class 'pandas.core.frame.DataFrame'>\n",
            "Int64Index: 1457 entries, 0 to 1572\n",
            "Data columns (total 40 columns):\n",
            " #   Column                        Non-Null Count  Dtype  \n",
            "---  ------                        --------------  -----  \n",
            " 0   title                         1457 non-null   object \n",
            " 1   title_orig                    1457 non-null   object \n",
            " 2   price                         1457 non-null   float64\n",
            " 3   retail_price                  1457 non-null   int64  \n",
            " 4   currency_buyer                1457 non-null   object \n",
            " 5   units_sold                    1457 non-null   int64  \n",
            " 6   uses_ad_boosts                1457 non-null   int64  \n",
            " 7   rating                        1457 non-null   float64\n",
            " 8   rating_count                  1457 non-null   int64  \n",
            " 9   rating_five_count             1457 non-null   float64\n",
            " 10  rating_four_count             1457 non-null   float64\n",
            " 11  rating_three_count            1457 non-null   float64\n",
            " 12  rating_two_count              1457 non-null   float64\n",
            " 13  rating_one_count              1457 non-null   float64\n",
            " 14  badges_count                  1457 non-null   int64  \n",
            " 15  badge_local_product           1457 non-null   int64  \n",
            " 16  badge_product_quality         1457 non-null   int64  \n",
            " 17  badge_fast_shipping           1457 non-null   int64  \n",
            " 18  tags                          1457 non-null   object \n",
            " 19  product_color                 1457 non-null   object \n",
            " 20  product_variation_size_id     1457 non-null   object \n",
            " 21  product_variation_inventory   1457 non-null   int64  \n",
            " 22  shipping_option_name          1457 non-null   object \n",
            " 23  shipping_option_price         1457 non-null   int64  \n",
            " 24  shipping_is_express           1457 non-null   int64  \n",
            " 25  countries_shipped_to          1457 non-null   int64  \n",
            " 26  inventory_total               1457 non-null   int64  \n",
            " 27  origin_country                1457 non-null   object \n",
            " 28  merchant_title                1457 non-null   object \n",
            " 29  merchant_name                 1457 non-null   object \n",
            " 30  merchant_info_subtitle        1457 non-null   object \n",
            " 31  merchant_rating_count         1457 non-null   int64  \n",
            " 32  merchant_rating               1457 non-null   float64\n",
            " 33  merchant_id                   1457 non-null   object \n",
            " 34  merchant_has_profile_picture  1457 non-null   int64  \n",
            " 35  product_url                   1457 non-null   object \n",
            " 36  product_picture               1457 non-null   object \n",
            " 37  product_id                    1457 non-null   object \n",
            " 38  theme                         1457 non-null   object \n",
            " 39  crawl_month                   1457 non-null   object \n",
            "dtypes: float64(8), int64(15), object(17)\n",
            "memory usage: 466.7+ KB\n"
          ]
        }
      ]
    },
    {
      "cell_type": "code",
      "source": [
        "# 제외 변수들\n",
        "# 첫번째 제외 변수: title, title_orig, currency_buyer, tags, product_color, product_variation_size_id\n",
        "# 제외 변수중 고려해볼 만 한 변수\n",
        "## tags(인코딩 활용. 인코딩 활용시 컬럼이 과하게 늘어난다. 주의), product_variation_size_id\n",
        "## shipping_option_name: 프랑스어와 아랍어? 등 뒤죽박죽\n",
        "## urgency_text: 품절임박! 같은 건데, 프랑스어로 되어있다. 일단은 빼고 이후에 원핫인코딩해서 넣어보자 (missing 값이 1100개이다. 유의할 것)\n",
        "## origin_country: 이것도 원핫인코딩해서 적용 가능\n",
        "## merchant_title: 판매자 이름 우선 제외\n",
        "## merchant_name, merchant_id: 위와 동일\n",
        "## merchant_info_subtitle: 판매자 정보 글. 일단 제외. 배지 여부와 다른 변수로도 판단 가능?\n",
        "## merchant_profile_picture: 판매자 사진 링크\n",
        "## product_url, product_picture: 링크 데이터\n",
        "## product_id: 제품 키\n",
        "## theme: 해당 제품들을 찾기위해 검색한 검색어. summer로 모두 동일해서 제외\n",
        "## crawl_month: 크롤링 날짜라서 제외\n",
        "## has_urgency_banner: 결측값이 많아서 일단 제외 (결측값이 아마 없다는 뜻?) (1000개 이상의 결측값)\n",
        "## rating_five_count + rating_four_count + rating_three_count + rating_two_count + rating_one_count : 결측값이 많음 (36개)"
      ],
      "metadata": {
        "id": "bQ6OH7sUmx_F"
      },
      "execution_count": 9,
      "outputs": []
    },
    {
      "cell_type": "code",
      "source": [
        "# 상수항 추가. 실행이 될 때마다 추가되기 때문에 독립된 셀에서 위로 빼두었습니다.\n",
        "df = sm.add_constant(df,has_constant=\"add\")"
      ],
      "metadata": {
        "id": "k-hXXvmhyuB6",
        "colab": {
          "base_uri": "https://localhost:8080/"
        },
        "outputId": "f000188c-0411-4145-969a-de4968b1e772"
      },
      "execution_count": 10,
      "outputs": [
        {
          "output_type": "stream",
          "name": "stderr",
          "text": [
            "/usr/local/lib/python3.7/dist-packages/statsmodels/tsa/tsatools.py:117: FutureWarning: In a future version of pandas all arguments of concat except for the argument 'objs' will be keyword-only\n",
            "  x = pd.concat(x[::order], 1)\n"
          ]
        }
      ]
    },
    {
      "cell_type": "code",
      "source": [
        "# 다중모델 학습을 위한 특성\n",
        "features = ['price',\n",
        "            'retail_price',\n",
        "            'uses_ad_boosts',\n",
        "            'rating',\n",
        "            'rating_count',\n",
        "            'rating_five_count',\n",
        "            'rating_four_count',\n",
        "            'rating_three_count',\n",
        "            'rating_two_count',\n",
        "            'rating_one_count',\n",
        "            'badges_count',\n",
        "            'badge_local_product',\n",
        "            'badge_product_quality',\n",
        "            'badge_fast_shipping',\n",
        "            'product_variation_inventory',\n",
        "            'shipping_option_price',\n",
        "            'shipping_is_express',\n",
        "            'countries_shipped_to',\n",
        "            'inventory_total',\n",
        "            'merchant_rating_count',\n",
        "            'merchant_rating',\n",
        "            'merchant_has_profile_picture',\n",
        "            'const']"
      ],
      "metadata": {
        "id": "tQdaC-eNjIpK"
      },
      "execution_count": 11,
      "outputs": []
    },
    {
      "cell_type": "code",
      "source": [
        "target = 'units_sold'\n",
        "x = df[features]\n",
        "y = df[target]\n",
        "\n",
        "# 분할\n",
        "X_train ,X_test , y_train , y_test = train_test_split(x,y,train_size=0.7,test_size=0.3)\n",
        "print(X_train.shape, X_test.shape, y_train.shape, y_test.shape)"
      ],
      "metadata": {
        "id": "z7LcduDn4Qt7",
        "outputId": "688fce17-ef70-488e-ff37-55b5f28fc9cb",
        "colab": {
          "base_uri": "https://localhost:8080/"
        }
      },
      "execution_count": 12,
      "outputs": [
        {
          "output_type": "stream",
          "name": "stdout",
          "text": [
            "(1019, 23) (438, 23) (1019,) (438,)\n"
          ]
        }
      ]
    },
    {
      "cell_type": "code",
      "source": [
        "#Train the MLR / 회귀모델적합\n",
        "Model = sm.OLS(y_train, X_train)\n",
        "FittedModel = Model.fit()\n",
        "\n",
        "print(FittedModel.summary())"
      ],
      "metadata": {
        "id": "2AT828-VocMW",
        "outputId": "34f0e6df-aa11-4cbe-fce9-1b37464b03e5",
        "colab": {
          "base_uri": "https://localhost:8080/"
        }
      },
      "execution_count": 14,
      "outputs": [
        {
          "output_type": "stream",
          "name": "stdout",
          "text": [
            "                            OLS Regression Results                            \n",
            "==============================================================================\n",
            "Dep. Variable:             units_sold   R-squared:                       0.844\n",
            "Model:                            OLS   Adj. R-squared:                  0.841\n",
            "Method:                 Least Squares   F-statistic:                     270.7\n",
            "Date:                Tue, 05 Jul 2022   Prob (F-statistic):               0.00\n",
            "Time:                        00:59:19   Log-Likelihood:                -9880.0\n",
            "No. Observations:                1019   AIC:                         1.980e+04\n",
            "Df Residuals:                     998   BIC:                         1.991e+04\n",
            "Df Model:                          20                                         \n",
            "Covariance Type:            nonrobust                                         \n",
            "================================================================================================\n",
            "                                   coef    std err          t      P>|t|      [0.025      0.975]\n",
            "------------------------------------------------------------------------------------------------\n",
            "price                           26.7707     68.592      0.390      0.696    -107.830     161.371\n",
            "retail_price                    -9.2423      4.127     -2.239      0.025     -17.341      -1.143\n",
            "uses_ad_boosts                 412.6353    256.099      1.611      0.107     -89.919     915.190\n",
            "rating                         293.9514    278.579      1.055      0.292    -252.717     840.620\n",
            "rating_count                     2.3940      0.833      2.874      0.004       0.759       4.029\n",
            "rating_five_count                3.5887      1.198      2.997      0.003       1.239       5.939\n",
            "rating_four_count              -19.9531      3.317     -6.015      0.000     -26.462     -13.444\n",
            "rating_three_count              33.6086      7.328      4.587      0.000      19.229      47.988\n",
            "rating_two_count               -16.2377     11.287     -1.439      0.151     -38.386       5.910\n",
            "rating_one_count                 1.3875      4.418      0.314      0.754      -7.281      10.056\n",
            "badges_count                  -649.1337    384.848     -1.687      0.092   -1404.338     106.070\n",
            "badge_local_product            924.2629    876.611      1.054      0.292    -795.949    2644.474\n",
            "badge_product_quality          205.0968    529.015      0.388      0.698    -833.013    1243.207\n",
            "badge_fast_shipping          -1778.4933   1063.677     -1.672      0.095   -3865.793     308.806\n",
            "product_variation_inventory     10.0714      6.455      1.560      0.119      -2.595      22.738\n",
            "shipping_option_price         -150.6516    261.633     -0.576      0.565    -664.065     362.761\n",
            "shipping_is_express           1765.5055   3393.343      0.520      0.603   -4893.399    8424.410\n",
            "countries_shipped_to           -11.5348      6.318     -1.826      0.068     -23.933       0.863\n",
            "inventory_total                -31.0361     49.825     -0.623      0.533    -128.810      66.737\n",
            "merchant_rating_count            0.0042      0.002      2.537      0.011       0.001       0.007\n",
            "merchant_rating                 97.3444    724.698      0.134      0.893   -1324.763    1519.451\n",
            "merchant_has_profile_picture    25.0718    354.938      0.071      0.944    -671.439     721.582\n",
            "const                          948.3082   3950.672      0.240      0.810   -6804.268    8700.885\n",
            "==============================================================================\n",
            "Omnibus:                      832.561   Durbin-Watson:                   1.910\n",
            "Prob(Omnibus):                  0.000   Jarque-Bera (JB):            96230.548\n",
            "Skew:                           3.038   Prob(JB):                         0.00\n",
            "Kurtosis:                      50.218   Cond. No.                     1.12e+21\n",
            "==============================================================================\n",
            "\n",
            "Warnings:\n",
            "[1] Standard Errors assume that the covariance matrix of the errors is correctly specified.\n",
            "[2] The smallest eigenvalue is 5.64e-30. This might indicate that there are\n",
            "strong multicollinearity problems or that the design matrix is singular.\n"
          ]
        }
      ]
    },
    {
      "cell_type": "markdown",
      "source": [
        "- 각 변수들의 p-value 값이 0.8, 0.6 이상이 되는 값들이 보이기에 다중공선성이 의심됩니다(통상 0.5이상이라면 다중공선성 확인). 또한 모델 summary 결과에서도 다중공선성(multicollinearity)이 의심된다는 결과가 나왔기에 VIF(분산팽창지수)를 확인해보았습니다. "
      ],
      "metadata": {
        "id": "hQAVLQ1kpNIp"
      }
    },
    {
      "cell_type": "code",
      "source": [
        "from statsmodels.stats.outliers_influence import variance_inflation_factor\n",
        "\n",
        "vif = pd.DataFrame()\n",
        "vif[\"VIF Factor\"] = [variance_inflation_factor(X_train.values,i) for i in range(X_train.shape[1])]\n",
        "vif[\"features\"] = X_train.columns\n",
        "print(vif)"
      ],
      "metadata": {
        "id": "98-FGcerjg9X",
        "outputId": "f422963e-71df-4348-ec79-4983c1d5c2a7",
        "colab": {
          "base_uri": "https://localhost:8080/"
        }
      },
      "execution_count": 15,
      "outputs": [
        {
          "output_type": "stream",
          "name": "stderr",
          "text": [
            "/usr/local/lib/python3.7/dist-packages/statsmodels/stats/outliers_influence.py:185: RuntimeWarning: divide by zero encountered in double_scalars\n",
            "  vif = 1. / (1. - r_squared_i)\n"
          ]
        },
        {
          "output_type": "stream",
          "name": "stdout",
          "text": [
            "     VIF Factor                      features\n",
            "0      4.712878                         price\n",
            "1      1.135544                  retail_price\n",
            "2      1.042558                uses_ad_boosts\n",
            "3      1.211185                        rating\n",
            "4           inf                  rating_count\n",
            "5           inf             rating_five_count\n",
            "6           inf             rating_four_count\n",
            "7           inf            rating_three_count\n",
            "8           inf              rating_two_count\n",
            "9           inf              rating_one_count\n",
            "10          inf                  badges_count\n",
            "11          inf           badge_local_product\n",
            "12          inf         badge_product_quality\n",
            "13          inf           badge_fast_shipping\n",
            "14     1.215562   product_variation_inventory\n",
            "15     4.673379         shipping_option_price\n",
            "16     1.456085           shipping_is_express\n",
            "17     1.081681          countries_shipped_to\n",
            "18     1.275073               inventory_total\n",
            "19     1.126102         merchant_rating_count\n",
            "20     1.230334               merchant_rating\n",
            "21     1.076461  merchant_has_profile_picture\n",
            "22  1007.559235                         const\n"
          ]
        }
      ]
    },
    {
      "cell_type": "markdown",
      "source": [
        "- vif값이 10이 넘으면 다중공선성을 의심합니다. 여기선 7개만을 제외하고 모두 10이 넘고, inf값까지 나온것을 볼 수 있습니다. 그렇기에 해당 값들을 drop하려 합니다."
      ],
      "metadata": {
        "id": "CXOOad0vrpBT"
      }
    },
    {
      "cell_type": "code",
      "source": [
        "# 다중공선성 제외 1\n",
        "# 다중공선성 제외 특성\n",
        "features_after_vif = ['price',\n",
        "                      'retail_price',\n",
        "                      'uses_ad_boosts',\n",
        "                      'rating_count',\n",
        "                      'badge_product_quality',\n",
        "                      'badge_fast_shipping',\n",
        "                      'product_variation_inventory',\n",
        "                      'countries_shipped_to',\n",
        "                      'inventory_total',\n",
        "                      'merchant_rating_count',\n",
        "                      'merchant_rating',\n",
        "                      'merchant_has_profile_picture',\n",
        "                      'const']\n",
        "\n",
        "\n",
        "target = 'units_sold'\n",
        "x = df[features_after_vif]\n",
        "y = df[target]\n",
        "\n",
        "# 분할\n",
        "X_train ,X_test , y_train , y_test = train_test_split(x,y,train_size=0.7,test_size=0.3)\n",
        "print(X_train.shape, X_test.shape, y_train.shape, y_test.shape)\n",
        "\n",
        "#Train the MLR / 회귀모델적합\n",
        "Model = sm.OLS(y_train, X_train)\n",
        "FittedModel = Model.fit()\n",
        "\n",
        "print(FittedModel.summary())\n",
        "\n",
        "# 에러\n",
        "y_pred = FittedModel.predict(X_test)\n",
        "\n",
        "# 평가지표 계산\n",
        "print('평가지표')\n",
        "mse = mean_squared_error(y_test, y_pred)\n",
        "mae = mean_absolute_error(y_test, y_pred)\n",
        "rmse = mse ** 0.5\n",
        "r2 = r2_score(y_test, y_pred)\n",
        "display(pd.DataFrame([['MSE', mse],['MAE', mae],['RMSE', rmse],['R2', r2]], columns=['Metric', 'Score']))\n",
        "\n",
        "\n",
        "# VIF 계산\n",
        "vif = pd.DataFrame()\n",
        "vif[\"VIF Factor\"] = [variance_inflation_factor(X_train.values,i) for i in range(X_train.shape[1])]\n",
        "vif[\"features\"] = X_train.columns\n",
        "print(vif)"
      ],
      "metadata": {
        "colab": {
          "base_uri": "https://localhost:8080/",
          "height": 1000
        },
        "id": "9tJAh45e84so",
        "outputId": "68cbd23e-b836-4fa4-f3a4-e32dd7126cf6"
      },
      "execution_count": 72,
      "outputs": [
        {
          "output_type": "stream",
          "name": "stdout",
          "text": [
            "(1019, 13) (438, 13) (1019,) (438,)\n",
            "                            OLS Regression Results                            \n",
            "==============================================================================\n",
            "Dep. Variable:             units_sold   R-squared:                       0.833\n",
            "Model:                            OLS   Adj. R-squared:                  0.831\n",
            "Method:                 Least Squares   F-statistic:                     417.4\n",
            "Date:                Tue, 05 Jul 2022   Prob (F-statistic):               0.00\n",
            "Time:                        02:20:49   Log-Likelihood:                -9920.3\n",
            "No. Observations:                1019   AIC:                         1.987e+04\n",
            "Df Residuals:                    1006   BIC:                         1.993e+04\n",
            "Df Model:                          12                                         \n",
            "Covariance Type:            nonrobust                                         \n",
            "================================================================================================\n",
            "                                   coef    std err          t      P>|t|      [0.025      0.975]\n",
            "------------------------------------------------------------------------------------------------\n",
            "price                          -22.6784     37.767     -0.600      0.548     -96.789      51.433\n",
            "retail_price                    -9.9918      4.255     -2.348      0.019     -18.342      -1.641\n",
            "uses_ad_boosts                 625.7497    266.220      2.350      0.019     103.339    1148.160\n",
            "rating_count                     4.3392      0.065     66.705      0.000       4.212       4.467\n",
            "badge_product_quality         -638.1835    483.206     -1.321      0.187   -1586.391     310.024\n",
            "badge_fast_shipping          -2574.2753   1292.791     -1.991      0.047   -5111.151     -37.399\n",
            "product_variation_inventory     11.3071      6.762      1.672      0.095      -1.963      24.577\n",
            "countries_shipped_to            -8.5705      6.922     -1.238      0.216     -22.154       5.013\n",
            "inventory_total                -32.2742     58.429     -0.552      0.581    -146.931      82.382\n",
            "merchant_rating_count            0.0036      0.002      2.132      0.033       0.000       0.007\n",
            "merchant_rating               -233.2361    682.532     -0.342      0.733   -1572.586    1106.113\n",
            "merchant_has_profile_picture  -321.8726    375.887     -0.856      0.392   -1059.485     415.740\n",
            "const                         3260.7000   4173.264      0.781      0.435   -4928.600    1.14e+04\n",
            "==============================================================================\n",
            "Omnibus:                      728.644   Durbin-Watson:                   1.991\n",
            "Prob(Omnibus):                  0.000   Jarque-Bera (JB):            75296.875\n",
            "Skew:                           2.455   Prob(JB):                         0.00\n",
            "Kurtosis:                      44.825   Cond. No.                     2.72e+06\n",
            "==============================================================================\n",
            "\n",
            "Warnings:\n",
            "[1] Standard Errors assume that the covariance matrix of the errors is correctly specified.\n",
            "[2] The condition number is large, 2.72e+06. This might indicate that there are\n",
            "strong multicollinearity or other numerical problems.\n",
            "평가지표\n"
          ]
        },
        {
          "output_type": "display_data",
          "data": {
            "text/plain": [
              "  Metric         Score\n",
              "0    MSE  1.033472e+07\n",
              "1    MAE  1.638112e+03\n",
              "2   RMSE  3.214765e+03\n",
              "3     R2  7.267466e-01"
            ],
            "text/html": [
              "\n",
              "  <div id=\"df-9ce7f896-3209-497e-80f8-c9d192d9d73c\">\n",
              "    <div class=\"colab-df-container\">\n",
              "      <div>\n",
              "<style scoped>\n",
              "    .dataframe tbody tr th:only-of-type {\n",
              "        vertical-align: middle;\n",
              "    }\n",
              "\n",
              "    .dataframe tbody tr th {\n",
              "        vertical-align: top;\n",
              "    }\n",
              "\n",
              "    .dataframe thead th {\n",
              "        text-align: right;\n",
              "    }\n",
              "</style>\n",
              "<table border=\"1\" class=\"dataframe\">\n",
              "  <thead>\n",
              "    <tr style=\"text-align: right;\">\n",
              "      <th></th>\n",
              "      <th>Metric</th>\n",
              "      <th>Score</th>\n",
              "    </tr>\n",
              "  </thead>\n",
              "  <tbody>\n",
              "    <tr>\n",
              "      <th>0</th>\n",
              "      <td>MSE</td>\n",
              "      <td>1.033472e+07</td>\n",
              "    </tr>\n",
              "    <tr>\n",
              "      <th>1</th>\n",
              "      <td>MAE</td>\n",
              "      <td>1.638112e+03</td>\n",
              "    </tr>\n",
              "    <tr>\n",
              "      <th>2</th>\n",
              "      <td>RMSE</td>\n",
              "      <td>3.214765e+03</td>\n",
              "    </tr>\n",
              "    <tr>\n",
              "      <th>3</th>\n",
              "      <td>R2</td>\n",
              "      <td>7.267466e-01</td>\n",
              "    </tr>\n",
              "  </tbody>\n",
              "</table>\n",
              "</div>\n",
              "      <button class=\"colab-df-convert\" onclick=\"convertToInteractive('df-9ce7f896-3209-497e-80f8-c9d192d9d73c')\"\n",
              "              title=\"Convert this dataframe to an interactive table.\"\n",
              "              style=\"display:none;\">\n",
              "        \n",
              "  <svg xmlns=\"http://www.w3.org/2000/svg\" height=\"24px\"viewBox=\"0 0 24 24\"\n",
              "       width=\"24px\">\n",
              "    <path d=\"M0 0h24v24H0V0z\" fill=\"none\"/>\n",
              "    <path d=\"M18.56 5.44l.94 2.06.94-2.06 2.06-.94-2.06-.94-.94-2.06-.94 2.06-2.06.94zm-11 1L8.5 8.5l.94-2.06 2.06-.94-2.06-.94L8.5 2.5l-.94 2.06-2.06.94zm10 10l.94 2.06.94-2.06 2.06-.94-2.06-.94-.94-2.06-.94 2.06-2.06.94z\"/><path d=\"M17.41 7.96l-1.37-1.37c-.4-.4-.92-.59-1.43-.59-.52 0-1.04.2-1.43.59L10.3 9.45l-7.72 7.72c-.78.78-.78 2.05 0 2.83L4 21.41c.39.39.9.59 1.41.59.51 0 1.02-.2 1.41-.59l7.78-7.78 2.81-2.81c.8-.78.8-2.07 0-2.86zM5.41 20L4 18.59l7.72-7.72 1.47 1.35L5.41 20z\"/>\n",
              "  </svg>\n",
              "      </button>\n",
              "      \n",
              "  <style>\n",
              "    .colab-df-container {\n",
              "      display:flex;\n",
              "      flex-wrap:wrap;\n",
              "      gap: 12px;\n",
              "    }\n",
              "\n",
              "    .colab-df-convert {\n",
              "      background-color: #E8F0FE;\n",
              "      border: none;\n",
              "      border-radius: 50%;\n",
              "      cursor: pointer;\n",
              "      display: none;\n",
              "      fill: #1967D2;\n",
              "      height: 32px;\n",
              "      padding: 0 0 0 0;\n",
              "      width: 32px;\n",
              "    }\n",
              "\n",
              "    .colab-df-convert:hover {\n",
              "      background-color: #E2EBFA;\n",
              "      box-shadow: 0px 1px 2px rgba(60, 64, 67, 0.3), 0px 1px 3px 1px rgba(60, 64, 67, 0.15);\n",
              "      fill: #174EA6;\n",
              "    }\n",
              "\n",
              "    [theme=dark] .colab-df-convert {\n",
              "      background-color: #3B4455;\n",
              "      fill: #D2E3FC;\n",
              "    }\n",
              "\n",
              "    [theme=dark] .colab-df-convert:hover {\n",
              "      background-color: #434B5C;\n",
              "      box-shadow: 0px 1px 3px 1px rgba(0, 0, 0, 0.15);\n",
              "      filter: drop-shadow(0px 1px 2px rgba(0, 0, 0, 0.3));\n",
              "      fill: #FFFFFF;\n",
              "    }\n",
              "  </style>\n",
              "\n",
              "      <script>\n",
              "        const buttonEl =\n",
              "          document.querySelector('#df-9ce7f896-3209-497e-80f8-c9d192d9d73c button.colab-df-convert');\n",
              "        buttonEl.style.display =\n",
              "          google.colab.kernel.accessAllowed ? 'block' : 'none';\n",
              "\n",
              "        async function convertToInteractive(key) {\n",
              "          const element = document.querySelector('#df-9ce7f896-3209-497e-80f8-c9d192d9d73c');\n",
              "          const dataTable =\n",
              "            await google.colab.kernel.invokeFunction('convertToInteractive',\n",
              "                                                     [key], {});\n",
              "          if (!dataTable) return;\n",
              "\n",
              "          const docLinkHtml = 'Like what you see? Visit the ' +\n",
              "            '<a target=\"_blank\" href=https://colab.research.google.com/notebooks/data_table.ipynb>data table notebook</a>'\n",
              "            + ' to learn more about interactive tables.';\n",
              "          element.innerHTML = '';\n",
              "          dataTable['output_type'] = 'display_data';\n",
              "          await google.colab.output.renderOutput(dataTable, element);\n",
              "          const docLink = document.createElement('div');\n",
              "          docLink.innerHTML = docLinkHtml;\n",
              "          element.appendChild(docLink);\n",
              "        }\n",
              "      </script>\n",
              "    </div>\n",
              "  </div>\n",
              "  "
            ]
          },
          "metadata": {}
        },
        {
          "output_type": "stream",
          "name": "stdout",
          "text": [
            "     VIF Factor                      features\n",
            "0      1.330721                         price\n",
            "1      1.100495                  retail_price\n",
            "2      1.045536                uses_ad_boosts\n",
            "3      1.116463                  rating_count\n",
            "4      1.061895         badge_product_quality\n",
            "5      1.073090           badge_fast_shipping\n",
            "6      1.225530   product_variation_inventory\n",
            "7      1.067694          countries_shipped_to\n",
            "8      1.161841               inventory_total\n",
            "9      1.110093         merchant_rating_count\n",
            "10     1.121939               merchant_rating\n",
            "11     1.054680  merchant_has_profile_picture\n",
            "12  1047.191710                         const\n"
          ]
        }
      ]
    },
    {
      "cell_type": "markdown",
      "source": [
        "- vif값을 토대로 변수들을 제거, 추가하며 모델링 작업을 진행하였습니다. 과정에서 평가지표를 전후로 비교하며 최적의 모델 변수들을 찾고자 하였고, 위 모델에서 모델 설명력과 평가지표, vif값들 모두 양호하게 도출되었습니다."
      ],
      "metadata": {
        "id": "thvMjZKqCwVU"
      }
    },
    {
      "cell_type": "markdown",
      "source": [
        "### 변수 선택\n",
        "- 변수선택법으로는 전진선택법을 선택하였습니다.\n",
        "- 선택기준으로, AIC, BIC 등 중에서 실제값의 분포를 보려는 것이 아니라 예측을 하는 것이니 AIC를 선택하였습니다.\n",
        "- 관련 링크 \n",
        "  - https://aliencoder.tistory.com/24\n",
        "  - https://zephyrus1111.tistory.com/65"
      ],
      "metadata": {
        "id": "s0qs5DdTukeP"
      }
    },
    {
      "cell_type": "code",
      "source": [
        "# 변수선택을 위해서 타겟과 features가 함께 있는데이터로 구하자\n",
        "select = features\n",
        "select.append('units_sold')\n",
        "\n",
        "df_for_select = df[select]"
      ],
      "metadata": {
        "id": "VexWXmaTECMi"
      },
      "execution_count": 73,
      "outputs": []
    },
    {
      "cell_type": "code",
      "source": [
        "def forward_feature_selection(X_train, y_train, variables=X_train.columns.tolist() ):\n",
        "    import statsmodels.api as sm\n",
        "    import matplotlib.pyplot as plt\n",
        "    import warnings\n",
        "    warnings.filterwarnings(\"ignore\")\n",
        "    \n",
        "    y = y_train ## 반응 변수\n",
        "\n",
        "    selected_variables = [] ## 선택된 변수들\n",
        "    sl_enter = 0.5\n",
        "    sl_remove = 0.5\n",
        "    \n",
        "    sv_per_step = [] ## 각 스텝별로 선택된 변수들\n",
        "    adjusted_r_squared = [] ## 각 스텝별 수정된 결정계수\n",
        "    steps = [] ## 스텝\n",
        "    step = 0\n",
        "    while len(variables) > 0:\n",
        "        remainder = list(set(variables) - set(selected_variables))\n",
        "        pval = pd.Series(index=remainder) ## 변수의 p-value\n",
        "        ## 기존에 포함된 변수와 새로운 변수 하나씩 돌아가면서 \n",
        "        ## 선형 모형을 적합한다.\n",
        "        for col in remainder: \n",
        "            X = X_train[selected_variables+[col]]\n",
        "            X = sm.add_constant(X)\n",
        "            model = sm.OLS(y,X).fit(disp=0)\n",
        "            pval[col] = model.pvalues[col]\n",
        "    \n",
        "        min_pval = pval.min()\n",
        "        if min_pval < sl_enter: ## 최소 p-value 값이 기준 값보다 작으면 포함\n",
        "            selected_variables.append(pval.idxmin())\n",
        "            ## 선택된 변수들에대해서\n",
        "            ## 어떤 변수를 제거할지 고른다.\n",
        "            while len(selected_variables) > 0:\n",
        "                selected_X = X_train[selected_variables]\n",
        "                selected_X = sm.add_constant(selected_X)\n",
        "                selected_pval = sm.OLS(y,selected_X).fit(disp=0).pvalues[1:] ## 절편항의 p-value는 뺀다\n",
        "                max_pval = selected_pval.max()\n",
        "                if max_pval >= sl_remove: ## 최대 p-value값이 기준값보다 크거나 같으면 제외\n",
        "                    remove_variable = selected_pval.idxmax()\n",
        "                    selected_variables.remove(remove_variable)\n",
        "                else:\n",
        "                    break\n",
        "            \n",
        "            step += 1\n",
        "            steps.append(step)\n",
        "            adj_r_squared = sm.OLS(y,sm.add_constant(X_train[selected_variables])).fit(disp=0).rsquared_adj\n",
        "            adjusted_r_squared.append(adj_r_squared)\n",
        "            sv_per_step.append(selected_variables.copy())\n",
        "        else:\n",
        "            break\n",
        "    return selected_variables"
      ],
      "metadata": {
        "id": "j_Ij0793FxVT"
      },
      "execution_count": 74,
      "outputs": []
    },
    {
      "cell_type": "code",
      "source": [
        "selected_features = forward_feature_selection(x, y)"
      ],
      "metadata": {
        "id": "vPvthdadFxTc"
      },
      "execution_count": 75,
      "outputs": []
    },
    {
      "cell_type": "code",
      "source": [
        "selected_features"
      ],
      "metadata": {
        "id": "5ILJHQAmFxRU",
        "outputId": "a1d6a688-d4bf-4f55-ddfb-485f175da6ed",
        "colab": {
          "base_uri": "https://localhost:8080/"
        }
      },
      "execution_count": 76,
      "outputs": [
        {
          "output_type": "execute_result",
          "data": {
            "text/plain": [
              "['rating_count',\n",
              " 'const',\n",
              " 'retail_price',\n",
              " 'merchant_rating_count',\n",
              " 'badge_fast_shipping',\n",
              " 'uses_ad_boosts',\n",
              " 'product_variation_inventory',\n",
              " 'badge_product_quality',\n",
              " 'countries_shipped_to',\n",
              " 'price',\n",
              " 'inventory_total',\n",
              " 'merchant_rating']"
            ]
          },
          "metadata": {},
          "execution_count": 76
        }
      ]
    },
    {
      "cell_type": "code",
      "source": [
        "# 전진선택법으로 선택한 feature들로 모델링\n",
        "model_2 = sm.OLS(y_train, sm.add_constant(pd.DataFrame(X_train[selected_features]))).fit(disp=0)\n",
        "print(model_2.summary())\n",
        "\n",
        "\n",
        "# 에러\n",
        "y_pred = model_2.predict(X_test[selected_features])\n",
        "\n",
        "# 평가지표 계산\n",
        "print('평가지표')\n",
        "mse = mean_squared_error(y_test, y_pred)\n",
        "mae = mean_absolute_error(y_test, y_pred)\n",
        "rmse = mse ** 0.5\n",
        "r2 = r2_score(y_test, y_pred)\n",
        "display(pd.DataFrame([['MSE', mse],['MAE', mae],['RMSE', rmse],['R2', r2]], columns=['Metric', 'Score']))\n",
        "\n",
        "\n",
        "# VIF 계산\n",
        "vif = pd.DataFrame()\n",
        "vif[\"VIF Factor\"] = [variance_inflation_factor(X_train.values,i) for i in range(X_train.shape[1])]\n",
        "vif[\"features\"] = X_train.columns\n",
        "print(vif)"
      ],
      "metadata": {
        "id": "E4A9Q3yIFxPA",
        "outputId": "2f541ef6-c700-49da-d2b3-55857c9f27d0",
        "colab": {
          "base_uri": "https://localhost:8080/",
          "height": 1000
        }
      },
      "execution_count": 77,
      "outputs": [
        {
          "output_type": "stream",
          "name": "stdout",
          "text": [
            "                            OLS Regression Results                            \n",
            "==============================================================================\n",
            "Dep. Variable:             units_sold   R-squared:                       0.833\n",
            "Model:                            OLS   Adj. R-squared:                  0.831\n",
            "Method:                 Least Squares   F-statistic:                     455.4\n",
            "Date:                Tue, 05 Jul 2022   Prob (F-statistic):               0.00\n",
            "Time:                        02:21:15   Log-Likelihood:                -9920.7\n",
            "No. Observations:                1019   AIC:                         1.987e+04\n",
            "Df Residuals:                    1007   BIC:                         1.992e+04\n",
            "Df Model:                          11                                         \n",
            "Covariance Type:            nonrobust                                         \n",
            "===============================================================================================\n",
            "                                  coef    std err          t      P>|t|      [0.025      0.975]\n",
            "-----------------------------------------------------------------------------------------------\n",
            "rating_count                    4.3314      0.064     67.256      0.000       4.205       4.458\n",
            "const                        3587.9841   4155.174      0.863      0.388   -4565.808    1.17e+04\n",
            "retail_price                  -10.0063      4.255     -2.352      0.019     -18.356      -1.657\n",
            "merchant_rating_count           0.0036      0.002      2.091      0.037       0.000       0.007\n",
            "badge_fast_shipping         -2641.7453   1290.217     -2.048      0.041   -5173.567    -109.924\n",
            "uses_ad_boosts                617.6202    266.016      2.322      0.020      95.612    1139.628\n",
            "product_variation_inventory    11.3221      6.762      1.674      0.094      -1.946      24.590\n",
            "badge_product_quality        -641.0315    483.131     -1.327      0.185   -1589.090     307.027\n",
            "countries_shipped_to           -8.4179      6.919     -1.217      0.224     -21.995       5.159\n",
            "price                         -24.3914     37.709     -0.647      0.518     -98.389      49.606\n",
            "inventory_total               -34.8985     58.341     -0.598      0.550    -149.382      79.585\n",
            "merchant_rating              -288.1982    679.417     -0.424      0.672   -1621.434    1045.038\n",
            "==============================================================================\n",
            "Omnibus:                      725.840   Durbin-Watson:                   1.993\n",
            "Prob(Omnibus):                  0.000   Jarque-Bera (JB):            74817.043\n",
            "Skew:                           2.440   Prob(JB):                         0.00\n",
            "Kurtosis:                      44.693   Cond. No.                     2.71e+06\n",
            "==============================================================================\n",
            "\n",
            "Warnings:\n",
            "[1] Standard Errors assume that the covariance matrix of the errors is correctly specified.\n",
            "[2] The condition number is large, 2.71e+06. This might indicate that there are\n",
            "strong multicollinearity or other numerical problems.\n",
            "평가지표\n"
          ]
        },
        {
          "output_type": "display_data",
          "data": {
            "text/plain": [
              "  Metric         Score\n",
              "0    MSE  1.027093e+07\n",
              "1    MAE  1.632727e+03\n",
              "2   RMSE  3.204828e+03\n",
              "3     R2  7.284333e-01"
            ],
            "text/html": [
              "\n",
              "  <div id=\"df-635e77b1-0443-43d0-b654-bc0f581768f6\">\n",
              "    <div class=\"colab-df-container\">\n",
              "      <div>\n",
              "<style scoped>\n",
              "    .dataframe tbody tr th:only-of-type {\n",
              "        vertical-align: middle;\n",
              "    }\n",
              "\n",
              "    .dataframe tbody tr th {\n",
              "        vertical-align: top;\n",
              "    }\n",
              "\n",
              "    .dataframe thead th {\n",
              "        text-align: right;\n",
              "    }\n",
              "</style>\n",
              "<table border=\"1\" class=\"dataframe\">\n",
              "  <thead>\n",
              "    <tr style=\"text-align: right;\">\n",
              "      <th></th>\n",
              "      <th>Metric</th>\n",
              "      <th>Score</th>\n",
              "    </tr>\n",
              "  </thead>\n",
              "  <tbody>\n",
              "    <tr>\n",
              "      <th>0</th>\n",
              "      <td>MSE</td>\n",
              "      <td>1.027093e+07</td>\n",
              "    </tr>\n",
              "    <tr>\n",
              "      <th>1</th>\n",
              "      <td>MAE</td>\n",
              "      <td>1.632727e+03</td>\n",
              "    </tr>\n",
              "    <tr>\n",
              "      <th>2</th>\n",
              "      <td>RMSE</td>\n",
              "      <td>3.204828e+03</td>\n",
              "    </tr>\n",
              "    <tr>\n",
              "      <th>3</th>\n",
              "      <td>R2</td>\n",
              "      <td>7.284333e-01</td>\n",
              "    </tr>\n",
              "  </tbody>\n",
              "</table>\n",
              "</div>\n",
              "      <button class=\"colab-df-convert\" onclick=\"convertToInteractive('df-635e77b1-0443-43d0-b654-bc0f581768f6')\"\n",
              "              title=\"Convert this dataframe to an interactive table.\"\n",
              "              style=\"display:none;\">\n",
              "        \n",
              "  <svg xmlns=\"http://www.w3.org/2000/svg\" height=\"24px\"viewBox=\"0 0 24 24\"\n",
              "       width=\"24px\">\n",
              "    <path d=\"M0 0h24v24H0V0z\" fill=\"none\"/>\n",
              "    <path d=\"M18.56 5.44l.94 2.06.94-2.06 2.06-.94-2.06-.94-.94-2.06-.94 2.06-2.06.94zm-11 1L8.5 8.5l.94-2.06 2.06-.94-2.06-.94L8.5 2.5l-.94 2.06-2.06.94zm10 10l.94 2.06.94-2.06 2.06-.94-2.06-.94-.94-2.06-.94 2.06-2.06.94z\"/><path d=\"M17.41 7.96l-1.37-1.37c-.4-.4-.92-.59-1.43-.59-.52 0-1.04.2-1.43.59L10.3 9.45l-7.72 7.72c-.78.78-.78 2.05 0 2.83L4 21.41c.39.39.9.59 1.41.59.51 0 1.02-.2 1.41-.59l7.78-7.78 2.81-2.81c.8-.78.8-2.07 0-2.86zM5.41 20L4 18.59l7.72-7.72 1.47 1.35L5.41 20z\"/>\n",
              "  </svg>\n",
              "      </button>\n",
              "      \n",
              "  <style>\n",
              "    .colab-df-container {\n",
              "      display:flex;\n",
              "      flex-wrap:wrap;\n",
              "      gap: 12px;\n",
              "    }\n",
              "\n",
              "    .colab-df-convert {\n",
              "      background-color: #E8F0FE;\n",
              "      border: none;\n",
              "      border-radius: 50%;\n",
              "      cursor: pointer;\n",
              "      display: none;\n",
              "      fill: #1967D2;\n",
              "      height: 32px;\n",
              "      padding: 0 0 0 0;\n",
              "      width: 32px;\n",
              "    }\n",
              "\n",
              "    .colab-df-convert:hover {\n",
              "      background-color: #E2EBFA;\n",
              "      box-shadow: 0px 1px 2px rgba(60, 64, 67, 0.3), 0px 1px 3px 1px rgba(60, 64, 67, 0.15);\n",
              "      fill: #174EA6;\n",
              "    }\n",
              "\n",
              "    [theme=dark] .colab-df-convert {\n",
              "      background-color: #3B4455;\n",
              "      fill: #D2E3FC;\n",
              "    }\n",
              "\n",
              "    [theme=dark] .colab-df-convert:hover {\n",
              "      background-color: #434B5C;\n",
              "      box-shadow: 0px 1px 3px 1px rgba(0, 0, 0, 0.15);\n",
              "      filter: drop-shadow(0px 1px 2px rgba(0, 0, 0, 0.3));\n",
              "      fill: #FFFFFF;\n",
              "    }\n",
              "  </style>\n",
              "\n",
              "      <script>\n",
              "        const buttonEl =\n",
              "          document.querySelector('#df-635e77b1-0443-43d0-b654-bc0f581768f6 button.colab-df-convert');\n",
              "        buttonEl.style.display =\n",
              "          google.colab.kernel.accessAllowed ? 'block' : 'none';\n",
              "\n",
              "        async function convertToInteractive(key) {\n",
              "          const element = document.querySelector('#df-635e77b1-0443-43d0-b654-bc0f581768f6');\n",
              "          const dataTable =\n",
              "            await google.colab.kernel.invokeFunction('convertToInteractive',\n",
              "                                                     [key], {});\n",
              "          if (!dataTable) return;\n",
              "\n",
              "          const docLinkHtml = 'Like what you see? Visit the ' +\n",
              "            '<a target=\"_blank\" href=https://colab.research.google.com/notebooks/data_table.ipynb>data table notebook</a>'\n",
              "            + ' to learn more about interactive tables.';\n",
              "          element.innerHTML = '';\n",
              "          dataTable['output_type'] = 'display_data';\n",
              "          await google.colab.output.renderOutput(dataTable, element);\n",
              "          const docLink = document.createElement('div');\n",
              "          docLink.innerHTML = docLinkHtml;\n",
              "          element.appendChild(docLink);\n",
              "        }\n",
              "      </script>\n",
              "    </div>\n",
              "  </div>\n",
              "  "
            ]
          },
          "metadata": {}
        },
        {
          "output_type": "stream",
          "name": "stdout",
          "text": [
            "     VIF Factor                      features\n",
            "0      1.330721                         price\n",
            "1      1.100495                  retail_price\n",
            "2      1.045536                uses_ad_boosts\n",
            "3      1.116463                  rating_count\n",
            "4      1.061895         badge_product_quality\n",
            "5      1.073090           badge_fast_shipping\n",
            "6      1.225530   product_variation_inventory\n",
            "7      1.067694          countries_shipped_to\n",
            "8      1.161841               inventory_total\n",
            "9      1.110093         merchant_rating_count\n",
            "10     1.121939               merchant_rating\n",
            "11     1.054680  merchant_has_profile_picture\n",
            "12  1047.191710                         const\n"
          ]
        }
      ]
    },
    {
      "cell_type": "markdown",
      "source": [
        "#### 전진선택법을 적용했을 때, 결국 같은 변수들을 선택하는 결과를 보였다. 그렇기에 모델1이 적합한 모델이라고 생각하였다. (전진선택법을 한 model_2가 결국 기존 모델을 만들게 됨)"
      ],
      "metadata": {
        "id": "52zjniDUGg8h"
      }
    },
    {
      "cell_type": "markdown",
      "source": [
        ""
      ],
      "metadata": {
        "id": "s25T-8qSNt7b"
      }
    },
    {
      "cell_type": "markdown",
      "source": [
        "- 선택 변수 설명\n",
        "  - price: 가격\n",
        "  - retail_price: 할인 가격\n",
        "  - uses_ad_boosts: 광고 유무\n",
        "  - rating_count: 받은 별점 수\n",
        "  - badge_product_quality: 품질 보증 배지 유뮤\n",
        "  - badge_fast_shipping: 빠른 배송 배지 유무\n",
        "  - product_variation_inventory: 재고량\n",
        "  - countries_shipped_to: 배송가능 국가 수\n",
        "  - inventory_total: 제품의 모든 재고량(사이즈, 색깔 모두)\n",
        "  - merchant_rating_count: 판매자의 별점 수\n",
        "  - merchant_rating: 판매자 별점\n",
        "  - merchant_has_profile_picture: 판매자 프로필사진 유무"
      ],
      "metadata": {
        "id": "iauxqdGEN5Xy"
      }
    },
    {
      "cell_type": "code",
      "source": [
        ""
      ],
      "metadata": {
        "id": "Sd1d_K0fHgE2"
      },
      "execution_count": 21,
      "outputs": []
    }
  ]
}