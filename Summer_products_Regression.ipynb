{
  "nbformat": 4,
  "nbformat_minor": 0,
  "metadata": {
    "colab": {
      "name": "Summer_products.ipynb",
      "provenance": [],
      "authorship_tag": "ABX9TyOls53iLvnnjivt2ccnFD1c",
      "include_colab_link": true
    },
    "kernelspec": {
      "name": "python3",
      "display_name": "Python 3"
    },
    "language_info": {
      "name": "python"
    }
  },
  "cells": [
    {
      "cell_type": "markdown",
      "metadata": {
        "id": "view-in-github",
        "colab_type": "text"
      },
      "source": [
        "<a href=\"https://colab.research.google.com/github/cyss93/CP1_team8/blob/%EC%98%A4%EC%B0%BD%EC%98%81/Summer_products_Regression.ipynb\" target=\"_parent\"><img src=\"https://colab.research.google.com/assets/colab-badge.svg\" alt=\"Open In Colab\"/></a>"
      ]
    },
    {
      "cell_type": "code",
      "execution_count": 129,
      "metadata": {
        "id": "JvBNLGyNSqoQ"
      },
      "outputs": [],
      "source": [
        "import pandas as pd\n",
        "import numpy as np\n",
        "from sklearn.metrics import  mean_squared_error, mean_absolute_error, r2_score\n",
        "from sklearn.model_selection import train_test_split\n",
        "\n",
        "from matplotlib import style\n",
        "import matplotlib.pyplot as plt\n",
        "\n",
        "import statsmodels.api as sm\n",
        "from sklearn.linear_model import LinearRegression\n",
        "\n",
        "from sklearn.linear_model import Ridge\n",
        "\n",
        "\n",
        "import time\n",
        "import itertools"
      ]
    },
    {
      "cell_type": "code",
      "source": [
        "df = pd.read_csv('summer-products-with-rating-and-performance_2020-08.csv')"
      ],
      "metadata": {
        "id": "HS2ew79STQLI"
      },
      "execution_count": 130,
      "outputs": []
    },
    {
      "cell_type": "markdown",
      "source": [
        "- 변수 정리\n",
        " 'title' = \n",
        " 'title_orig',\n",
        " 'price',\n",
        " 'retail_price',\n",
        " 'currency_buyer',\n",
        " 'units_sold',\n",
        " 'uses_ad_boosts',\n",
        " 'rating',\n",
        " 'rating_count',\n",
        " 'rating_five_count',\n",
        " 'rating_four_count',\n",
        " 'rating_three_count',\n",
        " 'rating_two_count',\n",
        " 'rating_one_count',\n",
        " 'badges_count',\n",
        " 'badge_local_product',\n",
        " 'badge_product_quality',\n",
        " 'badge_fast_shipping',\n",
        " 'tags',\n",
        " 'product_color',\n",
        " 'product_variation_size_id',\n",
        " 'product_variation_inventory',\n",
        " 'shipping_option_name',\n",
        " 'shipping_option_price',\n",
        " 'shipping_is_express',\n",
        " 'countries_shipped_to',\n",
        " 'inventory_total',\n",
        " 'has_urgency_banner',\n",
        " 'urgency_text',\n",
        " 'origin_country',\n",
        " 'merchant_title',\n",
        " 'merchant_name',\n",
        " 'merchant_info_subtitle',\n",
        " 'merchant_rating_count',\n",
        " 'merchant_rating',\n",
        " 'merchant_id',\n",
        " 'merchant_has_profile_picture',\n",
        " 'merchant_profile_picture',\n",
        " 'product_url',\n",
        " 'product_picture',\n",
        " 'product_id',\n",
        " 'theme',\n",
        " 'crawl_month'"
      ],
      "metadata": {
        "id": "JdNcrJWoD3ut"
      }
    },
    {
      "cell_type": "code",
      "source": [
        "df.isna().sum()"
      ],
      "metadata": {
        "id": "gOnXtmRF3bnt",
        "outputId": "3a2c384f-1d96-414f-a62d-24915dd7878b",
        "colab": {
          "base_uri": "https://localhost:8080/"
        }
      },
      "execution_count": 131,
      "outputs": [
        {
          "output_type": "execute_result",
          "data": {
            "text/plain": [
              "title                              0\n",
              "title_orig                         0\n",
              "price                              0\n",
              "retail_price                       0\n",
              "currency_buyer                     0\n",
              "units_sold                         0\n",
              "uses_ad_boosts                     0\n",
              "rating                             0\n",
              "rating_count                       0\n",
              "rating_five_count                 45\n",
              "rating_four_count                 45\n",
              "rating_three_count                45\n",
              "rating_two_count                  45\n",
              "rating_one_count                  45\n",
              "badges_count                       0\n",
              "badge_local_product                0\n",
              "badge_product_quality              0\n",
              "badge_fast_shipping                0\n",
              "tags                               0\n",
              "product_color                     41\n",
              "product_variation_size_id         14\n",
              "product_variation_inventory        0\n",
              "shipping_option_name               0\n",
              "shipping_option_price              0\n",
              "shipping_is_express                0\n",
              "countries_shipped_to               0\n",
              "inventory_total                    0\n",
              "has_urgency_banner              1100\n",
              "urgency_text                    1100\n",
              "origin_country                    17\n",
              "merchant_title                     0\n",
              "merchant_name                      4\n",
              "merchant_info_subtitle             1\n",
              "merchant_rating_count              0\n",
              "merchant_rating                    0\n",
              "merchant_id                        0\n",
              "merchant_has_profile_picture       0\n",
              "merchant_profile_picture        1347\n",
              "product_url                        0\n",
              "product_picture                    0\n",
              "product_id                         0\n",
              "theme                              0\n",
              "crawl_month                        0\n",
              "dtype: int64"
            ]
          },
          "metadata": {},
          "execution_count": 131
        }
      ]
    },
    {
      "cell_type": "code",
      "source": [
        "# 결측값 있는 행 제거\n",
        "# has_urgency_banner, urgency_text, merchant_profile_picture 이 세 컬럼은 결측값의 비율이 너무 높기때문에 drop\n",
        "df.drop(columns = ['has_urgency_banner', 'urgency_text', 'merchant_profile_picture'], inplace = True)"
      ],
      "metadata": {
        "id": "OQsdHcsz4BlB"
      },
      "execution_count": 132,
      "outputs": []
    },
    {
      "cell_type": "code",
      "source": [
        "# 결측값 있는 행 제거\n",
        "df.dropna(axis = 0, inplace = True)"
      ],
      "metadata": {
        "id": "EYoKMOzb4inY"
      },
      "execution_count": 133,
      "outputs": []
    },
    {
      "cell_type": "code",
      "source": [
        "df.isna().sum()"
      ],
      "metadata": {
        "id": "69rhbNbD4Tpg",
        "outputId": "7ba1664d-e642-48d2-ab58-04aa713be5a6",
        "colab": {
          "base_uri": "https://localhost:8080/"
        }
      },
      "execution_count": 134,
      "outputs": [
        {
          "output_type": "execute_result",
          "data": {
            "text/plain": [
              "title                           0\n",
              "title_orig                      0\n",
              "price                           0\n",
              "retail_price                    0\n",
              "currency_buyer                  0\n",
              "units_sold                      0\n",
              "uses_ad_boosts                  0\n",
              "rating                          0\n",
              "rating_count                    0\n",
              "rating_five_count               0\n",
              "rating_four_count               0\n",
              "rating_three_count              0\n",
              "rating_two_count                0\n",
              "rating_one_count                0\n",
              "badges_count                    0\n",
              "badge_local_product             0\n",
              "badge_product_quality           0\n",
              "badge_fast_shipping             0\n",
              "tags                            0\n",
              "product_color                   0\n",
              "product_variation_size_id       0\n",
              "product_variation_inventory     0\n",
              "shipping_option_name            0\n",
              "shipping_option_price           0\n",
              "shipping_is_express             0\n",
              "countries_shipped_to            0\n",
              "inventory_total                 0\n",
              "origin_country                  0\n",
              "merchant_title                  0\n",
              "merchant_name                   0\n",
              "merchant_info_subtitle          0\n",
              "merchant_rating_count           0\n",
              "merchant_rating                 0\n",
              "merchant_id                     0\n",
              "merchant_has_profile_picture    0\n",
              "product_url                     0\n",
              "product_picture                 0\n",
              "product_id                      0\n",
              "theme                           0\n",
              "crawl_month                     0\n",
              "dtype: int64"
            ]
          },
          "metadata": {},
          "execution_count": 134
        }
      ]
    },
    {
      "cell_type": "code",
      "source": [
        "df.info()"
      ],
      "metadata": {
        "id": "GrUm9xKkmWP7",
        "outputId": "91bb4880-4247-4f59-83c4-d375429a1faf",
        "colab": {
          "base_uri": "https://localhost:8080/"
        }
      },
      "execution_count": 135,
      "outputs": [
        {
          "output_type": "stream",
          "name": "stdout",
          "text": [
            "<class 'pandas.core.frame.DataFrame'>\n",
            "Int64Index: 1457 entries, 0 to 1572\n",
            "Data columns (total 40 columns):\n",
            " #   Column                        Non-Null Count  Dtype  \n",
            "---  ------                        --------------  -----  \n",
            " 0   title                         1457 non-null   object \n",
            " 1   title_orig                    1457 non-null   object \n",
            " 2   price                         1457 non-null   float64\n",
            " 3   retail_price                  1457 non-null   int64  \n",
            " 4   currency_buyer                1457 non-null   object \n",
            " 5   units_sold                    1457 non-null   int64  \n",
            " 6   uses_ad_boosts                1457 non-null   int64  \n",
            " 7   rating                        1457 non-null   float64\n",
            " 8   rating_count                  1457 non-null   int64  \n",
            " 9   rating_five_count             1457 non-null   float64\n",
            " 10  rating_four_count             1457 non-null   float64\n",
            " 11  rating_three_count            1457 non-null   float64\n",
            " 12  rating_two_count              1457 non-null   float64\n",
            " 13  rating_one_count              1457 non-null   float64\n",
            " 14  badges_count                  1457 non-null   int64  \n",
            " 15  badge_local_product           1457 non-null   int64  \n",
            " 16  badge_product_quality         1457 non-null   int64  \n",
            " 17  badge_fast_shipping           1457 non-null   int64  \n",
            " 18  tags                          1457 non-null   object \n",
            " 19  product_color                 1457 non-null   object \n",
            " 20  product_variation_size_id     1457 non-null   object \n",
            " 21  product_variation_inventory   1457 non-null   int64  \n",
            " 22  shipping_option_name          1457 non-null   object \n",
            " 23  shipping_option_price         1457 non-null   int64  \n",
            " 24  shipping_is_express           1457 non-null   int64  \n",
            " 25  countries_shipped_to          1457 non-null   int64  \n",
            " 26  inventory_total               1457 non-null   int64  \n",
            " 27  origin_country                1457 non-null   object \n",
            " 28  merchant_title                1457 non-null   object \n",
            " 29  merchant_name                 1457 non-null   object \n",
            " 30  merchant_info_subtitle        1457 non-null   object \n",
            " 31  merchant_rating_count         1457 non-null   int64  \n",
            " 32  merchant_rating               1457 non-null   float64\n",
            " 33  merchant_id                   1457 non-null   object \n",
            " 34  merchant_has_profile_picture  1457 non-null   int64  \n",
            " 35  product_url                   1457 non-null   object \n",
            " 36  product_picture               1457 non-null   object \n",
            " 37  product_id                    1457 non-null   object \n",
            " 38  theme                         1457 non-null   object \n",
            " 39  crawl_month                   1457 non-null   object \n",
            "dtypes: float64(8), int64(15), object(17)\n",
            "memory usage: 466.7+ KB\n"
          ]
        }
      ]
    },
    {
      "cell_type": "code",
      "source": [
        "# 제외 변수들\n",
        "# 첫번째 제외 변수: title, title_orig, currency_buyer, tags, product_color, product_variation_size_id\n",
        "# 제외 변수중 고려해볼 만 한 변수\n",
        "## tags(인코딩 활용. 인코딩 활용시 컬럼이 과하게 늘어난다. 주의), product_variation_size_id\n",
        "## shipping_option_name: 프랑스어와 아랍어? 등 뒤죽박죽\n",
        "## urgency_text: 품절임박! 같은 건데, 프랑스어로 되어있다. 일단은 빼고 이후에 원핫인코딩해서 넣어보자 (missing 값이 1100개이다. 유의할 것)\n",
        "## origin_country: 이것도 원핫인코딩해서 적용 가능\n",
        "## merchant_title: 판매자 이름 우선 제외\n",
        "## merchant_name, merchant_id: 위와 동일\n",
        "## merchant_info_subtitle: 판매자 정보 글. 일단 제외. 배지 여부와 다른 변수로도 판단 가능?\n",
        "## merchant_profile_picture: 판매자 사진 링크\n",
        "## product_url, product_picture: 링크 데이터\n",
        "## product_id: 제품 키\n",
        "## theme: 해당 제품들을 찾기위해 검색한 검색어. summer로 모두 동일해서 제외\n",
        "## crawl_month: 크롤링 날짜라서 제외\n",
        "## has_urgency_banner: 결측값이 많아서 일단 제외 (결측값이 아마 없다는 뜻?) (1000개 이상의 결측값)\n",
        "## rating_five_count + rating_four_count + rating_three_count + rating_two_count + rating_one_count : 결측값이 많음 (36개)"
      ],
      "metadata": {
        "id": "bQ6OH7sUmx_F"
      },
      "execution_count": 136,
      "outputs": []
    },
    {
      "cell_type": "code",
      "source": [
        "# 상수항 추가. 실행이 될 때마다 추가되기 때문에 독립된 셀에서 위로 빼두었습니다.\n",
        "df = sm.add_constant(df,has_constant=\"add\")"
      ],
      "metadata": {
        "id": "k-hXXvmhyuB6"
      },
      "execution_count": 137,
      "outputs": []
    },
    {
      "cell_type": "code",
      "source": [
        "# 다중모델 학습을 위한 특성\n",
        "features = ['price',\n",
        "            'retail_price',\n",
        "            'uses_ad_boosts',\n",
        "            'rating',\n",
        "            'rating_count',\n",
        "            'rating_five_count',\n",
        "            'rating_four_count',\n",
        "            'rating_three_count',\n",
        "            'rating_two_count',\n",
        "            'rating_one_count',\n",
        "            'badges_count',\n",
        "            'badge_local_product',\n",
        "            'badge_product_quality',\n",
        "            'badge_fast_shipping',\n",
        "            'product_variation_inventory',\n",
        "            'shipping_option_price',\n",
        "            'shipping_is_express',\n",
        "            'countries_shipped_to',\n",
        "            'inventory_total',\n",
        "            'merchant_rating_count',\n",
        "            'merchant_rating',\n",
        "            'merchant_has_profile_picture',\n",
        "            'const']"
      ],
      "metadata": {
        "id": "tQdaC-eNjIpK"
      },
      "execution_count": 138,
      "outputs": []
    },
    {
      "cell_type": "code",
      "source": [
        "# ## train/test 데이터 분할\n",
        "# train = df.sample(frac=0.75,random_state=1)\n",
        "# test = df.drop(train.index)\n",
        "\n",
        "# # target 설정\n",
        "# target = 'units_sold'\n",
        "# y_train = train[target]\n",
        "# y_test = test[target]\n",
        "\n",
        "# # baseline\n",
        "# # target인 units_sold의 평균으로 일단 선정\n",
        "# predict = y_train.mean()\n",
        "# print(predict)\n",
        "\n",
        "target = 'units_sold'\n",
        "x = df[features]\n",
        "y = df[target]\n",
        "\n",
        "# 분할\n",
        "X_train ,X_test , y_train , y_test = train_test_split(x,y,train_size=0.7,test_size=0.3)\n",
        "print(X_train.shape, X_test.shape, y_train.shape, y_test.shape)"
      ],
      "metadata": {
        "id": "z7LcduDn4Qt7",
        "outputId": "bee54f26-b411-404b-83da-85cd06d690dd",
        "colab": {
          "base_uri": "https://localhost:8080/"
        }
      },
      "execution_count": 139,
      "outputs": [
        {
          "output_type": "stream",
          "name": "stdout",
          "text": [
            "(1019, 23) (438, 23) (1019,) (438,)\n"
          ]
        }
      ]
    },
    {
      "cell_type": "code",
      "source": [
        "X_train.info()"
      ],
      "metadata": {
        "id": "RVt8KcnoDWOT",
        "outputId": "7ae87e08-3f6b-4d52-df8e-3a424b6fc455",
        "colab": {
          "base_uri": "https://localhost:8080/"
        }
      },
      "execution_count": 140,
      "outputs": [
        {
          "output_type": "stream",
          "name": "stdout",
          "text": [
            "<class 'pandas.core.frame.DataFrame'>\n",
            "Int64Index: 1019 entries, 977 to 1555\n",
            "Data columns (total 23 columns):\n",
            " #   Column                        Non-Null Count  Dtype  \n",
            "---  ------                        --------------  -----  \n",
            " 0   price                         1019 non-null   float64\n",
            " 1   retail_price                  1019 non-null   int64  \n",
            " 2   uses_ad_boosts                1019 non-null   int64  \n",
            " 3   rating                        1019 non-null   float64\n",
            " 4   rating_count                  1019 non-null   int64  \n",
            " 5   rating_five_count             1019 non-null   float64\n",
            " 6   rating_four_count             1019 non-null   float64\n",
            " 7   rating_three_count            1019 non-null   float64\n",
            " 8   rating_two_count              1019 non-null   float64\n",
            " 9   rating_one_count              1019 non-null   float64\n",
            " 10  badges_count                  1019 non-null   int64  \n",
            " 11  badge_local_product           1019 non-null   int64  \n",
            " 12  badge_product_quality         1019 non-null   int64  \n",
            " 13  badge_fast_shipping           1019 non-null   int64  \n",
            " 14  product_variation_inventory   1019 non-null   int64  \n",
            " 15  shipping_option_price         1019 non-null   int64  \n",
            " 16  shipping_is_express           1019 non-null   int64  \n",
            " 17  countries_shipped_to          1019 non-null   int64  \n",
            " 18  inventory_total               1019 non-null   int64  \n",
            " 19  merchant_rating_count         1019 non-null   int64  \n",
            " 20  merchant_rating               1019 non-null   float64\n",
            " 21  merchant_has_profile_picture  1019 non-null   int64  \n",
            " 22  const                         1019 non-null   float64\n",
            "dtypes: float64(9), int64(14)\n",
            "memory usage: 191.1 KB\n"
          ]
        }
      ]
    },
    {
      "cell_type": "code",
      "source": [
        "#Train the MLR / 회귀모델적합\n",
        "Model = sm.OLS(y_train, X_train)\n",
        "FittedModel = Model.fit()\n",
        "\n",
        "print(FittedModel.summary())"
      ],
      "metadata": {
        "id": "2AT828-VocMW",
        "outputId": "a1b67956-2104-42b1-81a1-51caa4a8d638",
        "colab": {
          "base_uri": "https://localhost:8080/"
        }
      },
      "execution_count": 141,
      "outputs": [
        {
          "output_type": "stream",
          "name": "stdout",
          "text": [
            "                            OLS Regression Results                            \n",
            "==============================================================================\n",
            "Dep. Variable:             units_sold   R-squared:                       0.844\n",
            "Model:                            OLS   Adj. R-squared:                  0.841\n",
            "Method:                 Least Squares   F-statistic:                     283.7\n",
            "Date:                Mon, 04 Jul 2022   Prob (F-statistic):               0.00\n",
            "Time:                        16:47:54   Log-Likelihood:                -9880.2\n",
            "No. Observations:                1019   AIC:                         1.980e+04\n",
            "Df Residuals:                     999   BIC:                         1.990e+04\n",
            "Df Model:                          19                                         \n",
            "Covariance Type:            nonrobust                                         \n",
            "================================================================================================\n",
            "                                   coef    std err          t      P>|t|      [0.025      0.975]\n",
            "------------------------------------------------------------------------------------------------\n",
            "price                          -48.1070     70.957     -0.678      0.498    -187.349      91.135\n",
            "retail_price                    -5.4777      4.276     -1.281      0.200     -13.869       2.913\n",
            "uses_ad_boosts                 321.6187    257.319      1.250      0.212    -183.329     826.566\n",
            "rating                         319.3930    289.710      1.102      0.271    -249.117     887.903\n",
            "rating_count                     3.6332      0.812      4.474      0.000       2.040       5.227\n",
            "rating_five_count                0.1323      1.191      0.111      0.912      -2.205       2.470\n",
            "rating_four_count              -10.3905      3.353     -3.099      0.002     -16.970      -3.811\n",
            "rating_three_count              21.5219      7.238      2.974      0.003       7.319      35.725\n",
            "rating_two_count                -5.4215     10.949     -0.495      0.621     -26.908      16.065\n",
            "rating_one_count                -2.2091      4.288     -0.515      0.607     -10.623       6.205\n",
            "badges_count                   123.4751    404.921      0.305      0.760    -671.119     918.069\n",
            "badge_local_product            868.1139   1027.050      0.845      0.398   -1147.309    2883.537\n",
            "badge_product_quality          170.6116    543.552      0.314      0.754    -896.024    1237.247\n",
            "badge_fast_shipping           -915.2504   1261.515     -0.726      0.468   -3390.773    1560.272\n",
            "product_variation_inventory      6.7203      6.465      1.039      0.299      -5.966      19.407\n",
            "shipping_option_price           16.5501    270.604      0.061      0.951    -514.467     547.567\n",
            "shipping_is_express          -1.101e-12   2.78e-12     -0.396      0.692   -6.56e-12    4.36e-12\n",
            "countries_shipped_to            -4.4722      6.444     -0.694      0.488     -17.117       8.172\n",
            "inventory_total                -11.3309    128.784     -0.088      0.930    -264.049     241.387\n",
            "merchant_rating_count            0.0140      0.003      4.361      0.000       0.008       0.020\n",
            "merchant_rating               -695.4692    707.953     -0.982      0.326   -2084.715     693.776\n",
            "merchant_has_profile_picture  -320.6139    372.406     -0.861      0.389   -1051.401     410.173\n",
            "const                         2838.1899   7154.215      0.397      0.692   -1.12e+04    1.69e+04\n",
            "==============================================================================\n",
            "Omnibus:                      751.206   Durbin-Watson:                   2.056\n",
            "Prob(Omnibus):                  0.000   Jarque-Bera (JB):            69293.672\n",
            "Skew:                           2.621   Prob(JB):                         0.00\n",
            "Kurtosis:                      43.057   Cond. No.                     1.66e+22\n",
            "==============================================================================\n",
            "\n",
            "Warnings:\n",
            "[1] Standard Errors assume that the covariance matrix of the errors is correctly specified.\n",
            "[2] The smallest eigenvalue is 9.22e-33. This might indicate that there are\n",
            "strong multicollinearity problems or that the design matrix is singular.\n"
          ]
        }
      ]
    },
    {
      "cell_type": "markdown",
      "source": [
        "- 각 변수들의 p-value 값이 0.8, 0.6 이상이 되는 값들이 보이기에 다중공선성이 의심됩니다(통상 0.5이상이라면 다중공선성 확인). 또한 모델 summary 결과에서도 다중공선성(multicollinearity)이 의심된다는 결과가 나왔기에 VIF(분산팽창지수)를 확인해보았습니다. "
      ],
      "metadata": {
        "id": "hQAVLQ1kpNIp"
      }
    },
    {
      "cell_type": "code",
      "source": [
        "from statsmodels.stats.outliers_influence import variance_inflation_factor\n",
        "\n",
        "vif = pd.DataFrame()\n",
        "vif[\"VIF Factor\"] = [variance_inflation_factor(X_train.values,i) for i in range(X_train.shape[1])]\n",
        "vif[\"features\"] = X_train.columns\n",
        "print(vif)"
      ],
      "metadata": {
        "id": "98-FGcerjg9X",
        "outputId": "a46f7cc3-f632-461d-a0d5-fdd3dd33da2a",
        "colab": {
          "base_uri": "https://localhost:8080/"
        }
      },
      "execution_count": 142,
      "outputs": [
        {
          "output_type": "stream",
          "name": "stdout",
          "text": [
            "     VIF Factor                      features\n",
            "0      4.663913                         price\n",
            "1      1.154236                  retail_price\n",
            "2      1.060875                uses_ad_boosts\n",
            "3      1.250839                        rating\n",
            "4           inf                  rating_count\n",
            "5           inf             rating_five_count\n",
            "6           inf             rating_four_count\n",
            "7           inf            rating_three_count\n",
            "8           inf              rating_two_count\n",
            "9           inf              rating_one_count\n",
            "10          inf                  badges_count\n",
            "11          inf           badge_local_product\n",
            "12          inf         badge_product_quality\n",
            "13          inf           badge_fast_shipping\n",
            "14     1.252304   product_variation_inventory\n",
            "15     4.489941         shipping_option_price\n",
            "16          NaN           shipping_is_express\n",
            "17     1.054437          countries_shipped_to\n",
            "18     1.037244               inventory_total\n",
            "19     1.305460         merchant_rating_count\n",
            "20     1.223057               merchant_rating\n",
            "21     1.118532  merchant_has_profile_picture\n",
            "22  3306.608590                         const\n"
          ]
        }
      ]
    },
    {
      "cell_type": "markdown",
      "source": [
        "- vif값이 10이 넘으면 다중공선성을 의심합니다. 여기선 7개만을 제외하고 모두 10이 넘고, inf값까지 나온것을 볼 수 있습니다. 그렇기에 해당 값들을 drop하려 합니다."
      ],
      "metadata": {
        "id": "CXOOad0vrpBT"
      }
    },
    {
      "cell_type": "markdown",
      "source": [
        "### 변수 선택\n",
        "- 변수선택법으로는 전진선택법을 선택하였습니다.\n",
        "- 선택기준으로, AIC, BIC 등 중에서 실제값의 분포를 보려는 것이 아니라 예측을 하는 것이니 AIC를 선택하였습니다.\n",
        "- 관련 링크 \n",
        "  - https://aliencoder.tistory.com/24\n",
        "  - https://zephyrus1111.tistory.com/65"
      ],
      "metadata": {
        "id": "s0qs5DdTukeP"
      }
    },
    {
      "cell_type": "code",
      "source": [
        "# 변수선택을 위해서 타겟과 features가 함께 있는데이터로 구하자\n",
        "select = features\n",
        "select.append('units_sold')\n",
        "\n",
        "df_for_select = df[select]"
      ],
      "metadata": {
        "id": "VexWXmaTECMi"
      },
      "execution_count": 143,
      "outputs": []
    },
    {
      "cell_type": "code",
      "source": [
        "# ## 전진 선택법\n",
        "# def forward(df, target):\n",
        "#   variables = y_train ## 설명 변수 리스트\n",
        "  \n",
        "#   y = df[target] ## target\n",
        "#   selected_variables = [] ## 선택된 변수들\n",
        "#   sl_enter = 0.05 # 미리 설정한 a(최소 p-value)\n",
        "  \n",
        "#   sv_per_step = [] ## 각 스텝별로 선택된 변수들\n",
        "#   adjusted_r_squared = [] ## 각 스텝별 수정된 결정계수\n",
        "#   steps = [] ## 스텝\n",
        "#   step = 0\n",
        "#   while len(variables) > 0:\n",
        "#       remainder = list(set(variables) - set(selected_variables))\n",
        "#       pval = pd.Series(index=remainder) ## 변수의 p-value\n",
        "#       ## 기존에 포함된 변수와 새로운 변수 하나씩 돌아가면서 \n",
        "#       ## 선형 모형을 적합한다.\n",
        "#       for col in remainder: \n",
        "#           X = df[selected_variables+[col]]\n",
        "#           X = sm.add_constant(X)\n",
        "#           model = sm.OLS(y,X).fit() # 모델\n",
        "#           pval[col] = model.pvalues[col]\n",
        "  \n",
        "#       min_pval = pval.min()\n",
        "#       if min_pval < sl_enter: ## 최소 p-value 값이 기준 값보다 작으면 포함\n",
        "#           selected_variables.append(pval.idxmin())\n",
        "          \n",
        "#           step += 1\n",
        "#           steps.append(step)\n",
        "#           adj_r_squared = sm.OLS(y,sm.add_constant(df[selected_variables])).fit().rsquared_adj\n",
        "#           adjusted_r_squared.append(adj_r_squared)\n",
        "#           sv_per_step.append(selected_variables.copy())\n",
        "#       else:\n",
        "#           break\n",
        "#   return selected_variables"
      ],
      "metadata": {
        "id": "MljN06tzjgwQ"
      },
      "execution_count": 144,
      "outputs": []
    },
    {
      "cell_type": "code",
      "source": [
        "variables = df.columns[:-2].tolist()"
      ],
      "metadata": {
        "id": "wKT0XW4qjgqp"
      },
      "execution_count": 145,
      "outputs": []
    },
    {
      "cell_type": "code",
      "source": [
        "def forward_feature_selection(X_train, y_train, variables=X_train.columns.tolist() ):\n",
        "    import statsmodels.api as sm\n",
        "    import matplotlib.pyplot as plt\n",
        "    import warnings\n",
        "    warnings.filterwarnings(\"ignore\")\n",
        "    \n",
        "    y = y_train ## 반응 변수\n",
        "\n",
        "    selected_variables = [] ## 선택된 변수들\n",
        "    sl_enter = 0.05\n",
        "    sl_remove = 0.05\n",
        "    \n",
        "    sv_per_step = [] ## 각 스텝별로 선택된 변수들\n",
        "    adjusted_r_squared = [] ## 각 스텝별 수정된 결정계수\n",
        "    steps = [] ## 스텝\n",
        "    step = 0\n",
        "    while len(variables) > 0:\n",
        "        remainder = list(set(variables) - set(selected_variables))\n",
        "        pval = pd.Series(index=remainder) ## 변수의 p-value\n",
        "        ## 기존에 포함된 변수와 새로운 변수 하나씩 돌아가면서 \n",
        "        ## 선형 모형을 적합한다.\n",
        "        for col in remainder: \n",
        "            X = X_train[selected_variables+[col]]\n",
        "            X = sm.add_constant(X)\n",
        "            model = sm.OLS(y,X).fit(disp=0)\n",
        "            pval[col] = model.pvalues[col]\n",
        "    \n",
        "        min_pval = pval.min()\n",
        "        if min_pval < sl_enter: ## 최소 p-value 값이 기준 값보다 작으면 포함\n",
        "            selected_variables.append(pval.idxmin())\n",
        "            ## 선택된 변수들에대해서\n",
        "            ## 어떤 변수를 제거할지 고른다.\n",
        "            while len(selected_variables) > 0:\n",
        "                selected_X = X_train[selected_variables]\n",
        "                selected_X = sm.add_constant(selected_X)\n",
        "                selected_pval = sm.OLS(y,selected_X).fit(disp=0).pvalues[1:] ## 절편항의 p-value는 뺀다\n",
        "                max_pval = selected_pval.max()\n",
        "                if max_pval >= sl_remove: ## 최대 p-value값이 기준값보다 크거나 같으면 제외\n",
        "                    remove_variable = selected_pval.idxmax()\n",
        "                    selected_variables.remove(remove_variable)\n",
        "                else:\n",
        "                    break\n",
        "            \n",
        "            step += 1\n",
        "            steps.append(step)\n",
        "            adj_r_squared = sm.OLS(y,sm.add_constant(X_train[selected_variables])).fit(disp=0).rsquared_adj\n",
        "            adjusted_r_squared.append(adj_r_squared)\n",
        "            sv_per_step.append(selected_variables.copy())\n",
        "        else:\n",
        "            break\n",
        "    return selected_variables"
      ],
      "metadata": {
        "id": "j_Ij0793FxVT"
      },
      "execution_count": 146,
      "outputs": []
    },
    {
      "cell_type": "code",
      "source": [
        "selected_variables = forward_feature_selection(X_train, y_train)"
      ],
      "metadata": {
        "id": "vPvthdadFxTc"
      },
      "execution_count": 147,
      "outputs": []
    },
    {
      "cell_type": "code",
      "source": [
        "selected_variables"
      ],
      "metadata": {
        "id": "5ILJHQAmFxRU",
        "outputId": "59964ae7-4261-4e45-a109-ed4f519e7fbc",
        "colab": {
          "base_uri": "https://localhost:8080/"
        }
      },
      "execution_count": 148,
      "outputs": [
        {
          "output_type": "execute_result",
          "data": {
            "text/plain": [
              "['rating_five_count',\n",
              " 'rating_three_count',\n",
              " 'const',\n",
              " 'merchant_rating_count',\n",
              " 'rating_four_count']"
            ]
          },
          "metadata": {},
          "execution_count": 148
        }
      ]
    },
    {
      "cell_type": "code",
      "source": [
        "model_2 = sm.OLS(y_train, sm.add_constant(pd.DataFrame(X_train[selected_variables]))).fit(disp=0)\n",
        "print(model_2.summary())"
      ],
      "metadata": {
        "id": "E4A9Q3yIFxPA",
        "outputId": "466d5f4a-1e93-4e13-a1bb-92ecdf981087",
        "colab": {
          "base_uri": "https://localhost:8080/"
        }
      },
      "execution_count": 149,
      "outputs": [
        {
          "output_type": "stream",
          "name": "stdout",
          "text": [
            "                            OLS Regression Results                            \n",
            "==============================================================================\n",
            "Dep. Variable:             units_sold   R-squared:                       0.842\n",
            "Model:                            OLS   Adj. R-squared:                  0.841\n",
            "Method:                 Least Squares   F-statistic:                     1352.\n",
            "Date:                Mon, 04 Jul 2022   Prob (F-statistic):               0.00\n",
            "Time:                        16:47:55   Log-Likelihood:                -9885.2\n",
            "No. Observations:                1019   AIC:                         1.978e+04\n",
            "Df Residuals:                    1014   BIC:                         1.981e+04\n",
            "Df Model:                           4                                         \n",
            "Covariance Type:            nonrobust                                         \n",
            "=========================================================================================\n",
            "                            coef    std err          t      P>|t|      [0.025      0.975]\n",
            "-----------------------------------------------------------------------------------------\n",
            "rating_five_count         4.0387      0.780      5.176      0.000       2.508       5.570\n",
            "rating_three_count       25.7727      2.366     10.893      0.000      21.130      30.415\n",
            "const                   406.5096    143.667      2.830      0.005     124.592     688.427\n",
            "merchant_rating_count     0.0127      0.003      4.146      0.000       0.007       0.019\n",
            "rating_four_count        -7.8297      3.329     -2.352      0.019     -14.362      -1.297\n",
            "==============================================================================\n",
            "Omnibus:                      755.488   Durbin-Watson:                   2.051\n",
            "Prob(Omnibus):                  0.000   Jarque-Bera (JB):            70543.277\n",
            "Skew:                           2.642   Prob(JB):                         0.00\n",
            "Kurtosis:                      43.417   Cond. No.                     5.79e+04\n",
            "==============================================================================\n",
            "\n",
            "Warnings:\n",
            "[1] Standard Errors assume that the covariance matrix of the errors is correctly specified.\n",
            "[2] The condition number is large, 5.79e+04. This might indicate that there are\n",
            "strong multicollinearity or other numerical problems.\n"
          ]
        }
      ]
    },
    {
      "cell_type": "code",
      "source": [
        ""
      ],
      "metadata": {
        "id": "uhGnaRFEFxNB"
      },
      "execution_count": 149,
      "outputs": []
    },
    {
      "cell_type": "markdown",
      "source": [
        "### 할 일\n",
        "- 과대적합, 과소적합 확인 후 릿지, 라쏘 사용 이유 찾기\n",
        "- 이후 릿지 라쏘 적용."
      ],
      "metadata": {
        "id": "I2HODJ9lHVOG"
      }
    },
    {
      "cell_type": "code",
      "source": [
        ""
      ],
      "metadata": {
        "id": "Sd1d_K0fHgE2"
      },
      "execution_count": null,
      "outputs": []
    }
  ]
}