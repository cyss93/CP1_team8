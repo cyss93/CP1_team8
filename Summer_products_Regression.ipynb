{
  "nbformat": 4,
  "nbformat_minor": 0,
  "metadata": {
    "colab": {
      "name": "Summer_products.ipynb",
      "provenance": [],
      "authorship_tag": "ABX9TyNfnaLbip0/K+f2niTAQrjL",
      "include_colab_link": true
    },
    "kernelspec": {
      "name": "python3",
      "display_name": "Python 3"
    },
    "language_info": {
      "name": "python"
    }
  },
  "cells": [
    {
      "cell_type": "markdown",
      "metadata": {
        "id": "view-in-github",
        "colab_type": "text"
      },
      "source": [
        "<a href=\"https://colab.research.google.com/github/cyss93/CP1_team8/blob/%EC%98%A4%EC%B0%BD%EC%98%81/Summer_products_Regression.ipynb\" target=\"_parent\"><img src=\"https://colab.research.google.com/assets/colab-badge.svg\" alt=\"Open In Colab\"/></a>"
      ]
    },
    {
      "cell_type": "code",
      "execution_count": 1,
      "metadata": {
        "id": "JvBNLGyNSqoQ",
        "outputId": "5896fd57-0a88-4a28-b991-10e13477839a",
        "colab": {
          "base_uri": "https://localhost:8080/"
        }
      },
      "outputs": [
        {
          "output_type": "stream",
          "name": "stderr",
          "text": [
            "/usr/local/lib/python3.7/dist-packages/statsmodels/tools/_testing.py:19: FutureWarning: pandas.util.testing is deprecated. Use the functions in the public API at pandas.testing instead.\n",
            "  import pandas.util.testing as tm\n"
          ]
        }
      ],
      "source": [
        "import pandas as pd\n",
        "import numpy as np\n",
        "from sklearn.metrics import  mean_squared_error, mean_absolute_error, r2_score\n",
        "from IPython.display import display\n",
        "from sklearn.model_selection import train_test_split\n",
        "\n",
        "from matplotlib import style\n",
        "import matplotlib.pyplot as plt\n",
        "\n",
        "import statsmodels.api as sm\n",
        "from sklearn.linear_model import LinearRegression\n",
        "\n",
        "from sklearn.linear_model import Ridge\n",
        "\n",
        "\n",
        "import time\n",
        "import itertools"
      ]
    },
    {
      "cell_type": "code",
      "source": [
        "df = pd.read_csv('summer-products-with-rating-and-performance_2020-08.csv')"
      ],
      "metadata": {
        "id": "HS2ew79STQLI"
      },
      "execution_count": 2,
      "outputs": []
    },
    {
      "cell_type": "markdown",
      "source": [
        "- 변수 정리\n",
        " 'title' = \n",
        " 'title_orig',\n",
        " 'price',\n",
        " 'retail_price',\n",
        " 'currency_buyer',\n",
        " 'units_sold',\n",
        " 'uses_ad_boosts',\n",
        " 'rating',\n",
        " 'rating_count',\n",
        " 'rating_five_count',\n",
        " 'rating_four_count',\n",
        " 'rating_three_count',\n",
        " 'rating_two_count',\n",
        " 'rating_one_count',\n",
        " 'badges_count',\n",
        " 'badge_local_product',\n",
        " 'badge_product_quality',\n",
        " 'badge_fast_shipping',\n",
        " 'tags',\n",
        " 'product_color',\n",
        " 'product_variation_size_id',\n",
        " 'product_variation_inventory',\n",
        " 'shipping_option_name',\n",
        " 'shipping_option_price',\n",
        " 'shipping_is_express',\n",
        " 'countries_shipped_to',\n",
        " 'inventory_total',\n",
        " 'has_urgency_banner',\n",
        " 'urgency_text',\n",
        " 'origin_country',\n",
        " 'merchant_title',\n",
        " 'merchant_name',\n",
        " 'merchant_info_subtitle',\n",
        " 'merchant_rating_count',\n",
        " 'merchant_rating',\n",
        " 'merchant_id',\n",
        " 'merchant_has_profile_picture',\n",
        " 'merchant_profile_picture',\n",
        " 'product_url',\n",
        " 'product_picture',\n",
        " 'product_id',\n",
        " 'theme',\n",
        " 'crawl_month'"
      ],
      "metadata": {
        "id": "JdNcrJWoD3ut"
      }
    },
    {
      "cell_type": "code",
      "source": [
        "df.isna().sum()"
      ],
      "metadata": {
        "id": "gOnXtmRF3bnt",
        "outputId": "2cb1de75-3f0e-4f99-8ee0-be270a0d8be1",
        "colab": {
          "base_uri": "https://localhost:8080/"
        }
      },
      "execution_count": 3,
      "outputs": [
        {
          "output_type": "execute_result",
          "data": {
            "text/plain": [
              "title                              0\n",
              "title_orig                         0\n",
              "price                              0\n",
              "retail_price                       0\n",
              "currency_buyer                     0\n",
              "units_sold                         0\n",
              "uses_ad_boosts                     0\n",
              "rating                             0\n",
              "rating_count                       0\n",
              "rating_five_count                 45\n",
              "rating_four_count                 45\n",
              "rating_three_count                45\n",
              "rating_two_count                  45\n",
              "rating_one_count                  45\n",
              "badges_count                       0\n",
              "badge_local_product                0\n",
              "badge_product_quality              0\n",
              "badge_fast_shipping                0\n",
              "tags                               0\n",
              "product_color                     41\n",
              "product_variation_size_id         14\n",
              "product_variation_inventory        0\n",
              "shipping_option_name               0\n",
              "shipping_option_price              0\n",
              "shipping_is_express                0\n",
              "countries_shipped_to               0\n",
              "inventory_total                    0\n",
              "has_urgency_banner              1100\n",
              "urgency_text                    1100\n",
              "origin_country                    17\n",
              "merchant_title                     0\n",
              "merchant_name                      4\n",
              "merchant_info_subtitle             1\n",
              "merchant_rating_count              0\n",
              "merchant_rating                    0\n",
              "merchant_id                        0\n",
              "merchant_has_profile_picture       0\n",
              "merchant_profile_picture        1347\n",
              "product_url                        0\n",
              "product_picture                    0\n",
              "product_id                         0\n",
              "theme                              0\n",
              "crawl_month                        0\n",
              "dtype: int64"
            ]
          },
          "metadata": {},
          "execution_count": 3
        }
      ]
    },
    {
      "cell_type": "code",
      "source": [
        "# 결측값 있는 행 제거\n",
        "# has_urgency_banner, urgency_text, merchant_profile_picture 이 세 컬럼은 결측값의 비율이 너무 높기때문에 drop\n",
        "df.drop(columns = ['has_urgency_banner', 'urgency_text', 'merchant_profile_picture'], inplace = True)"
      ],
      "metadata": {
        "id": "OQsdHcsz4BlB"
      },
      "execution_count": 4,
      "outputs": []
    },
    {
      "cell_type": "code",
      "source": [
        "# 결측값 있는 행 제거\n",
        "df.dropna(axis = 0, inplace = True)"
      ],
      "metadata": {
        "id": "EYoKMOzb4inY"
      },
      "execution_count": 5,
      "outputs": []
    },
    {
      "cell_type": "code",
      "source": [
        "df.isna().sum()"
      ],
      "metadata": {
        "id": "69rhbNbD4Tpg",
        "outputId": "6015f1fb-3d2f-45fd-cb21-99ad77a52505",
        "colab": {
          "base_uri": "https://localhost:8080/"
        }
      },
      "execution_count": 6,
      "outputs": [
        {
          "output_type": "execute_result",
          "data": {
            "text/plain": [
              "title                           0\n",
              "title_orig                      0\n",
              "price                           0\n",
              "retail_price                    0\n",
              "currency_buyer                  0\n",
              "units_sold                      0\n",
              "uses_ad_boosts                  0\n",
              "rating                          0\n",
              "rating_count                    0\n",
              "rating_five_count               0\n",
              "rating_four_count               0\n",
              "rating_three_count              0\n",
              "rating_two_count                0\n",
              "rating_one_count                0\n",
              "badges_count                    0\n",
              "badge_local_product             0\n",
              "badge_product_quality           0\n",
              "badge_fast_shipping             0\n",
              "tags                            0\n",
              "product_color                   0\n",
              "product_variation_size_id       0\n",
              "product_variation_inventory     0\n",
              "shipping_option_name            0\n",
              "shipping_option_price           0\n",
              "shipping_is_express             0\n",
              "countries_shipped_to            0\n",
              "inventory_total                 0\n",
              "origin_country                  0\n",
              "merchant_title                  0\n",
              "merchant_name                   0\n",
              "merchant_info_subtitle          0\n",
              "merchant_rating_count           0\n",
              "merchant_rating                 0\n",
              "merchant_id                     0\n",
              "merchant_has_profile_picture    0\n",
              "product_url                     0\n",
              "product_picture                 0\n",
              "product_id                      0\n",
              "theme                           0\n",
              "crawl_month                     0\n",
              "dtype: int64"
            ]
          },
          "metadata": {},
          "execution_count": 6
        }
      ]
    },
    {
      "cell_type": "code",
      "source": [
        "df.info()"
      ],
      "metadata": {
        "id": "GrUm9xKkmWP7",
        "outputId": "b4a620e1-9628-41d3-e9f0-7f9d25309573",
        "colab": {
          "base_uri": "https://localhost:8080/"
        }
      },
      "execution_count": 7,
      "outputs": [
        {
          "output_type": "stream",
          "name": "stdout",
          "text": [
            "<class 'pandas.core.frame.DataFrame'>\n",
            "Int64Index: 1457 entries, 0 to 1572\n",
            "Data columns (total 40 columns):\n",
            " #   Column                        Non-Null Count  Dtype  \n",
            "---  ------                        --------------  -----  \n",
            " 0   title                         1457 non-null   object \n",
            " 1   title_orig                    1457 non-null   object \n",
            " 2   price                         1457 non-null   float64\n",
            " 3   retail_price                  1457 non-null   int64  \n",
            " 4   currency_buyer                1457 non-null   object \n",
            " 5   units_sold                    1457 non-null   int64  \n",
            " 6   uses_ad_boosts                1457 non-null   int64  \n",
            " 7   rating                        1457 non-null   float64\n",
            " 8   rating_count                  1457 non-null   int64  \n",
            " 9   rating_five_count             1457 non-null   float64\n",
            " 10  rating_four_count             1457 non-null   float64\n",
            " 11  rating_three_count            1457 non-null   float64\n",
            " 12  rating_two_count              1457 non-null   float64\n",
            " 13  rating_one_count              1457 non-null   float64\n",
            " 14  badges_count                  1457 non-null   int64  \n",
            " 15  badge_local_product           1457 non-null   int64  \n",
            " 16  badge_product_quality         1457 non-null   int64  \n",
            " 17  badge_fast_shipping           1457 non-null   int64  \n",
            " 18  tags                          1457 non-null   object \n",
            " 19  product_color                 1457 non-null   object \n",
            " 20  product_variation_size_id     1457 non-null   object \n",
            " 21  product_variation_inventory   1457 non-null   int64  \n",
            " 22  shipping_option_name          1457 non-null   object \n",
            " 23  shipping_option_price         1457 non-null   int64  \n",
            " 24  shipping_is_express           1457 non-null   int64  \n",
            " 25  countries_shipped_to          1457 non-null   int64  \n",
            " 26  inventory_total               1457 non-null   int64  \n",
            " 27  origin_country                1457 non-null   object \n",
            " 28  merchant_title                1457 non-null   object \n",
            " 29  merchant_name                 1457 non-null   object \n",
            " 30  merchant_info_subtitle        1457 non-null   object \n",
            " 31  merchant_rating_count         1457 non-null   int64  \n",
            " 32  merchant_rating               1457 non-null   float64\n",
            " 33  merchant_id                   1457 non-null   object \n",
            " 34  merchant_has_profile_picture  1457 non-null   int64  \n",
            " 35  product_url                   1457 non-null   object \n",
            " 36  product_picture               1457 non-null   object \n",
            " 37  product_id                    1457 non-null   object \n",
            " 38  theme                         1457 non-null   object \n",
            " 39  crawl_month                   1457 non-null   object \n",
            "dtypes: float64(8), int64(15), object(17)\n",
            "memory usage: 466.7+ KB\n"
          ]
        }
      ]
    },
    {
      "cell_type": "code",
      "source": [
        "# 제외 변수들\n",
        "# 첫번째 제외 변수: title, title_orig, currency_buyer, tags, product_color, product_variation_size_id\n",
        "# 제외 변수중 고려해볼 만 한 변수\n",
        "## tags(인코딩 활용. 인코딩 활용시 컬럼이 과하게 늘어난다. 주의), product_variation_size_id\n",
        "## shipping_option_name: 프랑스어와 아랍어? 등 뒤죽박죽\n",
        "## urgency_text: 품절임박! 같은 건데, 프랑스어로 되어있다. 일단은 빼고 이후에 원핫인코딩해서 넣어보자 (missing 값이 1100개이다. 유의할 것)\n",
        "## origin_country: 이것도 원핫인코딩해서 적용 가능\n",
        "## merchant_title: 판매자 이름 우선 제외\n",
        "## merchant_name, merchant_id: 위와 동일\n",
        "## merchant_info_subtitle: 판매자 정보 글. 일단 제외. 배지 여부와 다른 변수로도 판단 가능?\n",
        "## merchant_profile_picture: 판매자 사진 링크\n",
        "## product_url, product_picture: 링크 데이터\n",
        "## product_id: 제품 키\n",
        "## theme: 해당 제품들을 찾기위해 검색한 검색어. summer로 모두 동일해서 제외\n",
        "## crawl_month: 크롤링 날짜라서 제외\n",
        "## has_urgency_banner: 결측값이 많아서 일단 제외 (결측값이 아마 없다는 뜻?) (1000개 이상의 결측값)\n",
        "## rating_five_count + rating_four_count + rating_three_count + rating_two_count + rating_one_count : 결측값이 많음 (36개)"
      ],
      "metadata": {
        "id": "bQ6OH7sUmx_F"
      },
      "execution_count": 8,
      "outputs": []
    },
    {
      "cell_type": "code",
      "source": [
        "# 상수항 추가. 실행이 될 때마다 추가되기 때문에 독립된 셀로 위에 빼두었습니다.\n",
        "df = sm.add_constant(df,has_constant=\"add\")"
      ],
      "metadata": {
        "id": "k-hXXvmhyuB6",
        "outputId": "4499b243-1320-485c-c70b-5c2052288025",
        "colab": {
          "base_uri": "https://localhost:8080/"
        }
      },
      "execution_count": 9,
      "outputs": [
        {
          "output_type": "stream",
          "name": "stderr",
          "text": [
            "/usr/local/lib/python3.7/dist-packages/statsmodels/tsa/tsatools.py:117: FutureWarning: In a future version of pandas all arguments of concat except for the argument 'objs' will be keyword-only\n",
            "  x = pd.concat(x[::order], 1)\n"
          ]
        }
      ]
    },
    {
      "cell_type": "code",
      "source": [
        "# 다중모델 학습을 위한 특성\n",
        "features = ['price',\n",
        "            'retail_price',\n",
        "            'uses_ad_boosts',\n",
        "            'rating',\n",
        "            'rating_count',\n",
        "            'rating_five_count',\n",
        "            'rating_four_count',\n",
        "            'rating_three_count',\n",
        "            'rating_two_count',\n",
        "            'rating_one_count',\n",
        "            'badges_count',\n",
        "            'badge_local_product',\n",
        "            'badge_product_quality',\n",
        "            'badge_fast_shipping',\n",
        "            'product_variation_inventory',\n",
        "            'shipping_option_price',\n",
        "            'shipping_is_express',\n",
        "            'countries_shipped_to',\n",
        "            'inventory_total',\n",
        "            'merchant_rating_count',\n",
        "            'merchant_rating',\n",
        "            'merchant_has_profile_picture',\n",
        "            'const']"
      ],
      "metadata": {
        "id": "tQdaC-eNjIpK"
      },
      "execution_count": 10,
      "outputs": []
    },
    {
      "cell_type": "code",
      "source": [
        "target = 'units_sold'\n",
        "x = df[features]\n",
        "y = df[target]\n",
        "\n",
        "# 분할\n",
        "X_train ,X_test , y_train , y_test = train_test_split(x,y,train_size=0.7,test_size=0.3)\n",
        "print(X_train.shape, X_test.shape, y_train.shape, y_test.shape)"
      ],
      "metadata": {
        "id": "z7LcduDn4Qt7",
        "outputId": "7685bfc8-00b6-411d-dd24-a976e71c707d",
        "colab": {
          "base_uri": "https://localhost:8080/"
        }
      },
      "execution_count": 11,
      "outputs": [
        {
          "output_type": "stream",
          "name": "stdout",
          "text": [
            "(1019, 23) (438, 23) (1019,) (438,)\n"
          ]
        }
      ]
    },
    {
      "cell_type": "code",
      "source": [
        "#Train the MLR / 회귀모델적합\n",
        "Model = sm.OLS(y_train, X_train)\n",
        "FittedModel = Model.fit()\n",
        "\n",
        "print(FittedModel.summary())"
      ],
      "metadata": {
        "id": "2AT828-VocMW",
        "outputId": "a51a2685-af41-4b18-86e8-ab2329645f72",
        "colab": {
          "base_uri": "https://localhost:8080/"
        }
      },
      "execution_count": 12,
      "outputs": [
        {
          "output_type": "stream",
          "name": "stdout",
          "text": [
            "                            OLS Regression Results                            \n",
            "==============================================================================\n",
            "Dep. Variable:             units_sold   R-squared:                       0.812\n",
            "Model:                            OLS   Adj. R-squared:                  0.808\n",
            "Method:                 Least Squares   F-statistic:                     215.3\n",
            "Date:                Tue, 05 Jul 2022   Prob (F-statistic):               0.00\n",
            "Time:                        10:17:44   Log-Likelihood:                -9857.9\n",
            "No. Observations:                1019   AIC:                         1.976e+04\n",
            "Df Residuals:                     998   BIC:                         1.986e+04\n",
            "Df Model:                          20                                         \n",
            "Covariance Type:            nonrobust                                         \n",
            "================================================================================================\n",
            "                                   coef    std err          t      P>|t|      [0.025      0.975]\n",
            "------------------------------------------------------------------------------------------------\n",
            "price                          -63.2542     69.899     -0.905      0.366    -200.420      73.911\n",
            "retail_price                    -4.8886      4.125     -1.185      0.236     -12.983       3.206\n",
            "uses_ad_boosts                 157.8722    251.525      0.628      0.530    -335.707     651.452\n",
            "rating                         300.0733    278.327      1.078      0.281    -246.100     846.246\n",
            "rating_count                     2.8114      0.801      3.509      0.000       1.239       4.384\n",
            "rating_five_count                1.9281      1.162      1.660      0.097      -0.351       4.208\n",
            "rating_four_count              -14.3161      3.239     -4.419      0.000     -20.673      -7.959\n",
            "rating_three_count              23.8914      7.239      3.301      0.001       9.687      38.096\n",
            "rating_two_count               -13.9741     10.803     -1.294      0.196     -35.173       7.225\n",
            "rating_one_count                 5.2822      4.288      1.232      0.218      -3.132      13.696\n",
            "badges_count                  -620.0301    420.124     -1.476      0.140   -1444.457     204.397\n",
            "badge_local_product           1391.2835    907.303      1.533      0.125    -389.158    3171.725\n",
            "badge_product_quality          425.9100    561.591      0.758      0.448    -676.125    1527.945\n",
            "badge_fast_shipping          -2437.2236   1132.943     -2.151      0.032   -4660.447    -214.000\n",
            "product_variation_inventory      7.3329      6.375      1.150      0.250      -5.176      19.842\n",
            "shipping_option_price           96.2646    266.645      0.361      0.718    -426.984     619.513\n",
            "shipping_is_express           1361.2414   4406.624      0.309      0.757   -7286.070       1e+04\n",
            "countries_shipped_to            -9.4136      6.157     -1.529      0.127     -21.495       2.668\n",
            "inventory_total                  5.1831     68.631      0.076      0.940    -129.494     139.860\n",
            "merchant_rating_count            0.0080      0.003      2.500      0.013       0.002       0.014\n",
            "merchant_rating                298.4725    681.376      0.438      0.661   -1038.622    1635.567\n",
            "merchant_has_profile_picture   305.6438    361.609      0.845      0.398    -403.958    1015.245\n",
            "const                        -1575.0891   4523.479     -0.348      0.728   -1.05e+04    7301.533\n",
            "==============================================================================\n",
            "Omnibus:                      862.647   Durbin-Watson:                   1.968\n",
            "Prob(Omnibus):                  0.000   Jarque-Bera (JB):            96984.922\n",
            "Skew:                           3.240   Prob(JB):                         0.00\n",
            "Kurtosis:                      50.352   Cond. No.                     7.16e+20\n",
            "==============================================================================\n",
            "\n",
            "Warnings:\n",
            "[1] Standard Errors assume that the covariance matrix of the errors is correctly specified.\n",
            "[2] The smallest eigenvalue is 4.62e-30. This might indicate that there are\n",
            "strong multicollinearity problems or that the design matrix is singular.\n"
          ]
        }
      ]
    },
    {
      "cell_type": "markdown",
      "source": [
        "- 각 변수들의 p-value 값이 0.8, 0.6 이상이 되는 값들이 보이기에 다중공선성이 의심됩니다(통상 0.5이상이라면 다중공선성 확인). 또한 모델 summary 결과에서도 다중공선성(multicollinearity)이 의심된다는 결과가 나왔기에 VIF(분산팽창지수)를 확인해보았습니다. "
      ],
      "metadata": {
        "id": "hQAVLQ1kpNIp"
      }
    },
    {
      "cell_type": "code",
      "source": [
        "from statsmodels.stats.outliers_influence import variance_inflation_factor\n",
        "\n",
        "vif = pd.DataFrame()\n",
        "vif[\"VIF Factor\"] = [variance_inflation_factor(X_train.values,i) for i in range(X_train.shape[1])]\n",
        "vif[\"features\"] = X_train.columns\n",
        "print(vif)"
      ],
      "metadata": {
        "id": "98-FGcerjg9X",
        "outputId": "9ebe8ba4-fee9-4591-b858-5a41cfc4be98",
        "colab": {
          "base_uri": "https://localhost:8080/"
        }
      },
      "execution_count": 13,
      "outputs": [
        {
          "output_type": "stream",
          "name": "stderr",
          "text": [
            "/usr/local/lib/python3.7/dist-packages/statsmodels/stats/outliers_influence.py:185: RuntimeWarning: divide by zero encountered in double_scalars\n",
            "  vif = 1. / (1. - r_squared_i)\n"
          ]
        },
        {
          "output_type": "stream",
          "name": "stdout",
          "text": [
            "     VIF Factor                      features\n",
            "0      4.580933                         price\n",
            "1      1.139066                  retail_price\n",
            "2      1.052294                uses_ad_boosts\n",
            "3      1.223069                        rating\n",
            "4           inf                  rating_count\n",
            "5           inf             rating_five_count\n",
            "6           inf             rating_four_count\n",
            "7           inf            rating_three_count\n",
            "8           inf              rating_two_count\n",
            "9           inf              rating_one_count\n",
            "10          inf                  badges_count\n",
            "11          inf           badge_local_product\n",
            "12          inf         badge_product_quality\n",
            "13          inf           badge_fast_shipping\n",
            "14     1.237303   product_variation_inventory\n",
            "15     4.496709         shipping_option_price\n",
            "16     1.283536           shipping_is_express\n",
            "17     1.060418          countries_shipped_to\n",
            "18     1.031599               inventory_total\n",
            "19     1.261943         merchant_rating_count\n",
            "20     1.224694               merchant_rating\n",
            "21     1.112817  merchant_has_profile_picture\n",
            "22  1379.564080                         const\n"
          ]
        }
      ]
    },
    {
      "cell_type": "markdown",
      "source": [
        "- vif값이 10이 넘으면 다중공선성을 의심합니다. 여기선 7개만을 제외하고 모두 10이 넘고, inf값까지 나온것을 볼 수 있습니다. 그렇기에 해당 값들을 drop하려 합니다."
      ],
      "metadata": {
        "id": "CXOOad0vrpBT"
      }
    },
    {
      "cell_type": "code",
      "source": [
        "# 다중공선성 제외 1\n",
        "# 다중공선성 제외 특성\n",
        "features_after_vif = ['price',\n",
        "                      'retail_price',\n",
        "                      'uses_ad_boosts',\n",
        "                      'rating_count',\n",
        "                      'badge_product_quality',\n",
        "                      'badge_fast_shipping',\n",
        "                      'product_variation_inventory',\n",
        "                      'countries_shipped_to',\n",
        "                      'merchant_rating_count',\n",
        "                      'merchant_rating',\n",
        "                      'merchant_has_profile_picture',\n",
        "                      'const']\n",
        "\n",
        "\n",
        "target = 'units_sold'\n",
        "x = df[features_after_vif]\n",
        "y = df[target]\n",
        "\n",
        "# 분할\n",
        "X_train ,X_test , y_train , y_test = train_test_split(x,y,train_size=0.7,test_size=0.3)\n",
        "print(X_train.shape, X_test.shape, y_train.shape, y_test.shape)\n",
        "\n",
        "#Train the MLR / 회귀모델적합\n",
        "Model = sm.OLS(y_train, X_train)\n",
        "FittedModel = Model.fit()\n",
        "\n",
        "print(FittedModel.summary())\n",
        "\n",
        "# 에러\n",
        "y_pred = FittedModel.predict(X_test)\n",
        "\n",
        "# 평가지표 계산\n",
        "print('평가지표')\n",
        "mse = mean_squared_error(y_test, y_pred)\n",
        "mae = mean_absolute_error(y_test, y_pred)\n",
        "rmse = mse ** 0.5\n",
        "r2 = r2_score(y_test, y_pred)\n",
        "display(pd.DataFrame([['MSE', mse],['MAE', mae],['RMSE', rmse],['R2', r2]], columns=['Metric', 'Score']))\n",
        "\n",
        "\n",
        "# VIF 계산\n",
        "vif = pd.DataFrame()\n",
        "vif[\"VIF Factor\"] = [variance_inflation_factor(X_train.values,i) for i in range(X_train.shape[1])]\n",
        "vif[\"features\"] = X_train.columns\n",
        "print(vif)"
      ],
      "metadata": {
        "colab": {
          "base_uri": "https://localhost:8080/",
          "height": 1000
        },
        "id": "9tJAh45e84so",
        "outputId": "1f67b95e-2c3b-4ef8-ab41-79b9657b77fc"
      },
      "execution_count": 14,
      "outputs": [
        {
          "output_type": "stream",
          "name": "stdout",
          "text": [
            "(1019, 12) (438, 12) (1019,) (438,)\n",
            "                            OLS Regression Results                            \n",
            "==============================================================================\n",
            "Dep. Variable:             units_sold   R-squared:                       0.842\n",
            "Model:                            OLS   Adj. R-squared:                  0.840\n",
            "Method:                 Least Squares   F-statistic:                     486.3\n",
            "Date:                Tue, 05 Jul 2022   Prob (F-statistic):               0.00\n",
            "Time:                        10:17:44   Log-Likelihood:                -9794.7\n",
            "No. Observations:                1019   AIC:                         1.961e+04\n",
            "Df Residuals:                    1007   BIC:                         1.967e+04\n",
            "Df Model:                          11                                         \n",
            "Covariance Type:            nonrobust                                         \n",
            "================================================================================================\n",
            "                                   coef    std err          t      P>|t|      [0.025      0.975]\n",
            "------------------------------------------------------------------------------------------------\n",
            "price                          -30.0924     32.632     -0.922      0.357     -94.127      33.942\n",
            "retail_price                   -13.0250      3.930     -3.315      0.001     -20.736      -5.314\n",
            "uses_ad_boosts                 267.1572    233.984      1.142      0.254    -191.995     726.309\n",
            "rating_count                     4.3691      0.063     69.303      0.000       4.245       4.493\n",
            "badge_product_quality         -704.1387    452.412     -1.556      0.120   -1591.918     183.640\n",
            "badge_fast_shipping          -1965.7324   1002.245     -1.961      0.050   -3932.460       0.995\n",
            "product_variation_inventory     12.1709      5.869      2.074      0.038       0.654      23.687\n",
            "countries_shipped_to            -5.8395      5.823     -1.003      0.316     -17.266       5.587\n",
            "merchant_rating_count            0.0033      0.002      2.173      0.030       0.000       0.006\n",
            "merchant_rating               -293.3069    633.062     -0.463      0.643   -1535.579     948.965\n",
            "merchant_has_profile_picture   -96.1836    332.434     -0.289      0.772    -748.526     556.159\n",
            "const                         2011.8006   2522.992      0.797      0.425   -2939.123    6962.725\n",
            "==============================================================================\n",
            "Omnibus:                      377.460   Durbin-Watson:                   1.947\n",
            "Prob(Omnibus):                  0.000   Jarque-Bera (JB):            29474.652\n",
            "Skew:                           0.774   Prob(JB):                         0.00\n",
            "Kurtosis:                      29.302   Cond. No.                     1.89e+06\n",
            "==============================================================================\n",
            "\n",
            "Warnings:\n",
            "[1] Standard Errors assume that the covariance matrix of the errors is correctly specified.\n",
            "[2] The condition number is large, 1.89e+06. This might indicate that there are\n",
            "strong multicollinearity or other numerical problems.\n",
            "평가지표\n"
          ]
        },
        {
          "output_type": "display_data",
          "data": {
            "text/plain": [
              "  Metric         Score\n",
              "0    MSE  1.898223e+07\n",
              "1    MAE  1.879053e+03\n",
              "2   RMSE  4.356860e+03\n",
              "3     R2  7.609577e-01"
            ],
            "text/html": [
              "\n",
              "  <div id=\"df-92062d61-2c01-4545-b851-3a1b334364df\">\n",
              "    <div class=\"colab-df-container\">\n",
              "      <div>\n",
              "<style scoped>\n",
              "    .dataframe tbody tr th:only-of-type {\n",
              "        vertical-align: middle;\n",
              "    }\n",
              "\n",
              "    .dataframe tbody tr th {\n",
              "        vertical-align: top;\n",
              "    }\n",
              "\n",
              "    .dataframe thead th {\n",
              "        text-align: right;\n",
              "    }\n",
              "</style>\n",
              "<table border=\"1\" class=\"dataframe\">\n",
              "  <thead>\n",
              "    <tr style=\"text-align: right;\">\n",
              "      <th></th>\n",
              "      <th>Metric</th>\n",
              "      <th>Score</th>\n",
              "    </tr>\n",
              "  </thead>\n",
              "  <tbody>\n",
              "    <tr>\n",
              "      <th>0</th>\n",
              "      <td>MSE</td>\n",
              "      <td>1.898223e+07</td>\n",
              "    </tr>\n",
              "    <tr>\n",
              "      <th>1</th>\n",
              "      <td>MAE</td>\n",
              "      <td>1.879053e+03</td>\n",
              "    </tr>\n",
              "    <tr>\n",
              "      <th>2</th>\n",
              "      <td>RMSE</td>\n",
              "      <td>4.356860e+03</td>\n",
              "    </tr>\n",
              "    <tr>\n",
              "      <th>3</th>\n",
              "      <td>R2</td>\n",
              "      <td>7.609577e-01</td>\n",
              "    </tr>\n",
              "  </tbody>\n",
              "</table>\n",
              "</div>\n",
              "      <button class=\"colab-df-convert\" onclick=\"convertToInteractive('df-92062d61-2c01-4545-b851-3a1b334364df')\"\n",
              "              title=\"Convert this dataframe to an interactive table.\"\n",
              "              style=\"display:none;\">\n",
              "        \n",
              "  <svg xmlns=\"http://www.w3.org/2000/svg\" height=\"24px\"viewBox=\"0 0 24 24\"\n",
              "       width=\"24px\">\n",
              "    <path d=\"M0 0h24v24H0V0z\" fill=\"none\"/>\n",
              "    <path d=\"M18.56 5.44l.94 2.06.94-2.06 2.06-.94-2.06-.94-.94-2.06-.94 2.06-2.06.94zm-11 1L8.5 8.5l.94-2.06 2.06-.94-2.06-.94L8.5 2.5l-.94 2.06-2.06.94zm10 10l.94 2.06.94-2.06 2.06-.94-2.06-.94-.94-2.06-.94 2.06-2.06.94z\"/><path d=\"M17.41 7.96l-1.37-1.37c-.4-.4-.92-.59-1.43-.59-.52 0-1.04.2-1.43.59L10.3 9.45l-7.72 7.72c-.78.78-.78 2.05 0 2.83L4 21.41c.39.39.9.59 1.41.59.51 0 1.02-.2 1.41-.59l7.78-7.78 2.81-2.81c.8-.78.8-2.07 0-2.86zM5.41 20L4 18.59l7.72-7.72 1.47 1.35L5.41 20z\"/>\n",
              "  </svg>\n",
              "      </button>\n",
              "      \n",
              "  <style>\n",
              "    .colab-df-container {\n",
              "      display:flex;\n",
              "      flex-wrap:wrap;\n",
              "      gap: 12px;\n",
              "    }\n",
              "\n",
              "    .colab-df-convert {\n",
              "      background-color: #E8F0FE;\n",
              "      border: none;\n",
              "      border-radius: 50%;\n",
              "      cursor: pointer;\n",
              "      display: none;\n",
              "      fill: #1967D2;\n",
              "      height: 32px;\n",
              "      padding: 0 0 0 0;\n",
              "      width: 32px;\n",
              "    }\n",
              "\n",
              "    .colab-df-convert:hover {\n",
              "      background-color: #E2EBFA;\n",
              "      box-shadow: 0px 1px 2px rgba(60, 64, 67, 0.3), 0px 1px 3px 1px rgba(60, 64, 67, 0.15);\n",
              "      fill: #174EA6;\n",
              "    }\n",
              "\n",
              "    [theme=dark] .colab-df-convert {\n",
              "      background-color: #3B4455;\n",
              "      fill: #D2E3FC;\n",
              "    }\n",
              "\n",
              "    [theme=dark] .colab-df-convert:hover {\n",
              "      background-color: #434B5C;\n",
              "      box-shadow: 0px 1px 3px 1px rgba(0, 0, 0, 0.15);\n",
              "      filter: drop-shadow(0px 1px 2px rgba(0, 0, 0, 0.3));\n",
              "      fill: #FFFFFF;\n",
              "    }\n",
              "  </style>\n",
              "\n",
              "      <script>\n",
              "        const buttonEl =\n",
              "          document.querySelector('#df-92062d61-2c01-4545-b851-3a1b334364df button.colab-df-convert');\n",
              "        buttonEl.style.display =\n",
              "          google.colab.kernel.accessAllowed ? 'block' : 'none';\n",
              "\n",
              "        async function convertToInteractive(key) {\n",
              "          const element = document.querySelector('#df-92062d61-2c01-4545-b851-3a1b334364df');\n",
              "          const dataTable =\n",
              "            await google.colab.kernel.invokeFunction('convertToInteractive',\n",
              "                                                     [key], {});\n",
              "          if (!dataTable) return;\n",
              "\n",
              "          const docLinkHtml = 'Like what you see? Visit the ' +\n",
              "            '<a target=\"_blank\" href=https://colab.research.google.com/notebooks/data_table.ipynb>data table notebook</a>'\n",
              "            + ' to learn more about interactive tables.';\n",
              "          element.innerHTML = '';\n",
              "          dataTable['output_type'] = 'display_data';\n",
              "          await google.colab.output.renderOutput(dataTable, element);\n",
              "          const docLink = document.createElement('div');\n",
              "          docLink.innerHTML = docLinkHtml;\n",
              "          element.appendChild(docLink);\n",
              "        }\n",
              "      </script>\n",
              "    </div>\n",
              "  </div>\n",
              "  "
            ]
          },
          "metadata": {}
        },
        {
          "output_type": "stream",
          "name": "stdout",
          "text": [
            "    VIF Factor                      features\n",
            "0     1.212587                         price\n",
            "1     1.114237                  retail_price\n",
            "2     1.038258                uses_ad_boosts\n",
            "3     1.096998                  rating_count\n",
            "4     1.061602         badge_product_quality\n",
            "5     1.048265           badge_fast_shipping\n",
            "6     1.200191   product_variation_inventory\n",
            "7     1.060598          countries_shipped_to\n",
            "8     1.101910         merchant_rating_count\n",
            "9     1.125937               merchant_rating\n",
            "10    1.032787  merchant_has_profile_picture\n",
            "11  490.240749                         const\n"
          ]
        }
      ]
    },
    {
      "cell_type": "markdown",
      "source": [
        "- vif값을 토대로 변수들을 제거, 추가하며 모델링 작업을 진행하였습니다. 과정에서 평가지표를 전후로 비교하며 최적의 모델 변수들을 찾고자 하였고, 위 모델에서 모델 설명력과 평가지표, vif값들 모두 양호하게 도출되었습니다."
      ],
      "metadata": {
        "id": "thvMjZKqCwVU"
      }
    },
    {
      "cell_type": "markdown",
      "source": [
        "### 변수 선택\n",
        "- 변수선택법으로는 전진선택법을 선택하였습니다.\n",
        "- 선택기준으로, AIC, BIC 등 중에서 실제값의 분포를 보려는 것이 아니라 예측을 하는 것이니 AIC를 선택하였습니다.\n",
        "- 관련 링크 \n",
        "  - https://aliencoder.tistory.com/24\n",
        "  - https://zephyrus1111.tistory.com/65"
      ],
      "metadata": {
        "id": "s0qs5DdTukeP"
      }
    },
    {
      "cell_type": "code",
      "source": [
        "# 변수선택을 위해서 타겟과 features가 함께 있는데이터로 구하자\n",
        "select = features\n",
        "select.append('units_sold')\n",
        "\n",
        "df_for_select = df[select]"
      ],
      "metadata": {
        "id": "VexWXmaTECMi"
      },
      "execution_count": 15,
      "outputs": []
    },
    {
      "cell_type": "code",
      "source": [
        "def forward_feature_selection(X_train, y_train, variables=X_train.columns.tolist() ):\n",
        "    import statsmodels.api as sm\n",
        "    import matplotlib.pyplot as plt\n",
        "    import warnings\n",
        "    warnings.filterwarnings(\"ignore\")\n",
        "    \n",
        "    y = y_train ## 반응 변수\n",
        "\n",
        "    selected_variables = [] ## 선택된 변수들\n",
        "    sl_enter = 0.5\n",
        "    sl_remove = 0.5\n",
        "    \n",
        "    sv_per_step = [] ## 각 스텝별로 선택된 변수들\n",
        "    adjusted_r_squared = [] ## 각 스텝별 수정된 결정계수\n",
        "    steps = [] ## 스텝\n",
        "    step = 0\n",
        "    while len(variables) > 0:\n",
        "        remainder = list(set(variables) - set(selected_variables))\n",
        "        pval = pd.Series(index=remainder) ## 변수의 p-value\n",
        "        ## 기존에 포함된 변수와 새로운 변수 하나씩 돌아가면서 \n",
        "        ## 선형 모형을 적합한다.\n",
        "        for col in remainder: \n",
        "            X = X_train[selected_variables+[col]]\n",
        "            X = sm.add_constant(X)\n",
        "            model = sm.OLS(y,X).fit(disp=0)\n",
        "            pval[col] = model.pvalues[col]\n",
        "    \n",
        "        min_pval = pval.min()\n",
        "        if min_pval < sl_enter: ## 최소 p-value 값이 기준 값보다 작으면 포함\n",
        "            selected_variables.append(pval.idxmin())\n",
        "            ## 선택된 변수들에대해서\n",
        "            ## 어떤 변수를 제거할지 고른다.\n",
        "            while len(selected_variables) > 0:\n",
        "                selected_X = X_train[selected_variables]\n",
        "                selected_X = sm.add_constant(selected_X)\n",
        "                selected_pval = sm.OLS(y,selected_X).fit(disp=0).pvalues[1:] ## 절편항의 p-value는 뺀다\n",
        "                max_pval = selected_pval.max()\n",
        "                if max_pval >= sl_remove: ## 최대 p-value값이 기준값보다 크거나 같으면 제외\n",
        "                    remove_variable = selected_pval.idxmax()\n",
        "                    selected_variables.remove(remove_variable)\n",
        "                else:\n",
        "                    break\n",
        "            \n",
        "            step += 1\n",
        "            steps.append(step)\n",
        "            adj_r_squared = sm.OLS(y,sm.add_constant(X_train[selected_variables])).fit(disp=0).rsquared_adj\n",
        "            adjusted_r_squared.append(adj_r_squared)\n",
        "            sv_per_step.append(selected_variables.copy())\n",
        "        else:\n",
        "            break\n",
        "    return selected_variables"
      ],
      "metadata": {
        "id": "j_Ij0793FxVT"
      },
      "execution_count": 16,
      "outputs": []
    },
    {
      "cell_type": "code",
      "source": [
        "selected_features = forward_feature_selection(x, y)"
      ],
      "metadata": {
        "id": "vPvthdadFxTc"
      },
      "execution_count": 17,
      "outputs": []
    },
    {
      "cell_type": "code",
      "source": [
        "selected_features"
      ],
      "metadata": {
        "id": "5ILJHQAmFxRU",
        "outputId": "015fa11c-d229-4513-c9ea-3048d2e71632",
        "colab": {
          "base_uri": "https://localhost:8080/"
        }
      },
      "execution_count": 18,
      "outputs": [
        {
          "output_type": "execute_result",
          "data": {
            "text/plain": [
              "['rating_count',\n",
              " 'const',\n",
              " 'retail_price',\n",
              " 'merchant_rating_count',\n",
              " 'badge_fast_shipping',\n",
              " 'uses_ad_boosts',\n",
              " 'product_variation_inventory',\n",
              " 'badge_product_quality',\n",
              " 'countries_shipped_to',\n",
              " 'price']"
            ]
          },
          "metadata": {},
          "execution_count": 18
        }
      ]
    },
    {
      "cell_type": "code",
      "source": [
        "# 웹에서의 순서를 고려하여, 순서 임의 변경\n",
        "selected_features = ['rating_count',\n",
        "                      'const',\n",
        "                      'retail_price',\n",
        "                      'merchant_rating_count',\n",
        "                      'badge_fast_shipping',\n",
        "                      'uses_ad_boosts',\n",
        "                      'product_variation_inventory',\n",
        "                      'badge_product_quality',\n",
        "                      'countries_shipped_to',\n",
        "                      'price',\n",
        "                      'merchant_rating']"
      ],
      "metadata": {
        "id": "75x7EpIZSwbw"
      },
      "execution_count": 19,
      "outputs": []
    },
    {
      "cell_type": "code",
      "source": [
        "# 전진선택법으로 선택한 feature들로 모델링\n",
        "model_2 = sm.OLS(y_train, sm.add_constant(pd.DataFrame(X_train[selected_features]))).fit(disp=0)\n",
        "print(model_2.summary())\n",
        "\n",
        "\n",
        "# 에러\n",
        "y_pred = model_2.predict(X_test[selected_features])\n",
        "\n",
        "# 평가지표 계산\n",
        "print('평가지표')\n",
        "mse = mean_squared_error(y_test, y_pred)\n",
        "mae = mean_absolute_error(y_test, y_pred)\n",
        "rmse = mse ** 0.5\n",
        "r2 = r2_score(y_test, y_pred)\n",
        "display(pd.DataFrame([['MSE', mse],['MAE', mae],['RMSE', rmse],['R2', r2]], columns=['Metric', 'Score']))\n",
        "\n",
        "\n",
        "# VIF 계산\n",
        "vif = pd.DataFrame()\n",
        "vif[\"VIF Factor\"] = [variance_inflation_factor(X_train[selected_features].values,i) for i in range(X_train[selected_features].shape[1])]\n",
        "vif[\"features\"] = X_train[selected_features].columns\n",
        "print(vif)"
      ],
      "metadata": {
        "id": "E4A9Q3yIFxPA",
        "outputId": "44758330-9e33-4d2e-cabf-0f091c230411",
        "colab": {
          "base_uri": "https://localhost:8080/",
          "height": 1000
        }
      },
      "execution_count": 20,
      "outputs": [
        {
          "output_type": "stream",
          "name": "stdout",
          "text": [
            "                            OLS Regression Results                            \n",
            "==============================================================================\n",
            "Dep. Variable:             units_sold   R-squared:                       0.842\n",
            "Model:                            OLS   Adj. R-squared:                  0.840\n",
            "Method:                 Least Squares   F-statistic:                     535.4\n",
            "Date:                Tue, 05 Jul 2022   Prob (F-statistic):               0.00\n",
            "Time:                        10:17:45   Log-Likelihood:                -9794.7\n",
            "No. Observations:                1019   AIC:                         1.961e+04\n",
            "Df Residuals:                    1008   BIC:                         1.967e+04\n",
            "Df Model:                          10                                         \n",
            "Covariance Type:            nonrobust                                         \n",
            "===============================================================================================\n",
            "                                  coef    std err          t      P>|t|      [0.025      0.975]\n",
            "-----------------------------------------------------------------------------------------------\n",
            "rating_count                    4.3674      0.063     69.596      0.000       4.244       4.491\n",
            "const                        2070.7168   2513.618      0.824      0.410   -2861.806    7003.240\n",
            "retail_price                  -13.0169      3.928     -3.314      0.001     -20.724      -5.309\n",
            "merchant_rating_count           0.0033      0.002      2.161      0.031       0.000       0.006\n",
            "badge_fast_shipping         -1977.9628   1000.898     -1.976      0.048   -3942.045     -13.881\n",
            "uses_ad_boosts                266.9728    233.877      1.142      0.254    -191.968     725.914\n",
            "product_variation_inventory    12.1738      5.866      2.075      0.038       0.663      23.685\n",
            "badge_product_quality        -704.9053    452.199     -1.559      0.119   -1592.264     182.454\n",
            "countries_shipped_to           -5.8046      5.819     -0.997      0.319     -17.224       5.615\n",
            "price                         -30.3068     32.609     -0.929      0.353     -94.296      33.682\n",
            "merchant_rating              -310.7032    629.914     -0.493      0.622   -1546.796     925.390\n",
            "==============================================================================\n",
            "Omnibus:                      378.274   Durbin-Watson:                   1.947\n",
            "Prob(Omnibus):                  0.000   Jarque-Bera (JB):            29678.835\n",
            "Skew:                           0.777   Prob(JB):                         0.00\n",
            "Kurtosis:                      29.393   Cond. No.                     1.88e+06\n",
            "==============================================================================\n",
            "\n",
            "Warnings:\n",
            "[1] Standard Errors assume that the covariance matrix of the errors is correctly specified.\n",
            "[2] The condition number is large, 1.88e+06. This might indicate that there are\n",
            "strong multicollinearity or other numerical problems.\n",
            "평가지표\n"
          ]
        },
        {
          "output_type": "display_data",
          "data": {
            "text/plain": [
              "  Metric         Score\n",
              "0    MSE  1.898091e+07\n",
              "1    MAE  1.878737e+03\n",
              "2   RMSE  4.356709e+03\n",
              "3     R2  7.609742e-01"
            ],
            "text/html": [
              "\n",
              "  <div id=\"df-d4254068-d677-45bd-bd66-9bf34ac9feec\">\n",
              "    <div class=\"colab-df-container\">\n",
              "      <div>\n",
              "<style scoped>\n",
              "    .dataframe tbody tr th:only-of-type {\n",
              "        vertical-align: middle;\n",
              "    }\n",
              "\n",
              "    .dataframe tbody tr th {\n",
              "        vertical-align: top;\n",
              "    }\n",
              "\n",
              "    .dataframe thead th {\n",
              "        text-align: right;\n",
              "    }\n",
              "</style>\n",
              "<table border=\"1\" class=\"dataframe\">\n",
              "  <thead>\n",
              "    <tr style=\"text-align: right;\">\n",
              "      <th></th>\n",
              "      <th>Metric</th>\n",
              "      <th>Score</th>\n",
              "    </tr>\n",
              "  </thead>\n",
              "  <tbody>\n",
              "    <tr>\n",
              "      <th>0</th>\n",
              "      <td>MSE</td>\n",
              "      <td>1.898091e+07</td>\n",
              "    </tr>\n",
              "    <tr>\n",
              "      <th>1</th>\n",
              "      <td>MAE</td>\n",
              "      <td>1.878737e+03</td>\n",
              "    </tr>\n",
              "    <tr>\n",
              "      <th>2</th>\n",
              "      <td>RMSE</td>\n",
              "      <td>4.356709e+03</td>\n",
              "    </tr>\n",
              "    <tr>\n",
              "      <th>3</th>\n",
              "      <td>R2</td>\n",
              "      <td>7.609742e-01</td>\n",
              "    </tr>\n",
              "  </tbody>\n",
              "</table>\n",
              "</div>\n",
              "      <button class=\"colab-df-convert\" onclick=\"convertToInteractive('df-d4254068-d677-45bd-bd66-9bf34ac9feec')\"\n",
              "              title=\"Convert this dataframe to an interactive table.\"\n",
              "              style=\"display:none;\">\n",
              "        \n",
              "  <svg xmlns=\"http://www.w3.org/2000/svg\" height=\"24px\"viewBox=\"0 0 24 24\"\n",
              "       width=\"24px\">\n",
              "    <path d=\"M0 0h24v24H0V0z\" fill=\"none\"/>\n",
              "    <path d=\"M18.56 5.44l.94 2.06.94-2.06 2.06-.94-2.06-.94-.94-2.06-.94 2.06-2.06.94zm-11 1L8.5 8.5l.94-2.06 2.06-.94-2.06-.94L8.5 2.5l-.94 2.06-2.06.94zm10 10l.94 2.06.94-2.06 2.06-.94-2.06-.94-.94-2.06-.94 2.06-2.06.94z\"/><path d=\"M17.41 7.96l-1.37-1.37c-.4-.4-.92-.59-1.43-.59-.52 0-1.04.2-1.43.59L10.3 9.45l-7.72 7.72c-.78.78-.78 2.05 0 2.83L4 21.41c.39.39.9.59 1.41.59.51 0 1.02-.2 1.41-.59l7.78-7.78 2.81-2.81c.8-.78.8-2.07 0-2.86zM5.41 20L4 18.59l7.72-7.72 1.47 1.35L5.41 20z\"/>\n",
              "  </svg>\n",
              "      </button>\n",
              "      \n",
              "  <style>\n",
              "    .colab-df-container {\n",
              "      display:flex;\n",
              "      flex-wrap:wrap;\n",
              "      gap: 12px;\n",
              "    }\n",
              "\n",
              "    .colab-df-convert {\n",
              "      background-color: #E8F0FE;\n",
              "      border: none;\n",
              "      border-radius: 50%;\n",
              "      cursor: pointer;\n",
              "      display: none;\n",
              "      fill: #1967D2;\n",
              "      height: 32px;\n",
              "      padding: 0 0 0 0;\n",
              "      width: 32px;\n",
              "    }\n",
              "\n",
              "    .colab-df-convert:hover {\n",
              "      background-color: #E2EBFA;\n",
              "      box-shadow: 0px 1px 2px rgba(60, 64, 67, 0.3), 0px 1px 3px 1px rgba(60, 64, 67, 0.15);\n",
              "      fill: #174EA6;\n",
              "    }\n",
              "\n",
              "    [theme=dark] .colab-df-convert {\n",
              "      background-color: #3B4455;\n",
              "      fill: #D2E3FC;\n",
              "    }\n",
              "\n",
              "    [theme=dark] .colab-df-convert:hover {\n",
              "      background-color: #434B5C;\n",
              "      box-shadow: 0px 1px 3px 1px rgba(0, 0, 0, 0.15);\n",
              "      filter: drop-shadow(0px 1px 2px rgba(0, 0, 0, 0.3));\n",
              "      fill: #FFFFFF;\n",
              "    }\n",
              "  </style>\n",
              "\n",
              "      <script>\n",
              "        const buttonEl =\n",
              "          document.querySelector('#df-d4254068-d677-45bd-bd66-9bf34ac9feec button.colab-df-convert');\n",
              "        buttonEl.style.display =\n",
              "          google.colab.kernel.accessAllowed ? 'block' : 'none';\n",
              "\n",
              "        async function convertToInteractive(key) {\n",
              "          const element = document.querySelector('#df-d4254068-d677-45bd-bd66-9bf34ac9feec');\n",
              "          const dataTable =\n",
              "            await google.colab.kernel.invokeFunction('convertToInteractive',\n",
              "                                                     [key], {});\n",
              "          if (!dataTable) return;\n",
              "\n",
              "          const docLinkHtml = 'Like what you see? Visit the ' +\n",
              "            '<a target=\"_blank\" href=https://colab.research.google.com/notebooks/data_table.ipynb>data table notebook</a>'\n",
              "            + ' to learn more about interactive tables.';\n",
              "          element.innerHTML = '';\n",
              "          dataTable['output_type'] = 'display_data';\n",
              "          await google.colab.output.renderOutput(dataTable, element);\n",
              "          const docLink = document.createElement('div');\n",
              "          docLink.innerHTML = docLinkHtml;\n",
              "          element.appendChild(docLink);\n",
              "        }\n",
              "      </script>\n",
              "    </div>\n",
              "  </div>\n",
              "  "
            ]
          },
          "metadata": {}
        },
        {
          "output_type": "stream",
          "name": "stdout",
          "text": [
            "    VIF Factor                     features\n",
            "0     1.087913                 rating_count\n",
            "1   487.047331                        const\n",
            "2     1.114180                 retail_price\n",
            "3     1.098242        merchant_rating_count\n",
            "4     1.046401          badge_fast_shipping\n",
            "5     1.038250               uses_ad_boosts\n",
            "6     1.200187  product_variation_inventory\n",
            "7     1.061566        badge_product_quality\n",
            "8     1.060143         countries_shipped_to\n",
            "9     1.211963                        price\n",
            "10    1.115780              merchant_rating\n"
          ]
        }
      ]
    },
    {
      "cell_type": "markdown",
      "source": [
        "#### 전진선택법을 적용했을 때, 결국 같은 변수들을 선택하는 결과를 보였다. 그렇기에 모델1이 적합한 모델이라고 생각하였다. (전진선택법을 한 model_2가 결국 기존 모델을 만들게 됨)"
      ],
      "metadata": {
        "id": "52zjniDUGg8h"
      }
    },
    {
      "cell_type": "markdown",
      "source": [
        ""
      ],
      "metadata": {
        "id": "s25T-8qSNt7b"
      }
    },
    {
      "cell_type": "markdown",
      "source": [
        "- 선택 변수 설명\n",
        "  - price: 가격\n",
        "  - retail_price: 할인 가격\n",
        "  - uses_ad_boosts: 광고 유무\n",
        "  - rating_count: 받은 별점 수\n",
        "  - badge_product_quality: 품질 보증 배지 유뮤\n",
        "  - badge_fast_shipping: 빠른 배송 배지 유무\n",
        "  - product_variation_inventory: 재고량\n",
        "  - countries_shipped_to: 배송가능 국가 수\n",
        "  - inventory_total: 제품의 모든 재고량(사이즈, 색깔 모두)\n",
        "  - merchant_rating_count: 판매자의 별점 수\n",
        "  - merchant_rating: 판매자 별점\n",
        "  - merchant_has_profile_picture: 판매자 프로필사진 유무"
      ],
      "metadata": {
        "id": "iauxqdGEN5Xy"
      }
    }
  ]
}